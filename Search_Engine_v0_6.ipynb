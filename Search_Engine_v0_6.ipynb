{
  "cells": [
    {
      "cell_type": "markdown",
      "metadata": {
        "id": "view-in-github",
        "colab_type": "text"
      },
      "source": [
        "<a href=\"https://colab.research.google.com/github/AlexanderCoudijzer/BM25-VSM-Search-Engine/blob/main/Search_Engine_v0_6.ipynb\" target=\"_parent\"><img src=\"https://colab.research.google.com/assets/colab-badge.svg\" alt=\"Open In Colab\"/></a>"
      ]
    },
    {
      "cell_type": "markdown",
      "metadata": {
        "id": "XeS4WON90flx"
      },
      "source": [
        "# **Combination VSM and BM25 Search Engine**\n",
        "_Group 69: Alain Ameer, Alexander Coudijzer, Bradley Aldous and Florin Pintilii._\n",
        "\n",
        "# Contents\n",
        "1. Introduction\n",
        "1. Data Loading\n",
        "1. Indexing Method\n",
        "  - Pre-Processing\n",
        "  - Term-Frequency Matrix\n",
        "1. Retrieval Method\n",
        "  - Query Vectorization\n",
        "  - Vector Space Model (VSM)\n",
        "  - Best Match 25 (BM25)\n",
        "1. Command Line Implementation\n",
        "1. Bibliography"
      ]
    },
    {
      "cell_type": "markdown",
      "metadata": {
        "id": "YxncI0BHjbFB"
      },
      "source": [
        "# Introduction\n",
        "\n",
        "This search engine enables users to enter a query as a string, and select whether VSM or BM25 is used as the retrieval model to return search results. The dataset used is the SciFact dataset, available from https://ir-datasets.com/beir.html#beir/scifact (MacAvaney et al, 2021).\n",
        "\n",
        "All relevant libraries are imported and datasets installed in the code cell below. The nltk library has been sourced from Bird and colleagues (2009)."
      ]
    },
    {
      "cell_type": "code",
      "execution_count": 1,
      "metadata": {
        "id": "5Qh8yMNt6QeI"
      },
      "outputs": [],
      "source": [
        "%%capture\n",
        "!pip install ir_datasets\n",
        "!pip install unidecode\n",
        "\n",
        "import numpy as np\n",
        "import ir_datasets\n",
        "import string\n",
        "import re\n",
        "import unidecode\n",
        "import pandas as pd\n",
        "from numpy.linalg import norm\n",
        "from sklearn.feature_extraction.text import CountVectorizer\n",
        "from operator import itemgetter\n",
        "\n",
        "import nltk             # nltk has been sourced from (Bird et al, 2009).\n",
        "nltk.download('punkt')\n",
        "nltk.download('stopwords')\n",
        "nltk.download('wordnet')\n",
        "from nltk.tokenize import word_tokenize\n",
        "from nltk.stem import WordNetLemmatizer\n",
        "from nltk.stem import SnowballStemmer\n",
        "from nltk.corpus import stopwords"
      ]
    },
    {
      "cell_type": "markdown",
      "metadata": {
        "id": "hYL-3K_AhiMT"
      },
      "source": [
        "# Data Loading\n",
        "\n",
        "The characteristics of the SciFact dataset are displayed by the code cell below. There are 5183 documents, 809 associated queries, and 919 query relevance judgements (\"qrels\")."
      ]
    },
    {
      "cell_type": "code",
      "execution_count": 2,
      "metadata": {
        "colab": {
          "base_uri": "https://localhost:8080/"
        },
        "id": "JkHkBv3lH4nj",
        "outputId": "ece55e40-3368-41c7-e4d2-579d76881076"
      },
      "outputs": [
        {
          "output_type": "stream",
          "name": "stdout",
          "text": [
            "\n",
            " 5183 documents with format:\n",
            "\t OrderedDict([('doc_id', <class 'str'>), ('text', <class 'str'>), ('title', <class 'str'>)])\n",
            "\n",
            " 809 queries with format:\n",
            "\t OrderedDict([('query_id', <class 'str'>), ('text', <class 'str'>)])\n",
            "\n",
            " 919 query relevance judgements with format:\n",
            "\t OrderedDict([('query_id', <class 'str'>), ('doc_id', <class 'str'>), ('relevance', <class 'int'>), ('iteration', <class 'str'>)])\n"
          ]
        }
      ],
      "source": [
        "dataset = ir_datasets.load(\"beir/scifact/train\")\n",
        "\n",
        "print('\\n', dataset.docs_count(), 'documents with format:\\n\\t', \n",
        "      dataset.docs_cls().__annotations__)\n",
        "print('\\n', dataset.queries_count(), 'queries with format:\\n\\t', \n",
        "      dataset.queries_cls().__annotations__)\n",
        "print('\\n', dataset.qrels_count(), 'query relevance judgements with format:\\n\\t', \n",
        "      dataset.qrels_cls().__annotations__)"
      ]
    },
    {
      "cell_type": "markdown",
      "metadata": {
        "id": "iuIp540emOAX"
      },
      "source": [
        "The code cell below loads the data."
      ]
    },
    {
      "cell_type": "code",
      "execution_count": 3,
      "metadata": {
        "id": "WIDi1JwIjh7R"
      },
      "outputs": [],
      "source": [
        "%%capture\n",
        "for doc in dataset.docs_iter()[:1]: None\n",
        "for q in dataset.queries_iter(): None\n",
        "for qrel in dataset.qrels_iter(): None"
      ]
    },
    {
      "cell_type": "markdown",
      "metadata": {
        "id": "D6tkuLmgnCER"
      },
      "source": [
        "The text of the documents have been collected into a list variable `documents` in the code cell below. The text alone has been taken for simplicity at this stage, however the `doc_id` will later be required for evaluation."
      ]
    },
    {
      "cell_type": "code",
      "execution_count": 4,
      "metadata": {
        "colab": {
          "base_uri": "https://localhost:8080/"
        },
        "id": "pkhFTCerkCNh",
        "outputId": "fd66cb84-7d74-4a6b-d554-d2688c7a91c0"
      },
      "outputs": [
        {
          "output_type": "stream",
          "name": "stdout",
          "text": [
            "\n",
            "Number of documents: 5183\n",
            "\n",
            "Example documents: \"Alterations of the architecture of cerebral white ...\"\n",
            "\t\t   \"Myelodysplastic syndromes (MDS) are age-dependent ...\"\n",
            "\t\t   \"ID elements are short interspersed elements (SINEs...\"\n"
          ]
        }
      ],
      "source": [
        "corpus = []\n",
        "for doc in dataset.docs_iter():\n",
        "    corpus.append([doc[0],doc[1],doc[2]])\n",
        "documents = [doc[1] for doc in corpus]\n",
        "\n",
        "print('\\nNumber of documents: ' + str(len(documents))\n",
        "      + '\\n\\nExample documents: \"' + documents[0][:50] + '...\"'\n",
        "      + '\\n\\t\\t   \"' + documents[1][:50] + '...\"'\n",
        "      + '\\n\\t\\t   \"' + documents[2][:50] + '...\"')"
      ]
    },
    {
      "cell_type": "markdown",
      "metadata": {
        "id": "zsx6GSkdnnsV"
      },
      "source": [
        "The text of the queries have likewise been collected into a list variable `queries` in the code cell below."
      ]
    },
    {
      "cell_type": "code",
      "execution_count": 5,
      "metadata": {
        "colab": {
          "base_uri": "https://localhost:8080/"
        },
        "id": "WgOTbqAig6nh",
        "outputId": "e815f20c-bced-415a-c6d9-23ee89be7ac1"
      },
      "outputs": [
        {
          "output_type": "stream",
          "name": "stdout",
          "text": [
            "\n",
            "Number of queries: 809\n",
            "\n",
            "Example queries: \"0-dimensional biomaterials lack inductive properti...\"\n",
            "\t\t \"1 in 5 million in UK have abnormal PrP positivity....\"\n",
            "\t\t \"1-1% of colorectal cancer patients are diagnosed w...\"\n"
          ]
        }
      ],
      "source": [
        "queries = []\n",
        "for q in dataset.queries_iter():\n",
        "    queries.append(q[1])\n",
        "    \n",
        "print('\\nNumber of queries: ' + str(len(queries))\n",
        "      + '\\n\\nExample queries: \"' + queries[0][:50] + '...\"'\n",
        "      + '\\n\\t\\t \"' + queries[1][:50] + '...\"'\n",
        "      + '\\n\\t\\t \"' + queries[2][:50] + '...\"')"
      ]
    },
    {
      "cell_type": "markdown",
      "metadata": {
        "id": "VXfv4EsShiMY"
      },
      "source": [
        "# Indexing Method\n",
        "\n",
        "### _Indexing Method: Pre-Processing_\n",
        "\n",
        "The first stage of the indexing method is to pre-process text.\n",
        "\n",
        "The code cell below defines the `pre_processing` function. The following stages are applied to the text of each document:\n",
        "\n",
        "[A] Text is cleaned.\n",
        "  1. Numbers are removed.\n",
        "  1. Punctuation is removed and characters are converted to lowercase.\n",
        "  1. Multiple whitespaces are replaced with single whitespaces. Leading and training whitespaces are also removed.\n",
        "\n",
        "[B] Tokenization.\n",
        "\n",
        "[C] Stop word removal.\n",
        "\n",
        "[D] Lemmatization.\n",
        "\n",
        "[E] Stemming.\n",
        "\n",
        "[F] Accents are removed."
      ]
    },
    {
      "cell_type": "code",
      "execution_count": 6,
      "metadata": {
        "id": "1OpdpvrJH4nu"
      },
      "outputs": [],
      "source": [
        "def pre_processing(docs):\n",
        "    \n",
        "    # [A] A function to clean text is defined.\n",
        "    def clean_text(text):\n",
        "        # [1] Numbers are removed.\n",
        "        text_nonum = re.sub(r'\\d+', '', text) \n",
        "        # [2] Punctuation is removed and characters converted to lowercase.\n",
        "        text_nopunct = \"\".join([char.lower() for char in text_nonum\n",
        "                                if char not in string.punctuation])\n",
        "        # [3] Multiple whitespaces are replaced with single whitespaces.\n",
        "        #     Leading and trailing whitespaces are removed.\n",
        "        text_no_multispace = re.sub('\\s+', ' ', text_nopunct).strip()\n",
        "        return text_no_multispace\n",
        "    \n",
        "    # [A] Each document is passed through the \"clean_text\" function.\n",
        "    documents_cleaned = []\n",
        "    for d in docs:\n",
        "        x = clean_text(d)\n",
        "        documents_cleaned.append(x)\n",
        "    \n",
        "    # [B] Each document is tokenized.\n",
        "    documents_tokenized = []\n",
        "    for d in documents_cleaned:\n",
        "        x = word_tokenize(d)\n",
        "        documents_tokenized.append(x)\n",
        "    \n",
        "    # [C] Each document has stop words removed.\n",
        "    documents_sw_removed = []\n",
        "    stop_words = set(stopwords.words('english'))\n",
        "    for a in documents_tokenized:\n",
        "        filtered_sentence = [w for w in a if not w in stop_words]\n",
        "        filtered_sentence = []\n",
        "        for w in a:  \n",
        "            if w not in stop_words:  \n",
        "                filtered_sentence.append(w)\n",
        "        documents_sw_removed.append(filtered_sentence)\n",
        "    \n",
        "    # [D] Each document undergoes lemmatization.\n",
        "    documents_lemmatized = []\n",
        "    wordnet_lemmatizer = WordNetLemmatizer()\n",
        "    for d in documents_sw_removed:\n",
        "        y = []\n",
        "        for word in d:\n",
        "            x = wordnet_lemmatizer.lemmatize(word)\n",
        "            y.append(x)\n",
        "        documents_lemmatized.append(y)\n",
        "    \n",
        "    # [E] Each document undergoes stemming.\n",
        "    snow_stemmer = SnowballStemmer(language='english')\n",
        "    documents_stemmed = []\n",
        "    for d in documents_lemmatized:\n",
        "        stems = []\n",
        "        for word in d:\n",
        "            x = snow_stemmer.stem(word)\n",
        "            stems.append(x)\n",
        "        documents_stemmed.append(stems)\n",
        "    \n",
        "    # [F] Accents are removed from each document.\n",
        "    documents_decoded = []\n",
        "    for d in documents_stemmed:\n",
        "        a = []\n",
        "        for word in d:\n",
        "            x = unidecode.unidecode(word)\n",
        "            a.append(x)\n",
        "        documents_decoded.append(a)\n",
        "    \n",
        "    # [G] Processed documents are collected into \"documents_pre_processed\"\n",
        "    documents_pre_processed = []\n",
        "    for doc in documents_decoded:\n",
        "        documents_pre_processed.append(' '.join(doc))\n",
        "    return documents_pre_processed"
      ]
    },
    {
      "cell_type": "markdown",
      "metadata": {
        "id": "qVmObkA5sGAG"
      },
      "source": [
        "The code cell below applies the previously defined `pre_processing` function to both the documents and the queries. Both documents and queries need to be pre-processed in the same way to ensure compatability."
      ]
    },
    {
      "cell_type": "code",
      "execution_count": 7,
      "metadata": {
        "id": "llCFOoUwH4ny"
      },
      "outputs": [],
      "source": [
        "documents_pre_processed = pre_processing(documents)\n",
        "queries_pre_processed = pre_processing(queries)"
      ]
    },
    {
      "cell_type": "markdown",
      "metadata": {
        "id": "xhBmZZZisY6V"
      },
      "source": [
        "The code cell below demonstrates the results of applying the `pre_processing` function."
      ]
    },
    {
      "cell_type": "code",
      "execution_count": 8,
      "metadata": {
        "colab": {
          "base_uri": "https://localhost:8080/"
        },
        "id": "PTHkqePAH4n0",
        "outputId": "7e6ad3a9-1d24-4458-f097-c4b1e3469e2d"
      },
      "outputs": [
        {
          "output_type": "stream",
          "name": "stdout",
          "text": [
            "\n",
            "Document prior to pre-processing:\n",
            "\t\"Alterations of the architecture of cerebral white matter in the developing human brain can affect...\"\n",
            "\n",
            "Document after pre-processing has been performed:\n",
            "\t\"alter architectur cerebr white matter develop human brain affect...\"\n",
            "\n",
            "Query prior to pre-processing:\n",
            "\t\"0-dimensional biomaterials lack inductive properties.\"\n",
            "\n",
            "Query after pre-processing has been performed:\n",
            "\t\"dimension biomateri lack induct properti\"\n"
          ]
        }
      ],
      "source": [
        "print('\\nDocument prior to pre-processing:\\n' + '\\t\"' + documents[0][:97]\n",
        "      + '...\"\\n\\nDocument after pre-processing has been performed:\\n'\n",
        "      + '\\t\"' + documents_pre_processed[0][:64] + '...\"\\n\\n'\n",
        "      + 'Query prior to pre-processing:\\n' + '\\t\"' + queries[0] + '\"\\n\\n'\n",
        "      + 'Query after pre-processing has been performed:\\n'\n",
        "      + '\\t\"' + queries_pre_processed[0] + '\"')"
      ]
    },
    {
      "cell_type": "markdown",
      "metadata": {
        "id": "wMtn6anchiMg"
      },
      "source": [
        "### _Indexing Method: Term-Frequency Matrix_\n",
        "\n",
        "The pre-processed documents are vectorised in the code cell below to create a term-frequency (TF) matrix, `term_frequency_matrix` which is a pandas dataframe. Each row represents a document and each column represents a term in the corpus. The columns collectively represent the vocabulary of the entire corpus. Each cell represents the frequency with which the term of the column occurs in the document of the row."
      ]
    },
    {
      "cell_type": "code",
      "execution_count": 9,
      "metadata": {
        "colab": {
          "base_uri": "https://localhost:8080/",
          "height": 424
        },
        "id": "G3E7sQ5_kg9x",
        "outputId": "97f84ab4-82be-44d3-bd60-4c5846dd1191"
      },
      "outputs": [
        {
          "output_type": "execute_result",
          "data": {
            "text/plain": [
              "      42  aa  aaa  aaaatpas  aaafamili  aab  aabenhus  aacr  aacrthi  \\\n",
              "0      0   0    0         0          0    0         0     0        0   \n",
              "1      0   0    0         0          0    0         0     0        0   \n",
              "2      0   0    0         0          0    0         0     0        0   \n",
              "3      0   0    0         0          0    0         0     0        0   \n",
              "4      0   0    0         0          0    0         0     0        0   \n",
              "...   ..  ..  ...       ...        ...  ...       ...   ...      ...   \n",
              "5178   0   0    0         0          0    0         0     0        0   \n",
              "5179   0   0    0         0          0    0         0     0        0   \n",
              "5180   0   0    0         0          0    0         0     0        0   \n",
              "5181   0   0    0         0          0    0         0     0        0   \n",
              "5182   0   0    0         0          0    0         0     0        0   \n",
              "\n",
              "      aactinin  ...  zygos  zygot  zymographi  zymosan  zymosaninduc  zyxin  \\\n",
              "0            0  ...      0      0           0        0             0      0   \n",
              "1            0  ...      0      0           0        0             0      0   \n",
              "2            0  ...      0      0           0        0             0      0   \n",
              "3            0  ...      0      0           0        0             0      0   \n",
              "4            0  ...      0      0           0        0             0      0   \n",
              "...        ...  ...    ...    ...         ...      ...           ...    ...   \n",
              "5178         0  ...      0      0           0        0             0      0   \n",
              "5179         0  ...      0      0           0        0             0      0   \n",
              "5180         0  ...      0      0           0        0             0      0   \n",
              "5181         0  ...      0      0           0        0             0      0   \n",
              "5182         0  ...      0      0           0        0             0      0   \n",
              "\n",
              "      zz  zzw  zzz  zzzw  \n",
              "0      0    0    0     0  \n",
              "1      0    0    0     0  \n",
              "2      0    0    0     0  \n",
              "3      0    0    0     0  \n",
              "4      0    0    0     0  \n",
              "...   ..  ...  ...   ...  \n",
              "5178   0    0    0     0  \n",
              "5179   0    0    0     0  \n",
              "5180   0    0    0     0  \n",
              "5181   0    0    0     0  \n",
              "5182   0    0    0     0  \n",
              "\n",
              "[5183 rows x 31075 columns]"
            ],
            "text/html": [
              "\n",
              "  <div id=\"df-f1ff7b27-2865-40b4-b9a6-5f6a98a94d48\">\n",
              "    <div class=\"colab-df-container\">\n",
              "      <div>\n",
              "<style scoped>\n",
              "    .dataframe tbody tr th:only-of-type {\n",
              "        vertical-align: middle;\n",
              "    }\n",
              "\n",
              "    .dataframe tbody tr th {\n",
              "        vertical-align: top;\n",
              "    }\n",
              "\n",
              "    .dataframe thead th {\n",
              "        text-align: right;\n",
              "    }\n",
              "</style>\n",
              "<table border=\"1\" class=\"dataframe\">\n",
              "  <thead>\n",
              "    <tr style=\"text-align: right;\">\n",
              "      <th></th>\n",
              "      <th>42</th>\n",
              "      <th>aa</th>\n",
              "      <th>aaa</th>\n",
              "      <th>aaaatpas</th>\n",
              "      <th>aaafamili</th>\n",
              "      <th>aab</th>\n",
              "      <th>aabenhus</th>\n",
              "      <th>aacr</th>\n",
              "      <th>aacrthi</th>\n",
              "      <th>aactinin</th>\n",
              "      <th>...</th>\n",
              "      <th>zygos</th>\n",
              "      <th>zygot</th>\n",
              "      <th>zymographi</th>\n",
              "      <th>zymosan</th>\n",
              "      <th>zymosaninduc</th>\n",
              "      <th>zyxin</th>\n",
              "      <th>zz</th>\n",
              "      <th>zzw</th>\n",
              "      <th>zzz</th>\n",
              "      <th>zzzw</th>\n",
              "    </tr>\n",
              "  </thead>\n",
              "  <tbody>\n",
              "    <tr>\n",
              "      <th>0</th>\n",
              "      <td>0</td>\n",
              "      <td>0</td>\n",
              "      <td>0</td>\n",
              "      <td>0</td>\n",
              "      <td>0</td>\n",
              "      <td>0</td>\n",
              "      <td>0</td>\n",
              "      <td>0</td>\n",
              "      <td>0</td>\n",
              "      <td>0</td>\n",
              "      <td>...</td>\n",
              "      <td>0</td>\n",
              "      <td>0</td>\n",
              "      <td>0</td>\n",
              "      <td>0</td>\n",
              "      <td>0</td>\n",
              "      <td>0</td>\n",
              "      <td>0</td>\n",
              "      <td>0</td>\n",
              "      <td>0</td>\n",
              "      <td>0</td>\n",
              "    </tr>\n",
              "    <tr>\n",
              "      <th>1</th>\n",
              "      <td>0</td>\n",
              "      <td>0</td>\n",
              "      <td>0</td>\n",
              "      <td>0</td>\n",
              "      <td>0</td>\n",
              "      <td>0</td>\n",
              "      <td>0</td>\n",
              "      <td>0</td>\n",
              "      <td>0</td>\n",
              "      <td>0</td>\n",
              "      <td>...</td>\n",
              "      <td>0</td>\n",
              "      <td>0</td>\n",
              "      <td>0</td>\n",
              "      <td>0</td>\n",
              "      <td>0</td>\n",
              "      <td>0</td>\n",
              "      <td>0</td>\n",
              "      <td>0</td>\n",
              "      <td>0</td>\n",
              "      <td>0</td>\n",
              "    </tr>\n",
              "    <tr>\n",
              "      <th>2</th>\n",
              "      <td>0</td>\n",
              "      <td>0</td>\n",
              "      <td>0</td>\n",
              "      <td>0</td>\n",
              "      <td>0</td>\n",
              "      <td>0</td>\n",
              "      <td>0</td>\n",
              "      <td>0</td>\n",
              "      <td>0</td>\n",
              "      <td>0</td>\n",
              "      <td>...</td>\n",
              "      <td>0</td>\n",
              "      <td>0</td>\n",
              "      <td>0</td>\n",
              "      <td>0</td>\n",
              "      <td>0</td>\n",
              "      <td>0</td>\n",
              "      <td>0</td>\n",
              "      <td>0</td>\n",
              "      <td>0</td>\n",
              "      <td>0</td>\n",
              "    </tr>\n",
              "    <tr>\n",
              "      <th>3</th>\n",
              "      <td>0</td>\n",
              "      <td>0</td>\n",
              "      <td>0</td>\n",
              "      <td>0</td>\n",
              "      <td>0</td>\n",
              "      <td>0</td>\n",
              "      <td>0</td>\n",
              "      <td>0</td>\n",
              "      <td>0</td>\n",
              "      <td>0</td>\n",
              "      <td>...</td>\n",
              "      <td>0</td>\n",
              "      <td>0</td>\n",
              "      <td>0</td>\n",
              "      <td>0</td>\n",
              "      <td>0</td>\n",
              "      <td>0</td>\n",
              "      <td>0</td>\n",
              "      <td>0</td>\n",
              "      <td>0</td>\n",
              "      <td>0</td>\n",
              "    </tr>\n",
              "    <tr>\n",
              "      <th>4</th>\n",
              "      <td>0</td>\n",
              "      <td>0</td>\n",
              "      <td>0</td>\n",
              "      <td>0</td>\n",
              "      <td>0</td>\n",
              "      <td>0</td>\n",
              "      <td>0</td>\n",
              "      <td>0</td>\n",
              "      <td>0</td>\n",
              "      <td>0</td>\n",
              "      <td>...</td>\n",
              "      <td>0</td>\n",
              "      <td>0</td>\n",
              "      <td>0</td>\n",
              "      <td>0</td>\n",
              "      <td>0</td>\n",
              "      <td>0</td>\n",
              "      <td>0</td>\n",
              "      <td>0</td>\n",
              "      <td>0</td>\n",
              "      <td>0</td>\n",
              "    </tr>\n",
              "    <tr>\n",
              "      <th>...</th>\n",
              "      <td>...</td>\n",
              "      <td>...</td>\n",
              "      <td>...</td>\n",
              "      <td>...</td>\n",
              "      <td>...</td>\n",
              "      <td>...</td>\n",
              "      <td>...</td>\n",
              "      <td>...</td>\n",
              "      <td>...</td>\n",
              "      <td>...</td>\n",
              "      <td>...</td>\n",
              "      <td>...</td>\n",
              "      <td>...</td>\n",
              "      <td>...</td>\n",
              "      <td>...</td>\n",
              "      <td>...</td>\n",
              "      <td>...</td>\n",
              "      <td>...</td>\n",
              "      <td>...</td>\n",
              "      <td>...</td>\n",
              "      <td>...</td>\n",
              "    </tr>\n",
              "    <tr>\n",
              "      <th>5178</th>\n",
              "      <td>0</td>\n",
              "      <td>0</td>\n",
              "      <td>0</td>\n",
              "      <td>0</td>\n",
              "      <td>0</td>\n",
              "      <td>0</td>\n",
              "      <td>0</td>\n",
              "      <td>0</td>\n",
              "      <td>0</td>\n",
              "      <td>0</td>\n",
              "      <td>...</td>\n",
              "      <td>0</td>\n",
              "      <td>0</td>\n",
              "      <td>0</td>\n",
              "      <td>0</td>\n",
              "      <td>0</td>\n",
              "      <td>0</td>\n",
              "      <td>0</td>\n",
              "      <td>0</td>\n",
              "      <td>0</td>\n",
              "      <td>0</td>\n",
              "    </tr>\n",
              "    <tr>\n",
              "      <th>5179</th>\n",
              "      <td>0</td>\n",
              "      <td>0</td>\n",
              "      <td>0</td>\n",
              "      <td>0</td>\n",
              "      <td>0</td>\n",
              "      <td>0</td>\n",
              "      <td>0</td>\n",
              "      <td>0</td>\n",
              "      <td>0</td>\n",
              "      <td>0</td>\n",
              "      <td>...</td>\n",
              "      <td>0</td>\n",
              "      <td>0</td>\n",
              "      <td>0</td>\n",
              "      <td>0</td>\n",
              "      <td>0</td>\n",
              "      <td>0</td>\n",
              "      <td>0</td>\n",
              "      <td>0</td>\n",
              "      <td>0</td>\n",
              "      <td>0</td>\n",
              "    </tr>\n",
              "    <tr>\n",
              "      <th>5180</th>\n",
              "      <td>0</td>\n",
              "      <td>0</td>\n",
              "      <td>0</td>\n",
              "      <td>0</td>\n",
              "      <td>0</td>\n",
              "      <td>0</td>\n",
              "      <td>0</td>\n",
              "      <td>0</td>\n",
              "      <td>0</td>\n",
              "      <td>0</td>\n",
              "      <td>...</td>\n",
              "      <td>0</td>\n",
              "      <td>0</td>\n",
              "      <td>0</td>\n",
              "      <td>0</td>\n",
              "      <td>0</td>\n",
              "      <td>0</td>\n",
              "      <td>0</td>\n",
              "      <td>0</td>\n",
              "      <td>0</td>\n",
              "      <td>0</td>\n",
              "    </tr>\n",
              "    <tr>\n",
              "      <th>5181</th>\n",
              "      <td>0</td>\n",
              "      <td>0</td>\n",
              "      <td>0</td>\n",
              "      <td>0</td>\n",
              "      <td>0</td>\n",
              "      <td>0</td>\n",
              "      <td>0</td>\n",
              "      <td>0</td>\n",
              "      <td>0</td>\n",
              "      <td>0</td>\n",
              "      <td>...</td>\n",
              "      <td>0</td>\n",
              "      <td>0</td>\n",
              "      <td>0</td>\n",
              "      <td>0</td>\n",
              "      <td>0</td>\n",
              "      <td>0</td>\n",
              "      <td>0</td>\n",
              "      <td>0</td>\n",
              "      <td>0</td>\n",
              "      <td>0</td>\n",
              "    </tr>\n",
              "    <tr>\n",
              "      <th>5182</th>\n",
              "      <td>0</td>\n",
              "      <td>0</td>\n",
              "      <td>0</td>\n",
              "      <td>0</td>\n",
              "      <td>0</td>\n",
              "      <td>0</td>\n",
              "      <td>0</td>\n",
              "      <td>0</td>\n",
              "      <td>0</td>\n",
              "      <td>0</td>\n",
              "      <td>...</td>\n",
              "      <td>0</td>\n",
              "      <td>0</td>\n",
              "      <td>0</td>\n",
              "      <td>0</td>\n",
              "      <td>0</td>\n",
              "      <td>0</td>\n",
              "      <td>0</td>\n",
              "      <td>0</td>\n",
              "      <td>0</td>\n",
              "      <td>0</td>\n",
              "    </tr>\n",
              "  </tbody>\n",
              "</table>\n",
              "<p>5183 rows × 31075 columns</p>\n",
              "</div>\n",
              "      <button class=\"colab-df-convert\" onclick=\"convertToInteractive('df-f1ff7b27-2865-40b4-b9a6-5f6a98a94d48')\"\n",
              "              title=\"Convert this dataframe to an interactive table.\"\n",
              "              style=\"display:none;\">\n",
              "        \n",
              "  <svg xmlns=\"http://www.w3.org/2000/svg\" height=\"24px\"viewBox=\"0 0 24 24\"\n",
              "       width=\"24px\">\n",
              "    <path d=\"M0 0h24v24H0V0z\" fill=\"none\"/>\n",
              "    <path d=\"M18.56 5.44l.94 2.06.94-2.06 2.06-.94-2.06-.94-.94-2.06-.94 2.06-2.06.94zm-11 1L8.5 8.5l.94-2.06 2.06-.94-2.06-.94L8.5 2.5l-.94 2.06-2.06.94zm10 10l.94 2.06.94-2.06 2.06-.94-2.06-.94-.94-2.06-.94 2.06-2.06.94z\"/><path d=\"M17.41 7.96l-1.37-1.37c-.4-.4-.92-.59-1.43-.59-.52 0-1.04.2-1.43.59L10.3 9.45l-7.72 7.72c-.78.78-.78 2.05 0 2.83L4 21.41c.39.39.9.59 1.41.59.51 0 1.02-.2 1.41-.59l7.78-7.78 2.81-2.81c.8-.78.8-2.07 0-2.86zM5.41 20L4 18.59l7.72-7.72 1.47 1.35L5.41 20z\"/>\n",
              "  </svg>\n",
              "      </button>\n",
              "      \n",
              "  <style>\n",
              "    .colab-df-container {\n",
              "      display:flex;\n",
              "      flex-wrap:wrap;\n",
              "      gap: 12px;\n",
              "    }\n",
              "\n",
              "    .colab-df-convert {\n",
              "      background-color: #E8F0FE;\n",
              "      border: none;\n",
              "      border-radius: 50%;\n",
              "      cursor: pointer;\n",
              "      display: none;\n",
              "      fill: #1967D2;\n",
              "      height: 32px;\n",
              "      padding: 0 0 0 0;\n",
              "      width: 32px;\n",
              "    }\n",
              "\n",
              "    .colab-df-convert:hover {\n",
              "      background-color: #E2EBFA;\n",
              "      box-shadow: 0px 1px 2px rgba(60, 64, 67, 0.3), 0px 1px 3px 1px rgba(60, 64, 67, 0.15);\n",
              "      fill: #174EA6;\n",
              "    }\n",
              "\n",
              "    [theme=dark] .colab-df-convert {\n",
              "      background-color: #3B4455;\n",
              "      fill: #D2E3FC;\n",
              "    }\n",
              "\n",
              "    [theme=dark] .colab-df-convert:hover {\n",
              "      background-color: #434B5C;\n",
              "      box-shadow: 0px 1px 3px 1px rgba(0, 0, 0, 0.15);\n",
              "      filter: drop-shadow(0px 1px 2px rgba(0, 0, 0, 0.3));\n",
              "      fill: #FFFFFF;\n",
              "    }\n",
              "  </style>\n",
              "\n",
              "      <script>\n",
              "        const buttonEl =\n",
              "          document.querySelector('#df-f1ff7b27-2865-40b4-b9a6-5f6a98a94d48 button.colab-df-convert');\n",
              "        buttonEl.style.display =\n",
              "          google.colab.kernel.accessAllowed ? 'block' : 'none';\n",
              "\n",
              "        async function convertToInteractive(key) {\n",
              "          const element = document.querySelector('#df-f1ff7b27-2865-40b4-b9a6-5f6a98a94d48');\n",
              "          const dataTable =\n",
              "            await google.colab.kernel.invokeFunction('convertToInteractive',\n",
              "                                                     [key], {});\n",
              "          if (!dataTable) return;\n",
              "\n",
              "          const docLinkHtml = 'Like what you see? Visit the ' +\n",
              "            '<a target=\"_blank\" href=https://colab.research.google.com/notebooks/data_table.ipynb>data table notebook</a>'\n",
              "            + ' to learn more about interactive tables.';\n",
              "          element.innerHTML = '';\n",
              "          dataTable['output_type'] = 'display_data';\n",
              "          await google.colab.output.renderOutput(dataTable, element);\n",
              "          const docLink = document.createElement('div');\n",
              "          docLink.innerHTML = docLinkHtml;\n",
              "          element.appendChild(docLink);\n",
              "        }\n",
              "      </script>\n",
              "    </div>\n",
              "  </div>\n",
              "  "
            ]
          },
          "metadata": {},
          "execution_count": 9
        }
      ],
      "source": [
        "vectorizer = CountVectorizer()\n",
        "documents_vectorized = vectorizer.fit_transform(documents_pre_processed).toarray()\n",
        "vocabulary = vectorizer.get_feature_names_out()\n",
        "\n",
        "term_frequency_matrix = pd.DataFrame(documents_vectorized, columns = vocabulary)\n",
        "term_frequency_matrix"
      ]
    },
    {
      "cell_type": "markdown",
      "metadata": {
        "id": "CamMD9Q_hiMi"
      },
      "source": [
        "# Retrieval Method\n",
        "\n",
        "### _Retrieval Method: Query Vectorization and Vocabularization_\n",
        "\n",
        "The code cell below retrieves the query ID numbers. These IDs are combined with the respective query text that has previously been pre-processed, into the list variable `queries`."
      ]
    },
    {
      "cell_type": "code",
      "execution_count": 10,
      "metadata": {
        "colab": {
          "base_uri": "https://localhost:8080/"
        },
        "id": "9njNuluKH4n-",
        "outputId": "eee8c559-fb22-4bb9-b08d-01dc4fb9d710"
      },
      "outputs": [
        {
          "output_type": "stream",
          "name": "stdout",
          "text": [
            "\n",
            "Number of queries with ID: 809\n",
            "\n",
            "Example queries with ID: [0, 'dimension biomateri lack induct properti']\n",
            "\t\t\t [2, 'million uk abnorm prp posit']\n",
            "\t\t\t [4, 'colorect cancer patient diagnos region distant metastasi']\n"
          ]
        }
      ],
      "source": [
        "qid = []\n",
        "for q in dataset.queries_iter():\n",
        "    qid.append(q[0])\n",
        "qid = [eval(x) for x in qid]  # Reading in query IDs and converting to int\n",
        "queries_dict = dict(zip(qid, queries))\n",
        "queries = [list(a) for a in zip(qid, queries_pre_processed)]\n",
        "\n",
        "print('\\nNumber of queries with ID: ' + str(len(queries))\n",
        "      + '\\n\\nExample queries with ID: ' + str(queries[0])\n",
        "      + '\\n\\t\\t\\t ' + str(queries[1])\n",
        "      + '\\n\\t\\t\\t ' + str(queries[2]))"
      ]
    },
    {
      "cell_type": "markdown",
      "metadata": {
        "id": "S_-vxWYqFJwG"
      },
      "source": [
        "The code cell below likewise retrieves the document ID numbers. These IDs are combined with the respective document text that has previously been pre-processed, into the list variable `documents_id`."
      ]
    },
    {
      "cell_type": "code",
      "execution_count": 11,
      "metadata": {
        "colab": {
          "base_uri": "https://localhost:8080/"
        },
        "id": "lIDhY--NFKE8",
        "outputId": "ce9714b9-2625-43ed-abb5-7af02135d2b8"
      },
      "outputs": [
        {
          "output_type": "stream",
          "name": "stdout",
          "text": [
            "\n",
            "Number of documents with ID: 5183\n",
            "\n",
            "Example documents with ID: ['4983', 'Alterations of the architecture of cereb...']\n",
            "\t\t\t   ['5836', 'Myelodysplastic syndromes (MDS) are age-...']\n",
            "\t\t\t   ['7912', \"ID elements are short interspersed eleme...']\n"
          ]
        }
      ],
      "source": [
        "documents_id = []\n",
        "for doc in corpus:\n",
        "    documents_id.append([doc[0],doc[1]])\n",
        "\n",
        "print('\\nNumber of documents with ID: ' + str(len(documents_id))\n",
        "      + '\\n\\nExample documents with ID: ' + str(documents_id[0])[:50] + \"...']\"\n",
        "      + '\\n\\t\\t\\t   ' + str(documents_id[1])[:50] + \"...']\"\n",
        "      + '\\n\\t\\t\\t   ' + str(documents_id[2])[:50] + \"...']\")"
      ]
    },
    {
      "cell_type": "markdown",
      "metadata": {
        "id": "MG_SH3bwDrIH"
      },
      "source": [
        "The code cell below sets the query number to be tested."
      ]
    },
    {
      "cell_type": "code",
      "execution_count": 12,
      "metadata": {
        "id": "toK5mGoeDwXi"
      },
      "outputs": [],
      "source": [
        "query_num = 1"
      ]
    },
    {
      "cell_type": "code",
      "execution_count": 79,
      "metadata": {
        "id": "9RSIKLFv1A-p"
      },
      "outputs": [],
      "source": [
        "query_to_be_tested = queries[query_num][1]"
      ]
    },
    {
      "cell_type": "markdown",
      "metadata": {
        "id": "9tNHEfPZGRim"
      },
      "source": [
        "The code cell below defines a function `query_vectorizer_vocabularizer` that obtains the vocabulary of the query to be tested `q_vocabulary`. The query is subsequently converted into a term vector `q_tf_vector` with the same number of elements as columns of the previously defined `term_frequency_matrix` (31075 terms). The elements are a $0$ when the respective term is absent and $1$ when it is present.\n",
        "\n",
        "The `q_tf_vector` will subsequently be used as the query representation in the VSM model, and `q_vocabulary` will be used as the query representation in the BM25 model."
      ]
    },
    {
      "cell_type": "code",
      "execution_count": 14,
      "metadata": {
        "id": "y4THCxghn2R_"
      },
      "outputs": [],
      "source": [
        "def query_vectorizer_vocabularizer(query_to_be_vectorized):\n",
        "\n",
        "    q_vectorizer = CountVectorizer()\n",
        "    q = q_vectorizer.fit_transform([query_to_be_vectorized])\n",
        "    q_vocabulary = q_vectorizer.get_feature_names_out()\n",
        "  \n",
        "    print('\\t   Vocabulary: ' + str(q_vocabulary) + '')\n",
        "\n",
        "    q_tf_vector = np.array([])\n",
        "    for t in term_frequency_matrix.columns:\n",
        "        if t in q_vocabulary: q_tf_vector = np.append(q_tf_vector,1)\n",
        "        else: q_tf_vector = np.append(q_tf_vector,0)\n",
        "\n",
        "    print('Term-Frequency Vector: ' + str(q_tf_vector) + '' \n",
        "          + ' (Sum = ' + str(round(q_tf_vector.sum(),2)) \n",
        "          + ', Length = ' + str(len(q_tf_vector)) + ')')\n",
        "  \n",
        "    return q_tf_vector, q_vocabulary"
      ]
    },
    {
      "cell_type": "markdown",
      "metadata": {
        "id": "wd7p41e4NAFn"
      },
      "source": [
        "The previously defined `query_vectorizer_vocabularizer` function is run below for the query to be tested, and returns the variables `q_vocabulary` and `q_tf_vector`."
      ]
    },
    {
      "cell_type": "code",
      "execution_count": 15,
      "metadata": {
        "colab": {
          "base_uri": "https://localhost:8080/"
        },
        "id": "CY3yqQMsMJrf",
        "outputId": "45b117c0-0fe1-44e3-e3d5-794983a9e05a"
      },
      "outputs": [
        {
          "output_type": "stream",
          "name": "stdout",
          "text": [
            "   Query To Be Tested: \"million uk abnorm prp posit\"\n",
            "\t   Vocabulary: ['abnorm' 'million' 'posit' 'prp' 'uk']\n",
            "Term-Frequency Vector: [0. 0. 0. ... 0. 0. 0.] (Sum = 5.0, Length = 31075)\n"
          ]
        }
      ],
      "source": [
        "print('   Query To Be Tested: \"' + str(query_to_be_tested) + '\"')\n",
        "q_tf_vector, q_vocabulary = query_vectorizer_vocabularizer(query_to_be_tested)"
      ]
    },
    {
      "cell_type": "markdown",
      "metadata": {
        "id": "V5kvxPmcj2PH"
      },
      "source": [
        "### Retrieval Method: Vector Space Model (VSM)"
      ]
    },
    {
      "cell_type": "markdown",
      "metadata": {
        "id": "VzyQuhVSdURQ"
      },
      "source": [
        "The code cell below defines variables that will be used by the Vector Space Model (VSM) retrieval model.\n",
        "\n",
        "- `dfs` represents document frequency. `dfs` is a pandas series where each row corresponds to a term in the vocabulary of the corpus (31075 terms), and each value represents the number of documents that contain that term.\n",
        "\n",
        "- `N` is an integer representing the total number of documents in the corpus (5183).\n",
        "\n",
        "- `idfs` is the inverse document frequency (IDF). It is also a pandas series of the same shape as `dfs`. It is calculated by taking logarithm to base 10 of the result of dividing the total number of documents `N` by the document frequency `dfs` ($log_{10}(N/dfs)$)."
      ]
    },
    {
      "cell_type": "code",
      "execution_count": 16,
      "metadata": {
        "colab": {
          "base_uri": "https://localhost:8080/"
        },
        "id": "ivU9cmFWnd7q",
        "outputId": "4a86cc25-3458-4ce8-eecf-5f907a22e34d"
      },
      "outputs": [
        {
          "output_type": "stream",
          "name": "stdout",
          "text": [
            "\n",
            "idfs:\n",
            "\n",
            "42           3.714581\n",
            "aa           2.600638\n",
            "aaa          3.112521\n",
            "aaaatpas     3.237460\n",
            "aaafamili    3.714581\n",
            "               ...   \n",
            "zyxin        3.714581\n",
            "zz           3.714581\n",
            "zzw          3.714581\n",
            "zzz          3.714581\n",
            "zzzw         3.714581\n",
            "Length: 31075, dtype: float64\n"
          ]
        }
      ],
      "source": [
        "dfs = (term_frequency_matrix > 0).sum(axis = 0) # Document frequency.\n",
        "N = term_frequency_matrix.shape[0] # Total number of documents.\n",
        "idfs = np.log10(N/dfs) # Inverse document frequency.\n",
        "print(\"\\nidfs:\\n\\n\" + str(idfs))"
      ]
    },
    {
      "cell_type": "markdown",
      "metadata": {
        "id": "X3aR4En1nehK"
      },
      "source": [
        "All the elements of the previously defined `term_frequency_matrix` are multiplied by the inverse document frequency `idfs`, to obtain a term frequency–inverse document frequency matrix `tf_idf_matrix`."
      ]
    },
    {
      "cell_type": "code",
      "execution_count": 17,
      "metadata": {
        "colab": {
          "base_uri": "https://localhost:8080/"
        },
        "id": "SN_7hujCj4yO",
        "outputId": "6c7da5b0-43d7-48f9-bd27-e902bc125b7c"
      },
      "outputs": [
        {
          "output_type": "stream",
          "name": "stdout",
          "text": [
            "\n",
            "tf_idf_matrix:\n",
            "\n",
            "[[0. 0. 0. ... 0. 0. 0.]\n",
            " [0. 0. 0. ... 0. 0. 0.]\n",
            " [0. 0. 0. ... 0. 0. 0.]\n",
            " ...\n",
            " [0. 0. 0. ... 0. 0. 0.]\n",
            " [0. 0. 0. ... 0. 0. 0.]\n",
            " [0. 0. 0. ... 0. 0. 0.]]\n",
            "5183 rows by 31075 columns.\n",
            "\n",
            "The sum of all elements in tf_idf_matrix is 1044106, \n",
            "which is up from 643219 for term_frequency_matrix.\n"
          ]
        }
      ],
      "source": [
        "tf_idf_matrix = np.array(term_frequency_matrix * idfs) #TF-IDF matrix.\n",
        "\n",
        "print(\"\\ntf_idf_matrix:\\n\\n\" + str(tf_idf_matrix))\n",
        "print(str(tf_idf_matrix.shape[0]) + \" rows by \" + str(tf_idf_matrix.shape[1]) + \" columns.\")\n",
        "print(\"\\nThe sum of all elements in tf_idf_matrix is \" + str(int(tf_idf_matrix.sum().sum()))\n",
        "      + \", \\nwhich is up from \" + str(term_frequency_matrix.sum().sum())\n",
        "      + \" for term_frequency_matrix.\")"
      ]
    },
    {
      "cell_type": "markdown",
      "metadata": {
        "id": "hURkSrN_mfa-"
      },
      "source": [
        "As with the `term_frequency_matrix`, the previously defined query term-frequency vector `q_tf_vector` likewise needs to be multiplied by the inverse document frequency, to obtain a TF-IDF vector `q_tf_idf_vector`. The sum of this vector is now 9.6 rather than 5 for the number of terms it contains. This operation is performed by the function defined in the code cell below.\n",
        "\n",
        "The function defined in the code cell below proceeds to calculate the VSM scores for all the documents in the corpus. It does this by calculating the cosine similarity between the document vectors of TF-IDF weights, stored in the TF-IDF matrix `tf_idf_matrix`, and query vector of TF-IDF weights `q_tf_idf_vector` previously defined.\n",
        "\n",
        "The cosine similarity is calculated by dividing the dot product of the two vectors by the product of their Euclidean normalisation."
      ]
    },
    {
      "cell_type": "code",
      "execution_count": 18,
      "metadata": {
        "id": "1FzoMS6gkKWH"
      },
      "outputs": [],
      "source": [
        "def VSM(q_tf_vector): # Calculations inferred from Baeza-Yates and Ribeiro-Neto (2011).\n",
        "\n",
        "    q_tf_idf_vector = (q_tf_vector * idfs).values\n",
        "    print('Query TF-IDF Vector:   ' + str(q_tf_idf_vector) \n",
        "          + ' (Sum = ' + str(round(q_tf_idf_vector.sum(),2)) \n",
        "          + ', Length = ' + str(len(q_tf_idf_vector)) + ')')\n",
        "\n",
        "    VSM_scores = []\n",
        "    for d in tf_idf_matrix:\n",
        "        VSM_scores.append(np.dot(d, q_tf_idf_vector)/(norm(d)*norm(q_tf_idf_vector)))\n",
        "\n",
        "    return VSM_scores"
      ]
    },
    {
      "cell_type": "markdown",
      "metadata": {
        "id": "ce3aeHNNPGo7"
      },
      "source": [
        "The previously defined \"VSM\" function is run below and returns the variable `scores`. The query TF-IDF vector it initially creates is displayed."
      ]
    },
    {
      "cell_type": "code",
      "execution_count": 19,
      "metadata": {
        "colab": {
          "base_uri": "https://localhost:8080/"
        },
        "id": "dSdEg54YPVy3",
        "outputId": "2d413192-5648-4c9e-dbe2-0cd5cfee7e64"
      },
      "outputs": [
        {
          "output_type": "stream",
          "name": "stdout",
          "text": [
            "Query TF-IDF Vector:   [0. 0. 0. ... 0. 0. 0.] (Sum = 9.61, Length = 31075)\n",
            "\"scores\" variable:     [...0.0, 0.0, 0.0, ...] (Sum = 13.62, Length = 5183)\n"
          ]
        }
      ],
      "source": [
        "scores = VSM(q_tf_vector)\n",
        "\n",
        "scores_string = ''\n",
        "for s in scores[100:103]:\n",
        "    scores_string += str(s) + ', '\n",
        "print('\"scores\" variable:     [...' + scores_string \n",
        "      + '...] (Sum = ' + str(round(sum(scores),2)) \n",
        "      + ', Length = ' + str(len(scores)) + ')')"
      ]
    },
    {
      "cell_type": "markdown",
      "metadata": {
        "id": "A8aRnDeQzJAE"
      },
      "source": [
        "A function is defined in the code cell below to display a table. The table contains the document ID, document text and retrieval score for each document. The documents are sorted in descending retrieval scores, such that the most similar documents to the query are at the top of the table."
      ]
    },
    {
      "cell_type": "code",
      "execution_count": 20,
      "metadata": {
        "id": "iB3snOMkre2A"
      },
      "outputs": [],
      "source": [
        "def display_ranking(top_n, scores, score_type):\n",
        "\n",
        "    documents_scored = []\n",
        "\n",
        "    for (d,n,s) in zip(documents_id, range(len(documents_id)), scores):\n",
        "        documents_scored.append([])\n",
        "        documents_scored[n].append(int(d[0]))\n",
        "        documents_scored[n].append(d[1])\n",
        "        documents_scored[n].append(s)\n",
        "\n",
        "    documents_scored = sorted(documents_scored, # Sort by descending score.\n",
        "                              key = itemgetter(2), reverse = True)\n",
        "\n",
        "    documents_scored = pd.DataFrame(documents_scored, \n",
        "                                    columns = ['Doc_ID', \n",
        "                                               'Text', \n",
        "                                               score_type + \" Score\"]).set_index('Doc_ID')\n",
        "\n",
        "    documents_scored.insert(0, 'Rank', range(1, 1 + len(documents_scored)))\n",
        "\n",
        "    return documents_scored.head(top_n)"
      ]
    },
    {
      "cell_type": "markdown",
      "metadata": {
        "id": "-tpA32C6Qzr4"
      },
      "source": [
        "The previously defined `display_ranking` function is called in the code cell below, to display the top 10 documents."
      ]
    },
    {
      "cell_type": "code",
      "execution_count": 21,
      "metadata": {
        "colab": {
          "base_uri": "https://localhost:8080/",
          "height": 394
        },
        "id": "Wnio4GmpPg2X",
        "outputId": "c44f8a69-0a91-453a-90ff-0448f5dcfd8b"
      },
      "outputs": [
        {
          "output_type": "execute_result",
          "data": {
            "text/plain": [
              "          Rank                                               Text  VSM Score\n",
              "Doc_ID                                                                      \n",
              "13734012     1  OBJECTIVES To carry out a further survey of ar...   0.364472\n",
              "26059876     2  Ku70, a known nonhomologous end-joining (NHEJ)...   0.352551\n",
              "13770184     3  BACKGROUND The Global Burden of Diseases, Inju...   0.238112\n",
              "3716075      4  BACKGROUND Dengue is the most common arbovirus...   0.168597\n",
              "14610165     5  Antisense transcription is widespread in many ...   0.128051\n",
              "23531592     6  By the year 2000 there will be six million pre...   0.109300\n",
              "11880289     7  BACKGROUND Age-specific effects of mammographi...   0.108722\n",
              "11936877     8  Soil erosion is a major environmental threat t...   0.095828\n",
              "841371       9  OBJECTIVE To assess the robustness of patient ...   0.090755\n",
              "17415081    10  Over 75% of the annual estimated 9.5 million d...   0.088232"
            ],
            "text/html": [
              "\n",
              "  <div id=\"df-dd303aed-76ec-47d0-872b-4f3b9c6a5598\">\n",
              "    <div class=\"colab-df-container\">\n",
              "      <div>\n",
              "<style scoped>\n",
              "    .dataframe tbody tr th:only-of-type {\n",
              "        vertical-align: middle;\n",
              "    }\n",
              "\n",
              "    .dataframe tbody tr th {\n",
              "        vertical-align: top;\n",
              "    }\n",
              "\n",
              "    .dataframe thead th {\n",
              "        text-align: right;\n",
              "    }\n",
              "</style>\n",
              "<table border=\"1\" class=\"dataframe\">\n",
              "  <thead>\n",
              "    <tr style=\"text-align: right;\">\n",
              "      <th></th>\n",
              "      <th>Rank</th>\n",
              "      <th>Text</th>\n",
              "      <th>VSM Score</th>\n",
              "    </tr>\n",
              "    <tr>\n",
              "      <th>Doc_ID</th>\n",
              "      <th></th>\n",
              "      <th></th>\n",
              "      <th></th>\n",
              "    </tr>\n",
              "  </thead>\n",
              "  <tbody>\n",
              "    <tr>\n",
              "      <th>13734012</th>\n",
              "      <td>1</td>\n",
              "      <td>OBJECTIVES To carry out a further survey of ar...</td>\n",
              "      <td>0.364472</td>\n",
              "    </tr>\n",
              "    <tr>\n",
              "      <th>26059876</th>\n",
              "      <td>2</td>\n",
              "      <td>Ku70, a known nonhomologous end-joining (NHEJ)...</td>\n",
              "      <td>0.352551</td>\n",
              "    </tr>\n",
              "    <tr>\n",
              "      <th>13770184</th>\n",
              "      <td>3</td>\n",
              "      <td>BACKGROUND The Global Burden of Diseases, Inju...</td>\n",
              "      <td>0.238112</td>\n",
              "    </tr>\n",
              "    <tr>\n",
              "      <th>3716075</th>\n",
              "      <td>4</td>\n",
              "      <td>BACKGROUND Dengue is the most common arbovirus...</td>\n",
              "      <td>0.168597</td>\n",
              "    </tr>\n",
              "    <tr>\n",
              "      <th>14610165</th>\n",
              "      <td>5</td>\n",
              "      <td>Antisense transcription is widespread in many ...</td>\n",
              "      <td>0.128051</td>\n",
              "    </tr>\n",
              "    <tr>\n",
              "      <th>23531592</th>\n",
              "      <td>6</td>\n",
              "      <td>By the year 2000 there will be six million pre...</td>\n",
              "      <td>0.109300</td>\n",
              "    </tr>\n",
              "    <tr>\n",
              "      <th>11880289</th>\n",
              "      <td>7</td>\n",
              "      <td>BACKGROUND Age-specific effects of mammographi...</td>\n",
              "      <td>0.108722</td>\n",
              "    </tr>\n",
              "    <tr>\n",
              "      <th>11936877</th>\n",
              "      <td>8</td>\n",
              "      <td>Soil erosion is a major environmental threat t...</td>\n",
              "      <td>0.095828</td>\n",
              "    </tr>\n",
              "    <tr>\n",
              "      <th>841371</th>\n",
              "      <td>9</td>\n",
              "      <td>OBJECTIVE To assess the robustness of patient ...</td>\n",
              "      <td>0.090755</td>\n",
              "    </tr>\n",
              "    <tr>\n",
              "      <th>17415081</th>\n",
              "      <td>10</td>\n",
              "      <td>Over 75% of the annual estimated 9.5 million d...</td>\n",
              "      <td>0.088232</td>\n",
              "    </tr>\n",
              "  </tbody>\n",
              "</table>\n",
              "</div>\n",
              "      <button class=\"colab-df-convert\" onclick=\"convertToInteractive('df-dd303aed-76ec-47d0-872b-4f3b9c6a5598')\"\n",
              "              title=\"Convert this dataframe to an interactive table.\"\n",
              "              style=\"display:none;\">\n",
              "        \n",
              "  <svg xmlns=\"http://www.w3.org/2000/svg\" height=\"24px\"viewBox=\"0 0 24 24\"\n",
              "       width=\"24px\">\n",
              "    <path d=\"M0 0h24v24H0V0z\" fill=\"none\"/>\n",
              "    <path d=\"M18.56 5.44l.94 2.06.94-2.06 2.06-.94-2.06-.94-.94-2.06-.94 2.06-2.06.94zm-11 1L8.5 8.5l.94-2.06 2.06-.94-2.06-.94L8.5 2.5l-.94 2.06-2.06.94zm10 10l.94 2.06.94-2.06 2.06-.94-2.06-.94-.94-2.06-.94 2.06-2.06.94z\"/><path d=\"M17.41 7.96l-1.37-1.37c-.4-.4-.92-.59-1.43-.59-.52 0-1.04.2-1.43.59L10.3 9.45l-7.72 7.72c-.78.78-.78 2.05 0 2.83L4 21.41c.39.39.9.59 1.41.59.51 0 1.02-.2 1.41-.59l7.78-7.78 2.81-2.81c.8-.78.8-2.07 0-2.86zM5.41 20L4 18.59l7.72-7.72 1.47 1.35L5.41 20z\"/>\n",
              "  </svg>\n",
              "      </button>\n",
              "      \n",
              "  <style>\n",
              "    .colab-df-container {\n",
              "      display:flex;\n",
              "      flex-wrap:wrap;\n",
              "      gap: 12px;\n",
              "    }\n",
              "\n",
              "    .colab-df-convert {\n",
              "      background-color: #E8F0FE;\n",
              "      border: none;\n",
              "      border-radius: 50%;\n",
              "      cursor: pointer;\n",
              "      display: none;\n",
              "      fill: #1967D2;\n",
              "      height: 32px;\n",
              "      padding: 0 0 0 0;\n",
              "      width: 32px;\n",
              "    }\n",
              "\n",
              "    .colab-df-convert:hover {\n",
              "      background-color: #E2EBFA;\n",
              "      box-shadow: 0px 1px 2px rgba(60, 64, 67, 0.3), 0px 1px 3px 1px rgba(60, 64, 67, 0.15);\n",
              "      fill: #174EA6;\n",
              "    }\n",
              "\n",
              "    [theme=dark] .colab-df-convert {\n",
              "      background-color: #3B4455;\n",
              "      fill: #D2E3FC;\n",
              "    }\n",
              "\n",
              "    [theme=dark] .colab-df-convert:hover {\n",
              "      background-color: #434B5C;\n",
              "      box-shadow: 0px 1px 3px 1px rgba(0, 0, 0, 0.15);\n",
              "      filter: drop-shadow(0px 1px 2px rgba(0, 0, 0, 0.3));\n",
              "      fill: #FFFFFF;\n",
              "    }\n",
              "  </style>\n",
              "\n",
              "      <script>\n",
              "        const buttonEl =\n",
              "          document.querySelector('#df-dd303aed-76ec-47d0-872b-4f3b9c6a5598 button.colab-df-convert');\n",
              "        buttonEl.style.display =\n",
              "          google.colab.kernel.accessAllowed ? 'block' : 'none';\n",
              "\n",
              "        async function convertToInteractive(key) {\n",
              "          const element = document.querySelector('#df-dd303aed-76ec-47d0-872b-4f3b9c6a5598');\n",
              "          const dataTable =\n",
              "            await google.colab.kernel.invokeFunction('convertToInteractive',\n",
              "                                                     [key], {});\n",
              "          if (!dataTable) return;\n",
              "\n",
              "          const docLinkHtml = 'Like what you see? Visit the ' +\n",
              "            '<a target=\"_blank\" href=https://colab.research.google.com/notebooks/data_table.ipynb>data table notebook</a>'\n",
              "            + ' to learn more about interactive tables.';\n",
              "          element.innerHTML = '';\n",
              "          dataTable['output_type'] = 'display_data';\n",
              "          await google.colab.output.renderOutput(dataTable, element);\n",
              "          const docLink = document.createElement('div');\n",
              "          docLink.innerHTML = docLinkHtml;\n",
              "          element.appendChild(docLink);\n",
              "        }\n",
              "      </script>\n",
              "    </div>\n",
              "  </div>\n",
              "  "
            ]
          },
          "metadata": {},
          "execution_count": 21
        }
      ],
      "source": [
        "display_ranking(10, scores, \"VSM\")"
      ]
    },
    {
      "cell_type": "markdown",
      "metadata": {
        "id": "2cs52RiGkp9_"
      },
      "source": [
        "### Retrieval Method: Best Match 25 (BM25)"
      ]
    },
    {
      "cell_type": "markdown",
      "metadata": {
        "id": "42QfDgzM2xH9"
      },
      "source": [
        "The code cell below defines variables that will be used by the Best Match 25 (BM25) retrieval model.\n",
        "\n",
        "- `dls` represents document length. `dls` is a list containing the respective document length for each document indexed in the previously defined `term_frequency_matrix`. The length has been calculated by summing over the columns in the `term_frequency_matrix`, which has the benefit of ignoring stop words that have been  previously removed by the `pre_processing` function.\n",
        "\n",
        "- `avgdl` represents average document length, calculated as mean of `dls`.\n",
        "\n",
        "- Standard values have been used for hyperparameters `k_1` and `b` of 1.2 and 0.8 respectively.\n",
        "\n",
        "The numerator is calculated by multiplying the previously defined TF weights in `term_frequency_matrix` by the result of adding 1 to the hyperparameter `k_1`: $TF * (k_1 + 1)$.\n",
        "\n",
        "The denominator is calculated by the following formula: $TF + (k_1 * (1 - b + (b * (dls/avgdl))))$.\n",
        "\n",
        "The result of dividing the numerator by the denominator is multiplied by the inverse document frequencies previously defined as `idfs`.\n",
        "\n",
        "The resulting BM25 weights are collected in the matrix `BM25_matrix`, displayed below."
      ]
    },
    {
      "cell_type": "code",
      "execution_count": 22,
      "metadata": {
        "id": "OtpbYAsEk7up"
      },
      "outputs": [],
      "source": [
        "k_1 = 1.2 # Standard hyperparameter.\n",
        "b = 0.8   # Standard hyperparameter.\n",
        "dls = term_frequency_matrix.sum(axis=1).tolist() # Document length.\n",
        "avgdl = np.mean(dls) # Mean document length.\n",
        "\n",
        "# Applying the BM25 formula:\n",
        "numerator = np.array(term_frequency_matrix * (k_1 + 1))\n",
        "denominator = np.array(term_frequency_matrix) \\\n",
        "              + np.array(k_1 * ((1 - b) + (b * (dls / avgdl)))).reshape(N,1)\n",
        "BM25_matrix = (numerator / denominator) * np.array(idfs)\n",
        "BM25_matrix = pd.DataFrame(BM25_matrix, columns = vocabulary)"
      ]
    },
    {
      "cell_type": "code",
      "execution_count": 23,
      "metadata": {
        "colab": {
          "base_uri": "https://localhost:8080/"
        },
        "id": "Me3yknJGtR6Z",
        "outputId": "dc545260-8745-4ea9-97f0-a2dc0ba53c53"
      },
      "outputs": [
        {
          "output_type": "stream",
          "name": "stdout",
          "text": [
            "\n",
            "BM25_matrix (first 5 rows and 5 columns):\n",
            "\n",
            "    42   aa  aaa  aaaatpas  aaafamili\n",
            "0  0.0  0.0  0.0       0.0        0.0\n",
            "1  0.0  0.0  0.0       0.0        0.0\n",
            "2  0.0  0.0  0.0       0.0        0.0\n",
            "3  0.0  0.0  0.0       0.0        0.0\n",
            "4  0.0  0.0  0.0       0.0        0.0\n",
            "5183 rows by 31075 columns.\n",
            "\n",
            "The sum of all elements in BM25_matrix is 748189, \n",
            "which is up from 643219 for term_frequency_matrix.\n"
          ]
        }
      ],
      "source": [
        "print(\"\\nBM25_matrix (first 5 rows and 5 columns):\\n\\n\" + str(BM25_matrix.iloc[:5,:5]))\n",
        "print(str(BM25_matrix.shape[0]) + \" rows by \" + str(BM25_matrix.shape[1]) + \" columns.\")\n",
        "print(\"\\nThe sum of all elements in BM25_matrix is \" + str(int(BM25_matrix.sum().sum()))\n",
        "      + \", \\nwhich is up from \" + str(term_frequency_matrix.sum().sum())\n",
        "      + \" for term_frequency_matrix.\")"
      ]
    },
    {
      "cell_type": "markdown",
      "metadata": {
        "id": "kOvAR_b5BanT"
      },
      "source": [
        "The code cell below defines a function that calculates the BM25 scores for all the documents in the corpus. It does this by first filtering the query vocabulary `q_vocabulary` to only include terms present in the vocabulary of the corpus, to produce the new variable `q_vocabulary_in_docs`. BM25 scores are then calculated as the sum of all the BM25 weights in the previously defined BM25_matrix, for all terms that appear in the query."
      ]
    },
    {
      "cell_type": "code",
      "execution_count": 24,
      "metadata": {
        "id": "ypvq9CGBl6Is"
      },
      "outputs": [],
      "source": [
        "def BM25(q_vocabulary): # Calculations inferred from Baeza-Yates and Ribeiro-Neto (2011).\n",
        "\n",
        "    q_vocabulary_in_docs = [term for term in q_vocabulary   # Query terms not in \n",
        "                            if term in BM25_matrix.columns] # documents are removed.\n",
        "\n",
        "    BM25_scores = BM25_matrix[q_vocabulary_in_docs].sum(axis = 1)\n",
        "\n",
        "    return BM25_scores"
      ]
    },
    {
      "cell_type": "markdown",
      "metadata": {
        "id": "VBY_KrHTTZcI"
      },
      "source": [
        "The previously defined `BM25` function is run below and returns the variable `scores`, which has the same format as returned by the previous `VSM` function, a pandas series with 5183 elements."
      ]
    },
    {
      "cell_type": "code",
      "execution_count": 25,
      "metadata": {
        "id": "cAdHZwlETfXN"
      },
      "outputs": [],
      "source": [
        "scores = BM25(q_vocabulary)"
      ]
    },
    {
      "cell_type": "markdown",
      "metadata": {
        "id": "qDiLsfkPB8wJ"
      },
      "source": [
        "A table is displayed by the code cell below, which contains the document ID, document text and BM25 score for each document. The documents are sorted in descending BM25 scores, such that the most similar documents to the query are at the top of the table."
      ]
    },
    {
      "cell_type": "code",
      "execution_count": 26,
      "metadata": {
        "colab": {
          "base_uri": "https://localhost:8080/",
          "height": 394
        },
        "id": "P4z7q3a9AfOX",
        "outputId": "7d92101a-29ed-444a-dd8a-1a3f69530810"
      },
      "outputs": [
        {
          "output_type": "execute_result",
          "data": {
            "text/plain": [
              "          Rank                                               Text  BM25 Score\n",
              "Doc_ID                                                                       \n",
              "13734012     1  OBJECTIVES To carry out a further survey of ar...   13.009034\n",
              "26059876     2  Ku70, a known nonhomologous end-joining (NHEJ)...    7.475744\n",
              "841371       3  OBJECTIVE To assess the robustness of patient ...    4.750421\n",
              "14610165     4  Antisense transcription is widespread in many ...    4.739075\n",
              "32481310     5  Hemolysates of erythrocytes from more than a q...    4.244058\n",
              "4828631      6  BACKGROUND High body-mass index (BMI) predispo...    4.153526\n",
              "18617259     7  We report a case of preclinical variant Creutz...    4.084513\n",
              "13770184     8  BACKGROUND The Global Burden of Diseases, Inju...    3.523895\n",
              "11271123     9  Endometrial cancer is associated with numeric ...    3.474263\n",
              "374902      10  BACKGROUND Roughly 3 million people worldwide ...    3.455990"
            ],
            "text/html": [
              "\n",
              "  <div id=\"df-85c6f365-f5a0-4b7d-a784-514d6747d488\">\n",
              "    <div class=\"colab-df-container\">\n",
              "      <div>\n",
              "<style scoped>\n",
              "    .dataframe tbody tr th:only-of-type {\n",
              "        vertical-align: middle;\n",
              "    }\n",
              "\n",
              "    .dataframe tbody tr th {\n",
              "        vertical-align: top;\n",
              "    }\n",
              "\n",
              "    .dataframe thead th {\n",
              "        text-align: right;\n",
              "    }\n",
              "</style>\n",
              "<table border=\"1\" class=\"dataframe\">\n",
              "  <thead>\n",
              "    <tr style=\"text-align: right;\">\n",
              "      <th></th>\n",
              "      <th>Rank</th>\n",
              "      <th>Text</th>\n",
              "      <th>BM25 Score</th>\n",
              "    </tr>\n",
              "    <tr>\n",
              "      <th>Doc_ID</th>\n",
              "      <th></th>\n",
              "      <th></th>\n",
              "      <th></th>\n",
              "    </tr>\n",
              "  </thead>\n",
              "  <tbody>\n",
              "    <tr>\n",
              "      <th>13734012</th>\n",
              "      <td>1</td>\n",
              "      <td>OBJECTIVES To carry out a further survey of ar...</td>\n",
              "      <td>13.009034</td>\n",
              "    </tr>\n",
              "    <tr>\n",
              "      <th>26059876</th>\n",
              "      <td>2</td>\n",
              "      <td>Ku70, a known nonhomologous end-joining (NHEJ)...</td>\n",
              "      <td>7.475744</td>\n",
              "    </tr>\n",
              "    <tr>\n",
              "      <th>841371</th>\n",
              "      <td>3</td>\n",
              "      <td>OBJECTIVE To assess the robustness of patient ...</td>\n",
              "      <td>4.750421</td>\n",
              "    </tr>\n",
              "    <tr>\n",
              "      <th>14610165</th>\n",
              "      <td>4</td>\n",
              "      <td>Antisense transcription is widespread in many ...</td>\n",
              "      <td>4.739075</td>\n",
              "    </tr>\n",
              "    <tr>\n",
              "      <th>32481310</th>\n",
              "      <td>5</td>\n",
              "      <td>Hemolysates of erythrocytes from more than a q...</td>\n",
              "      <td>4.244058</td>\n",
              "    </tr>\n",
              "    <tr>\n",
              "      <th>4828631</th>\n",
              "      <td>6</td>\n",
              "      <td>BACKGROUND High body-mass index (BMI) predispo...</td>\n",
              "      <td>4.153526</td>\n",
              "    </tr>\n",
              "    <tr>\n",
              "      <th>18617259</th>\n",
              "      <td>7</td>\n",
              "      <td>We report a case of preclinical variant Creutz...</td>\n",
              "      <td>4.084513</td>\n",
              "    </tr>\n",
              "    <tr>\n",
              "      <th>13770184</th>\n",
              "      <td>8</td>\n",
              "      <td>BACKGROUND The Global Burden of Diseases, Inju...</td>\n",
              "      <td>3.523895</td>\n",
              "    </tr>\n",
              "    <tr>\n",
              "      <th>11271123</th>\n",
              "      <td>9</td>\n",
              "      <td>Endometrial cancer is associated with numeric ...</td>\n",
              "      <td>3.474263</td>\n",
              "    </tr>\n",
              "    <tr>\n",
              "      <th>374902</th>\n",
              "      <td>10</td>\n",
              "      <td>BACKGROUND Roughly 3 million people worldwide ...</td>\n",
              "      <td>3.455990</td>\n",
              "    </tr>\n",
              "  </tbody>\n",
              "</table>\n",
              "</div>\n",
              "      <button class=\"colab-df-convert\" onclick=\"convertToInteractive('df-85c6f365-f5a0-4b7d-a784-514d6747d488')\"\n",
              "              title=\"Convert this dataframe to an interactive table.\"\n",
              "              style=\"display:none;\">\n",
              "        \n",
              "  <svg xmlns=\"http://www.w3.org/2000/svg\" height=\"24px\"viewBox=\"0 0 24 24\"\n",
              "       width=\"24px\">\n",
              "    <path d=\"M0 0h24v24H0V0z\" fill=\"none\"/>\n",
              "    <path d=\"M18.56 5.44l.94 2.06.94-2.06 2.06-.94-2.06-.94-.94-2.06-.94 2.06-2.06.94zm-11 1L8.5 8.5l.94-2.06 2.06-.94-2.06-.94L8.5 2.5l-.94 2.06-2.06.94zm10 10l.94 2.06.94-2.06 2.06-.94-2.06-.94-.94-2.06-.94 2.06-2.06.94z\"/><path d=\"M17.41 7.96l-1.37-1.37c-.4-.4-.92-.59-1.43-.59-.52 0-1.04.2-1.43.59L10.3 9.45l-7.72 7.72c-.78.78-.78 2.05 0 2.83L4 21.41c.39.39.9.59 1.41.59.51 0 1.02-.2 1.41-.59l7.78-7.78 2.81-2.81c.8-.78.8-2.07 0-2.86zM5.41 20L4 18.59l7.72-7.72 1.47 1.35L5.41 20z\"/>\n",
              "  </svg>\n",
              "      </button>\n",
              "      \n",
              "  <style>\n",
              "    .colab-df-container {\n",
              "      display:flex;\n",
              "      flex-wrap:wrap;\n",
              "      gap: 12px;\n",
              "    }\n",
              "\n",
              "    .colab-df-convert {\n",
              "      background-color: #E8F0FE;\n",
              "      border: none;\n",
              "      border-radius: 50%;\n",
              "      cursor: pointer;\n",
              "      display: none;\n",
              "      fill: #1967D2;\n",
              "      height: 32px;\n",
              "      padding: 0 0 0 0;\n",
              "      width: 32px;\n",
              "    }\n",
              "\n",
              "    .colab-df-convert:hover {\n",
              "      background-color: #E2EBFA;\n",
              "      box-shadow: 0px 1px 2px rgba(60, 64, 67, 0.3), 0px 1px 3px 1px rgba(60, 64, 67, 0.15);\n",
              "      fill: #174EA6;\n",
              "    }\n",
              "\n",
              "    [theme=dark] .colab-df-convert {\n",
              "      background-color: #3B4455;\n",
              "      fill: #D2E3FC;\n",
              "    }\n",
              "\n",
              "    [theme=dark] .colab-df-convert:hover {\n",
              "      background-color: #434B5C;\n",
              "      box-shadow: 0px 1px 3px 1px rgba(0, 0, 0, 0.15);\n",
              "      filter: drop-shadow(0px 1px 2px rgba(0, 0, 0, 0.3));\n",
              "      fill: #FFFFFF;\n",
              "    }\n",
              "  </style>\n",
              "\n",
              "      <script>\n",
              "        const buttonEl =\n",
              "          document.querySelector('#df-85c6f365-f5a0-4b7d-a784-514d6747d488 button.colab-df-convert');\n",
              "        buttonEl.style.display =\n",
              "          google.colab.kernel.accessAllowed ? 'block' : 'none';\n",
              "\n",
              "        async function convertToInteractive(key) {\n",
              "          const element = document.querySelector('#df-85c6f365-f5a0-4b7d-a784-514d6747d488');\n",
              "          const dataTable =\n",
              "            await google.colab.kernel.invokeFunction('convertToInteractive',\n",
              "                                                     [key], {});\n",
              "          if (!dataTable) return;\n",
              "\n",
              "          const docLinkHtml = 'Like what you see? Visit the ' +\n",
              "            '<a target=\"_blank\" href=https://colab.research.google.com/notebooks/data_table.ipynb>data table notebook</a>'\n",
              "            + ' to learn more about interactive tables.';\n",
              "          element.innerHTML = '';\n",
              "          dataTable['output_type'] = 'display_data';\n",
              "          await google.colab.output.renderOutput(dataTable, element);\n",
              "          const docLink = document.createElement('div');\n",
              "          docLink.innerHTML = docLinkHtml;\n",
              "          element.appendChild(docLink);\n",
              "        }\n",
              "      </script>\n",
              "    </div>\n",
              "  </div>\n",
              "  "
            ]
          },
          "metadata": {},
          "execution_count": 26
        }
      ],
      "source": [
        "display_ranking(10, scores, \"BM25\")"
      ]
    },
    {
      "cell_type": "markdown",
      "source": [
        "# Evaluation\n",
        "To evaluate the retrieval model metrics can be calculated for certain set queries that have related relevance judgements."
      ],
      "metadata": {
        "id": "MX8-tdt0Mk_p"
      }
    },
    {
      "cell_type": "markdown",
      "source": [
        "The relevancy judgements are loaded:"
      ],
      "metadata": {
        "id": "u1vUX-VuM259"
      }
    },
    {
      "cell_type": "code",
      "source": [
        "qrels = []\n",
        "for qrel in dataset.qrels_iter(): # reading in all the relevancy scores\n",
        "    qrels.append(qrel)\n",
        "np_qrels = np.array(qrels).astype(int)"
      ],
      "metadata": {
        "id": "LeTv4C5UMpTe"
      },
      "execution_count": 27,
      "outputs": []
    },
    {
      "cell_type": "markdown",
      "source": [
        "The document id's and scores for the query example shown above are put together to be passed on to the evaluation functions:"
      ],
      "metadata": {
        "id": "6DJiClnkR2sd"
      }
    },
    {
      "cell_type": "code",
      "source": [
        "# example query '0-dimensional biomaterials lack inductive properties.' using BM25 scores\n",
        "doc_ranking = dict(zip([int(d[0]) for d in documents_id], scores))"
      ],
      "metadata": {
        "id": "ZiVuL_RoPEMV"
      },
      "execution_count": 81,
      "outputs": []
    },
    {
      "cell_type": "markdown",
      "source": [
        "The calculation for the precision at rank 10 (or other) is defined and performed for the example query:"
      ],
      "metadata": {
        "id": "iVPYUlzvUA7A"
      }
    },
    {
      "cell_type": "code",
      "source": [
        "def calc_precision(query_id, doc_ranking, np_qrels, top_n=10):\n",
        "    retrieved = np.array([d[0] for d in sorted(doc_ranking.items(), key=lambda item: item[1], reverse=True) if d[1] > 0])\n",
        "    TP, FP = 0, 0\n",
        "    for d in retrieved[:top_n]:\n",
        "        if d in np_qrels[np_qrels[:, 0] == query_id][:,1]:\n",
        "            TP +=1\n",
        "        else:\n",
        "            FP +=1\n",
        "    return TP / (TP+FP)"
      ],
      "metadata": {
        "id": "LevLZcEHM98X"
      },
      "execution_count": 30,
      "outputs": []
    },
    {
      "cell_type": "code",
      "source": [
        "calc_precision(2, doc_ranking, np_qrels)"
      ],
      "metadata": {
        "colab": {
          "base_uri": "https://localhost:8080/"
        },
        "id": "kSu_8ghrS5ET",
        "outputId": "29b83f33-98d5-40fb-df0d-3a9d0d7e5044"
      },
      "execution_count": 31,
      "outputs": [
        {
          "output_type": "execute_result",
          "data": {
            "text/plain": [
              "0.1"
            ]
          },
          "metadata": {},
          "execution_count": 31
        }
      ]
    },
    {
      "cell_type": "markdown",
      "source": [
        "The second metric that will be used is the Normalized Discounted Cumulative Gain (NDCG). The function is defined and run for the example as well:"
      ],
      "metadata": {
        "id": "erhHUJkAUeMm"
      }
    },
    {
      "cell_type": "code",
      "source": [
        "from sklearn.metrics import ndcg_score\n",
        "\n",
        "def calc_ndcg(query_id, doc_ranking, np_qrels, top_n=10):\n",
        "    y_score = np.array([d for d in sorted(doc_ranking.items(), key=lambda item: item[1], reverse=True) if d[1] > 0]) # gets doc_id and score\n",
        "    y_true = np.array([])\n",
        "    for d in y_score:\n",
        "        if d[0] in np_qrels[np_qrels[:, 0] == query_id][:,1]:\n",
        "            y_true = np.append(y_true, d[1])\n",
        "        else:\n",
        "            y_true = np.append(y_true, 0)\n",
        "    return ndcg_score(np.expand_dims(y_true,axis=0), np.expand_dims(y_score[:,1],axis=0), k=top_n)"
      ],
      "metadata": {
        "id": "MBFt8GhzTJKX"
      },
      "execution_count": 32,
      "outputs": []
    },
    {
      "cell_type": "code",
      "source": [
        "calc_ndcg(2,doc_ranking, np_qrels)"
      ],
      "metadata": {
        "colab": {
          "base_uri": "https://localhost:8080/"
        },
        "id": "prcysAwDVVa-",
        "outputId": "6f101cd5-e452-4dc4-c2e8-f88c096fe9f5"
      },
      "execution_count": 33,
      "outputs": [
        {
          "output_type": "execute_result",
          "data": {
            "text/plain": [
              "1.0"
            ]
          },
          "metadata": {},
          "execution_count": 33
        }
      ]
    },
    {
      "cell_type": "markdown",
      "metadata": {
        "id": "Vw_3IetLJcos"
      },
      "source": [
        "# Command Line Implementation"
      ]
    },
    {
      "cell_type": "markdown",
      "metadata": {
        "id": "a0OnjQCzZLg_"
      },
      "source": [
        "A function `search_engine` has been defined in the code cell below to enable the user to enter a string and receive a display of ranked documents. The function enables the user to select whether they want the VSM or BM25 retrieval model to be used, and to specify the number of top results they want displayed."
      ]
    },
    {
      "cell_type": "code",
      "execution_count": 59,
      "metadata": {
        "id": "0oUs8H_nKKTE"
      },
      "outputs": [],
      "source": [
        "def search_engine(query_to_be_tested, retrieval_model = \"VSM\", top_n = 10):\n",
        "\n",
        "    print('\\n   Query to be tested: \"' + str(query_to_be_tested) + '\"')\n",
        "\n",
        "    pre_processed_query = pre_processing([query_to_be_tested])[0]\n",
        "\n",
        "    print('\\n  Pre-Processed Query: \"' + str(pre_processed_query) + '\"')\n",
        "  \n",
        "    q_tf_vector, q_vocabulary = query_vectorizer_vocabularizer(pre_processed_query)\n",
        " \n",
        "    if retrieval_model == \"VSM\":  scores = VSM(q_tf_vector)\n",
        "    if retrieval_model == \"BM25\": scores = BM25(q_vocabulary)\n",
        "    if query_to_be_tested in queries_dict.values():\n",
        "        query_id = [item[0] for item in queries_dict.items() if item[1] ==  query_to_be_tested][0]\n",
        "        doc_ranking = dict(zip([int(d[0]) for d in documents_id], scores))\n",
        "        prec = calc_precision(query_id, doc_ranking, np_qrels, top_n)\n",
        "        ndcg = calc_ndcg(query_id,doc_ranking, np_qrels, top_n)\n",
        "        print(f'\\nPrecision@{top_n} of {prec}')\n",
        "        print(f'NDCG@{top_n} of {ndcg}')\n",
        "\n",
        "    return display_ranking(top_n, scores, retrieval_model)"
      ]
    },
    {
      "cell_type": "markdown",
      "metadata": {
        "id": "gZoNeYWtZiJG"
      },
      "source": [
        "The `search_engine` function is called below for the query \"The appearance of brown-like or beige cells primarily occurs in visceral fat, not subcutaneous fat.\" and VSM retrieval model."
      ]
    },
    {
      "cell_type": "code",
      "execution_count": 73,
      "metadata": {
        "colab": {
          "base_uri": "https://localhost:8080/",
          "height": 585
        },
        "id": "LfHUnzvXUh8Y",
        "outputId": "3b9a9af1-1e39-4c50-dd30-34c1c1130c05",
        "cellView": "form"
      },
      "outputs": [
        {
          "output_type": "stream",
          "name": "stdout",
          "text": [
            "\n",
            "   Query to be tested: \"The appearance of brown-like or beige cells primarily occurs in visceral fat, not subcutaneous fat.\"\n",
            "\n",
            "  Pre-Processed Query: \"appear brownlik beig cell primarili occur viscer fat subcutan fat\"\n",
            "\t   Vocabulary: ['appear' 'beig' 'brownlik' 'cell' 'fat' 'occur' 'primarili' 'subcutan'\n",
            " 'viscer']\n",
            "Term-Frequency Vector: [0. 0. 0. ... 0. 0. 0.] (Sum = 8.0, Length = 31075)\n",
            "Query TF-IDF Vector:   [0. 0. 0. ... 0. 0. 0.] (Sum = 13.36, Length = 31075)\n",
            "\n",
            "Precision@10 of 0.1\n",
            "NDCG@10 of 0.5\n"
          ]
        },
        {
          "output_type": "execute_result",
          "data": {
            "text/plain": [
              "          Rank                                               Text  VSM Score\n",
              "Doc_ID                                                                      \n",
              "19205437     1  Uncoupling protein 1 (UCP1) plays a central ro...   0.416747\n",
              "39187170     2  Adipose tissue exerts important endocrine and ...   0.395559\n",
              "20532591     3  White adipose tissue displays high plasticity....   0.372983\n",
              "79447        4  OBJECTIVE The purpose of this study was to cha...   0.369676\n",
              "36558211     5  OBJECTIVES To explore the different characteri...   0.241880\n",
              "5687200      6  AIMS The aim of this study was to compare the ...   0.239737\n",
              "23017040     7  Reduced dietary methionine intake (0.17% methi...   0.191410\n",
              "32955023     8  The expansion of white adipose tissue (WAT) in...   0.177802\n",
              "14865329     9  Brown fat is a specialized fat depot that can ...   0.171199\n",
              "41790911    10  Experimental studies have suggested that Wingl...   0.159876"
            ],
            "text/html": [
              "\n",
              "  <div id=\"df-7fc44fed-28b6-443e-989c-d4094cbf5d72\">\n",
              "    <div class=\"colab-df-container\">\n",
              "      <div>\n",
              "<style scoped>\n",
              "    .dataframe tbody tr th:only-of-type {\n",
              "        vertical-align: middle;\n",
              "    }\n",
              "\n",
              "    .dataframe tbody tr th {\n",
              "        vertical-align: top;\n",
              "    }\n",
              "\n",
              "    .dataframe thead th {\n",
              "        text-align: right;\n",
              "    }\n",
              "</style>\n",
              "<table border=\"1\" class=\"dataframe\">\n",
              "  <thead>\n",
              "    <tr style=\"text-align: right;\">\n",
              "      <th></th>\n",
              "      <th>Rank</th>\n",
              "      <th>Text</th>\n",
              "      <th>VSM Score</th>\n",
              "    </tr>\n",
              "    <tr>\n",
              "      <th>Doc_ID</th>\n",
              "      <th></th>\n",
              "      <th></th>\n",
              "      <th></th>\n",
              "    </tr>\n",
              "  </thead>\n",
              "  <tbody>\n",
              "    <tr>\n",
              "      <th>19205437</th>\n",
              "      <td>1</td>\n",
              "      <td>Uncoupling protein 1 (UCP1) plays a central ro...</td>\n",
              "      <td>0.416747</td>\n",
              "    </tr>\n",
              "    <tr>\n",
              "      <th>39187170</th>\n",
              "      <td>2</td>\n",
              "      <td>Adipose tissue exerts important endocrine and ...</td>\n",
              "      <td>0.395559</td>\n",
              "    </tr>\n",
              "    <tr>\n",
              "      <th>20532591</th>\n",
              "      <td>3</td>\n",
              "      <td>White adipose tissue displays high plasticity....</td>\n",
              "      <td>0.372983</td>\n",
              "    </tr>\n",
              "    <tr>\n",
              "      <th>79447</th>\n",
              "      <td>4</td>\n",
              "      <td>OBJECTIVE The purpose of this study was to cha...</td>\n",
              "      <td>0.369676</td>\n",
              "    </tr>\n",
              "    <tr>\n",
              "      <th>36558211</th>\n",
              "      <td>5</td>\n",
              "      <td>OBJECTIVES To explore the different characteri...</td>\n",
              "      <td>0.241880</td>\n",
              "    </tr>\n",
              "    <tr>\n",
              "      <th>5687200</th>\n",
              "      <td>6</td>\n",
              "      <td>AIMS The aim of this study was to compare the ...</td>\n",
              "      <td>0.239737</td>\n",
              "    </tr>\n",
              "    <tr>\n",
              "      <th>23017040</th>\n",
              "      <td>7</td>\n",
              "      <td>Reduced dietary methionine intake (0.17% methi...</td>\n",
              "      <td>0.191410</td>\n",
              "    </tr>\n",
              "    <tr>\n",
              "      <th>32955023</th>\n",
              "      <td>8</td>\n",
              "      <td>The expansion of white adipose tissue (WAT) in...</td>\n",
              "      <td>0.177802</td>\n",
              "    </tr>\n",
              "    <tr>\n",
              "      <th>14865329</th>\n",
              "      <td>9</td>\n",
              "      <td>Brown fat is a specialized fat depot that can ...</td>\n",
              "      <td>0.171199</td>\n",
              "    </tr>\n",
              "    <tr>\n",
              "      <th>41790911</th>\n",
              "      <td>10</td>\n",
              "      <td>Experimental studies have suggested that Wingl...</td>\n",
              "      <td>0.159876</td>\n",
              "    </tr>\n",
              "  </tbody>\n",
              "</table>\n",
              "</div>\n",
              "      <button class=\"colab-df-convert\" onclick=\"convertToInteractive('df-7fc44fed-28b6-443e-989c-d4094cbf5d72')\"\n",
              "              title=\"Convert this dataframe to an interactive table.\"\n",
              "              style=\"display:none;\">\n",
              "        \n",
              "  <svg xmlns=\"http://www.w3.org/2000/svg\" height=\"24px\"viewBox=\"0 0 24 24\"\n",
              "       width=\"24px\">\n",
              "    <path d=\"M0 0h24v24H0V0z\" fill=\"none\"/>\n",
              "    <path d=\"M18.56 5.44l.94 2.06.94-2.06 2.06-.94-2.06-.94-.94-2.06-.94 2.06-2.06.94zm-11 1L8.5 8.5l.94-2.06 2.06-.94-2.06-.94L8.5 2.5l-.94 2.06-2.06.94zm10 10l.94 2.06.94-2.06 2.06-.94-2.06-.94-.94-2.06-.94 2.06-2.06.94z\"/><path d=\"M17.41 7.96l-1.37-1.37c-.4-.4-.92-.59-1.43-.59-.52 0-1.04.2-1.43.59L10.3 9.45l-7.72 7.72c-.78.78-.78 2.05 0 2.83L4 21.41c.39.39.9.59 1.41.59.51 0 1.02-.2 1.41-.59l7.78-7.78 2.81-2.81c.8-.78.8-2.07 0-2.86zM5.41 20L4 18.59l7.72-7.72 1.47 1.35L5.41 20z\"/>\n",
              "  </svg>\n",
              "      </button>\n",
              "      \n",
              "  <style>\n",
              "    .colab-df-container {\n",
              "      display:flex;\n",
              "      flex-wrap:wrap;\n",
              "      gap: 12px;\n",
              "    }\n",
              "\n",
              "    .colab-df-convert {\n",
              "      background-color: #E8F0FE;\n",
              "      border: none;\n",
              "      border-radius: 50%;\n",
              "      cursor: pointer;\n",
              "      display: none;\n",
              "      fill: #1967D2;\n",
              "      height: 32px;\n",
              "      padding: 0 0 0 0;\n",
              "      width: 32px;\n",
              "    }\n",
              "\n",
              "    .colab-df-convert:hover {\n",
              "      background-color: #E2EBFA;\n",
              "      box-shadow: 0px 1px 2px rgba(60, 64, 67, 0.3), 0px 1px 3px 1px rgba(60, 64, 67, 0.15);\n",
              "      fill: #174EA6;\n",
              "    }\n",
              "\n",
              "    [theme=dark] .colab-df-convert {\n",
              "      background-color: #3B4455;\n",
              "      fill: #D2E3FC;\n",
              "    }\n",
              "\n",
              "    [theme=dark] .colab-df-convert:hover {\n",
              "      background-color: #434B5C;\n",
              "      box-shadow: 0px 1px 3px 1px rgba(0, 0, 0, 0.15);\n",
              "      filter: drop-shadow(0px 1px 2px rgba(0, 0, 0, 0.3));\n",
              "      fill: #FFFFFF;\n",
              "    }\n",
              "  </style>\n",
              "\n",
              "      <script>\n",
              "        const buttonEl =\n",
              "          document.querySelector('#df-7fc44fed-28b6-443e-989c-d4094cbf5d72 button.colab-df-convert');\n",
              "        buttonEl.style.display =\n",
              "          google.colab.kernel.accessAllowed ? 'block' : 'none';\n",
              "\n",
              "        async function convertToInteractive(key) {\n",
              "          const element = document.querySelector('#df-7fc44fed-28b6-443e-989c-d4094cbf5d72');\n",
              "          const dataTable =\n",
              "            await google.colab.kernel.invokeFunction('convertToInteractive',\n",
              "                                                     [key], {});\n",
              "          if (!dataTable) return;\n",
              "\n",
              "          const docLinkHtml = 'Like what you see? Visit the ' +\n",
              "            '<a target=\"_blank\" href=https://colab.research.google.com/notebooks/data_table.ipynb>data table notebook</a>'\n",
              "            + ' to learn more about interactive tables.';\n",
              "          element.innerHTML = '';\n",
              "          dataTable['output_type'] = 'display_data';\n",
              "          await google.colab.output.renderOutput(dataTable, element);\n",
              "          const docLink = document.createElement('div');\n",
              "          docLink.innerHTML = docLinkHtml;\n",
              "          element.appendChild(docLink);\n",
              "        }\n",
              "      </script>\n",
              "    </div>\n",
              "  </div>\n",
              "  "
            ]
          },
          "metadata": {},
          "execution_count": 73
        }
      ],
      "source": [
        "#@title Query example 1\n",
        "Query = 'The appearance of brown-like or beige cells primarily occurs in visceral fat, not subcutaneous fat.'  #@param {type:\"string\"}\n",
        "Model = 'VSM' #@param [\"VSM\", \"BM25\"]\n",
        "\n",
        "search_engine(Query, Model)"
      ]
    },
    {
      "cell_type": "markdown",
      "metadata": {
        "id": "cu0VzKbXZphE"
      },
      "source": [
        "The `search_engine` function is called below for the query \"For every 1,000 children with cerebral palsy, more than 300 of them are premature or underweight at birth.\" and BM25 retrieval model."
      ]
    },
    {
      "cell_type": "code",
      "execution_count": 83,
      "metadata": {
        "colab": {
          "base_uri": "https://localhost:8080/",
          "height": 551
        },
        "id": "jOHXtaBMX9Yo",
        "outputId": "b53b0e6b-acdd-4c97-8e6b-96d62616838e",
        "cellView": "form"
      },
      "outputs": [
        {
          "output_type": "stream",
          "name": "stdout",
          "text": [
            "\n",
            "   Query to be tested: \"For every 1,000 children with cerebral palsy, more than 300 of them are premature or underweight at birth.\"\n",
            "\n",
            "  Pre-Processed Query: \"everi child cerebr palsi prematur underweight birth\"\n",
            "\t   Vocabulary: ['birth' 'cerebr' 'child' 'everi' 'palsi' 'prematur' 'underweight']\n",
            "Term-Frequency Vector: [0. 0. 0. ... 0. 0. 0.] (Sum = 7.0, Length = 31075)\n",
            "\n",
            "Precision@10 of 0.1\n",
            "NDCG@10 of 1.0\n"
          ]
        },
        {
          "output_type": "execute_result",
          "data": {
            "text/plain": [
              "          Rank                                               Text  BM25 Score\n",
              "Doc_ID                                                                       \n",
              "33257464     1  CONTEXT Although cerebral palsy (CP) among ext...   11.816840\n",
              "27129115     2  BACKGROUND Epidemiological and basic science e...   10.240739\n",
              "13791044     3  CONTEXT Although preterm delivery is a well-es...    8.632935\n",
              "20645335     4  OBJECTIVE To systematically review and integra...    8.324772\n",
              "1606628      5  CONTEXT One key target of the United Nations M...    7.403428\n",
              "4983         6  Alterations of the architecture of cerebral wh...    6.531153\n",
              "23073816     7  Allogeneic umbilical cord blood (UCB) has ther...    6.461490\n",
              "18104691     8  AIM This review explores the molecular, neurol...    6.344229\n",
              "25938221     9  A specific retinopathy has been described in A...    5.806052\n",
              "803312      10  The complexity of the human brain has made it ...    5.377308"
            ],
            "text/html": [
              "\n",
              "  <div id=\"df-0e4442ac-0811-467e-8085-34eebad4a901\">\n",
              "    <div class=\"colab-df-container\">\n",
              "      <div>\n",
              "<style scoped>\n",
              "    .dataframe tbody tr th:only-of-type {\n",
              "        vertical-align: middle;\n",
              "    }\n",
              "\n",
              "    .dataframe tbody tr th {\n",
              "        vertical-align: top;\n",
              "    }\n",
              "\n",
              "    .dataframe thead th {\n",
              "        text-align: right;\n",
              "    }\n",
              "</style>\n",
              "<table border=\"1\" class=\"dataframe\">\n",
              "  <thead>\n",
              "    <tr style=\"text-align: right;\">\n",
              "      <th></th>\n",
              "      <th>Rank</th>\n",
              "      <th>Text</th>\n",
              "      <th>BM25 Score</th>\n",
              "    </tr>\n",
              "    <tr>\n",
              "      <th>Doc_ID</th>\n",
              "      <th></th>\n",
              "      <th></th>\n",
              "      <th></th>\n",
              "    </tr>\n",
              "  </thead>\n",
              "  <tbody>\n",
              "    <tr>\n",
              "      <th>33257464</th>\n",
              "      <td>1</td>\n",
              "      <td>CONTEXT Although cerebral palsy (CP) among ext...</td>\n",
              "      <td>11.816840</td>\n",
              "    </tr>\n",
              "    <tr>\n",
              "      <th>27129115</th>\n",
              "      <td>2</td>\n",
              "      <td>BACKGROUND Epidemiological and basic science e...</td>\n",
              "      <td>10.240739</td>\n",
              "    </tr>\n",
              "    <tr>\n",
              "      <th>13791044</th>\n",
              "      <td>3</td>\n",
              "      <td>CONTEXT Although preterm delivery is a well-es...</td>\n",
              "      <td>8.632935</td>\n",
              "    </tr>\n",
              "    <tr>\n",
              "      <th>20645335</th>\n",
              "      <td>4</td>\n",
              "      <td>OBJECTIVE To systematically review and integra...</td>\n",
              "      <td>8.324772</td>\n",
              "    </tr>\n",
              "    <tr>\n",
              "      <th>1606628</th>\n",
              "      <td>5</td>\n",
              "      <td>CONTEXT One key target of the United Nations M...</td>\n",
              "      <td>7.403428</td>\n",
              "    </tr>\n",
              "    <tr>\n",
              "      <th>4983</th>\n",
              "      <td>6</td>\n",
              "      <td>Alterations of the architecture of cerebral wh...</td>\n",
              "      <td>6.531153</td>\n",
              "    </tr>\n",
              "    <tr>\n",
              "      <th>23073816</th>\n",
              "      <td>7</td>\n",
              "      <td>Allogeneic umbilical cord blood (UCB) has ther...</td>\n",
              "      <td>6.461490</td>\n",
              "    </tr>\n",
              "    <tr>\n",
              "      <th>18104691</th>\n",
              "      <td>8</td>\n",
              "      <td>AIM This review explores the molecular, neurol...</td>\n",
              "      <td>6.344229</td>\n",
              "    </tr>\n",
              "    <tr>\n",
              "      <th>25938221</th>\n",
              "      <td>9</td>\n",
              "      <td>A specific retinopathy has been described in A...</td>\n",
              "      <td>5.806052</td>\n",
              "    </tr>\n",
              "    <tr>\n",
              "      <th>803312</th>\n",
              "      <td>10</td>\n",
              "      <td>The complexity of the human brain has made it ...</td>\n",
              "      <td>5.377308</td>\n",
              "    </tr>\n",
              "  </tbody>\n",
              "</table>\n",
              "</div>\n",
              "      <button class=\"colab-df-convert\" onclick=\"convertToInteractive('df-0e4442ac-0811-467e-8085-34eebad4a901')\"\n",
              "              title=\"Convert this dataframe to an interactive table.\"\n",
              "              style=\"display:none;\">\n",
              "        \n",
              "  <svg xmlns=\"http://www.w3.org/2000/svg\" height=\"24px\"viewBox=\"0 0 24 24\"\n",
              "       width=\"24px\">\n",
              "    <path d=\"M0 0h24v24H0V0z\" fill=\"none\"/>\n",
              "    <path d=\"M18.56 5.44l.94 2.06.94-2.06 2.06-.94-2.06-.94-.94-2.06-.94 2.06-2.06.94zm-11 1L8.5 8.5l.94-2.06 2.06-.94-2.06-.94L8.5 2.5l-.94 2.06-2.06.94zm10 10l.94 2.06.94-2.06 2.06-.94-2.06-.94-.94-2.06-.94 2.06-2.06.94z\"/><path d=\"M17.41 7.96l-1.37-1.37c-.4-.4-.92-.59-1.43-.59-.52 0-1.04.2-1.43.59L10.3 9.45l-7.72 7.72c-.78.78-.78 2.05 0 2.83L4 21.41c.39.39.9.59 1.41.59.51 0 1.02-.2 1.41-.59l7.78-7.78 2.81-2.81c.8-.78.8-2.07 0-2.86zM5.41 20L4 18.59l7.72-7.72 1.47 1.35L5.41 20z\"/>\n",
              "  </svg>\n",
              "      </button>\n",
              "      \n",
              "  <style>\n",
              "    .colab-df-container {\n",
              "      display:flex;\n",
              "      flex-wrap:wrap;\n",
              "      gap: 12px;\n",
              "    }\n",
              "\n",
              "    .colab-df-convert {\n",
              "      background-color: #E8F0FE;\n",
              "      border: none;\n",
              "      border-radius: 50%;\n",
              "      cursor: pointer;\n",
              "      display: none;\n",
              "      fill: #1967D2;\n",
              "      height: 32px;\n",
              "      padding: 0 0 0 0;\n",
              "      width: 32px;\n",
              "    }\n",
              "\n",
              "    .colab-df-convert:hover {\n",
              "      background-color: #E2EBFA;\n",
              "      box-shadow: 0px 1px 2px rgba(60, 64, 67, 0.3), 0px 1px 3px 1px rgba(60, 64, 67, 0.15);\n",
              "      fill: #174EA6;\n",
              "    }\n",
              "\n",
              "    [theme=dark] .colab-df-convert {\n",
              "      background-color: #3B4455;\n",
              "      fill: #D2E3FC;\n",
              "    }\n",
              "\n",
              "    [theme=dark] .colab-df-convert:hover {\n",
              "      background-color: #434B5C;\n",
              "      box-shadow: 0px 1px 3px 1px rgba(0, 0, 0, 0.15);\n",
              "      filter: drop-shadow(0px 1px 2px rgba(0, 0, 0, 0.3));\n",
              "      fill: #FFFFFF;\n",
              "    }\n",
              "  </style>\n",
              "\n",
              "      <script>\n",
              "        const buttonEl =\n",
              "          document.querySelector('#df-0e4442ac-0811-467e-8085-34eebad4a901 button.colab-df-convert');\n",
              "        buttonEl.style.display =\n",
              "          google.colab.kernel.accessAllowed ? 'block' : 'none';\n",
              "\n",
              "        async function convertToInteractive(key) {\n",
              "          const element = document.querySelector('#df-0e4442ac-0811-467e-8085-34eebad4a901');\n",
              "          const dataTable =\n",
              "            await google.colab.kernel.invokeFunction('convertToInteractive',\n",
              "                                                     [key], {});\n",
              "          if (!dataTable) return;\n",
              "\n",
              "          const docLinkHtml = 'Like what you see? Visit the ' +\n",
              "            '<a target=\"_blank\" href=https://colab.research.google.com/notebooks/data_table.ipynb>data table notebook</a>'\n",
              "            + ' to learn more about interactive tables.';\n",
              "          element.innerHTML = '';\n",
              "          dataTable['output_type'] = 'display_data';\n",
              "          await google.colab.output.renderOutput(dataTable, element);\n",
              "          const docLink = document.createElement('div');\n",
              "          docLink.innerHTML = docLinkHtml;\n",
              "          element.appendChild(docLink);\n",
              "        }\n",
              "      </script>\n",
              "    </div>\n",
              "  </div>\n",
              "  "
            ]
          },
          "metadata": {},
          "execution_count": 83
        }
      ],
      "source": [
        "#@title Query example 2 { run: \"auto\" }\n",
        "Query = 'For every 1,000 children with cerebral palsy, more than 300 of them are premature or underweight at birth.'  #@param {type:\"string\"}\n",
        "Model = 'BM25' #@param [\"VSM\", \"BM25\"]\n",
        "\n",
        "search_engine(Query, Model)"
      ]
    },
    {
      "cell_type": "markdown",
      "source": [
        "The `search_engine` function is called below for the query \"The RANK-RANK-Ligand (RANKL) pathway is involved in the development of Aire-expressing medullary thymic epithelial cells (mTECs).\" and BM25 retrieval model.  \n",
        "This query has several associated relevant documents, hence why the precision is higher."
      ],
      "metadata": {
        "id": "kbSyr6H0XLe0"
      }
    },
    {
      "cell_type": "code",
      "source": [
        "#@title Query example 3 { run: \"auto\" }\n",
        "Query = \"The RANK-RANK-Ligand (RANKL) pathway is involved in the development of Aire-expressing medullary thymic epithelial cells (mTECs).\"#@param {type:\"string\"}\n",
        "Model = 'BM25' #@param [\"VSM\", \"BM25\"]\n",
        "\n",
        "search_engine(Query, Model)"
      ],
      "metadata": {
        "cellView": "form",
        "colab": {
          "base_uri": "https://localhost:8080/",
          "height": 585
        },
        "id": "gFuDteSiM0Ls",
        "outputId": "c1a834d7-bfb4-4726-8345-4646f2832128"
      },
      "execution_count": 62,
      "outputs": [
        {
          "output_type": "stream",
          "name": "stdout",
          "text": [
            "\n",
            "   Query to be tested: \"The RANK-RANK-Ligand (RANKL) pathway is involved in the development of Aire-expressing medullary thymic epithelial cells (mTECs).\"\n",
            "\n",
            "  Pre-Processed Query: \"rankrankligand rankl pathway involv develop aireexpress medullari thymic epitheli cell mtec\"\n",
            "\t   Vocabulary: ['aireexpress' 'cell' 'develop' 'epitheli' 'involv' 'medullari' 'mtec'\n",
            " 'pathway' 'rankl' 'rankrankligand' 'thymic']\n",
            "Term-Frequency Vector: [0. 0. 0. ... 0. 0. 0.] (Sum = 10.0, Length = 31075)\n",
            "Query TF-IDF Vector:   [0. 0. 0. ... 0. 0. 0.] (Sum = 17.78, Length = 31075)\n",
            "\n",
            "Precision@10 of 0.4\n",
            "NDCG@10 of 1.0\n"
          ]
        },
        {
          "output_type": "execute_result",
          "data": {
            "text/plain": [
              "          Rank                                               Text  VSM Score\n",
              "Doc_ID                                                                      \n",
              "3952288      1  Aire-expressing medullary thymic epithelial ce...   0.552677\n",
              "39128592     2  The thymic medulla provides a microenvironment...   0.473902\n",
              "2734421      3  Medullary thymic epithelial cells (mTECs) esta...   0.446416\n",
              "301838       4  The thymic medulla provides a specialized micr...   0.388646\n",
              "32906513     5  Recent elucidation of the role of central tole...   0.324880\n",
              "24828165     6  Thymic epithelial cells (TEC) form the structu...   0.305180\n",
              "13989491     7  Humans expressing a defective form of the tran...   0.245615\n",
              "20155713     8  Expression of peripheral antigens in the thymu...   0.240780\n",
              "10162553     9  Immunosuppressive drugs and cytotoxic chemothe...   0.211615\n",
              "39559521    10  The negative selection of self-reactive thymoc...   0.179537"
            ],
            "text/html": [
              "\n",
              "  <div id=\"df-56d0e91e-5224-4532-bdfb-13ec1c678724\">\n",
              "    <div class=\"colab-df-container\">\n",
              "      <div>\n",
              "<style scoped>\n",
              "    .dataframe tbody tr th:only-of-type {\n",
              "        vertical-align: middle;\n",
              "    }\n",
              "\n",
              "    .dataframe tbody tr th {\n",
              "        vertical-align: top;\n",
              "    }\n",
              "\n",
              "    .dataframe thead th {\n",
              "        text-align: right;\n",
              "    }\n",
              "</style>\n",
              "<table border=\"1\" class=\"dataframe\">\n",
              "  <thead>\n",
              "    <tr style=\"text-align: right;\">\n",
              "      <th></th>\n",
              "      <th>Rank</th>\n",
              "      <th>Text</th>\n",
              "      <th>VSM Score</th>\n",
              "    </tr>\n",
              "    <tr>\n",
              "      <th>Doc_ID</th>\n",
              "      <th></th>\n",
              "      <th></th>\n",
              "      <th></th>\n",
              "    </tr>\n",
              "  </thead>\n",
              "  <tbody>\n",
              "    <tr>\n",
              "      <th>3952288</th>\n",
              "      <td>1</td>\n",
              "      <td>Aire-expressing medullary thymic epithelial ce...</td>\n",
              "      <td>0.552677</td>\n",
              "    </tr>\n",
              "    <tr>\n",
              "      <th>39128592</th>\n",
              "      <td>2</td>\n",
              "      <td>The thymic medulla provides a microenvironment...</td>\n",
              "      <td>0.473902</td>\n",
              "    </tr>\n",
              "    <tr>\n",
              "      <th>2734421</th>\n",
              "      <td>3</td>\n",
              "      <td>Medullary thymic epithelial cells (mTECs) esta...</td>\n",
              "      <td>0.446416</td>\n",
              "    </tr>\n",
              "    <tr>\n",
              "      <th>301838</th>\n",
              "      <td>4</td>\n",
              "      <td>The thymic medulla provides a specialized micr...</td>\n",
              "      <td>0.388646</td>\n",
              "    </tr>\n",
              "    <tr>\n",
              "      <th>32906513</th>\n",
              "      <td>5</td>\n",
              "      <td>Recent elucidation of the role of central tole...</td>\n",
              "      <td>0.324880</td>\n",
              "    </tr>\n",
              "    <tr>\n",
              "      <th>24828165</th>\n",
              "      <td>6</td>\n",
              "      <td>Thymic epithelial cells (TEC) form the structu...</td>\n",
              "      <td>0.305180</td>\n",
              "    </tr>\n",
              "    <tr>\n",
              "      <th>13989491</th>\n",
              "      <td>7</td>\n",
              "      <td>Humans expressing a defective form of the tran...</td>\n",
              "      <td>0.245615</td>\n",
              "    </tr>\n",
              "    <tr>\n",
              "      <th>20155713</th>\n",
              "      <td>8</td>\n",
              "      <td>Expression of peripheral antigens in the thymu...</td>\n",
              "      <td>0.240780</td>\n",
              "    </tr>\n",
              "    <tr>\n",
              "      <th>10162553</th>\n",
              "      <td>9</td>\n",
              "      <td>Immunosuppressive drugs and cytotoxic chemothe...</td>\n",
              "      <td>0.211615</td>\n",
              "    </tr>\n",
              "    <tr>\n",
              "      <th>39559521</th>\n",
              "      <td>10</td>\n",
              "      <td>The negative selection of self-reactive thymoc...</td>\n",
              "      <td>0.179537</td>\n",
              "    </tr>\n",
              "  </tbody>\n",
              "</table>\n",
              "</div>\n",
              "      <button class=\"colab-df-convert\" onclick=\"convertToInteractive('df-56d0e91e-5224-4532-bdfb-13ec1c678724')\"\n",
              "              title=\"Convert this dataframe to an interactive table.\"\n",
              "              style=\"display:none;\">\n",
              "        \n",
              "  <svg xmlns=\"http://www.w3.org/2000/svg\" height=\"24px\"viewBox=\"0 0 24 24\"\n",
              "       width=\"24px\">\n",
              "    <path d=\"M0 0h24v24H0V0z\" fill=\"none\"/>\n",
              "    <path d=\"M18.56 5.44l.94 2.06.94-2.06 2.06-.94-2.06-.94-.94-2.06-.94 2.06-2.06.94zm-11 1L8.5 8.5l.94-2.06 2.06-.94-2.06-.94L8.5 2.5l-.94 2.06-2.06.94zm10 10l.94 2.06.94-2.06 2.06-.94-2.06-.94-.94-2.06-.94 2.06-2.06.94z\"/><path d=\"M17.41 7.96l-1.37-1.37c-.4-.4-.92-.59-1.43-.59-.52 0-1.04.2-1.43.59L10.3 9.45l-7.72 7.72c-.78.78-.78 2.05 0 2.83L4 21.41c.39.39.9.59 1.41.59.51 0 1.02-.2 1.41-.59l7.78-7.78 2.81-2.81c.8-.78.8-2.07 0-2.86zM5.41 20L4 18.59l7.72-7.72 1.47 1.35L5.41 20z\"/>\n",
              "  </svg>\n",
              "      </button>\n",
              "      \n",
              "  <style>\n",
              "    .colab-df-container {\n",
              "      display:flex;\n",
              "      flex-wrap:wrap;\n",
              "      gap: 12px;\n",
              "    }\n",
              "\n",
              "    .colab-df-convert {\n",
              "      background-color: #E8F0FE;\n",
              "      border: none;\n",
              "      border-radius: 50%;\n",
              "      cursor: pointer;\n",
              "      display: none;\n",
              "      fill: #1967D2;\n",
              "      height: 32px;\n",
              "      padding: 0 0 0 0;\n",
              "      width: 32px;\n",
              "    }\n",
              "\n",
              "    .colab-df-convert:hover {\n",
              "      background-color: #E2EBFA;\n",
              "      box-shadow: 0px 1px 2px rgba(60, 64, 67, 0.3), 0px 1px 3px 1px rgba(60, 64, 67, 0.15);\n",
              "      fill: #174EA6;\n",
              "    }\n",
              "\n",
              "    [theme=dark] .colab-df-convert {\n",
              "      background-color: #3B4455;\n",
              "      fill: #D2E3FC;\n",
              "    }\n",
              "\n",
              "    [theme=dark] .colab-df-convert:hover {\n",
              "      background-color: #434B5C;\n",
              "      box-shadow: 0px 1px 3px 1px rgba(0, 0, 0, 0.15);\n",
              "      filter: drop-shadow(0px 1px 2px rgba(0, 0, 0, 0.3));\n",
              "      fill: #FFFFFF;\n",
              "    }\n",
              "  </style>\n",
              "\n",
              "      <script>\n",
              "        const buttonEl =\n",
              "          document.querySelector('#df-56d0e91e-5224-4532-bdfb-13ec1c678724 button.colab-df-convert');\n",
              "        buttonEl.style.display =\n",
              "          google.colab.kernel.accessAllowed ? 'block' : 'none';\n",
              "\n",
              "        async function convertToInteractive(key) {\n",
              "          const element = document.querySelector('#df-56d0e91e-5224-4532-bdfb-13ec1c678724');\n",
              "          const dataTable =\n",
              "            await google.colab.kernel.invokeFunction('convertToInteractive',\n",
              "                                                     [key], {});\n",
              "          if (!dataTable) return;\n",
              "\n",
              "          const docLinkHtml = 'Like what you see? Visit the ' +\n",
              "            '<a target=\"_blank\" href=https://colab.research.google.com/notebooks/data_table.ipynb>data table notebook</a>'\n",
              "            + ' to learn more about interactive tables.';\n",
              "          element.innerHTML = '';\n",
              "          dataTable['output_type'] = 'display_data';\n",
              "          await google.colab.output.renderOutput(dataTable, element);\n",
              "          const docLink = document.createElement('div');\n",
              "          docLink.innerHTML = docLinkHtml;\n",
              "          element.appendChild(docLink);\n",
              "        }\n",
              "      </script>\n",
              "    </div>\n",
              "  </div>\n",
              "  "
            ]
          },
          "metadata": {},
          "execution_count": 62
        }
      ]
    },
    {
      "cell_type": "markdown",
      "source": [
        "The `search_engine` function is called below for the query \"Which vitamin does sun the provide?\" and VSM retrieval model.\n",
        "This final example shows the search engine handles custom queries (not taken from the dataset list), just omitting the evaluation metrics."
      ],
      "metadata": {
        "id": "Ihp8X2cRXpoc"
      }
    },
    {
      "cell_type": "code",
      "source": [
        "#@title Query example 4: custom query { run: \"auto\" }\n",
        "Query = 'Which vitamin does sun the provide?'  #@param {type:\"string\"}\n",
        "Model = 'BM25' #@param [\"VSM\", \"BM25\"]\n",
        "\n",
        "df = search_engine(Query, Model)\n",
        "df"
      ],
      "metadata": {
        "colab": {
          "base_uri": "https://localhost:8080/",
          "height": 498
        },
        "cellView": "form",
        "id": "COVFbe08S-V1",
        "outputId": "81d7a9c9-4ea6-4082-da5b-0b372f31680a"
      },
      "execution_count": 143,
      "outputs": [
        {
          "output_type": "stream",
          "name": "stdout",
          "text": [
            "\n",
            "   Query to be tested: \"Which vitamin does sun the provide?\"\n",
            "\n",
            "  Pre-Processed Query: \"vitamin sun provid\"\n",
            "\t   Vocabulary: ['provid' 'sun' 'vitamin']\n",
            "Term-Frequency Vector: [0. 0. 0. ... 0. 0. 0.] (Sum = 3.0, Length = 31075)\n"
          ]
        },
        {
          "output_type": "execute_result",
          "data": {
            "text/plain": [
              "          Rank                                               Text  BM25 Score\n",
              "Doc_ID                                                                       \n",
              "36960449     1  BACKGROUND Knowledge gaps have contributed to ...    7.823142\n",
              "21553394     2  In recent years, new functional roles of vitam...    6.486509\n",
              "17000834     3  OBJECTIVE To examine whether past high sun exp...    5.307625\n",
              "30720103     4  Vitamin D, the sunshine vitamin, is now recogn...    4.830716\n",
              "12074066     5  BACKGROUND Inadequate photosynthesis or oral i...    4.423653\n",
              "33417012     6  OBJECTIVE This study compared, in treatment an...    4.375998\n",
              "12009265     7  CONTEXT Many individuals take vitamins in the ...    4.324894\n",
              "275294       8  All vertebrates, including humans, obtain most...    4.196548\n",
              "21380348     9  Vitamins are compounds that are essential for ...    3.838436\n",
              "39174007    10  Free radicals vary widely in their thermodynam...    3.826803"
            ],
            "text/html": [
              "\n",
              "  <div id=\"df-edee52c3-7616-41b4-b263-1a4547fabdb9\">\n",
              "    <div class=\"colab-df-container\">\n",
              "      <div>\n",
              "<style scoped>\n",
              "    .dataframe tbody tr th:only-of-type {\n",
              "        vertical-align: middle;\n",
              "    }\n",
              "\n",
              "    .dataframe tbody tr th {\n",
              "        vertical-align: top;\n",
              "    }\n",
              "\n",
              "    .dataframe thead th {\n",
              "        text-align: right;\n",
              "    }\n",
              "</style>\n",
              "<table border=\"1\" class=\"dataframe\">\n",
              "  <thead>\n",
              "    <tr style=\"text-align: right;\">\n",
              "      <th></th>\n",
              "      <th>Rank</th>\n",
              "      <th>Text</th>\n",
              "      <th>BM25 Score</th>\n",
              "    </tr>\n",
              "    <tr>\n",
              "      <th>Doc_ID</th>\n",
              "      <th></th>\n",
              "      <th></th>\n",
              "      <th></th>\n",
              "    </tr>\n",
              "  </thead>\n",
              "  <tbody>\n",
              "    <tr>\n",
              "      <th>36960449</th>\n",
              "      <td>1</td>\n",
              "      <td>BACKGROUND Knowledge gaps have contributed to ...</td>\n",
              "      <td>7.823142</td>\n",
              "    </tr>\n",
              "    <tr>\n",
              "      <th>21553394</th>\n",
              "      <td>2</td>\n",
              "      <td>In recent years, new functional roles of vitam...</td>\n",
              "      <td>6.486509</td>\n",
              "    </tr>\n",
              "    <tr>\n",
              "      <th>17000834</th>\n",
              "      <td>3</td>\n",
              "      <td>OBJECTIVE To examine whether past high sun exp...</td>\n",
              "      <td>5.307625</td>\n",
              "    </tr>\n",
              "    <tr>\n",
              "      <th>30720103</th>\n",
              "      <td>4</td>\n",
              "      <td>Vitamin D, the sunshine vitamin, is now recogn...</td>\n",
              "      <td>4.830716</td>\n",
              "    </tr>\n",
              "    <tr>\n",
              "      <th>12074066</th>\n",
              "      <td>5</td>\n",
              "      <td>BACKGROUND Inadequate photosynthesis or oral i...</td>\n",
              "      <td>4.423653</td>\n",
              "    </tr>\n",
              "    <tr>\n",
              "      <th>33417012</th>\n",
              "      <td>6</td>\n",
              "      <td>OBJECTIVE This study compared, in treatment an...</td>\n",
              "      <td>4.375998</td>\n",
              "    </tr>\n",
              "    <tr>\n",
              "      <th>12009265</th>\n",
              "      <td>7</td>\n",
              "      <td>CONTEXT Many individuals take vitamins in the ...</td>\n",
              "      <td>4.324894</td>\n",
              "    </tr>\n",
              "    <tr>\n",
              "      <th>275294</th>\n",
              "      <td>8</td>\n",
              "      <td>All vertebrates, including humans, obtain most...</td>\n",
              "      <td>4.196548</td>\n",
              "    </tr>\n",
              "    <tr>\n",
              "      <th>21380348</th>\n",
              "      <td>9</td>\n",
              "      <td>Vitamins are compounds that are essential for ...</td>\n",
              "      <td>3.838436</td>\n",
              "    </tr>\n",
              "    <tr>\n",
              "      <th>39174007</th>\n",
              "      <td>10</td>\n",
              "      <td>Free radicals vary widely in their thermodynam...</td>\n",
              "      <td>3.826803</td>\n",
              "    </tr>\n",
              "  </tbody>\n",
              "</table>\n",
              "</div>\n",
              "      <button class=\"colab-df-convert\" onclick=\"convertToInteractive('df-edee52c3-7616-41b4-b263-1a4547fabdb9')\"\n",
              "              title=\"Convert this dataframe to an interactive table.\"\n",
              "              style=\"display:none;\">\n",
              "        \n",
              "  <svg xmlns=\"http://www.w3.org/2000/svg\" height=\"24px\"viewBox=\"0 0 24 24\"\n",
              "       width=\"24px\">\n",
              "    <path d=\"M0 0h24v24H0V0z\" fill=\"none\"/>\n",
              "    <path d=\"M18.56 5.44l.94 2.06.94-2.06 2.06-.94-2.06-.94-.94-2.06-.94 2.06-2.06.94zm-11 1L8.5 8.5l.94-2.06 2.06-.94-2.06-.94L8.5 2.5l-.94 2.06-2.06.94zm10 10l.94 2.06.94-2.06 2.06-.94-2.06-.94-.94-2.06-.94 2.06-2.06.94z\"/><path d=\"M17.41 7.96l-1.37-1.37c-.4-.4-.92-.59-1.43-.59-.52 0-1.04.2-1.43.59L10.3 9.45l-7.72 7.72c-.78.78-.78 2.05 0 2.83L4 21.41c.39.39.9.59 1.41.59.51 0 1.02-.2 1.41-.59l7.78-7.78 2.81-2.81c.8-.78.8-2.07 0-2.86zM5.41 20L4 18.59l7.72-7.72 1.47 1.35L5.41 20z\"/>\n",
              "  </svg>\n",
              "      </button>\n",
              "      \n",
              "  <style>\n",
              "    .colab-df-container {\n",
              "      display:flex;\n",
              "      flex-wrap:wrap;\n",
              "      gap: 12px;\n",
              "    }\n",
              "\n",
              "    .colab-df-convert {\n",
              "      background-color: #E8F0FE;\n",
              "      border: none;\n",
              "      border-radius: 50%;\n",
              "      cursor: pointer;\n",
              "      display: none;\n",
              "      fill: #1967D2;\n",
              "      height: 32px;\n",
              "      padding: 0 0 0 0;\n",
              "      width: 32px;\n",
              "    }\n",
              "\n",
              "    .colab-df-convert:hover {\n",
              "      background-color: #E2EBFA;\n",
              "      box-shadow: 0px 1px 2px rgba(60, 64, 67, 0.3), 0px 1px 3px 1px rgba(60, 64, 67, 0.15);\n",
              "      fill: #174EA6;\n",
              "    }\n",
              "\n",
              "    [theme=dark] .colab-df-convert {\n",
              "      background-color: #3B4455;\n",
              "      fill: #D2E3FC;\n",
              "    }\n",
              "\n",
              "    [theme=dark] .colab-df-convert:hover {\n",
              "      background-color: #434B5C;\n",
              "      box-shadow: 0px 1px 3px 1px rgba(0, 0, 0, 0.15);\n",
              "      filter: drop-shadow(0px 1px 2px rgba(0, 0, 0, 0.3));\n",
              "      fill: #FFFFFF;\n",
              "    }\n",
              "  </style>\n",
              "\n",
              "      <script>\n",
              "        const buttonEl =\n",
              "          document.querySelector('#df-edee52c3-7616-41b4-b263-1a4547fabdb9 button.colab-df-convert');\n",
              "        buttonEl.style.display =\n",
              "          google.colab.kernel.accessAllowed ? 'block' : 'none';\n",
              "\n",
              "        async function convertToInteractive(key) {\n",
              "          const element = document.querySelector('#df-edee52c3-7616-41b4-b263-1a4547fabdb9');\n",
              "          const dataTable =\n",
              "            await google.colab.kernel.invokeFunction('convertToInteractive',\n",
              "                                                     [key], {});\n",
              "          if (!dataTable) return;\n",
              "\n",
              "          const docLinkHtml = 'Like what you see? Visit the ' +\n",
              "            '<a target=\"_blank\" href=https://colab.research.google.com/notebooks/data_table.ipynb>data table notebook</a>'\n",
              "            + ' to learn more about interactive tables.';\n",
              "          element.innerHTML = '';\n",
              "          dataTable['output_type'] = 'display_data';\n",
              "          await google.colab.output.renderOutput(dataTable, element);\n",
              "          const docLink = document.createElement('div');\n",
              "          docLink.innerHTML = docLinkHtml;\n",
              "          element.appendChild(docLink);\n",
              "        }\n",
              "      </script>\n",
              "    </div>\n",
              "  </div>\n",
              "  "
            ]
          },
          "metadata": {},
          "execution_count": 143
        }
      ]
    },
    {
      "cell_type": "markdown",
      "source": [
        "We can examine the top three documents returned by the search, which are displayed below, in order to verify the accuracy of the search engine."
      ],
      "metadata": {
        "id": "HTJ-iMzElhxX"
      }
    },
    {
      "cell_type": "code",
      "source": [
        "top_n=3\n",
        "for i in range(top_n):\n",
        "    print(df.Text.values[i])"
      ],
      "metadata": {
        "id": "EcD6QU2kcbcN",
        "outputId": "19674929-dbd7-439b-eea3-cb0e88170e91",
        "colab": {
          "base_uri": "https://localhost:8080/"
        }
      },
      "execution_count": 144,
      "outputs": [
        {
          "output_type": "stream",
          "name": "stdout",
          "text": [
            "BACKGROUND Knowledge gaps have contributed to considerable variation among international dietary recommendations for vitamin D.   OBJECTIVE We aimed to establish the distribution of dietary vitamin D required to maintain serum 25-hydroxyvitamin D [25(OH)D] concentrations above several proposed cutoffs (ie, 25, 37.5, 50, and 80 nmol/L) during wintertime after adjustment for the effect of summer sunshine exposure and diet. DESIGN A randomized, placebo-controlled, double-blind 22-wk intervention study was conducted in men and women aged 20-40 y (n = 238) by using different supplemental doses (0, 5, 10, and 15 microg/d) of vitamin D(3) throughout the winter. Serum 25(OH)D concentrations were measured by using enzyme-linked immunoassay at baseline (October 2006) and endpoint (March 2007). RESULTS There were clear dose-related increments (P < 0.0001) in serum 25(OH)D with increasing supplemental vitamin D(3). The slope of the relation between vitamin D intake and serum 25(OH)D was 1.96 nmol x L(-1) x microg(-1) intake. The vitamin D intake that maintained serum 25(OH)D concentrations of >25 nmol/L in 97.5% of the sample was 8.7 microg/d. This intake ranged from 7.2 microg/d in those who enjoyed sunshine exposure, 8.8 microg/d in those who sometimes had sun exposure, and 12.3 microg/d in those who avoided sunshine. Vitamin D intakes required to maintain serum 25(OH)D concentrations of >37.5, >50, and >80 nmol/L in 97.5% of the sample were 19.9, 28.0, and 41.1 microg/d, respectively. CONCLUSION The range of vitamin D intakes required to ensure maintenance of wintertime vitamin D status [as defined by incremental cutoffs of serum 25(OH)D] in the vast majority (>97.5%) of 20-40-y-old adults, considering a variety of sun exposure preferences, is between 7.2 and 41.1 microg/d.\n",
            "In recent years, new functional roles of vitamin D beyond its traditional role in calcium homoeostasis and bone metabolism have emerged linking the fat-soluble vitamin to various non-communicable diseases. Vitamin D deficiency (25-hydroxyvitamin D (25(OH)D) < 25-30 nmol/l) and sub-optimal status (25(OH)D < 50-100 nmol/l) are increasingly associated with unfavourable metabolic phenotypes, including insulin resistance, type 2 diabetes and CVD; conditions also commonly linked with overweight and obesity. Early studies reported poor vitamin D status in the morbidly obese. More recently, it has been observed that a graded relationship between vitamin D status and BMI, or specifically adiposity, exists in the general population. A number of hypotheses have been proposed to explain the potential mechanisms whereby alterations in the vitamin D endocrine system occur in the obese state. Plausible explanations include sequestration in adipose tissue, volumetric dilution or negative feedback mechanisms from increased circulating 1,25-dihydroxyvitamin D3. Others hypothesise that heavier individuals may partake in less outdoor activity, may also cover-up and wear more clothing than leaner individuals, thus decreasing sun exposure and limiting endogenous production of cholecalciferol in the skin. Moreover, in some but not all studies, BMI and adiposity have been negatively associated with the change in vitamin D status following vitamin D supplementation. It therefore remains unclear if body size and/or adiposity should be taken into account when determining the dietary requirements for vitamin D. This review will evaluate the current evidence linking vitamin D status and supplementation to overweight and obesity, and discuss the implications for setting dietary requirements.\n",
            "OBJECTIVE To examine whether past high sun exposure is associated with a reduced risk of multiple sclerosis. DESIGN Population based case-control study. SETTING Tasmania, latitudes 41-3 degrees S.   PARTICIPANTS 136 cases with multiple sclerosis and 272 controls randomly drawn from the community and matched on sex and year of birth. MAIN OUTCOME MEASURE Multiple sclerosis defined by both clinical and magnetic resonance imaging criteria. RESULTS Higher sun exposure when aged 6-15 years (average 2-3 hours or more a day in summer during weekends and holidays) was associated with a decreased risk of multiple sclerosis (adjusted odds ratio 0.31, 95% confidence interval 0.16 to 0.59). Higher exposure in winter seemed more important than higher exposure in summer. Greater actinic damage was also independently associated with a decreased risk of multiple sclerosis (0.32, 0.11 to 0.88 for grades 4-6 disease). A dose-response relation was observed between multiple sclerosis and decreasing sun exposure when aged 6-15 years and with actinic damage. CONCLUSION Higher sun exposure during childhood and early adolescence is associated with a reduced risk of multiple sclerosis. Insufficient ultraviolet radiation may therefore influence the development of multiple sclerosis.\n"
          ]
        }
      ]
    },
    {
      "cell_type": "markdown",
      "metadata": {
        "id": "nFZYdmuIkpoC"
      },
      "source": [
        "# Bibliography\n",
        "\n",
        "Baeza-Yates, R. and Ribeiro-Neto, B. (2011). Modern Information Retrieval: the concepts and technology behind search. 2nd Edition. Harlow, Pearson.\n",
        "\n",
        "Bird, S., Edward, L. & Ewan, K. (2009). Natural Language Processing with Python. California, O`Reilly Media Inc.\n",
        "\n",
        "MacAvaney, S., Yates, A., Feldman, S., Downey, D., Cohan, A., & Goharian, N. (2021). Simplified Data Wrangling with ir-datasets, SIGIR ’21, July 11–15, 2021."
      ]
    }
  ],
  "metadata": {
    "colab": {
      "collapsed_sections": [],
      "name": "Search_Engine_v0.4.ipynb",
      "provenance": [],
      "toc_visible": true,
      "include_colab_link": true
    },
    "kernelspec": {
      "display_name": "Python 3 (ipykernel)",
      "language": "python",
      "name": "python3"
    },
    "language_info": {
      "codemirror_mode": {
        "name": "ipython",
        "version": 3
      },
      "file_extension": ".py",
      "mimetype": "text/x-python",
      "name": "python",
      "nbconvert_exporter": "python",
      "pygments_lexer": "ipython3",
      "version": "3.9.7"
    }
  },
  "nbformat": 4,
  "nbformat_minor": 0
}