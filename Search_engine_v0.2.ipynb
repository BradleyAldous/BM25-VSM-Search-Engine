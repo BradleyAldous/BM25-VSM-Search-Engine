{
 "cells": [
  {
   "cell_type": "markdown",
   "metadata": {
    "colab_type": "text",
    "id": "view-in-github"
   },
   "source": [
    "<a href=\"https://colab.research.google.com/github/AlexanderCoudijzer/BM25-VSM-Search-Engine/blob/main/Search_engine_v0.1.ipynb\" target=\"_parent\"><img src=\"https://colab.research.google.com/assets/colab-badge.svg\" alt=\"Open In Colab\"/></a>"
   ]
  },
  {
   "cell_type": "markdown",
   "metadata": {
    "id": "XeS4WON90flx"
   },
   "source": [
    "# Search Engine Implementation\n",
    "see https://ir-datasets.com/beir.html#beir/scifact  \n",
    "and https://ir-datasets.com/python.html"
   ]
  },
  {
   "cell_type": "markdown",
   "metadata": {
    "id": "hYL-3K_AhiMT"
   },
   "source": [
    "## Data loading and preprocessing"
   ]
  },
  {
   "cell_type": "code",
   "execution_count": 1,
   "metadata": {
    "id": "5Qh8yMNt6QeI"
   },
   "outputs": [],
   "source": [
    "%%capture\n",
    "#!pip install --upgrade ir_datasets\n",
    "\n",
    "import pandas as pd\n",
    "from sklearn.feature_extraction.text import CountVectorizer\n",
    "import numpy as np\n",
    "import ir_datasets\n",
    "import string\n",
    "import re\n",
    "import unidecode\n",
    "from nltk.tokenize import word_tokenize\n",
    "from nltk.stem import WordNetLemmatizer\n",
    "from nltk.stem import SnowballStemmer\n",
    "from nltk.corpus import stopwords"
   ]
  },
  {
   "cell_type": "code",
   "execution_count": 2,
   "metadata": {},
   "outputs": [
    {
     "name": "stdout",
     "output_type": "stream",
     "text": [
      "5183 documents with: {'doc_id': <class 'str'>, 'text': <class 'str'>, 'title': <class 'str'>}\n",
      "809 queries with: {'query_id': <class 'str'>, 'text': <class 'str'>}\n",
      "919 qrels with: {'query_id': <class 'str'>, 'doc_id': <class 'str'>, 'relevance': <class 'int'>, 'iteration': <class 'str'>}\n"
     ]
    }
   ],
   "source": [
    "dataset = ir_datasets.load(\"beir/scifact/train\")\n",
    "\n",
    "print(dataset.docs_count(), 'documents with:', dataset.docs_cls().__annotations__)\n",
    "print(dataset.queries_count(), 'queries with:', dataset.queries_cls().__annotations__)\n",
    "print(dataset.qrels_count(), 'qrels with:',dataset.qrels_cls().__annotations__)"
   ]
  },
  {
   "cell_type": "code",
   "execution_count": 3,
   "metadata": {
    "id": "WIDi1JwIjh7R"
   },
   "outputs": [],
   "source": [
    "%%capture\n",
    "#this actually downloads the data, muted to avoid clutter\n",
    "for doc in dataset.docs_iter()[:1]: None\n",
    "for q in dataset.queries_iter(): None\n",
    "for qrel in dataset.qrels_iter(): None"
   ]
  },
  {
   "cell_type": "code",
   "execution_count": 4,
   "metadata": {
    "id": "pkhFTCerkCNh"
   },
   "outputs": [],
   "source": [
    "corpus=[]\n",
    "for doc in dataset.docs_iter():\n",
    "    corpus.append([doc[0],doc[1],doc[2]])\n",
    "\n",
    "documents = [doc[1] for doc in corpus] \n",
    "# only taking the text for simplicity, but we'll need the doc_id for the evaluation"
   ]
  },
  {
   "cell_type": "markdown",
   "metadata": {
    "id": "VXfv4EsShiMY"
   },
   "source": [
    "## Indexing framework"
   ]
  },
  {
   "cell_type": "code",
   "execution_count": 5,
   "metadata": {},
   "outputs": [],
   "source": [
    "def indexing_framework(docs):\n",
    "    \n",
    "    def clean_text(text):\n",
    "        # remove numbers\n",
    "        text_nonum = re.sub(r'\\d+', '', text)\n",
    "        # remove punctuation and convert characters to lower case\n",
    "        text_nopunct = \"\".join([char.lower() for char in text_nonum if char not in string.punctuation]) \n",
    "        # substitute multiple whitespace with single whitespace and remove leading and trailing whitespaces\n",
    "        text_no_doublespace = re.sub('\\s+', ' ', text_nopunct).strip()\n",
    "        return text_no_doublespace\n",
    "    \n",
    "    documents_cleaned = []   # Cleaning\n",
    "\n",
    "    for d in docs:\n",
    "        x = clean_text(d)\n",
    "        documents_cleaned.append(x)\n",
    "    \n",
    "    documents_tokenized = []   # Tokenization\n",
    "\n",
    "    for d in documents_cleaned:\n",
    "        x = word_tokenize(d)\n",
    "        documents_tokenized.append(x)\n",
    "    \n",
    "    documents_sw_removed = []\n",
    "\n",
    "    stop_words = set(stopwords.words('english'))\n",
    "\n",
    "    for a in documents_tokenized:\n",
    "        filtered_sentence = [w for w in a if not w in stop_words]\n",
    "        filtered_sentence = [] # Stop word removal\n",
    "\n",
    "        for w in a:  \n",
    "            if w not in stop_words:  \n",
    "                filtered_sentence.append(w)\n",
    "        documents_sw_removed.append(filtered_sentence)\n",
    "    \n",
    "    documents_lemmatized = []   # Lemmatization\n",
    "    \n",
    "    wordnet_lemmatizer = WordNetLemmatizer()\n",
    "\n",
    "    for d in documents_sw_removed:\n",
    "        y = []\n",
    "        for word in d:\n",
    "            x = wordnet_lemmatizer.lemmatize(word)\n",
    "            y.append(x)\n",
    "        documents_lemmatized.append(y)\n",
    "    \n",
    "    snow_stemmer = SnowballStemmer(language='english')\n",
    "\n",
    "    documents_stemmed = []   # Stemming\n",
    "        \n",
    "    for d in documents_lemmatized:\n",
    "        stems = []\n",
    "        for word in d:\n",
    "            x = snow_stemmer.stem(word)\n",
    "            stems.append(x)\n",
    "        documents_stemmed.append(stems)\n",
    "    \n",
    "    documents_decoded = [] # Accent stripping\n",
    "    \n",
    "    for d in documents_stemmed:\n",
    "        a = []\n",
    "        for word in d:\n",
    "            x = unidecode.unidecode(word)\n",
    "            a.append(x)\n",
    "        documents_decoded.append(a)\n",
    "    \n",
    "    documents_indexed = []   # Final formatting\n",
    "\n",
    "    for doc in documents_decoded:\n",
    "        documents_indexed.append(' '.join(doc))\n",
    "    return documents_indexed"
   ]
  },
  {
   "cell_type": "code",
   "execution_count": 6,
   "metadata": {},
   "outputs": [],
   "source": [
    "documents_indexed = indexing_framework(documents)"
   ]
  },
  {
   "cell_type": "code",
   "execution_count": 7,
   "metadata": {},
   "outputs": [
    {
     "name": "stdout",
     "output_type": "stream",
     "text": [
      "alter architectur cerebr white matter develop human brain affect cortic develop result function disabl line scan diffusionweight magnet reson imag mri sequenc diffus tensor analysi appli measur appar diffus coeffici calcul relat anisotropi delin threedimension fiber architectur cerebr white matter preterm n fullterm infant n ass effect prematur cerebr white matter develop earli gestat preterm infant n studi second time term central white matter mean appar diffus coeffici wk high micromm decreas toward term micromm posterior limb intern capsul mean appar diffus coeffici time similar versus micromm relat anisotropi higher closer birth term greater absolut valu intern capsul central white matter preterm infant term show higher mean diffus coeffici central white matter versus micromm p lower relat anisotropi area compar fullterm infant white matter versus p intern capsul versus p nonmyelin fiber corpus callosum visibl diffus tensor mri earli wk fullterm preterm infant term show mark differ white matter fiber organ data indic quantit assess water diffus diffus tensor mri provid insight microstructur develop cerebr white matter live infant\n"
     ]
    }
   ],
   "source": [
    "print(documents_indexed[0])"
   ]
  },
  {
   "cell_type": "code",
   "execution_count": 8,
   "metadata": {},
   "outputs": [],
   "source": [
    "queries = []\n",
    "for q in dataset.queries_iter(): # reading in all the queries\n",
    "    queries.append(q[1])"
   ]
  },
  {
   "cell_type": "code",
   "execution_count": 9,
   "metadata": {},
   "outputs": [],
   "source": [
    "queries_indexed = indexing_framework(queries) # Indexing queries to allow retrieve_ranking function to work as query terms need to match with indexed document terms in the BM25 dataframe"
   ]
  },
  {
   "cell_type": "markdown",
   "metadata": {
    "id": "wMtn6anchiMg"
   },
   "source": [
    "### Vectorizing:"
   ]
  },
  {
   "cell_type": "code",
   "execution_count": 10,
   "metadata": {
    "colab": {
     "base_uri": "https://localhost:8080/",
     "height": 0
    },
    "id": "G3E7sQ5_kg9x",
    "outputId": "9ea6e072-8693-4976-fc29-35bb656069f3"
   },
   "outputs": [
    {
     "data": {
      "text/html": [
       "<div>\n",
       "<style scoped>\n",
       "    .dataframe tbody tr th:only-of-type {\n",
       "        vertical-align: middle;\n",
       "    }\n",
       "\n",
       "    .dataframe tbody tr th {\n",
       "        vertical-align: top;\n",
       "    }\n",
       "\n",
       "    .dataframe thead th {\n",
       "        text-align: right;\n",
       "    }\n",
       "</style>\n",
       "<table border=\"1\" class=\"dataframe\">\n",
       "  <thead>\n",
       "    <tr style=\"text-align: right;\">\n",
       "      <th></th>\n",
       "      <th>42</th>\n",
       "      <th>aa</th>\n",
       "      <th>aaa</th>\n",
       "      <th>aaaatpas</th>\n",
       "      <th>aaafamili</th>\n",
       "      <th>aab</th>\n",
       "      <th>aabenhus</th>\n",
       "      <th>aacr</th>\n",
       "      <th>aacrthi</th>\n",
       "      <th>aactinin</th>\n",
       "      <th>...</th>\n",
       "      <th>zygos</th>\n",
       "      <th>zygot</th>\n",
       "      <th>zymographi</th>\n",
       "      <th>zymosan</th>\n",
       "      <th>zymosaninduc</th>\n",
       "      <th>zyxin</th>\n",
       "      <th>zz</th>\n",
       "      <th>zzw</th>\n",
       "      <th>zzz</th>\n",
       "      <th>zzzw</th>\n",
       "    </tr>\n",
       "  </thead>\n",
       "  <tbody>\n",
       "    <tr>\n",
       "      <th>0</th>\n",
       "      <td>0</td>\n",
       "      <td>0</td>\n",
       "      <td>0</td>\n",
       "      <td>0</td>\n",
       "      <td>0</td>\n",
       "      <td>0</td>\n",
       "      <td>0</td>\n",
       "      <td>0</td>\n",
       "      <td>0</td>\n",
       "      <td>0</td>\n",
       "      <td>...</td>\n",
       "      <td>0</td>\n",
       "      <td>0</td>\n",
       "      <td>0</td>\n",
       "      <td>0</td>\n",
       "      <td>0</td>\n",
       "      <td>0</td>\n",
       "      <td>0</td>\n",
       "      <td>0</td>\n",
       "      <td>0</td>\n",
       "      <td>0</td>\n",
       "    </tr>\n",
       "    <tr>\n",
       "      <th>1</th>\n",
       "      <td>0</td>\n",
       "      <td>0</td>\n",
       "      <td>0</td>\n",
       "      <td>0</td>\n",
       "      <td>0</td>\n",
       "      <td>0</td>\n",
       "      <td>0</td>\n",
       "      <td>0</td>\n",
       "      <td>0</td>\n",
       "      <td>0</td>\n",
       "      <td>...</td>\n",
       "      <td>0</td>\n",
       "      <td>0</td>\n",
       "      <td>0</td>\n",
       "      <td>0</td>\n",
       "      <td>0</td>\n",
       "      <td>0</td>\n",
       "      <td>0</td>\n",
       "      <td>0</td>\n",
       "      <td>0</td>\n",
       "      <td>0</td>\n",
       "    </tr>\n",
       "    <tr>\n",
       "      <th>2</th>\n",
       "      <td>0</td>\n",
       "      <td>0</td>\n",
       "      <td>0</td>\n",
       "      <td>0</td>\n",
       "      <td>0</td>\n",
       "      <td>0</td>\n",
       "      <td>0</td>\n",
       "      <td>0</td>\n",
       "      <td>0</td>\n",
       "      <td>0</td>\n",
       "      <td>...</td>\n",
       "      <td>0</td>\n",
       "      <td>0</td>\n",
       "      <td>0</td>\n",
       "      <td>0</td>\n",
       "      <td>0</td>\n",
       "      <td>0</td>\n",
       "      <td>0</td>\n",
       "      <td>0</td>\n",
       "      <td>0</td>\n",
       "      <td>0</td>\n",
       "    </tr>\n",
       "    <tr>\n",
       "      <th>3</th>\n",
       "      <td>0</td>\n",
       "      <td>0</td>\n",
       "      <td>0</td>\n",
       "      <td>0</td>\n",
       "      <td>0</td>\n",
       "      <td>0</td>\n",
       "      <td>0</td>\n",
       "      <td>0</td>\n",
       "      <td>0</td>\n",
       "      <td>0</td>\n",
       "      <td>...</td>\n",
       "      <td>0</td>\n",
       "      <td>0</td>\n",
       "      <td>0</td>\n",
       "      <td>0</td>\n",
       "      <td>0</td>\n",
       "      <td>0</td>\n",
       "      <td>0</td>\n",
       "      <td>0</td>\n",
       "      <td>0</td>\n",
       "      <td>0</td>\n",
       "    </tr>\n",
       "    <tr>\n",
       "      <th>4</th>\n",
       "      <td>0</td>\n",
       "      <td>0</td>\n",
       "      <td>0</td>\n",
       "      <td>0</td>\n",
       "      <td>0</td>\n",
       "      <td>0</td>\n",
       "      <td>0</td>\n",
       "      <td>0</td>\n",
       "      <td>0</td>\n",
       "      <td>0</td>\n",
       "      <td>...</td>\n",
       "      <td>0</td>\n",
       "      <td>0</td>\n",
       "      <td>0</td>\n",
       "      <td>0</td>\n",
       "      <td>0</td>\n",
       "      <td>0</td>\n",
       "      <td>0</td>\n",
       "      <td>0</td>\n",
       "      <td>0</td>\n",
       "      <td>0</td>\n",
       "    </tr>\n",
       "    <tr>\n",
       "      <th>...</th>\n",
       "      <td>...</td>\n",
       "      <td>...</td>\n",
       "      <td>...</td>\n",
       "      <td>...</td>\n",
       "      <td>...</td>\n",
       "      <td>...</td>\n",
       "      <td>...</td>\n",
       "      <td>...</td>\n",
       "      <td>...</td>\n",
       "      <td>...</td>\n",
       "      <td>...</td>\n",
       "      <td>...</td>\n",
       "      <td>...</td>\n",
       "      <td>...</td>\n",
       "      <td>...</td>\n",
       "      <td>...</td>\n",
       "      <td>...</td>\n",
       "      <td>...</td>\n",
       "      <td>...</td>\n",
       "      <td>...</td>\n",
       "      <td>...</td>\n",
       "    </tr>\n",
       "    <tr>\n",
       "      <th>5178</th>\n",
       "      <td>0</td>\n",
       "      <td>0</td>\n",
       "      <td>0</td>\n",
       "      <td>0</td>\n",
       "      <td>0</td>\n",
       "      <td>0</td>\n",
       "      <td>0</td>\n",
       "      <td>0</td>\n",
       "      <td>0</td>\n",
       "      <td>0</td>\n",
       "      <td>...</td>\n",
       "      <td>0</td>\n",
       "      <td>0</td>\n",
       "      <td>0</td>\n",
       "      <td>0</td>\n",
       "      <td>0</td>\n",
       "      <td>0</td>\n",
       "      <td>0</td>\n",
       "      <td>0</td>\n",
       "      <td>0</td>\n",
       "      <td>0</td>\n",
       "    </tr>\n",
       "    <tr>\n",
       "      <th>5179</th>\n",
       "      <td>0</td>\n",
       "      <td>0</td>\n",
       "      <td>0</td>\n",
       "      <td>0</td>\n",
       "      <td>0</td>\n",
       "      <td>0</td>\n",
       "      <td>0</td>\n",
       "      <td>0</td>\n",
       "      <td>0</td>\n",
       "      <td>0</td>\n",
       "      <td>...</td>\n",
       "      <td>0</td>\n",
       "      <td>0</td>\n",
       "      <td>0</td>\n",
       "      <td>0</td>\n",
       "      <td>0</td>\n",
       "      <td>0</td>\n",
       "      <td>0</td>\n",
       "      <td>0</td>\n",
       "      <td>0</td>\n",
       "      <td>0</td>\n",
       "    </tr>\n",
       "    <tr>\n",
       "      <th>5180</th>\n",
       "      <td>0</td>\n",
       "      <td>0</td>\n",
       "      <td>0</td>\n",
       "      <td>0</td>\n",
       "      <td>0</td>\n",
       "      <td>0</td>\n",
       "      <td>0</td>\n",
       "      <td>0</td>\n",
       "      <td>0</td>\n",
       "      <td>0</td>\n",
       "      <td>...</td>\n",
       "      <td>0</td>\n",
       "      <td>0</td>\n",
       "      <td>0</td>\n",
       "      <td>0</td>\n",
       "      <td>0</td>\n",
       "      <td>0</td>\n",
       "      <td>0</td>\n",
       "      <td>0</td>\n",
       "      <td>0</td>\n",
       "      <td>0</td>\n",
       "    </tr>\n",
       "    <tr>\n",
       "      <th>5181</th>\n",
       "      <td>0</td>\n",
       "      <td>0</td>\n",
       "      <td>0</td>\n",
       "      <td>0</td>\n",
       "      <td>0</td>\n",
       "      <td>0</td>\n",
       "      <td>0</td>\n",
       "      <td>0</td>\n",
       "      <td>0</td>\n",
       "      <td>0</td>\n",
       "      <td>...</td>\n",
       "      <td>0</td>\n",
       "      <td>0</td>\n",
       "      <td>0</td>\n",
       "      <td>0</td>\n",
       "      <td>0</td>\n",
       "      <td>0</td>\n",
       "      <td>0</td>\n",
       "      <td>0</td>\n",
       "      <td>0</td>\n",
       "      <td>0</td>\n",
       "    </tr>\n",
       "    <tr>\n",
       "      <th>5182</th>\n",
       "      <td>0</td>\n",
       "      <td>0</td>\n",
       "      <td>0</td>\n",
       "      <td>0</td>\n",
       "      <td>0</td>\n",
       "      <td>0</td>\n",
       "      <td>0</td>\n",
       "      <td>0</td>\n",
       "      <td>0</td>\n",
       "      <td>0</td>\n",
       "      <td>...</td>\n",
       "      <td>0</td>\n",
       "      <td>0</td>\n",
       "      <td>0</td>\n",
       "      <td>0</td>\n",
       "      <td>0</td>\n",
       "      <td>0</td>\n",
       "      <td>0</td>\n",
       "      <td>0</td>\n",
       "      <td>0</td>\n",
       "      <td>0</td>\n",
       "    </tr>\n",
       "  </tbody>\n",
       "</table>\n",
       "<p>5183 rows × 31075 columns</p>\n",
       "</div>"
      ],
      "text/plain": [
       "      42  aa  aaa  aaaatpas  aaafamili  aab  aabenhus  aacr  aacrthi  \\\n",
       "0      0   0    0         0          0    0         0     0        0   \n",
       "1      0   0    0         0          0    0         0     0        0   \n",
       "2      0   0    0         0          0    0         0     0        0   \n",
       "3      0   0    0         0          0    0         0     0        0   \n",
       "4      0   0    0         0          0    0         0     0        0   \n",
       "...   ..  ..  ...       ...        ...  ...       ...   ...      ...   \n",
       "5178   0   0    0         0          0    0         0     0        0   \n",
       "5179   0   0    0         0          0    0         0     0        0   \n",
       "5180   0   0    0         0          0    0         0     0        0   \n",
       "5181   0   0    0         0          0    0         0     0        0   \n",
       "5182   0   0    0         0          0    0         0     0        0   \n",
       "\n",
       "      aactinin  ...  zygos  zygot  zymographi  zymosan  zymosaninduc  zyxin  \\\n",
       "0            0  ...      0      0           0        0             0      0   \n",
       "1            0  ...      0      0           0        0             0      0   \n",
       "2            0  ...      0      0           0        0             0      0   \n",
       "3            0  ...      0      0           0        0             0      0   \n",
       "4            0  ...      0      0           0        0             0      0   \n",
       "...        ...  ...    ...    ...         ...      ...           ...    ...   \n",
       "5178         0  ...      0      0           0        0             0      0   \n",
       "5179         0  ...      0      0           0        0             0      0   \n",
       "5180         0  ...      0      0           0        0             0      0   \n",
       "5181         0  ...      0      0           0        0             0      0   \n",
       "5182         0  ...      0      0           0        0             0      0   \n",
       "\n",
       "      zz  zzw  zzz  zzzw  \n",
       "0      0    0    0     0  \n",
       "1      0    0    0     0  \n",
       "2      0    0    0     0  \n",
       "3      0    0    0     0  \n",
       "4      0    0    0     0  \n",
       "...   ..  ...  ...   ...  \n",
       "5178   0    0    0     0  \n",
       "5179   0    0    0     0  \n",
       "5180   0    0    0     0  \n",
       "5181   0    0    0     0  \n",
       "5182   0    0    0     0  \n",
       "\n",
       "[5183 rows x 31075 columns]"
      ]
     },
     "execution_count": 10,
     "metadata": {},
     "output_type": "execute_result"
    }
   ],
   "source": [
    "vectorizer = CountVectorizer() # taken out sw removal and accent stripping as these are now included in the indexing framework\n",
    "documents_vectorized = vectorizer.fit_transform(documents_indexed)\n",
    "#vocabulary = vectorizer.get_feature_names_out() ---- I was having issues with updating sklearn so I had to use a different function that has similar functionality\n",
    "vocabulary = vectorizer.get_feature_names()\n",
    "dataframe = pd.DataFrame(documents_vectorized.toarray(), columns=vocabulary)\n",
    "dataframe"
   ]
  },
  {
   "cell_type": "markdown",
   "metadata": {
    "id": "CamMD9Q_hiMi"
   },
   "source": [
    "## Retrieval framework"
   ]
  },
  {
   "cell_type": "markdown",
   "metadata": {
    "id": "xUQPIiV-n0lH"
   },
   "source": [
    "### Query"
   ]
  },
  {
   "cell_type": "code",
   "execution_count": 11,
   "metadata": {},
   "outputs": [],
   "source": [
    "qid = []\n",
    "for q in dataset.queries_iter():\n",
    "    qid.append(q[0])\n",
    "qid = [eval(x) for x in qid]  # Reading in query IDs and converting to int"
   ]
  },
  {
   "cell_type": "code",
   "execution_count": 12,
   "metadata": {},
   "outputs": [],
   "source": [
    "queries = [list(a) for a in zip(qid, queries_indexed)]"
   ]
  },
  {
   "cell_type": "code",
   "execution_count": 13,
   "metadata": {
    "colab": {
     "base_uri": "https://localhost:8080/"
    },
    "id": "y4THCxghn2R_",
    "outputId": "a23d64e3-55a6-4d3e-ff29-7fc12aeb0e64"
   },
   "outputs": [
    {
     "name": "stdout",
     "output_type": "stream",
     "text": [
      "['million uk abnorm prp posit']\n",
      "['abnorm', 'million', 'posit', 'prp', 'uk']\n"
     ]
    }
   ],
   "source": [
    "query_num = 1 #query number to test\n",
    "print([queries[query_num][1]])\n",
    "q_vectorizer = CountVectorizer()\n",
    "q = q_vectorizer.fit_transform([queries[query_num][1]])\n",
    "#q_voc = q_vectorizer.get_feature_names_out()\n",
    "q_voc = q_vectorizer.get_feature_names()\n",
    "print(q_voc)\n",
    "\n",
    "q_vector =np.array([])\n",
    "for t in dataframe.columns:\n",
    "    if t in q_voc: q_vector = np.append(q_vector,1)\n",
    "    else: q_vector = np.append(q_vector,0)"
   ]
  },
  {
   "cell_type": "code",
   "execution_count": 14,
   "metadata": {},
   "outputs": [],
   "source": [
    "documents_id=[]\n",
    "\n",
    "for doc in corpus:\n",
    "    documents_id.append([doc[0],doc[1]])"
   ]
  },
  {
   "cell_type": "markdown",
   "metadata": {
    "id": "V5kvxPmcj2PH"
   },
   "source": [
    "### VSM"
   ]
  },
  {
   "cell_type": "code",
   "execution_count": 15,
   "metadata": {
    "id": "SN_7hujCj4yO"
   },
   "outputs": [],
   "source": [
    "dfs = (dataframe > 0).sum(axis=0) # doc frequency\n",
    "N = dataframe.shape[0] # total number of docs\n",
    "idfs = np.log10(N/dfs) # inverse doc frequency\n",
    "doc_tfidf = np.array(dataframe * idfs)"
   ]
  },
  {
   "cell_type": "code",
   "execution_count": 16,
   "metadata": {
    "colab": {
     "base_uri": "https://localhost:8080/"
    },
    "id": "1FzoMS6gkKWH",
    "outputId": "d673d6b7-b0d5-4762-9b15-968464030b20"
   },
   "outputs": [
    {
     "data": {
      "text/plain": [
       "[(['13734012',\n",
       "   'OBJECTIVES To carry out a further survey of archived appendix samples to understand better the differences between existing estimates of the prevalence of subclinical infection with prions after the bovine spongiform encephalopathy epizootic and to see whether a broader birth cohort was affected, and to understand better the implications for the management of blood and blood products and for the handling of surgical instruments. DESIGN Irreversibly unlinked and anonymised large scale survey of archived appendix samples. SETTING Archived appendix samples from the pathology departments of 41 UK hospitals participating in the earlier survey, and additional hospitals in regions with lower levels of participation in that survey. SAMPLE 32,441 archived appendix samples fixed in formalin and embedded in paraffin and tested for the presence of abnormal prion protein (PrP). RESULTS Of the 32,441 appendix samples 16 were positive for abnormal PrP, indicating an overall prevalence of 493 per million population (95% confidence interval 282 to 801 per million). The prevalence in those born in 1941-60 (733 per million, 269 to 1596 per million) did not differ significantly from those born between 1961 and 1985 (412 per million, 198 to 758 per million) and was similar in both sexes and across the three broad geographical areas sampled. Genetic testing of the positive specimens for the genotype at PRNP codon 129 revealed a high proportion that were valine homozygous compared with the frequency in the normal population, and in stark contrast with confirmed clinical cases of vCJD, all of which were methionine homozygous at PRNP codon 129. CONCLUSIONS This study corroborates previous studies and suggests a high prevalence of infection with abnormal PrP, indicating vCJD carrier status in the population compared with the 177 vCJD cases to date. These findings have important implications for the management of blood and blood products and for the handling of surgical instruments.'],\n",
       "  0.34297265264650784),\n",
       " (['13770184',\n",
       "   'BACKGROUND The Global Burden of Diseases, Injuries, and Risk Factors Study 2015 provides an up-to-date synthesis of the evidence for risk factor exposure and the attributable burden of disease. By providing national and subnational assessments spanning the past 25 years, this study can inform debates on the importance of addressing risks in context. METHODS We used the comparative risk assessment framework developed for previous iterations of the Global Burden of Disease Study to estimate attributable deaths, disability-adjusted life-years (DALYs), and trends in exposure by age group, sex, year, and geography for 79 behavioural, environmental and occupational, and metabolic risks or clusters of risks from 1990 to 2015. This study included 388 risk-outcome pairs that met World Cancer Research Fund-defined criteria for convincing or probable evidence. We extracted relative risk and exposure estimates from randomised controlled trials, cohorts, pooled cohorts, household surveys, census data, satellite data, and other sources. We used statistical models to pool data, adjust for bias, and incorporate covariates. We developed a metric that allows comparisons of exposure across risk factors-the summary exposure value. Using the counterfactual scenario of theoretical minimum risk level, we estimated the portion of deaths and DALYs that could be attributed to a given risk. We decomposed trends in attributable burden into contributions from population growth, population age structure, risk exposure, and risk-deleted cause-specific DALY rates. We characterised risk exposure in relation to a Socio-demographic Index (SDI). FINDINGS Between 1990 and 2015, global exposure to unsafe sanitation, household air pollution, childhood underweight, childhood stunting, and smoking each decreased by more than 25%. Global exposure for several occupational risks, high body-mass index (BMI), and drug use increased by more than 25% over the same period. All risks jointly evaluated in 2015 accounted for 57·8% (95% CI 56·6-58·8) of global deaths and 41·2% (39·8-42·8) of DALYs. In 2015, the ten largest contributors to global DALYs among Level 3 risks were high systolic blood pressure (211·8 million [192·7 million to 231·1 million] global DALYs), smoking (148·6 million [134·2 million to 163·1 million]), high fasting plasma glucose (143·1 million [125·1 million to 163·5 million]), high BMI (120·1 million [83·8 million to 158·4 million]), childhood undernutrition (113·3 million [103·9 million to 123·4 million]), ambient particulate matter (103·1 million [90·8 million to 115·1 million]), high total cholesterol (88·7 million [74·6 million to 105·7 million]), household air pollution (85·6 million [66·7 million to 106·1 million]), alcohol use (85·0 million [77·2 million to 93·0 million]), and diets high in sodium (83·0 million [49·3 million to 127·5 million]). From 1990 to 2015, attributable DALYs declined for micronutrient deficiencies, childhood undernutrition, unsafe sanitation and water, and household air pollution; reductions in risk-deleted DALY rates rather than reductions in exposure drove these declines. Rising exposure contributed to notable increases in attributable DALYs from high BMI, high fasting plasma glucose, occupational carcinogens, and drug use. Environmental risks and childhood undernutrition declined steadily with SDI; low physical activity, high BMI, and high fasting plasma glucose increased with SDI. In 119 countries, metabolic risks, such as high BMI and fasting plasma glucose, contributed the most attributable DALYs in 2015. Regionally, smoking still ranked among the leading five risk factors for attributable DALYs in 109 countries; childhood underweight and unsafe sex remained primary drivers of early death and disability in much of sub-Saharan Africa. INTERPRETATION Declines in some key environmental risks have contributed to declines in critical infectious diseases. Some risks appear to be invariant to SDI. Increasing risks, including high BMI, high fasting plasma glucose, drug use, and some occupational exposures, contribute to rising burden from some conditions, but also provide opportunities for intervention. Some highly preventable risks, such as smoking, remain major causes of attributable DALYs, even as exposure is declining. Public policy makers need to pay attention to the risks that are increasingly major contributors to global burden. FUNDING Bill & Melinda Gates Foundation.'],\n",
       "  0.2743337753518841),\n",
       " (['26059876',\n",
       "   'Ku70, a known nonhomologous end-joining (NHEJ) factor, also functions in tumor suppression, although this molecular mechanism remains uncharacterized. Previously, we showed that mice deficient for DNA ligase IV (Lig4), another key NHEJ factor, succumbed to aggressive lymphoma in the absence of tumor suppressor p53. However, the tumor phenotype is abrogated by the introduction of a hypomorphic mutant p53R172P, which impaired p53-mediated apoptosis but not cell-cycle arrest. However, Lig4−/−p53R172P mice succumbed to severe diabetes. To further elucidate the role of NHEJ and p53-mediated apoptosis in vivo, we bred Ku70−/− p53R172P mice. Unexpectedly, these mice were free of diabetes, although 80% of the mutant mice had abnormally enlarged colons with pronounced inflammation. Remarkably, most of these mutant mice progressed to dysplasia, adenoma and adenocarcinoma; this is in contrast to the Lig4−/−p53R172P phenotype, strongly suggesting an NHEJ-independent function of Ku70. Significantly, our analyses of Ku70−/−p53R172P colonic epithelial cells show nuclear stabilization of β-catenin accompanied by higher expression of cyclin D1 and c-Myc in affected colon sections than in control samples. This is not due to the p53 mutation, as Ku70−/− mice share this phenotype. Our results not only unravel a novel function of Ku70 essential for colon homeostasis, but also establish an excellent in vivo model in which to study how chronic inflammation and abnormal cellular proliferation underlie tumorigenesis and tumor progression in the colon.'],\n",
       "  0.24444238997455647),\n",
       " (['3716075',\n",
       "   'BACKGROUND Dengue is the most common arbovirus infection globally, but its burden is poorly quantified. We estimated dengue mortality, incidence, and burden for the Global Burden of Disease Study 2013. METHODS We modelled mortality from vital registration, verbal autopsy, and surveillance data using the Cause of Death Ensemble Modelling tool. We modelled incidence from officially reported cases, and adjusted our raw estimates for under-reporting based on published estimates of expansion factors. In total, we had 1780 country-years of mortality data from 130 countries, 1636 country-years of dengue case reports from 76 countries, and expansion factor estimates for 14 countries. FINDINGS We estimated an average of 9221 dengue deaths per year between 1990 and 2013, increasing from a low of 8277 (95% uncertainty estimate 5353-10 649) in 1992, to a peak of 11 302 (6790-13 722) in 2010. This yielded a total of 576 900 (330 000-701 200) years of life lost to premature mortality attributable to dengue in 2013. The incidence of dengue increased greatly between 1990 and 2013, with the number of cases more than doubling every decade, from 8·3 million (3·3 million-17·2 million) apparent cases in 1990, to 58·4 million (23·6 million-121·9 million) apparent cases in 2013. When accounting for disability from moderate and severe acute dengue, and post-dengue chronic fatigue, 566 000 (186 000-1 415 000) years lived with disability were attributable to dengue in 2013. Considering fatal and non-fatal outcomes together, dengue was responsible for 1·14 million (0·73 million-1·98 million) disability-adjusted life-years in 2013. INTERPRETATION Although lower than other estimates, our results offer more evidence that the true symptomatic incidence of dengue probably falls within the commonly cited range of 50 million to 100 million cases per year. Our mortality estimates are lower than those presented elsewhere and should be considered in light of the totality of evidence suggesting that dengue mortality might, in fact, be substantially higher. FUNDING Bill & Melinda Gates Foundation.'],\n",
       "  0.1942445888461234),\n",
       " (['15327601',\n",
       "   'Very often, the positions of flexible domains within macromolecules as well as within macromolecular complexes cannot be determined by standard structural biology methods. To overcome this problem, we developed a method that uses probabilistic data analysis to combine single-molecule measurements with X-ray crystallography data. The method determines not only the most likely position of a fluorescent dye molecule attached to the domain but also the complete three-dimensional probability distribution depicting the experimental uncertainty. With this approach, single-pair fluorescence resonance energy transfer measurements can now be used as a quantitative tool for investigating the position and dynamics of flexible domains within macromolecular complexes. We applied this method to find the position of the 5′ end of the nascent RNA exiting transcription elongation complexes of yeast (Saccharomyces cerevisiae) RNA polymerase II and studied the influence of transcription factor IIB on the position of the RNA.'],\n",
       "  0.13902755855486257),\n",
       " (['23531592',\n",
       "   'By the year 2000 there will be six million pregnant women and five to ten million children infected with HIV-1. Intervention strategies have been planned and in some instances already started. A timely and cost-effective strategy needs to take into account that most HIV-1 infected individuals reside in developing countries. Further studies are needed on immunological and virological factors affecting HIV-1 transmission from mother to child, on differential disease progression in affected children, and on transient infection.'],\n",
       "  0.12592673448328592),\n",
       " (['16398049',\n",
       "   'Genomes are arranged non-randomly in the 3D space of the cell nucleus. Here, we have developed HIPMap, a high-precision, high-throughput, automated fluorescent in situ hybridization imaging pipeline, for mapping of the spatial location of genome regions at large scale. High-throughput imaging position mapping (HIPMap) enabled an unbiased siRNA screen for factors involved in genome organization in human cells. We identify 50 cellular factors required for proper positioning of a set of functionally diverse genomic loci. Positioning factors include chromatin remodelers, histone modifiers, and nuclear envelope and pore proteins. Components of the replication and post-replication chromatin re-assembly machinery are prominently represented among positioning factors, and timely progression of cells through replication, but not mitosis, is required for correct gene positioning. Our results establish a method for the large-scale mapping of genome locations and have led to the identification of a compendium of cellular factors involved in spatial genome organization.'],\n",
       "  0.12402423664895287),\n",
       " (['11936877',\n",
       "   \"Soil erosion is a major environmental threat to the sustainability and productive capacity of agriculture. During the last 40 years, nearly one-third of the world's arable land has been lost by erosion and continues to be lost at a rate of more than 10 million hectares per year. With the addition of a quarter of a million people each day, the world population's food demand is increasing at a time when per capita food productivity is beginning to decline.\"],\n",
       "  0.11040504567475909),\n",
       " (['11880289',\n",
       "   'BACKGROUND Age-specific effects of mammographic screening, and the timing of such effects, are a matter of debate. The results of the UK Age trial, which compared the effect of invitation to annual mammographic screening from age 40 years with commencement of screening at age 50 years on breast cancer mortality, have been reported at 10 years of follow-up and showed no significant difference in mortality between the trial groups. Here, we report the results of the UK Age trial after 17 years of follow-up. METHODS Women aged 39-41 from 23 UK NHS Breast Screening Programme units years were randomly assigned by individual randomisation (1:2) to either an intervention group offered annual screening by mammography up to and including the calendar year of their 48th birthday or to a control group receiving usual medical care (invited for screening at age 50 years and every 3 years thereafter). Both groups were stratified by general practice. We compared breast cancer incidence and mortality by time since randomisation. Analyses included all women randomly assigned who could be traced with the National Health Service Central Register and who had not died or emigrated before entry. The primary outcome measures were mortality from breast cancer (defined as deaths with breast cancer coded as the underlying cause of death) and breast cancer incidence, including in-situ, invasive, and total incidence. Because there is an interest in the timing of the mortality effect, we analysed the results in different follow-up periods. This trial is registered, number ISRCTN24647151. FINDINGS Between Oct 14, 1990, and Sept 25, 1997, 160 921 participants were randomly assigned; 53 883 women in the intervention group and 106 953 assigned to usual medical care were included in this analysis. After a median follow-up of 17 years (IQR 16·8-18·8), the rate ratio (RR) for breast cancer mortality was 0·88 (95% CI 0·74-1·04) from tumours diagnosed during the intervention phase. A significant reduction in breast cancer mortality was noted in the intervention group compared with the control group in the first 10 years after diagnosis (RR 0·75, 0·58-0·97) but not thereafter (RR 1·02, 0·80-1·30) from tumours diagnosed during the intervention phase. The overall breast cancer incidence during 17 year follow-up was similar between the intervention group and the control group (RR 0·98, 0·93-1·04). INTERPRETATION Our results support an early reduction in mortality from breast cancer with annual mammography screening in women aged 40-49 years. Further data are needed to fully understand long-term effects. Cumulative incidence figures suggest at worst a small amount of overdiagnosis. FUNDING National Institute for Health Research Health Technology Assessment programme and the American Cancer Society. Past funding was received from the Medical Research Council, Cancer Research UK, the UK Department of Health, and the US National Cancer Institute.'],\n",
       "  0.10847676219375492),\n",
       " (['17415081',\n",
       "   'Over 75% of the annual estimated 9.5 million deaths in India occur in the home, and the large majority of these do not have a certified cause. India and other developing countries urgently need reliable quantification of the causes of death. They also need better epidemiological evidence about the relevance of physical (such as blood pressure and obesity), behavioral (such as smoking, alcohol, HIV-1 risk taking, and immunization history), and biological (such as blood lipids and gene polymorphisms) measurements to the development of disease in individuals or disease rates in populations. This report here is on the rationale, design, and implementation of the worldâ€™s largest prospective study of the causes and correlates of mortality. Nearly 14 million people in 2.4 million nationally representative Indian households will be monitored (for vital status and, if dead, the causes of death through a well-validated verbal autopsy (VA) instrument. be addressed. This study will reliably document not only the underlying cause of child and adult deaths but also key risk factors (behavioral, physical, environmental, and eventually, genetic). It offers a globally replicable model for reliably estimating cause-specific mortality using VA and strengthens Indiaâ€™s flagship mortality monitoring system. Despite the misclassification that is still expected, the new cause-of-death data will be substantially better than that available previously.[PLoS Medicine, February 2006.]'],\n",
       "  0.10165364198894629)]"
      ]
     },
     "execution_count": 16,
     "metadata": {},
     "output_type": "execute_result"
    }
   ],
   "source": [
    "from numpy.linalg import norm\n",
    "\n",
    "VSM_scores = []\n",
    "for d in doc_tfidf:\n",
    "    VSM_scores.append(np.dot(d, q_vector)/(norm(d)*norm(q_vector)))\n",
    "sorted(zip(documents_id,VSM_scores), key = lambda tup:tup[1], reverse=True)[:10]"
   ]
  },
  {
   "cell_type": "markdown",
   "metadata": {
    "id": "2cs52RiGkp9_"
   },
   "source": [
    "### BM25"
   ]
  },
  {
   "cell_type": "code",
   "execution_count": 17,
   "metadata": {
    "id": "OtpbYAsEk7up"
   },
   "outputs": [],
   "source": [
    "# Defining all the variables we need:\n",
    "k_1 = 1.2\n",
    "b = 0.8\n",
    "#dfs = (dataframe > 0).sum(axis=0) # doc frequency\n",
    "#N = dataframe.shape[0] # total number of docs\n",
    "#idfs = np.log10(N/dfs) # inverse doc frequency\n",
    "dls = dataframe.sum(axis=1).tolist() # considering words minus stop words in doc (better option)\n",
    "avgdl = np.mean(dls) # single value, mean doc length (minus stop words)\n",
    "\n",
    "# Applying the BM25 formula:\n",
    "numerator = np.array((k_1 + 1) * dataframe)\n",
    "denominator = np.array(k_1 *((1 - b) + b * (dls / avgdl))).reshape(N,1) + np.array(dataframe)\n",
    "BM25_tf = numerator / denominator\n",
    "idfs = np.array(idfs)\n",
    "BM25_tfidf = BM25_tf * idfs\n",
    "\n",
    "bm25_idf = pd.DataFrame(BM25_tfidf, columns=vocabulary)\n",
    "del numerator\n",
    "del denominator\n",
    "del BM25_tf\n",
    "del idfs\n",
    "del BM25_tfidf\n",
    "#bm25_idf"
   ]
  },
  {
   "cell_type": "code",
   "execution_count": 18,
   "metadata": {},
   "outputs": [
    {
     "data": {
      "text/html": [
       "<div>\n",
       "<style scoped>\n",
       "    .dataframe tbody tr th:only-of-type {\n",
       "        vertical-align: middle;\n",
       "    }\n",
       "\n",
       "    .dataframe tbody tr th {\n",
       "        vertical-align: top;\n",
       "    }\n",
       "\n",
       "    .dataframe thead th {\n",
       "        text-align: right;\n",
       "    }\n",
       "</style>\n",
       "<table border=\"1\" class=\"dataframe\">\n",
       "  <thead>\n",
       "    <tr style=\"text-align: right;\">\n",
       "      <th></th>\n",
       "      <th>42</th>\n",
       "      <th>aa</th>\n",
       "      <th>aaa</th>\n",
       "      <th>aaaatpas</th>\n",
       "      <th>aaafamili</th>\n",
       "      <th>aab</th>\n",
       "      <th>aabenhus</th>\n",
       "      <th>aacr</th>\n",
       "      <th>aacrthi</th>\n",
       "      <th>aactinin</th>\n",
       "      <th>...</th>\n",
       "      <th>zygos</th>\n",
       "      <th>zygot</th>\n",
       "      <th>zymographi</th>\n",
       "      <th>zymosan</th>\n",
       "      <th>zymosaninduc</th>\n",
       "      <th>zyxin</th>\n",
       "      <th>zz</th>\n",
       "      <th>zzw</th>\n",
       "      <th>zzz</th>\n",
       "      <th>zzzw</th>\n",
       "    </tr>\n",
       "  </thead>\n",
       "  <tbody>\n",
       "    <tr>\n",
       "      <th>0</th>\n",
       "      <td>0.0</td>\n",
       "      <td>0.0</td>\n",
       "      <td>0.0</td>\n",
       "      <td>0.0</td>\n",
       "      <td>0.0</td>\n",
       "      <td>0.0</td>\n",
       "      <td>0.0</td>\n",
       "      <td>0.0</td>\n",
       "      <td>0.0</td>\n",
       "      <td>0.0</td>\n",
       "      <td>...</td>\n",
       "      <td>0.0</td>\n",
       "      <td>0.0</td>\n",
       "      <td>0.0</td>\n",
       "      <td>0.0</td>\n",
       "      <td>0.0</td>\n",
       "      <td>0.0</td>\n",
       "      <td>0.0</td>\n",
       "      <td>0.0</td>\n",
       "      <td>0.0</td>\n",
       "      <td>0.0</td>\n",
       "    </tr>\n",
       "    <tr>\n",
       "      <th>1</th>\n",
       "      <td>0.0</td>\n",
       "      <td>0.0</td>\n",
       "      <td>0.0</td>\n",
       "      <td>0.0</td>\n",
       "      <td>0.0</td>\n",
       "      <td>0.0</td>\n",
       "      <td>0.0</td>\n",
       "      <td>0.0</td>\n",
       "      <td>0.0</td>\n",
       "      <td>0.0</td>\n",
       "      <td>...</td>\n",
       "      <td>0.0</td>\n",
       "      <td>0.0</td>\n",
       "      <td>0.0</td>\n",
       "      <td>0.0</td>\n",
       "      <td>0.0</td>\n",
       "      <td>0.0</td>\n",
       "      <td>0.0</td>\n",
       "      <td>0.0</td>\n",
       "      <td>0.0</td>\n",
       "      <td>0.0</td>\n",
       "    </tr>\n",
       "    <tr>\n",
       "      <th>2</th>\n",
       "      <td>0.0</td>\n",
       "      <td>0.0</td>\n",
       "      <td>0.0</td>\n",
       "      <td>0.0</td>\n",
       "      <td>0.0</td>\n",
       "      <td>0.0</td>\n",
       "      <td>0.0</td>\n",
       "      <td>0.0</td>\n",
       "      <td>0.0</td>\n",
       "      <td>0.0</td>\n",
       "      <td>...</td>\n",
       "      <td>0.0</td>\n",
       "      <td>0.0</td>\n",
       "      <td>0.0</td>\n",
       "      <td>0.0</td>\n",
       "      <td>0.0</td>\n",
       "      <td>0.0</td>\n",
       "      <td>0.0</td>\n",
       "      <td>0.0</td>\n",
       "      <td>0.0</td>\n",
       "      <td>0.0</td>\n",
       "    </tr>\n",
       "    <tr>\n",
       "      <th>3</th>\n",
       "      <td>0.0</td>\n",
       "      <td>0.0</td>\n",
       "      <td>0.0</td>\n",
       "      <td>0.0</td>\n",
       "      <td>0.0</td>\n",
       "      <td>0.0</td>\n",
       "      <td>0.0</td>\n",
       "      <td>0.0</td>\n",
       "      <td>0.0</td>\n",
       "      <td>0.0</td>\n",
       "      <td>...</td>\n",
       "      <td>0.0</td>\n",
       "      <td>0.0</td>\n",
       "      <td>0.0</td>\n",
       "      <td>0.0</td>\n",
       "      <td>0.0</td>\n",
       "      <td>0.0</td>\n",
       "      <td>0.0</td>\n",
       "      <td>0.0</td>\n",
       "      <td>0.0</td>\n",
       "      <td>0.0</td>\n",
       "    </tr>\n",
       "    <tr>\n",
       "      <th>4</th>\n",
       "      <td>0.0</td>\n",
       "      <td>0.0</td>\n",
       "      <td>0.0</td>\n",
       "      <td>0.0</td>\n",
       "      <td>0.0</td>\n",
       "      <td>0.0</td>\n",
       "      <td>0.0</td>\n",
       "      <td>0.0</td>\n",
       "      <td>0.0</td>\n",
       "      <td>0.0</td>\n",
       "      <td>...</td>\n",
       "      <td>0.0</td>\n",
       "      <td>0.0</td>\n",
       "      <td>0.0</td>\n",
       "      <td>0.0</td>\n",
       "      <td>0.0</td>\n",
       "      <td>0.0</td>\n",
       "      <td>0.0</td>\n",
       "      <td>0.0</td>\n",
       "      <td>0.0</td>\n",
       "      <td>0.0</td>\n",
       "    </tr>\n",
       "    <tr>\n",
       "      <th>...</th>\n",
       "      <td>...</td>\n",
       "      <td>...</td>\n",
       "      <td>...</td>\n",
       "      <td>...</td>\n",
       "      <td>...</td>\n",
       "      <td>...</td>\n",
       "      <td>...</td>\n",
       "      <td>...</td>\n",
       "      <td>...</td>\n",
       "      <td>...</td>\n",
       "      <td>...</td>\n",
       "      <td>...</td>\n",
       "      <td>...</td>\n",
       "      <td>...</td>\n",
       "      <td>...</td>\n",
       "      <td>...</td>\n",
       "      <td>...</td>\n",
       "      <td>...</td>\n",
       "      <td>...</td>\n",
       "      <td>...</td>\n",
       "      <td>...</td>\n",
       "    </tr>\n",
       "    <tr>\n",
       "      <th>5178</th>\n",
       "      <td>0.0</td>\n",
       "      <td>0.0</td>\n",
       "      <td>0.0</td>\n",
       "      <td>0.0</td>\n",
       "      <td>0.0</td>\n",
       "      <td>0.0</td>\n",
       "      <td>0.0</td>\n",
       "      <td>0.0</td>\n",
       "      <td>0.0</td>\n",
       "      <td>0.0</td>\n",
       "      <td>...</td>\n",
       "      <td>0.0</td>\n",
       "      <td>0.0</td>\n",
       "      <td>0.0</td>\n",
       "      <td>0.0</td>\n",
       "      <td>0.0</td>\n",
       "      <td>0.0</td>\n",
       "      <td>0.0</td>\n",
       "      <td>0.0</td>\n",
       "      <td>0.0</td>\n",
       "      <td>0.0</td>\n",
       "    </tr>\n",
       "    <tr>\n",
       "      <th>5179</th>\n",
       "      <td>0.0</td>\n",
       "      <td>0.0</td>\n",
       "      <td>0.0</td>\n",
       "      <td>0.0</td>\n",
       "      <td>0.0</td>\n",
       "      <td>0.0</td>\n",
       "      <td>0.0</td>\n",
       "      <td>0.0</td>\n",
       "      <td>0.0</td>\n",
       "      <td>0.0</td>\n",
       "      <td>...</td>\n",
       "      <td>0.0</td>\n",
       "      <td>0.0</td>\n",
       "      <td>0.0</td>\n",
       "      <td>0.0</td>\n",
       "      <td>0.0</td>\n",
       "      <td>0.0</td>\n",
       "      <td>0.0</td>\n",
       "      <td>0.0</td>\n",
       "      <td>0.0</td>\n",
       "      <td>0.0</td>\n",
       "    </tr>\n",
       "    <tr>\n",
       "      <th>5180</th>\n",
       "      <td>0.0</td>\n",
       "      <td>0.0</td>\n",
       "      <td>0.0</td>\n",
       "      <td>0.0</td>\n",
       "      <td>0.0</td>\n",
       "      <td>0.0</td>\n",
       "      <td>0.0</td>\n",
       "      <td>0.0</td>\n",
       "      <td>0.0</td>\n",
       "      <td>0.0</td>\n",
       "      <td>...</td>\n",
       "      <td>0.0</td>\n",
       "      <td>0.0</td>\n",
       "      <td>0.0</td>\n",
       "      <td>0.0</td>\n",
       "      <td>0.0</td>\n",
       "      <td>0.0</td>\n",
       "      <td>0.0</td>\n",
       "      <td>0.0</td>\n",
       "      <td>0.0</td>\n",
       "      <td>0.0</td>\n",
       "    </tr>\n",
       "    <tr>\n",
       "      <th>5181</th>\n",
       "      <td>0.0</td>\n",
       "      <td>0.0</td>\n",
       "      <td>0.0</td>\n",
       "      <td>0.0</td>\n",
       "      <td>0.0</td>\n",
       "      <td>0.0</td>\n",
       "      <td>0.0</td>\n",
       "      <td>0.0</td>\n",
       "      <td>0.0</td>\n",
       "      <td>0.0</td>\n",
       "      <td>...</td>\n",
       "      <td>0.0</td>\n",
       "      <td>0.0</td>\n",
       "      <td>0.0</td>\n",
       "      <td>0.0</td>\n",
       "      <td>0.0</td>\n",
       "      <td>0.0</td>\n",
       "      <td>0.0</td>\n",
       "      <td>0.0</td>\n",
       "      <td>0.0</td>\n",
       "      <td>0.0</td>\n",
       "    </tr>\n",
       "    <tr>\n",
       "      <th>5182</th>\n",
       "      <td>0.0</td>\n",
       "      <td>0.0</td>\n",
       "      <td>0.0</td>\n",
       "      <td>0.0</td>\n",
       "      <td>0.0</td>\n",
       "      <td>0.0</td>\n",
       "      <td>0.0</td>\n",
       "      <td>0.0</td>\n",
       "      <td>0.0</td>\n",
       "      <td>0.0</td>\n",
       "      <td>...</td>\n",
       "      <td>0.0</td>\n",
       "      <td>0.0</td>\n",
       "      <td>0.0</td>\n",
       "      <td>0.0</td>\n",
       "      <td>0.0</td>\n",
       "      <td>0.0</td>\n",
       "      <td>0.0</td>\n",
       "      <td>0.0</td>\n",
       "      <td>0.0</td>\n",
       "      <td>0.0</td>\n",
       "    </tr>\n",
       "  </tbody>\n",
       "</table>\n",
       "<p>5183 rows × 31075 columns</p>\n",
       "</div>"
      ],
      "text/plain": [
       "       42   aa  aaa  aaaatpas  aaafamili  aab  aabenhus  aacr  aacrthi  \\\n",
       "0     0.0  0.0  0.0       0.0        0.0  0.0       0.0   0.0      0.0   \n",
       "1     0.0  0.0  0.0       0.0        0.0  0.0       0.0   0.0      0.0   \n",
       "2     0.0  0.0  0.0       0.0        0.0  0.0       0.0   0.0      0.0   \n",
       "3     0.0  0.0  0.0       0.0        0.0  0.0       0.0   0.0      0.0   \n",
       "4     0.0  0.0  0.0       0.0        0.0  0.0       0.0   0.0      0.0   \n",
       "...   ...  ...  ...       ...        ...  ...       ...   ...      ...   \n",
       "5178  0.0  0.0  0.0       0.0        0.0  0.0       0.0   0.0      0.0   \n",
       "5179  0.0  0.0  0.0       0.0        0.0  0.0       0.0   0.0      0.0   \n",
       "5180  0.0  0.0  0.0       0.0        0.0  0.0       0.0   0.0      0.0   \n",
       "5181  0.0  0.0  0.0       0.0        0.0  0.0       0.0   0.0      0.0   \n",
       "5182  0.0  0.0  0.0       0.0        0.0  0.0       0.0   0.0      0.0   \n",
       "\n",
       "      aactinin  ...  zygos  zygot  zymographi  zymosan  zymosaninduc  zyxin  \\\n",
       "0          0.0  ...    0.0    0.0         0.0      0.0           0.0    0.0   \n",
       "1          0.0  ...    0.0    0.0         0.0      0.0           0.0    0.0   \n",
       "2          0.0  ...    0.0    0.0         0.0      0.0           0.0    0.0   \n",
       "3          0.0  ...    0.0    0.0         0.0      0.0           0.0    0.0   \n",
       "4          0.0  ...    0.0    0.0         0.0      0.0           0.0    0.0   \n",
       "...        ...  ...    ...    ...         ...      ...           ...    ...   \n",
       "5178       0.0  ...    0.0    0.0         0.0      0.0           0.0    0.0   \n",
       "5179       0.0  ...    0.0    0.0         0.0      0.0           0.0    0.0   \n",
       "5180       0.0  ...    0.0    0.0         0.0      0.0           0.0    0.0   \n",
       "5181       0.0  ...    0.0    0.0         0.0      0.0           0.0    0.0   \n",
       "5182       0.0  ...    0.0    0.0         0.0      0.0           0.0    0.0   \n",
       "\n",
       "       zz  zzw  zzz  zzzw  \n",
       "0     0.0  0.0  0.0   0.0  \n",
       "1     0.0  0.0  0.0   0.0  \n",
       "2     0.0  0.0  0.0   0.0  \n",
       "3     0.0  0.0  0.0   0.0  \n",
       "4     0.0  0.0  0.0   0.0  \n",
       "...   ...  ...  ...   ...  \n",
       "5178  0.0  0.0  0.0   0.0  \n",
       "5179  0.0  0.0  0.0   0.0  \n",
       "5180  0.0  0.0  0.0   0.0  \n",
       "5181  0.0  0.0  0.0   0.0  \n",
       "5182  0.0  0.0  0.0   0.0  \n",
       "\n",
       "[5183 rows x 31075 columns]"
      ]
     },
     "execution_count": 18,
     "metadata": {},
     "output_type": "execute_result"
    }
   ],
   "source": [
    "bm25_idf"
   ]
  },
  {
   "cell_type": "code",
   "execution_count": 19,
   "metadata": {
    "colab": {
     "base_uri": "https://localhost:8080/"
    },
    "id": "ypvq9CGBl6Is",
    "outputId": "0a6afe08-d8db-4226-ee39-77c86eb08dd4"
   },
   "outputs": [
    {
     "data": {
      "text/plain": [
       "[(['13734012',\n",
       "   'OBJECTIVES To carry out a further survey of archived appendix samples to understand better the differences between existing estimates of the prevalence of subclinical infection with prions after the bovine spongiform encephalopathy epizootic and to see whether a broader birth cohort was affected, and to understand better the implications for the management of blood and blood products and for the handling of surgical instruments. DESIGN Irreversibly unlinked and anonymised large scale survey of archived appendix samples. SETTING Archived appendix samples from the pathology departments of 41 UK hospitals participating in the earlier survey, and additional hospitals in regions with lower levels of participation in that survey. SAMPLE 32,441 archived appendix samples fixed in formalin and embedded in paraffin and tested for the presence of abnormal prion protein (PrP). RESULTS Of the 32,441 appendix samples 16 were positive for abnormal PrP, indicating an overall prevalence of 493 per million population (95% confidence interval 282 to 801 per million). The prevalence in those born in 1941-60 (733 per million, 269 to 1596 per million) did not differ significantly from those born between 1961 and 1985 (412 per million, 198 to 758 per million) and was similar in both sexes and across the three broad geographical areas sampled. Genetic testing of the positive specimens for the genotype at PRNP codon 129 revealed a high proportion that were valine homozygous compared with the frequency in the normal population, and in stark contrast with confirmed clinical cases of vCJD, all of which were methionine homozygous at PRNP codon 129. CONCLUSIONS This study corroborates previous studies and suggests a high prevalence of infection with abnormal PrP, indicating vCJD carrier status in the population compared with the 177 vCJD cases to date. These findings have important implications for the management of blood and blood products and for the handling of surgical instruments.'],\n",
       "  13.009034499081798),\n",
       " (['26059876',\n",
       "   'Ku70, a known nonhomologous end-joining (NHEJ) factor, also functions in tumor suppression, although this molecular mechanism remains uncharacterized. Previously, we showed that mice deficient for DNA ligase IV (Lig4), another key NHEJ factor, succumbed to aggressive lymphoma in the absence of tumor suppressor p53. However, the tumor phenotype is abrogated by the introduction of a hypomorphic mutant p53R172P, which impaired p53-mediated apoptosis but not cell-cycle arrest. However, Lig4−/−p53R172P mice succumbed to severe diabetes. To further elucidate the role of NHEJ and p53-mediated apoptosis in vivo, we bred Ku70−/− p53R172P mice. Unexpectedly, these mice were free of diabetes, although 80% of the mutant mice had abnormally enlarged colons with pronounced inflammation. Remarkably, most of these mutant mice progressed to dysplasia, adenoma and adenocarcinoma; this is in contrast to the Lig4−/−p53R172P phenotype, strongly suggesting an NHEJ-independent function of Ku70. Significantly, our analyses of Ku70−/−p53R172P colonic epithelial cells show nuclear stabilization of β-catenin accompanied by higher expression of cyclin D1 and c-Myc in affected colon sections than in control samples. This is not due to the p53 mutation, as Ku70−/− mice share this phenotype. Our results not only unravel a novel function of Ku70 essential for colon homeostasis, but also establish an excellent in vivo model in which to study how chronic inflammation and abnormal cellular proliferation underlie tumorigenesis and tumor progression in the colon.'],\n",
       "  7.475744112398933),\n",
       " (['841371',\n",
       "   'OBJECTIVE To assess the robustness of patient responses to a new national survey of patient experience as a basis for providing financial incentives to doctors. DESIGN Analysis of the representativeness of the respondents to the GP Patient Survey compared with those who were sampled (5.5 million patients registered with 8273 general practices in England in January 2009) and with the general population. Analysis of non-response bias looked at the relation between practice response rates and scores on the survey. Analysis of the reliability of the survey estimated the proportion of the variance of practice scores attributable to true differences between practices. RESULTS The overall response rate was 38.2% (2.2 million responses), which is comparable to that in surveys using similar methodology in the UK. Men, young adults, and people living in deprived areas were under-represented among respondents. However, for questions related to pay for performance, there was no systematic association between response rates and questionnaire scores. Two questions which triggered payments to general practitioners were reliable measures of practice performance, with average practice-level reliability coefficients of 93.2% and 95.0%. Less than 3% and 0.5% of practices had fewer than the number of responses required to achieve conventional reliability levels of 90% and 70%. A change to the payment formula in 2009 resulted in an increase in the average impact of random variation in patient scores on payments to general practitioners compared with payments made in 2007 and 2008. CONCLUSIONS There is little evidence to support the concern of some general practitioners that low response rates and selective non-response bias have led to systematic unfairness in payments attached to questionnaire scores. The study raises issues relating to the validity and reliability of payments based on patient surveys and provides lessons for the UK and for other countries considering the use of patient experience as part of pay for performance schemes.'],\n",
       "  4.750421408142046),\n",
       " (['14610165',\n",
       "   'Antisense transcription is widespread in many genomes; however, how much is functional is hotly debated. We are investigating functionality of a set of long noncoding antisense transcripts, collectively called COOLAIR, produced at Arabidopsis FLOWERING LOCUS C (FLC). COOLAIR initiates just downstream of the major sense transcript poly(A) site and terminates either early or extends into the FLC promoter region. We now show that splicing of COOLAIR is functionally important. This was revealed through analysis of a hypomorphic mutation in the core spliceosome component PRP8. The prp8 mutation perturbs a cotranscriptional feedback mechanism linking COOLAIR processing to FLC gene body histone demethylation and reduced FLC transcription. The importance of COOLAIR splicing in this repression mechanism was confirmed by disrupting COOLAIR production and mutating the COOLAIR proximal splice acceptor site. Our findings suggest that altered splicing of a long noncoding transcript can quantitatively modulate gene expression through cotranscriptional coupling mechanisms.'],\n",
       "  4.739075033656577),\n",
       " (['32481310',\n",
       "   'Hemolysates of erythrocytes from more than a quarter million people in Alabama were electrophoresed on cellulose acetate, pH 8.4, and those samples exhibiting an abnormality were also electrophoresed in citrate agar, pH 6.0. The globin chains of mutants other than Hb S and C were electrophoresed in urea-mercaptoethanol buffers at both pH 8.9 and pH 6.0, and 60 of them were also analyzed structurally. Of about 6000 samples from whites, only three contained abnormal hemoglobins--Hb D Los Angeles, Hb J Baltimore, and one unidentified. Of 249,000 samples from blacks, about 29,000 contained electrophoretically detectable abnormalities, most of them associated with Hb S or C, present in a frequency of about 9% and 3%, respectively. About 1000 samples resolved into patterns of potential clinical significance. Twenty other mutant hemoglobins were detected, in various genetic combinations in 164 kindreds; four of these-Hb Alabama, Montgomery, Titusville, and Mobile--were previously unknown. The methods used are rapid, economical, and well suited for large scale surveys. They provide highly specific characterizations of many mutant hemoglobins, and no discrepancies were found between the presumptive identifications based on these characterizations and the definitive identifications obtained from structural analyses.'],\n",
       "  4.244058344228909),\n",
       " (['4828631',\n",
       "   'BACKGROUND High body-mass index (BMI) predisposes to several site-specific cancers, but a large-scale systematic and detailed characterisation of patterns of risk across all common cancers adjusted for potential confounders has not previously been undertaken. We aimed to investigate the links between BMI and the most common site-specific cancers. METHODS With primary care data from individuals in the Clinical Practice Research Datalink with BMI data, we fitted Cox models to investigate associations between BMI and 22 of the most common cancers, adjusting for potential confounders. We fitted linear then non-linear (spline) models; investigated effect modification by sex, menopausal status, smoking, and age; and calculated population effects. FINDINGS 5·24 million individuals were included; 166,955 developed cancers of interest. BMI was associated with 17 of 22 cancers, but effects varied substantially by site. Each 5 kg/m(2) increase in BMI was roughly linearly associated with cancers of the uterus (hazard ratio [HR] 1·62, 99% CI 1·56-1·69; p<0·0001), gallbladder (1·31, 1·12-1·52; p<0·0001), kidney (1·25, 1·17-1·33; p<0·0001), cervix (1·10, 1·03-1·17; p=0·00035), thyroid (1·09, 1·00-1·19; p=0·0088), and leukaemia (1·09, 1·05-1·13; p≤0·0001). BMI was positively associated with liver (1·19, 1·12-1·27), colon (1·10, 1·07-1·13), ovarian (1·09, 1.04-1.14), and postmenopausal breast cancers (1·05, 1·03-1·07) overall (all p<0·0001), but these effects varied by underlying BMI or individual-level characteristics. We estimated inverse associations with prostate and premenopausal breast cancer risk, both overall (prostate 0·98, 0·95-1·00; premenopausal breast cancer 0·89, 0·86-0·92) and in never-smokers (prostate 0·96, 0·93-0·99; premenopausal breast cancer 0·89, 0·85-0·94). By contrast, for lung and oral cavity cancer, we observed no association in never smokers (lung 0·99, 0·93-1·05; oral cavity 1·07, 0·91-1·26): inverse associations overall were driven by current smokers and ex-smokers, probably because of residual confounding by smoking amount. Assuming causality, 41% of uterine and 10% or more of gallbladder, kidney, liver, and colon cancers could be attributable to excess weight. We estimated that a 1 kg/m(2) population-wide increase in BMI would result in 3790 additional annual UK patients developing one of the ten cancers positively associated with BMI. INTERPRETATION BMI is associated with cancer risk, with substantial population-level effects. The heterogeneity in the effects suggests that different mechanisms are associated with different cancer sites and different patient subgroups. FUNDING National Institute for Health Research, Wellcome Trust, and Medical Research Council.'],\n",
       "  4.15352597592546),\n",
       " (['18617259',\n",
       "   'We report a case of preclinical variant Creutzfeldt-Jakob disease (vCJD) in a patient who died from a non-neurological disorder 5 years after receiving a blood transfusion from a donor who subsequently developed vCJD. Protease-resistant prion protein (PrP(res)) was detected by western blot, paraffin-embedded tissue blot, and immunohistochemistry in the spleen, but not in the brain. Immunohistochemistry for prion protein was also positive in a cervical lymph node. The patient was a heterozygote at codon 129 of PRNP, suggesting that susceptibility to vCJD infection is not confined to the methionine homozygous PRNP genotype. These findings have major implications for future estimates and surveillance of vCJD in the UK.'],\n",
       "  4.084513275532066),\n",
       " (['13770184',\n",
       "   'BACKGROUND The Global Burden of Diseases, Injuries, and Risk Factors Study 2015 provides an up-to-date synthesis of the evidence for risk factor exposure and the attributable burden of disease. By providing national and subnational assessments spanning the past 25 years, this study can inform debates on the importance of addressing risks in context. METHODS We used the comparative risk assessment framework developed for previous iterations of the Global Burden of Disease Study to estimate attributable deaths, disability-adjusted life-years (DALYs), and trends in exposure by age group, sex, year, and geography for 79 behavioural, environmental and occupational, and metabolic risks or clusters of risks from 1990 to 2015. This study included 388 risk-outcome pairs that met World Cancer Research Fund-defined criteria for convincing or probable evidence. We extracted relative risk and exposure estimates from randomised controlled trials, cohorts, pooled cohorts, household surveys, census data, satellite data, and other sources. We used statistical models to pool data, adjust for bias, and incorporate covariates. We developed a metric that allows comparisons of exposure across risk factors-the summary exposure value. Using the counterfactual scenario of theoretical minimum risk level, we estimated the portion of deaths and DALYs that could be attributed to a given risk. We decomposed trends in attributable burden into contributions from population growth, population age structure, risk exposure, and risk-deleted cause-specific DALY rates. We characterised risk exposure in relation to a Socio-demographic Index (SDI). FINDINGS Between 1990 and 2015, global exposure to unsafe sanitation, household air pollution, childhood underweight, childhood stunting, and smoking each decreased by more than 25%. Global exposure for several occupational risks, high body-mass index (BMI), and drug use increased by more than 25% over the same period. All risks jointly evaluated in 2015 accounted for 57·8% (95% CI 56·6-58·8) of global deaths and 41·2% (39·8-42·8) of DALYs. In 2015, the ten largest contributors to global DALYs among Level 3 risks were high systolic blood pressure (211·8 million [192·7 million to 231·1 million] global DALYs), smoking (148·6 million [134·2 million to 163·1 million]), high fasting plasma glucose (143·1 million [125·1 million to 163·5 million]), high BMI (120·1 million [83·8 million to 158·4 million]), childhood undernutrition (113·3 million [103·9 million to 123·4 million]), ambient particulate matter (103·1 million [90·8 million to 115·1 million]), high total cholesterol (88·7 million [74·6 million to 105·7 million]), household air pollution (85·6 million [66·7 million to 106·1 million]), alcohol use (85·0 million [77·2 million to 93·0 million]), and diets high in sodium (83·0 million [49·3 million to 127·5 million]). From 1990 to 2015, attributable DALYs declined for micronutrient deficiencies, childhood undernutrition, unsafe sanitation and water, and household air pollution; reductions in risk-deleted DALY rates rather than reductions in exposure drove these declines. Rising exposure contributed to notable increases in attributable DALYs from high BMI, high fasting plasma glucose, occupational carcinogens, and drug use. Environmental risks and childhood undernutrition declined steadily with SDI; low physical activity, high BMI, and high fasting plasma glucose increased with SDI. In 119 countries, metabolic risks, such as high BMI and fasting plasma glucose, contributed the most attributable DALYs in 2015. Regionally, smoking still ranked among the leading five risk factors for attributable DALYs in 109 countries; childhood underweight and unsafe sex remained primary drivers of early death and disability in much of sub-Saharan Africa. INTERPRETATION Declines in some key environmental risks have contributed to declines in critical infectious diseases. Some risks appear to be invariant to SDI. Increasing risks, including high BMI, high fasting plasma glucose, drug use, and some occupational exposures, contribute to rising burden from some conditions, but also provide opportunities for intervention. Some highly preventable risks, such as smoking, remain major causes of attributable DALYs, even as exposure is declining. Public policy makers need to pay attention to the risks that are increasingly major contributors to global burden. FUNDING Bill & Melinda Gates Foundation.'],\n",
       "  3.523894621714997),\n",
       " (['11271123',\n",
       "   'Endometrial cancer is associated with numeric and structural chromosomal abnormalities, microsatellite instability (MSI), and alterations that activate oncogenes and inactivate tumor suppressor genes. The aim of this study was to characterize a set of endometrial cancers using multiple molecular genetic and immunohistochemical techniques. Ninety-six cases were examined for genomic alterations by MSI, MLH1 promoter hypermethylation, p53 and mismatch repair protein expression (MLH1, MSH2, MSH6, PMS2), and PTEN, PIK3CA, KRAS, and BRAF mutation analysis. At least 1 alteration was identified in 48 of 87 (55%) specimens tested for PTEN, making it the most common abnormality in this study. A PIK3CA alteration was observed in 16 (17%) specimens. Twenty-nine of 94 (31%) MSI tested tumors exhibited an MSI-H phenotype. Of the 29 MSI-H cases, 24 (83%) were positive for methylation of the MLH1 promoter region. Twenty-three (82%) of the 28 MSI-H cases with immunohistochemistry results showed loss of expression of MLH1/PMS2 (n=19), MSH2/MSH6 (n=2), or MSH6 only (n=2). Of the 19 MSI-H cases with loss of MLH1/PMS2 on immunohistochemistry, 18 were positive, and 1 was equivocal for MLH1 promoter hypermethylation. Twelve of 94 cases (13%) analyzed for KRAS mutations were found to have a mutation. No BRAF V600E mutations were indentified. This study provides a comprehensive molecular genetic analysis of commonly analyzed targets in a large cohort of endometrial cancers.'],\n",
       "  3.4742632671355835),\n",
       " (['374902',\n",
       "   'BACKGROUND Roughly 3 million people worldwide were receiving antiretroviral therapy (ART) at the end of 2007, but an estimated 6.7 million were still in need of treatment and a further 2.7 million became infected with HIV in 2007. Prevention efforts might reduce HIV incidence but are unlikely to eliminate this disease. We investigated a theoretical strategy of universal voluntary HIV testing and immediate treatment with ART, and examined the conditions under which the HIV epidemic could be driven towards elimination. METHODS We used mathematical models to explore the effect on the case reproduction number (stochastic model) and long-term dynamics of the HIV epidemic (deterministic transmission model) of testing all people in our test-case community (aged 15 years and older) for HIV every year and starting people on ART immediately after they are diagnosed HIV positive. We used data from South Africa as the test case for a generalised epidemic, and assumed that all HIV transmission was heterosexual. FINDINGS The studied strategy could greatly accelerate the transition from the present endemic phase, in which most adults living with HIV are not receiving ART, to an elimination phase, in which most are on ART, within 5 years. It could reduce HIV incidence and mortality to less than one case per 1000 people per year by 2016, or within 10 years of full implementation of the strategy, and reduce the prevalence of HIV to less than 1% within 50 years. We estimate that in 2032, the yearly cost of the present strategy and the theoretical strategy would both be US$1.7 billion; however, after this time, the cost of the present strategy would continue to increase whereas that of the theoretical strategy would decrease. INTERPRETATION Universal voluntary HIV testing and immediate ART, combined with present prevention approaches, could have a major effect on severe generalised HIV/AIDS epidemics. This approach merits further mathematical modelling, research, and broad consultation.'],\n",
       "  3.45598984622202)]"
      ]
     },
     "execution_count": 19,
     "metadata": {},
     "output_type": "execute_result"
    }
   ],
   "source": [
    "q_voc = [term for term in q_voc if term in bm25_idf.columns] #filtering out any terms not present in documents\n",
    "BM25_scores = bm25_idf[q_voc].sum(axis=1)\n",
    "sorted(zip(documents_id,BM25_scores.values), key = lambda tup:tup[1], reverse=True)[:10]"
   ]
  },
  {
   "cell_type": "markdown",
   "metadata": {
    "id": "W8wuNUphpds3"
   },
   "source": [
    "### VSM-BM25 combo"
   ]
  },
  {
   "cell_type": "code",
   "execution_count": 20,
   "metadata": {
    "colab": {
     "base_uri": "https://localhost:8080/"
    },
    "id": "Ywd2W2X2piPG",
    "outputId": "45c28544-9726-4060-f1a2-135e023d0257"
   },
   "outputs": [
    {
     "data": {
      "text/plain": [
       "[(['13734012',\n",
       "   'OBJECTIVES To carry out a further survey of archived appendix samples to understand better the differences between existing estimates of the prevalence of subclinical infection with prions after the bovine spongiform encephalopathy epizootic and to see whether a broader birth cohort was affected, and to understand better the implications for the management of blood and blood products and for the handling of surgical instruments. DESIGN Irreversibly unlinked and anonymised large scale survey of archived appendix samples. SETTING Archived appendix samples from the pathology departments of 41 UK hospitals participating in the earlier survey, and additional hospitals in regions with lower levels of participation in that survey. SAMPLE 32,441 archived appendix samples fixed in formalin and embedded in paraffin and tested for the presence of abnormal prion protein (PrP). RESULTS Of the 32,441 appendix samples 16 were positive for abnormal PrP, indicating an overall prevalence of 493 per million population (95% confidence interval 282 to 801 per million). The prevalence in those born in 1941-60 (733 per million, 269 to 1596 per million) did not differ significantly from those born between 1961 and 1985 (412 per million, 198 to 758 per million) and was similar in both sexes and across the three broad geographical areas sampled. Genetic testing of the positive specimens for the genotype at PRNP codon 129 revealed a high proportion that were valine homozygous compared with the frequency in the normal population, and in stark contrast with confirmed clinical cases of vCJD, all of which were methionine homozygous at PRNP codon 129. CONCLUSIONS This study corroborates previous studies and suggests a high prevalence of infection with abnormal PrP, indicating vCJD carrier status in the population compared with the 177 vCJD cases to date. These findings have important implications for the management of blood and blood products and for the handling of surgical instruments.'],\n",
       "  0.2875118574922222),\n",
       " (['26059876',\n",
       "   'Ku70, a known nonhomologous end-joining (NHEJ) factor, also functions in tumor suppression, although this molecular mechanism remains uncharacterized. Previously, we showed that mice deficient for DNA ligase IV (Lig4), another key NHEJ factor, succumbed to aggressive lymphoma in the absence of tumor suppressor p53. However, the tumor phenotype is abrogated by the introduction of a hypomorphic mutant p53R172P, which impaired p53-mediated apoptosis but not cell-cycle arrest. However, Lig4−/−p53R172P mice succumbed to severe diabetes. To further elucidate the role of NHEJ and p53-mediated apoptosis in vivo, we bred Ku70−/− p53R172P mice. Unexpectedly, these mice were free of diabetes, although 80% of the mutant mice had abnormally enlarged colons with pronounced inflammation. Remarkably, most of these mutant mice progressed to dysplasia, adenoma and adenocarcinoma; this is in contrast to the Lig4−/−p53R172P phenotype, strongly suggesting an NHEJ-independent function of Ku70. Significantly, our analyses of Ku70−/−p53R172P colonic epithelial cells show nuclear stabilization of β-catenin accompanied by higher expression of cyclin D1 and c-Myc in affected colon sections than in control samples. This is not due to the p53 mutation, as Ku70−/− mice share this phenotype. Our results not only unravel a novel function of Ku70 essential for colon homeostasis, but also establish an excellent in vivo model in which to study how chronic inflammation and abnormal cellular proliferation underlie tumorigenesis and tumor progression in the colon.'],\n",
       "  0.1747343465967515),\n",
       " (['841371',\n",
       "   'OBJECTIVE To assess the robustness of patient responses to a new national survey of patient experience as a basis for providing financial incentives to doctors. DESIGN Analysis of the representativeness of the respondents to the GP Patient Survey compared with those who were sampled (5.5 million patients registered with 8273 general practices in England in January 2009) and with the general population. Analysis of non-response bias looked at the relation between practice response rates and scores on the survey. Analysis of the reliability of the survey estimated the proportion of the variance of practice scores attributable to true differences between practices. RESULTS The overall response rate was 38.2% (2.2 million responses), which is comparable to that in surveys using similar methodology in the UK. Men, young adults, and people living in deprived areas were under-represented among respondents. However, for questions related to pay for performance, there was no systematic association between response rates and questionnaire scores. Two questions which triggered payments to general practitioners were reliable measures of practice performance, with average practice-level reliability coefficients of 93.2% and 95.0%. Less than 3% and 0.5% of practices had fewer than the number of responses required to achieve conventional reliability levels of 90% and 70%. A change to the payment formula in 2009 resulted in an increase in the average impact of random variation in patient scores on payments to general practitioners compared with payments made in 2007 and 2008. CONCLUSIONS There is little evidence to support the concern of some general practitioners that low response rates and selective non-response bias have led to systematic unfairness in payments attached to questionnaire scores. The study raises issues relating to the validity and reliability of payments based on patient surveys and provides lessons for the UK and for other countries considering the use of patient experience as part of pay for performance schemes.'],\n",
       "  0.11863071481151416),\n",
       " (['14610165',\n",
       "   'Antisense transcription is widespread in many genomes; however, how much is functional is hotly debated. We are investigating functionality of a set of long noncoding antisense transcripts, collectively called COOLAIR, produced at Arabidopsis FLOWERING LOCUS C (FLC). COOLAIR initiates just downstream of the major sense transcript poly(A) site and terminates either early or extends into the FLC promoter region. We now show that splicing of COOLAIR is functionally important. This was revealed through analysis of a hypomorphic mutation in the core spliceosome component PRP8. The prp8 mutation perturbs a cotranscriptional feedback mechanism linking COOLAIR processing to FLC gene body histone demethylation and reduced FLC transcription. The importance of COOLAIR splicing in this repression mechanism was confirmed by disrupting COOLAIR production and mutating the COOLAIR proximal splice acceptor site. Our findings suggest that altered splicing of a long noncoding transcript can quantitatively modulate gene expression through cotranscriptional coupling mechanisms.'],\n",
       "  0.11193642668243076),\n",
       " (['4828631',\n",
       "   'BACKGROUND High body-mass index (BMI) predisposes to several site-specific cancers, but a large-scale systematic and detailed characterisation of patterns of risk across all common cancers adjusted for potential confounders has not previously been undertaken. We aimed to investigate the links between BMI and the most common site-specific cancers. METHODS With primary care data from individuals in the Clinical Practice Research Datalink with BMI data, we fitted Cox models to investigate associations between BMI and 22 of the most common cancers, adjusting for potential confounders. We fitted linear then non-linear (spline) models; investigated effect modification by sex, menopausal status, smoking, and age; and calculated population effects. FINDINGS 5·24 million individuals were included; 166,955 developed cancers of interest. BMI was associated with 17 of 22 cancers, but effects varied substantially by site. Each 5 kg/m(2) increase in BMI was roughly linearly associated with cancers of the uterus (hazard ratio [HR] 1·62, 99% CI 1·56-1·69; p<0·0001), gallbladder (1·31, 1·12-1·52; p<0·0001), kidney (1·25, 1·17-1·33; p<0·0001), cervix (1·10, 1·03-1·17; p=0·00035), thyroid (1·09, 1·00-1·19; p=0·0088), and leukaemia (1·09, 1·05-1·13; p≤0·0001). BMI was positively associated with liver (1·19, 1·12-1·27), colon (1·10, 1·07-1·13), ovarian (1·09, 1.04-1.14), and postmenopausal breast cancers (1·05, 1·03-1·07) overall (all p<0·0001), but these effects varied by underlying BMI or individual-level characteristics. We estimated inverse associations with prostate and premenopausal breast cancer risk, both overall (prostate 0·98, 0·95-1·00; premenopausal breast cancer 0·89, 0·86-0·92) and in never-smokers (prostate 0·96, 0·93-0·99; premenopausal breast cancer 0·89, 0·85-0·94). By contrast, for lung and oral cavity cancer, we observed no association in never smokers (lung 0·99, 0·93-1·05; oral cavity 1·07, 0·91-1·26): inverse associations overall were driven by current smokers and ex-smokers, probably because of residual confounding by smoking amount. Assuming causality, 41% of uterine and 10% or more of gallbladder, kidney, liver, and colon cancers could be attributable to excess weight. We estimated that a 1 kg/m(2) population-wide increase in BMI would result in 3790 additional annual UK patients developing one of the ten cancers positively associated with BMI. INTERPRETATION BMI is associated with cancer risk, with substantial population-level effects. The heterogeneity in the effects suggests that different mechanisms are associated with different cancer sites and different patient subgroups. FUNDING National Institute for Health Research, Wellcome Trust, and Medical Research Council.'],\n",
       "  0.10108387969339841),\n",
       " (['23531592',\n",
       "   'By the year 2000 there will be six million pregnant women and five to ten million children infected with HIV-1. Intervention strategies have been planned and in some instances already started. A timely and cost-effective strategy needs to take into account that most HIV-1 infected individuals reside in developing countries. Further studies are needed on immunological and virological factors affecting HIV-1 transmission from mother to child, on differential disease progression in affected children, and on transient infection.'],\n",
       "  0.09856227755118475),\n",
       " (['18617259',\n",
       "   'We report a case of preclinical variant Creutzfeldt-Jakob disease (vCJD) in a patient who died from a non-neurological disorder 5 years after receiving a blood transfusion from a donor who subsequently developed vCJD. Protease-resistant prion protein (PrP(res)) was detected by western blot, paraffin-embedded tissue blot, and immunohistochemistry in the spleen, but not in the brain. Immunohistochemistry for prion protein was also positive in a cervical lymph node. The patient was a heterozygote at codon 129 of PRNP, suggesting that susceptibility to vCJD infection is not confined to the methionine homozygous PRNP genotype. These findings have major implications for future estimates and surveillance of vCJD in the UK.'],\n",
       "  0.09584961074871648),\n",
       " (['103007',\n",
       "   \"The current reference curves of stature and weight for the UK were first published in 1966 and have been used ever since despite increasing concern that they may not adequately describe the growth of present day British children. Using current data from seven sources new reference curves have been estimated from birth to 20 years for children in 1990. The great majority of the data are nationally representative. The analysis used Cole's LMS method and has produced efficient estimates of the conventional centiles and gives a good fit to the data. These curves differ from the currently used curves at key ages for both stature and weight. In view of the concerns expressed about the current curves and the differences between them and the new curves, it is proposed that the curves presented here should be adopted as the new UK reference curves.\"],\n",
       "  0.09466972985118416),\n",
       " (['374902',\n",
       "   'BACKGROUND Roughly 3 million people worldwide were receiving antiretroviral therapy (ART) at the end of 2007, but an estimated 6.7 million were still in need of treatment and a further 2.7 million became infected with HIV in 2007. Prevention efforts might reduce HIV incidence but are unlikely to eliminate this disease. We investigated a theoretical strategy of universal voluntary HIV testing and immediate treatment with ART, and examined the conditions under which the HIV epidemic could be driven towards elimination. METHODS We used mathematical models to explore the effect on the case reproduction number (stochastic model) and long-term dynamics of the HIV epidemic (deterministic transmission model) of testing all people in our test-case community (aged 15 years and older) for HIV every year and starting people on ART immediately after they are diagnosed HIV positive. We used data from South Africa as the test case for a generalised epidemic, and assumed that all HIV transmission was heterosexual. FINDINGS The studied strategy could greatly accelerate the transition from the present endemic phase, in which most adults living with HIV are not receiving ART, to an elimination phase, in which most are on ART, within 5 years. It could reduce HIV incidence and mortality to less than one case per 1000 people per year by 2016, or within 10 years of full implementation of the strategy, and reduce the prevalence of HIV to less than 1% within 50 years. We estimate that in 2032, the yearly cost of the present strategy and the theoretical strategy would both be US$1.7 billion; however, after this time, the cost of the present strategy would continue to increase whereas that of the theoretical strategy would decrease. INTERPRETATION Universal voluntary HIV testing and immediate ART, combined with present prevention approaches, could have a major effect on severe generalised HIV/AIDS epidemics. This approach merits further mathematical modelling, research, and broad consultation.'],\n",
       "  0.08887921529885633),\n",
       " (['32481310',\n",
       "   'Hemolysates of erythrocytes from more than a quarter million people in Alabama were electrophoresed on cellulose acetate, pH 8.4, and those samples exhibiting an abnormality were also electrophoresed in citrate agar, pH 6.0. The globin chains of mutants other than Hb S and C were electrophoresed in urea-mercaptoethanol buffers at both pH 8.9 and pH 6.0, and 60 of them were also analyzed structurally. Of about 6000 samples from whites, only three contained abnormal hemoglobins--Hb D Los Angeles, Hb J Baltimore, and one unidentified. Of 249,000 samples from blacks, about 29,000 contained electrophoretically detectable abnormalities, most of them associated with Hb S or C, present in a frequency of about 9% and 3%, respectively. About 1000 samples resolved into patterns of potential clinical significance. Twenty other mutant hemoglobins were detected, in various genetic combinations in 164 kindreds; four of these-Hb Alabama, Montgomery, Titusville, and Mobile--were previously unknown. The methods used are rapid, economical, and well suited for large scale surveys. They provide highly specific characterizations of many mutant hemoglobins, and no discrepancies were found between the presumptive identifications based on these characterizations and the definitive identifications obtained from structural analyses.'],\n",
       "  0.08574133309164612)]"
      ]
     },
     "execution_count": 20,
     "metadata": {},
     "output_type": "execute_result"
    }
   ],
   "source": [
    "BM25_VSM_scores = []\n",
    "for d in np.array(bm25_idf):\n",
    "    BM25_VSM_scores.append(np.dot(d, q_vector)/(norm(d)*norm(q_vector)))\n",
    "sorted(zip(documents_id,BM25_VSM_scores), key = lambda tup:tup[1], reverse=True)[:10]"
   ]
  },
  {
   "cell_type": "markdown",
   "metadata": {
    "id": "qRWw3bJ0SLYi"
   },
   "source": [
    "### Semantic Textual Similarity"
   ]
  },
  {
   "cell_type": "code",
   "execution_count": 21,
   "metadata": {
    "id": "KZZpMiL9SgS6"
   },
   "outputs": [],
   "source": [
    "import tensorflow as tf\n",
    "import tensorflow_hub as hub\n",
    "\n",
    "model = hub.load(\"https://tfhub.dev/google/universal-sentence-encoder/4\")"
   ]
  },
  {
   "cell_type": "code",
   "execution_count": 22,
   "metadata": {
    "id": "uN9sSKQITP69"
   },
   "outputs": [],
   "source": [
    "embeddings = np.array(model(documents))"
   ]
  },
  {
   "cell_type": "code",
   "execution_count": 23,
   "metadata": {
    "id": "Xud1qGxTVUS7"
   },
   "outputs": [],
   "source": [
    "q_embed = np.array(model([queries[query_num][1]]))\n",
    "STS_scores = np.dot(embeddings, q_embed.T)"
   ]
  },
  {
   "cell_type": "code",
   "execution_count": 24,
   "metadata": {
    "colab": {
     "base_uri": "https://localhost:8080/"
    },
    "id": "DTBdQuAyWyXj",
    "outputId": "010e1131-637a-400a-990e-a1299b79183c"
   },
   "outputs": [
    {
     "data": {
      "text/plain": [
       "[(['26045237',\n",
       "   'BACKGROUND Transthyretin amyloidosis is caused by the deposition of hepatocyte-derived transthyretin amyloid in peripheral nerves and the heart. A therapeutic approach mediated by RNA interference (RNAi) could reduce the production of transthyretin. METHODS We identified a potent antitransthyretin small interfering RNA, which was encapsulated in two distinct first- and second-generation formulations of lipid nanoparticles, generating ALN-TTR01 and ALN-TTR02, respectively. Each formulation was studied in a single-dose, placebo-controlled phase 1 trial to assess safety and effect on transthyretin levels. We first evaluated ALN-TTR01 (at doses of 0.01 to 1.0 mg per kilogram of body weight) in 32 patients with transthyretin amyloidosis and then evaluated ALN-TTR02 (at doses of 0.01 to 0.5 mg per kilogram) in 17 healthy volunteers. RESULTS Rapid, dose-dependent, and durable lowering of transthyretin levels was observed in the two trials. At a dose of 1.0 mg per kilogram, ALN-TTR01 suppressed transthyretin, with a mean reduction at day 7 of 38%, as compared with placebo (P=0.01); levels of mutant and nonmutant forms of transthyretin were lowered to a similar extent. For ALN-TTR02, the mean reductions in transthyretin levels at doses of 0.15 to 0.3 mg per kilogram ranged from 82.3 to 86.8%, with reductions of 56.6 to 67.1% at 28 days (P<0.001 for all comparisons). These reductions were shown to be RNAi-mediated. Mild-to-moderate infusion-related reactions occurred in 20.8% and 7.7% of participants receiving ALN-TTR01 and ALN-TTR02, respectively. CONCLUSIONS ALN-TTR01 and ALN-TTR02 suppressed the production of both mutant and nonmutant forms of transthyretin, establishing proof of concept for RNAi therapy targeting messenger RNA transcribed from a disease-causing gene. (Funded by Alnylam Pharmaceuticals; ClinicalTrials.gov numbers, NCT01148953 and NCT01559077.).'],\n",
       "  0.27291167),\n",
       " (['13734012',\n",
       "   'OBJECTIVES To carry out a further survey of archived appendix samples to understand better the differences between existing estimates of the prevalence of subclinical infection with prions after the bovine spongiform encephalopathy epizootic and to see whether a broader birth cohort was affected, and to understand better the implications for the management of blood and blood products and for the handling of surgical instruments. DESIGN Irreversibly unlinked and anonymised large scale survey of archived appendix samples. SETTING Archived appendix samples from the pathology departments of 41 UK hospitals participating in the earlier survey, and additional hospitals in regions with lower levels of participation in that survey. SAMPLE 32,441 archived appendix samples fixed in formalin and embedded in paraffin and tested for the presence of abnormal prion protein (PrP). RESULTS Of the 32,441 appendix samples 16 were positive for abnormal PrP, indicating an overall prevalence of 493 per million population (95% confidence interval 282 to 801 per million). The prevalence in those born in 1941-60 (733 per million, 269 to 1596 per million) did not differ significantly from those born between 1961 and 1985 (412 per million, 198 to 758 per million) and was similar in both sexes and across the three broad geographical areas sampled. Genetic testing of the positive specimens for the genotype at PRNP codon 129 revealed a high proportion that were valine homozygous compared with the frequency in the normal population, and in stark contrast with confirmed clinical cases of vCJD, all of which were methionine homozygous at PRNP codon 129. CONCLUSIONS This study corroborates previous studies and suggests a high prevalence of infection with abnormal PrP, indicating vCJD carrier status in the population compared with the 177 vCJD cases to date. These findings have important implications for the management of blood and blood products and for the handling of surgical instruments.'],\n",
       "  0.23501955),\n",
       " (['13843341',\n",
       "   'OBJECTIVE To evaluate the cost effectiveness of standard treatment with and without the addition of ward based non-invasive ventilation in patients admitted to hospital with an acute exacerbation of chronic obstructive pulmonary disease. DESIGN Incremental cost effectiveness analysis of a randomised controlled trial. SETTING Medical wards in 14 hospitals in the United Kingdom. PARTICIPANTS The trial comprised 236 patients admitted to hospital with an acute exacerbation of chronic obstructive pulmonary disease and mild to moderate acidosis (pH 7.25-7.35) secondary to respiratory failure. The economic analysis compared the costs of treatment that these patients received after randomisation. MAIN OUTCOME MEASURE Incremental cost per in-hospital death. RESULTS 24/118 died in the group receiving standard treatment and 12/118 in the group receiving non-invasive ventilation (P=0.05). Allocation to the group receiving non-invasive ventilation was associated with a reduction in costs of 49362 pounds sterling (78741 dollars; 73109 euros), mainly through reduced use of intensive care units. The incremental cost effectiveness ratio was -645 pounds sterling per death avoided (95% confidence interval -2310 pounds sterling to 386 pounds sterling), indicating a dominant (more effective and less costly) strategy. Modelling of these data indicates that a typical UK hospital providing a non-invasive ventilation service will avoid six deaths and three to nine admissions to intensive care units per year, with an associated cost reduction of 12000-53000 pounds sterling per year. CONCLUSIONS Non-invasive ventilation is a highly cost effective treatment that both reduced total costs and improved mortality in hospital.'],\n",
       "  0.22432631),\n",
       " (['17591478',\n",
       "   'Effective and tolerable vaccination is an essential strategy to prevent Japanese encephalitis (JE) in endemic areas. Although the live attenuated SA 14-14-2 JE vaccine (LAJEV) has been widely used since its introduction, the systemic data of LAJEV was very rarely available in Korea. We conducted the open-label, prospective cohort study to assess the immunogenicity and safety of this vaccine. Ninety subjects were enrolled, and LAJEV in a 2-dose primary series was given with a 12-month interval. Neutralizing antibody titers were measured before and after each vaccination, and active monitoring for adverse events was performed. After the first dose, 91.1% of subjects had seroprotection with a geometric mean titer (GMT) of 40.9. Seroprotection rate after the second dose was 97%, and GMT showed an increase of 6.5-fold. Most adverse events following immunization were self-limited, and no serious adverse events were reported until 42 days after each dose. The 2-dose administration of LAJEV in the primary immunization schedule appeared to be highly immunogenic and safe.'],\n",
       "  0.21882349),\n",
       " (['19546104',\n",
       "   '1. The liver is the target organ for the lipid-regulating effect of rosuvastatin, a new 3-hydroxy-3-methylglutaryl coenzyme A reductase inhibitor, and liver-selective uptake of this drug is therefore a desirable property. The uptake kinetics of rosuvastatin were investigated and compared with those of pravastatin using isolated rat hepatocytes. 2. Uptake for both drugs involved both active transport and passive diffusion processes. The Michaelis constant (K(m)) of uptake rate for rosuvastatin (9.17 micro M) was approximately half that for pravastatin (16.5 micro M). However, the maximum uptake rate (V(max)) and carrier-mediated uptake clearance (V(max)/K(m)) of rosuvastatin were significantly (p < 0.01) greater than those of pravastatin, and a larger contribution of carrier-mediated uptake clearance to total uptake clearance was shown for rosuvastatin (contribution ratio 0.903 versus pravastatin 0.654). 3. Sodium and chloride ions did not play a significant role in the uptake of rosuvastatin and pravastatin, but the uptake of both drugs was inhibited both by depletion of cellular ATP and by organic anions such as bromosulfophthalein. 4. Rosuvastatin competitively inhibited the uptake of pravastatin, with an inhibition constant (K(i)) (2.75 micro M) relatively similar to its K(m). 5. The results suggest that an organic anion transport protein is the main mediator of the hepatic uptake of rosuvastatin and pravastatin, which occurs in an ATP-dependent manner. Our results indicated that rosuvastatin was taken up by the hepatocytes via the same transport systems as pravastatin, but with a greater affinity and efficiency than pravastatin.'],\n",
       "  0.21160617),\n",
       " (['25742130',\n",
       "   'With respect to cervical cancer management, Finland and the Netherlands are comparable in relevant characteristics, e.g., fertility rate, age-of-mother at first birth and a national screening programme for several years. The aim of this study is to compare trends in incidence of and mortality from cervical cancer in Finland and the Netherlands in relation to the introduction and intensity of the screening programmes. Therefore, incidence and mortality rates were calculated using the Cancer Registries of Finland and the Netherlands. Data on screening intensity were obtained from the Finnish Cancer Registry and the Dutch evaluation centre at ErasmusMC-Rotterdam. Women aged 30-60 have been screened every 5 years, in Finland since 1992 and in the Netherlands since 1996. Screening protocols for smear taking and referral to the gynaecologist are comparable. Incidence and mortality rates have declined more in Finland. In 2003, age-adjusted incidence and mortality in Finland were 4.0 and 0.9 and in the Netherlands 4.9 and 1.4 per 100,000 woman-years, respectively. Excess smear use in the Netherlands was estimated to be 24 per 1,000 women during a 5-year interval compared to 121 in Finland. The decline in mortality in Finland seems to be almost completely related to the screening programme whereas in the Netherlands it was initially considered to be a natural decline. Differences in risk factors might also play a role: the Netherlands has higher population density and higher percentages of immigrants and (female) smokers. The greater excess smear use in Finland might also have affected incidence.'],\n",
       "  0.21058452),\n",
       " (['15048300',\n",
       "   'BACKGROUND Data on absolute risks of outcomes and patterns of drug use in cost-effectiveness analyses are often based on randomised clinical trials (RCTs). The objective of this study was to evaluate the external validity of published cost-effectiveness studies by comparing the data used in these studies (typically based on RCTs) to observational data from actual clinical practice. Selective Cox-2 inhibitors (coxibs) were used as an example. METHODS AND FINDINGS The UK General Practice Research Database (GPRD) was used to estimate the exposure characteristics and individual probabilities of upper gastrointestinal (GI) events during current exposure to nonsteroidal anti-inflammatory drugs (NSAIDs) or coxibs. A basic cost-effectiveness model was developed evaluating two alternative strategies: prescription of a conventional NSAID or coxib. Outcomes included upper GI events as recorded in GPRD and hospitalisation for upper GI events recorded in the national registry of hospitalisations (Hospital Episode Statistics) linked to GPRD. Prescription costs were based on the prescribed number of tables as recorded in GPRD and the 2006 cost data from the British National Formulary. The study population included over 1 million patients prescribed conventional NSAIDs or coxibs. Only a minority of patients used the drugs long-term and daily (34.5% of conventional NSAIDs and 44.2% of coxibs), whereas coxib RCTs required daily use for at least 6-9 months. The mean cost of preventing one upper GI event as recorded in GPRD was US$104k (ranging from US$64k with long-term daily use to US$182k with intermittent use) and US$298k for hospitalizations. The mean costs (for GPRD events) over calendar time were US$58k during 1990-1993 and US$174k during 2002-2005. Using RCT data rather than GPRD data for event probabilities, the mean cost was US$16k with the VIGOR RCT and US$20k with the CLASS RCT. CONCLUSIONS The published cost-effectiveness analyses of coxibs lacked external validity, did not represent patients in actual clinical practice, and should not have been used to inform prescribing policies. External validity should be an explicit requirement for cost-effectiveness analyses.'],\n",
       "  0.20989117),\n",
       " (['1173667',\n",
       "   'Experience gained from the Global Malaria Eradication Program (1955-72) identified a set of shared technical and operational factors that enabled some countries to successfully eliminate malaria. Spatial data for these factors were assembled for all malaria-endemic countries and combined to provide an objective, relative ranking of countries by technical, operational, and combined elimination feasibility. The analysis was done separately for Plasmodium falciparum and Plasmodium vivax, and the limitations of the approach were discussed. The relative rankings suggested that malaria elimination would be most feasible in countries in the Americas and Asia, and least feasible in countries in central and west Africa. The results differed when feasibility was measured by technical or operational factors, highlighting the different types of challenge faced by each country. The results are not intended to be prescriptive, predictive, or to provide absolute assessments of feasibility, but they do show that spatial information is available to facilitate evidence-based assessments of the relative feasibility of malaria elimination by country that can be rapidly updated.'],\n",
       "  0.20963149),\n",
       " (['12442311',\n",
       "   'BACKGROUND The analgesic co-proxamol (paracetamol/dextropropoxyphene combination) has been widely involved in fatal poisoning. Concerns about its safety/effectiveness profile and widespread use for suicidal poisoning prompted its withdrawal in the UK in 2005, with partial withdrawal between 2005 and 2007, and full withdrawal in 2008. Our objective in this study was to assess the association between co-proxamol withdrawal and prescribing and deaths in England and Wales in 2005-2010 compared with 1998-2004, including estimation of possible substitution effects by other analgesics. METHODS AND FINDINGS We obtained prescribing data from the NHS Health and Social Care Information Centre (England) and Prescribing Services Partneriaeth Cydwasanaethau GIG Cymru (Wales), and mortality data from the Office for National Statistics. We carried out an interrupted time-series analysis of prescribing and deaths (suicide, open verdicts, accidental poisonings) involving single analgesics. The reduction in prescribing of co-proxamol following its withdrawal in 2005 was accompanied by increases in prescribing of several other analgesics (co-codamol, paracetamol, codeine, co-dydramol, tramadol, oxycodone, and morphine) during 2005-2010 compared with 1998-2004. These changes were associated with major reductions in deaths due to poisoning with co-proxamol receiving verdicts of suicide and undetermined cause of -21 deaths (95% CI -34 to -8) per quarter, equating to approximately 500 fewer suicide deaths (-61%) over the 6 years 2005-2010, and -25 deaths (95% CI -38 to -12) per quarter, equating to 600 fewer deaths (-62%) when accidental poisoning deaths were included. There was little observed change in deaths involving other analgesics, apart from an increase in oxycodone poisonings, but numbers were small. Limitations were that the study was based on deaths involving single drugs alone and changes in deaths involving prescribed morphine could not be assessed. CONCLUSIONS During the 6 years following the withdrawal of co-proxamol in the UK, there was a major reduction in poisoning deaths involving this drug, without apparent significant increase in deaths involving other analgesics.'],\n",
       "  0.2023511),\n",
       " (['3716075',\n",
       "   'BACKGROUND Dengue is the most common arbovirus infection globally, but its burden is poorly quantified. We estimated dengue mortality, incidence, and burden for the Global Burden of Disease Study 2013. METHODS We modelled mortality from vital registration, verbal autopsy, and surveillance data using the Cause of Death Ensemble Modelling tool. We modelled incidence from officially reported cases, and adjusted our raw estimates for under-reporting based on published estimates of expansion factors. In total, we had 1780 country-years of mortality data from 130 countries, 1636 country-years of dengue case reports from 76 countries, and expansion factor estimates for 14 countries. FINDINGS We estimated an average of 9221 dengue deaths per year between 1990 and 2013, increasing from a low of 8277 (95% uncertainty estimate 5353-10 649) in 1992, to a peak of 11 302 (6790-13 722) in 2010. This yielded a total of 576 900 (330 000-701 200) years of life lost to premature mortality attributable to dengue in 2013. The incidence of dengue increased greatly between 1990 and 2013, with the number of cases more than doubling every decade, from 8·3 million (3·3 million-17·2 million) apparent cases in 1990, to 58·4 million (23·6 million-121·9 million) apparent cases in 2013. When accounting for disability from moderate and severe acute dengue, and post-dengue chronic fatigue, 566 000 (186 000-1 415 000) years lived with disability were attributable to dengue in 2013. Considering fatal and non-fatal outcomes together, dengue was responsible for 1·14 million (0·73 million-1·98 million) disability-adjusted life-years in 2013. INTERPRETATION Although lower than other estimates, our results offer more evidence that the true symptomatic incidence of dengue probably falls within the commonly cited range of 50 million to 100 million cases per year. Our mortality estimates are lower than those presented elsewhere and should be considered in light of the totality of evidence suggesting that dengue mortality might, in fact, be substantially higher. FUNDING Bill & Melinda Gates Foundation.'],\n",
       "  0.20083381)]"
      ]
     },
     "execution_count": 24,
     "metadata": {},
     "output_type": "execute_result"
    }
   ],
   "source": [
    "sorted(zip(documents_id,list(STS_scores.flatten())), key = lambda tup:tup[1], reverse=True)[:10]"
   ]
  },
  {
   "cell_type": "markdown",
   "metadata": {
    "id": "edh1mdwip0_J"
   },
   "source": [
    "## Evaluation"
   ]
  },
  {
   "cell_type": "code",
   "execution_count": 25,
   "metadata": {
    "id": "EH1lTrrXcKy0"
   },
   "outputs": [],
   "source": [
    "qrels = []\n",
    "for qrel in dataset.qrels_iter(): # reading in all the relevancy scores\n",
    "    qrels.append(qrel)"
   ]
  },
  {
   "cell_type": "code",
   "execution_count": 26,
   "metadata": {},
   "outputs": [],
   "source": [
    "queries = dict(zip(qid,queries_indexed)) # Combining into a dict to emulate format of queries in Lab 4"
   ]
  },
  {
   "cell_type": "code",
   "execution_count": 27,
   "metadata": {},
   "outputs": [
    {
     "name": "stdout",
     "output_type": "stream",
     "text": [
      "million uk abnorm prp posit\n"
     ]
    }
   ],
   "source": [
    "print(queries[2])"
   ]
  },
  {
   "cell_type": "code",
   "execution_count": 28,
   "metadata": {},
   "outputs": [],
   "source": [
    "def retrieve_ranking(query, bm25_idf):\n",
    "    q_terms = query.split(' ')\n",
    "    q_terms_only = bm25_idf[q_terms]\n",
    "    score_q_d = q_terms_only.sum(axis=1)\n",
    "    return sorted(zip(bm25_idf.index.values,score_q_d.values), key = lambda tup:tup[1], reverse=True)"
   ]
  },
  {
   "cell_type": "code",
   "execution_count": 29,
   "metadata": {},
   "outputs": [
    {
     "name": "stdout",
     "output_type": "stream",
     "text": [
      "[(2232, 13.009034499081798), (3863, 7.475744112398933), (155, 4.750421408142046), (2407, 4.739075033656577), (4283, 4.244058344228909), (928, 4.15352597592546), (2862, 4.084513275532066), (2240, 3.523894621714997), (1896, 3.4742632671355835), (71, 3.45598984622202)]\n"
     ]
    }
   ],
   "source": [
    "doc_ranking = retrieve_ranking(queries[2], bm25_idf)\n",
    "print(doc_ranking[:10])"
   ]
  },
  {
   "cell_type": "code",
   "execution_count": 30,
   "metadata": {},
   "outputs": [
    {
     "name": "stdout",
     "output_type": "stream",
     "text": [
      "['13734012', 'OBJECTIVES To carry out a further survey of archived appendix samples to understand better the differences between existing estimates of the prevalence of subclinical infection with prions after the bovine spongiform encephalopathy epizootic and to see whether a broader birth cohort was affected, and to understand better the implications for the management of blood and blood products and for the handling of surgical instruments. DESIGN Irreversibly unlinked and anonymised large scale survey of archived appendix samples. SETTING Archived appendix samples from the pathology departments of 41 UK hospitals participating in the earlier survey, and additional hospitals in regions with lower levels of participation in that survey. SAMPLE 32,441 archived appendix samples fixed in formalin and embedded in paraffin and tested for the presence of abnormal prion protein (PrP). RESULTS Of the 32,441 appendix samples 16 were positive for abnormal PrP, indicating an overall prevalence of 493 per million population (95% confidence interval 282 to 801 per million). The prevalence in those born in 1941-60 (733 per million, 269 to 1596 per million) did not differ significantly from those born between 1961 and 1985 (412 per million, 198 to 758 per million) and was similar in both sexes and across the three broad geographical areas sampled. Genetic testing of the positive specimens for the genotype at PRNP codon 129 revealed a high proportion that were valine homozygous compared with the frequency in the normal population, and in stark contrast with confirmed clinical cases of vCJD, all of which were methionine homozygous at PRNP codon 129. CONCLUSIONS This study corroborates previous studies and suggests a high prevalence of infection with abnormal PrP, indicating vCJD carrier status in the population compared with the 177 vCJD cases to date. These findings have important implications for the management of blood and blood products and for the handling of surgical instruments.']\n"
     ]
    }
   ],
   "source": [
    "print(documents_id[2232]) # To verify with above "
   ]
  },
  {
   "cell_type": "code",
   "execution_count": 31,
   "metadata": {},
   "outputs": [],
   "source": [
    "def precision_at_k(query_id, k=10):\n",
    "\n",
    "    doc_ranking = retrieve_ranking(queries[query_id], bm25_idf)\n",
    "    retrieved = [doc[0] for doc in doc_ranking[:k]] # take only the document id, rather than score\n",
    "\n",
    "    TP = np.array([int((query_id, doc, 1) in qrels) for doc in retrieved]).sum()\n",
    "    FP = np.array([int((query_id, doc, 0) in qrels) for doc in retrieved]).sum()\n",
    "\n",
    "    precision = TP / (TP+FP)\n",
    "\n",
    "    return TP, FP, precision"
   ]
  },
  {
   "cell_type": "code",
   "execution_count": 32,
   "metadata": {},
   "outputs": [],
   "source": [
    "def f1_score_at_k(query_id, k=10):\n",
    "  # calculate f_1 score\n",
    "  # hint: you need to find TP's etc in a similar way to precision at k\n",
    "    doc_ranking = retrieve_ranking(queries[query_id], bm25_idf)\n",
    "    retrieved = [doc[0] for doc in doc_ranking[:k]] # take only the document id, rather than score\n",
    "  \n",
    "    TP, FP, precision = precision_at_k(query_id, k)\n",
    "    relevant_docs = np.array(qrels)\n",
    "    relevant_docs = relevant_docs[relevant_docs[:, 0] == query_id][:,2].sum()\n",
    "    FN = relevant_docs - TP\n",
    "\n",
    "    recall = TP / (TP+FN)\n",
    "    f1 = (2 * precision * recall) / (precision + recall)\n",
    "  \n",
    "    return f1"
   ]
  },
  {
   "cell_type": "code",
   "execution_count": 33,
   "metadata": {},
   "outputs": [
    {
     "name": "stderr",
     "output_type": "stream",
     "text": [
      "C:\\Users\\BRUDAL~1\\AppData\\Local\\Temp/ipykernel_3528/1134937542.py:6: FutureWarning: elementwise comparison failed; returning scalar instead, but in the future will perform elementwise comparison\n",
      "  for data in np_qrels[np_qrels[:, 0] == query_id]:\n"
     ]
    },
    {
     "ename": "NameError",
     "evalue": "name 'ndcg_score' is not defined",
     "output_type": "error",
     "traceback": [
      "\u001b[1;31m---------------------------------------------------------------------------\u001b[0m",
      "\u001b[1;31mNameError\u001b[0m                                 Traceback (most recent call last)",
      "\u001b[1;32mC:\\Users\\BRUDAL~1\\AppData\\Local\\Temp/ipykernel_3528/1134937542.py\u001b[0m in \u001b[0;36m<module>\u001b[1;34m\u001b[0m\n\u001b[0;32m      7\u001b[0m         \u001b[0my_true\u001b[0m\u001b[1;33m[\u001b[0m\u001b[0mdata\u001b[0m\u001b[1;33m[\u001b[0m\u001b[1;36m1\u001b[0m\u001b[1;33m]\u001b[0m\u001b[1;33m]\u001b[0m \u001b[1;33m=\u001b[0m \u001b[0mdata\u001b[0m\u001b[1;33m[\u001b[0m\u001b[1;36m2\u001b[0m\u001b[1;33m]\u001b[0m\u001b[1;33m\u001b[0m\u001b[1;33m\u001b[0m\u001b[0m\n\u001b[0;32m      8\u001b[0m \u001b[1;33m\u001b[0m\u001b[0m\n\u001b[1;32m----> 9\u001b[1;33m     \u001b[0mndcg\u001b[0m \u001b[1;33m=\u001b[0m \u001b[0mndcg_score\u001b[0m\u001b[1;33m(\u001b[0m\u001b[0mnp\u001b[0m\u001b[1;33m.\u001b[0m\u001b[0mexpand_dims\u001b[0m\u001b[1;33m(\u001b[0m\u001b[0my_true\u001b[0m\u001b[1;33m,\u001b[0m\u001b[0maxis\u001b[0m\u001b[1;33m=\u001b[0m\u001b[1;36m0\u001b[0m\u001b[1;33m)\u001b[0m\u001b[1;33m,\u001b[0m \u001b[0mnp\u001b[0m\u001b[1;33m.\u001b[0m\u001b[0mexpand_dims\u001b[0m\u001b[1;33m(\u001b[0m\u001b[0my_score\u001b[0m\u001b[1;33m,\u001b[0m\u001b[0maxis\u001b[0m\u001b[1;33m=\u001b[0m\u001b[1;36m0\u001b[0m\u001b[1;33m)\u001b[0m\u001b[1;33m,\u001b[0m \u001b[0mk\u001b[0m\u001b[1;33m=\u001b[0m\u001b[0mk\u001b[0m\u001b[1;33m)\u001b[0m\u001b[1;33m\u001b[0m\u001b[1;33m\u001b[0m\u001b[0m\n\u001b[0m\u001b[0;32m     10\u001b[0m     \u001b[0mprint\u001b[0m\u001b[1;33m(\u001b[0m\u001b[1;34mf'retrieved for {query} with NGCD@{k} of {ndcg}'\u001b[0m\u001b[1;33m)\u001b[0m\u001b[1;33m\u001b[0m\u001b[1;33m\u001b[0m\u001b[0m\n",
      "\u001b[1;31mNameError\u001b[0m: name 'ndcg_score' is not defined"
     ]
    }
   ],
   "source": [
    "for query_id, query in queries.items():\n",
    "    y_score = np.array(sorted(retrieve_ranking(queries[query_id], bm25_idf)))[:,1]\n",
    "    y_true = np.zeros(y_score.size)\n",
    "    np_qrels = np.array(qrels)\n",
    "\n",
    "    for data in np_qrels[np_qrels[:, 0] == query_id]:\n",
    "        y_true[data[1]] = data[2]\n",
    "\n",
    "    ndcg = ndcg_score(np.expand_dims(y_true,axis=0), np.expand_dims(y_score,axis=0), k=k)\n",
    "    print(f'retrieved for {query} with NGCD@{k} of {ndcg}')"
   ]
  },
  {
   "cell_type": "code",
   "execution_count": null,
   "metadata": {},
   "outputs": [],
   "source": [
    "# To retrieve and calculate accuracy metrics for each query lets loop over them\n",
    "k = 10\n",
    "for query_id, query in queries.items():\n",
    "    tp, fp, precision = precision_at_k(query_id, k=k)\n",
    "    f1_score = f1_score_at_k(query_id, k=k)\n",
    "    print('retrieved query \"{}\" with Precision@{} = {} and F1-score = {}'.format(query, k, precision, f1_score))"
   ]
  }
 ],
 "metadata": {
  "colab": {
   "collapsed_sections": [
    "MhN0gWKiBGiQ"
   ],
   "include_colab_link": true,
   "name": "Search_engine_v0.0.ipynb",
   "provenance": [],
   "toc_visible": true
  },
  "kernelspec": {
   "display_name": "Python 3 (ipykernel)",
   "language": "python",
   "name": "python3"
  },
  "language_info": {
   "codemirror_mode": {
    "name": "ipython",
    "version": 3
   },
   "file_extension": ".py",
   "mimetype": "text/x-python",
   "name": "python",
   "nbconvert_exporter": "python",
   "pygments_lexer": "ipython3",
   "version": "3.9.7"
  }
 },
 "nbformat": 4,
 "nbformat_minor": 4
}
