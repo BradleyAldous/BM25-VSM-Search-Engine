{
  "cells": [
    {
      "cell_type": "markdown",
      "metadata": {
        "id": "XeS4WON90flx"
      },
      "source": [
        "# **Combination VSM and BM25 Search Engine**\n",
        "_Group 69: Alain Ameer, Alexander Coudijzer, Bradley Aldous and Florin Pintilii._\n",
        "\n",
        "# Contents\n",
        "1. Introduction\n",
        "1. Data Loading\n",
        "1. Indexing Method\n",
        "  - Pre-Processing\n",
        "  - Term-Frequency Matrix\n",
        "1. Retrieval Method\n",
        "  - Query Vectorization\n",
        "  - Vector Space Model (VSM)\n",
        "  - Best Match 25 (BM25)\n",
        "1. Command Line Implementation\n",
        "1. Bibliography"
      ]
    },
    {
      "cell_type": "markdown",
      "source": [
        "# Introduction\n",
        "\n",
        "This search engine enables users to enter a query as a string, and select whether VSM or BM25 is used as the retrieval model to return search results. The dataset used is the SciFact dataset, available from https://ir-datasets.com/beir.html#beir/scifact (MacAvaney et al, 2021).\n",
        "\n",
        "All relevant libraries are imported and datasets installed in the code cell below. The nltk library has been sourced from Bird and colleagues (2009)."
      ],
      "metadata": {
        "id": "YxncI0BHjbFB"
      }
    },
    {
      "cell_type": "code",
      "execution_count": 1,
      "metadata": {
        "id": "5Qh8yMNt6QeI"
      },
      "outputs": [],
      "source": [
        "%%capture\n",
        "!pip install ir_datasets\n",
        "!pip install unidecode\n",
        "\n",
        "import numpy as np\n",
        "import ir_datasets\n",
        "import string\n",
        "import re\n",
        "import unidecode\n",
        "import pandas as pd\n",
        "from numpy.linalg import norm\n",
        "from sklearn.feature_extraction.text import CountVectorizer\n",
        "from operator import itemgetter\n",
        "\n",
        "import nltk             # nltk has been sourced from (Bird et al, 2009).\n",
        "nltk.download('punkt')\n",
        "nltk.download('stopwords')\n",
        "nltk.download('wordnet')\n",
        "from nltk.tokenize import word_tokenize\n",
        "from nltk.stem import WordNetLemmatizer\n",
        "from nltk.stem import SnowballStemmer\n",
        "from nltk.corpus import stopwords"
      ]
    },
    {
      "cell_type": "markdown",
      "metadata": {
        "id": "hYL-3K_AhiMT"
      },
      "source": [
        "# Data Loading\n",
        "\n",
        "The characteristics of the SciFact dataset are displayed by the code cell below. There are 5183 documents, 809 associated queries, and 919 query relevance judgements (\"qrels\")."
      ]
    },
    {
      "cell_type": "code",
      "execution_count": 2,
      "metadata": {
        "colab": {
          "base_uri": "https://localhost:8080/"
        },
        "id": "JkHkBv3lH4nj",
        "outputId": "b57cac8f-4e22-4d8d-b083-ee9acd917196"
      },
      "outputs": [
        {
          "output_type": "stream",
          "name": "stdout",
          "text": [
            "\n",
            " 5183 documents with format:\n",
            "\t OrderedDict([('doc_id', <class 'str'>), ('text', <class 'str'>), ('title', <class 'str'>)])\n",
            "\n",
            " 809 queries with format:\n",
            "\t OrderedDict([('query_id', <class 'str'>), ('text', <class 'str'>)])\n",
            "\n",
            " 919 query relevance judgements with format:\n",
            "\t OrderedDict([('query_id', <class 'str'>), ('doc_id', <class 'str'>), ('relevance', <class 'int'>), ('iteration', <class 'str'>)])\n"
          ]
        }
      ],
      "source": [
        "dataset = ir_datasets.load(\"beir/scifact/train\")\n",
        "\n",
        "print('\\n', dataset.docs_count(), 'documents with format:\\n\\t', \n",
        "      dataset.docs_cls().__annotations__)\n",
        "print('\\n', dataset.queries_count(), 'queries with format:\\n\\t', \n",
        "      dataset.queries_cls().__annotations__)\n",
        "print('\\n', dataset.qrels_count(), 'query relevance judgements with format:\\n\\t', \n",
        "      dataset.qrels_cls().__annotations__)"
      ]
    },
    {
      "cell_type": "markdown",
      "source": [
        "The code cell below loads the data."
      ],
      "metadata": {
        "id": "iuIp540emOAX"
      }
    },
    {
      "cell_type": "code",
      "execution_count": 3,
      "metadata": {
        "id": "WIDi1JwIjh7R"
      },
      "outputs": [],
      "source": [
        "%%capture\n",
        "for doc in dataset.docs_iter()[:1]: None\n",
        "for q in dataset.queries_iter(): None\n",
        "for qrel in dataset.qrels_iter(): None"
      ]
    },
    {
      "cell_type": "markdown",
      "source": [
        "The text of the documents have been collected into a list variable `documents` in the code cell below. The text alone has been taken for simplicity at this stage, however the `doc_id` will later be required for evaluation."
      ],
      "metadata": {
        "id": "D6tkuLmgnCER"
      }
    },
    {
      "cell_type": "code",
      "execution_count": 4,
      "metadata": {
        "id": "pkhFTCerkCNh",
        "colab": {
          "base_uri": "https://localhost:8080/"
        },
        "outputId": "9579ed4b-3b2f-4db9-aa3a-f71435b191f2"
      },
      "outputs": [
        {
          "output_type": "stream",
          "name": "stdout",
          "text": [
            "\n",
            "Number of documents: 5183\n",
            "\n",
            "Example documents: \"Alterations of the architecture of cerebral white ...\"\n",
            "\t\t   \"Myelodysplastic syndromes (MDS) are age-dependent ...\"\n",
            "\t\t   \"ID elements are short interspersed elements (SINEs...\"\n"
          ]
        }
      ],
      "source": [
        "corpus = []\n",
        "for doc in dataset.docs_iter():\n",
        "    corpus.append([doc[0],doc[1],doc[2]])\n",
        "documents = [doc[1] for doc in corpus]\n",
        "\n",
        "print('\\nNumber of documents: ' + str(len(documents))\n",
        "      + '\\n\\nExample documents: \"' + documents[0][:50] + '...\"'\n",
        "      + '\\n\\t\\t   \"' + documents[1][:50] + '...\"'\n",
        "      + '\\n\\t\\t   \"' + documents[2][:50] + '...\"')"
      ]
    },
    {
      "cell_type": "markdown",
      "source": [
        "The text of the queries have likewise been collected into a list variable `queries` in the code cell below."
      ],
      "metadata": {
        "id": "zsx6GSkdnnsV"
      }
    },
    {
      "cell_type": "code",
      "source": [
        "queries = []\n",
        "for q in dataset.queries_iter():\n",
        "    queries.append(q[1])\n",
        "    \n",
        "print('\\nNumber of queries: ' + str(len(queries))\n",
        "      + '\\n\\nExample queries: \"' + queries[0][:50] + '...\"'\n",
        "      + '\\n\\t\\t \"' + queries[1][:50] + '...\"'\n",
        "      + '\\n\\t\\t \"' + queries[2][:50] + '...\"')"
      ],
      "metadata": {
        "colab": {
          "base_uri": "https://localhost:8080/"
        },
        "id": "WgOTbqAig6nh",
        "outputId": "7d7ba239-48fc-4b20-b529-39ecb4a7bf83"
      },
      "execution_count": 5,
      "outputs": [
        {
          "output_type": "stream",
          "name": "stdout",
          "text": [
            "\n",
            "Number of queries: 809\n",
            "\n",
            "Example queries: \"0-dimensional biomaterials lack inductive properti...\"\n",
            "\t\t \"1 in 5 million in UK have abnormal PrP positivity....\"\n",
            "\t\t \"1-1% of colorectal cancer patients are diagnosed w...\"\n"
          ]
        }
      ]
    },
    {
      "cell_type": "markdown",
      "metadata": {
        "id": "VXfv4EsShiMY"
      },
      "source": [
        "# Indexing Method\n",
        "\n",
        "### _Indexing Method: Pre-Processing_\n",
        "\n",
        "The first stage of the indexing method is to pre-process text.\n",
        "\n",
        "The code cell below defines the `pre_processing` function. The following stages are applied to the text of each document:\n",
        "\n",
        "[A] Text is cleaned.\n",
        "  1. Numbers are removed.\n",
        "  1. Punctuation is removed and characters are converted to lowercase.\n",
        "  1. Multiple whitespaces are replaced with single whitespaces. Leading and training whitespaces are also removed.\n",
        "\n",
        "[B] Tokenization.\n",
        "\n",
        "[C] Stop word removal.\n",
        "\n",
        "[D] Lemmatization.\n",
        "\n",
        "[E] Stemming.\n",
        "\n",
        "[F] Accents are removed."
      ]
    },
    {
      "cell_type": "code",
      "execution_count": 6,
      "metadata": {
        "id": "1OpdpvrJH4nu"
      },
      "outputs": [],
      "source": [
        "def pre_processing(docs):\n",
        "    \n",
        "    # [A] A function to clean text is defined.\n",
        "    def clean_text(text):\n",
        "        # [1] Numbers are removed.\n",
        "        text_nonum = re.sub(r'\\d+', '', text) \n",
        "        # [2] Punctuation is removed and characters converted to lowercase.\n",
        "        text_nopunct = \"\".join([char.lower() for char in text_nonum\n",
        "                                if char not in string.punctuation])\n",
        "        # [3] Multiple whitespaces are replaced with single whitespaces.\n",
        "        #     Leading and trailing whitespaces are removed.\n",
        "        text_no_multispace = re.sub('\\s+', ' ', text_nopunct).strip()\n",
        "        return text_no_multispace\n",
        "    \n",
        "    # [A] Each document is passed through the \"clean_text\" function.\n",
        "    documents_cleaned = []\n",
        "    for d in docs:\n",
        "        x = clean_text(d)\n",
        "        documents_cleaned.append(x)\n",
        "    \n",
        "    # [B] Each document is tokenized.\n",
        "    documents_tokenized = []\n",
        "    for d in documents_cleaned:\n",
        "        x = word_tokenize(d)\n",
        "        documents_tokenized.append(x)\n",
        "    \n",
        "    # [C] Each document has stop words removed.\n",
        "    documents_sw_removed = []\n",
        "    stop_words = set(stopwords.words('english'))\n",
        "    for a in documents_tokenized:\n",
        "      filtered_sentence = [w for w in a if not w in stop_words]\n",
        "      filtered_sentence = []\n",
        "      for w in a:  \n",
        "        if w not in stop_words:  \n",
        "          filtered_sentence.append(w)\n",
        "      documents_sw_removed.append(filtered_sentence)\n",
        "    \n",
        "    # [D] Each document undergoes lemmatization.\n",
        "    documents_lemmatized = []\n",
        "    wordnet_lemmatizer = WordNetLemmatizer()\n",
        "    for d in documents_sw_removed:\n",
        "      y = []\n",
        "      for word in d:\n",
        "        x = wordnet_lemmatizer.lemmatize(word)\n",
        "        y.append(x)\n",
        "      documents_lemmatized.append(y)\n",
        "    \n",
        "    # [E] Each document undergoes stemming.\n",
        "    snow_stemmer = SnowballStemmer(language='english')\n",
        "    documents_stemmed = []\n",
        "    for d in documents_lemmatized:\n",
        "      stems = []\n",
        "      for word in d:\n",
        "        x = snow_stemmer.stem(word)\n",
        "        stems.append(x)\n",
        "      documents_stemmed.append(stems)\n",
        "    \n",
        "    # [F] Accents are removed from each document.\n",
        "    documents_decoded = []\n",
        "    for d in documents_stemmed:\n",
        "      a = []\n",
        "      for word in d:\n",
        "        x = unidecode.unidecode(word)\n",
        "        a.append(x)\n",
        "      documents_decoded.append(a)\n",
        "    \n",
        "    # [G] Processed documents are collected into \"documents_pre_processed\"\n",
        "    documents_pre_processed = []\n",
        "    for doc in documents_decoded:\n",
        "      documents_pre_processed.append(' '.join(doc))\n",
        "    return documents_pre_processed"
      ]
    },
    {
      "cell_type": "markdown",
      "source": [
        "The code cell below applies the previously defined `pre_processing` function to both the documents and the queries. Both documents and queries need to be pre-processed in the same way to ensure compatability."
      ],
      "metadata": {
        "id": "qVmObkA5sGAG"
      }
    },
    {
      "cell_type": "code",
      "execution_count": 7,
      "metadata": {
        "id": "llCFOoUwH4ny"
      },
      "outputs": [],
      "source": [
        "documents_pre_processed = pre_processing(documents)\n",
        "queries_pre_processed = pre_processing(queries)"
      ]
    },
    {
      "cell_type": "markdown",
      "source": [
        "The code cell below demonstrates the results of applying the `pre_processing` function."
      ],
      "metadata": {
        "id": "xhBmZZZisY6V"
      }
    },
    {
      "cell_type": "code",
      "execution_count": 8,
      "metadata": {
        "colab": {
          "base_uri": "https://localhost:8080/"
        },
        "id": "PTHkqePAH4n0",
        "outputId": "8e8bdeed-2318-4100-ce8f-fba88718d5e5"
      },
      "outputs": [
        {
          "output_type": "stream",
          "name": "stdout",
          "text": [
            "\n",
            "Document prior to pre-processing:\n",
            "\t\"Alterations of the architecture of cerebral white matter in the developing human brain can affect...\"\n",
            "\n",
            "Document after pre-processing has been performed:\n",
            "\t\"alter architectur cerebr white matter develop human brain affect...\"\n",
            "\n",
            "Query prior to pre-processing:\n",
            "\t\"0-dimensional biomaterials lack inductive properties.\"\n",
            "\n",
            "Query after pre-processing has been performed:\n",
            "\t\"dimension biomateri lack induct properti\"\n"
          ]
        }
      ],
      "source": [
        "print('\\nDocument prior to pre-processing:\\n' + '\\t\"' + documents[0][:97]\n",
        "      + '...\"\\n\\nDocument after pre-processing has been performed:\\n'\n",
        "      + '\\t\"' + documents_pre_processed[0][:64] + '...\"\\n\\n'\n",
        "      + 'Query prior to pre-processing:\\n' + '\\t\"' + queries[0] + '\"\\n\\n'\n",
        "      + 'Query after pre-processing has been performed:\\n'\n",
        "      + '\\t\"' + queries_pre_processed[0] + '\"')"
      ]
    },
    {
      "cell_type": "markdown",
      "metadata": {
        "id": "wMtn6anchiMg"
      },
      "source": [
        "### _Indexing Method: Term-Frequency Matrix_\n",
        "\n",
        "The pre-processed documents are vectorised in the code cell below to create a term-frequency (TF) matrix, `term_frequency_matrix` which is a pandas dataframe. Each row represents a document and each column represents a term in the corpus. The columns collectively represent the vocabulary of the entire corpus. Each cell represents the frequency with which the term of the column occurs in the document of the row."
      ]
    },
    {
      "cell_type": "code",
      "execution_count": 9,
      "metadata": {
        "colab": {
          "base_uri": "https://localhost:8080/",
          "height": 487
        },
        "id": "G3E7sQ5_kg9x",
        "outputId": "f9c247e4-9e62-4cb2-db43-36dff57e710e"
      },
      "outputs": [
        {
          "output_type": "execute_result",
          "data": {
            "text/plain": [
              "      42  aa  aaa  aaaatpas  aaafamili  aab  aabenhus  aacr  aacrthi  \\\n",
              "0      0   0    0         0          0    0         0     0        0   \n",
              "1      0   0    0         0          0    0         0     0        0   \n",
              "2      0   0    0         0          0    0         0     0        0   \n",
              "3      0   0    0         0          0    0         0     0        0   \n",
              "4      0   0    0         0          0    0         0     0        0   \n",
              "...   ..  ..  ...       ...        ...  ...       ...   ...      ...   \n",
              "5178   0   0    0         0          0    0         0     0        0   \n",
              "5179   0   0    0         0          0    0         0     0        0   \n",
              "5180   0   0    0         0          0    0         0     0        0   \n",
              "5181   0   0    0         0          0    0         0     0        0   \n",
              "5182   0   0    0         0          0    0         0     0        0   \n",
              "\n",
              "      aactinin  ...  zygos  zygot  zymographi  zymosan  zymosaninduc  zyxin  \\\n",
              "0            0  ...      0      0           0        0             0      0   \n",
              "1            0  ...      0      0           0        0             0      0   \n",
              "2            0  ...      0      0           0        0             0      0   \n",
              "3            0  ...      0      0           0        0             0      0   \n",
              "4            0  ...      0      0           0        0             0      0   \n",
              "...        ...  ...    ...    ...         ...      ...           ...    ...   \n",
              "5178         0  ...      0      0           0        0             0      0   \n",
              "5179         0  ...      0      0           0        0             0      0   \n",
              "5180         0  ...      0      0           0        0             0      0   \n",
              "5181         0  ...      0      0           0        0             0      0   \n",
              "5182         0  ...      0      0           0        0             0      0   \n",
              "\n",
              "      zz  zzw  zzz  zzzw  \n",
              "0      0    0    0     0  \n",
              "1      0    0    0     0  \n",
              "2      0    0    0     0  \n",
              "3      0    0    0     0  \n",
              "4      0    0    0     0  \n",
              "...   ..  ...  ...   ...  \n",
              "5178   0    0    0     0  \n",
              "5179   0    0    0     0  \n",
              "5180   0    0    0     0  \n",
              "5181   0    0    0     0  \n",
              "5182   0    0    0     0  \n",
              "\n",
              "[5183 rows x 31075 columns]"
            ],
            "text/html": [
              "\n",
              "  <div id=\"df-89b76a62-c636-493b-89e8-0ae7492b219f\">\n",
              "    <div class=\"colab-df-container\">\n",
              "      <div>\n",
              "<style scoped>\n",
              "    .dataframe tbody tr th:only-of-type {\n",
              "        vertical-align: middle;\n",
              "    }\n",
              "\n",
              "    .dataframe tbody tr th {\n",
              "        vertical-align: top;\n",
              "    }\n",
              "\n",
              "    .dataframe thead th {\n",
              "        text-align: right;\n",
              "    }\n",
              "</style>\n",
              "<table border=\"1\" class=\"dataframe\">\n",
              "  <thead>\n",
              "    <tr style=\"text-align: right;\">\n",
              "      <th></th>\n",
              "      <th>42</th>\n",
              "      <th>aa</th>\n",
              "      <th>aaa</th>\n",
              "      <th>aaaatpas</th>\n",
              "      <th>aaafamili</th>\n",
              "      <th>aab</th>\n",
              "      <th>aabenhus</th>\n",
              "      <th>aacr</th>\n",
              "      <th>aacrthi</th>\n",
              "      <th>aactinin</th>\n",
              "      <th>...</th>\n",
              "      <th>zygos</th>\n",
              "      <th>zygot</th>\n",
              "      <th>zymographi</th>\n",
              "      <th>zymosan</th>\n",
              "      <th>zymosaninduc</th>\n",
              "      <th>zyxin</th>\n",
              "      <th>zz</th>\n",
              "      <th>zzw</th>\n",
              "      <th>zzz</th>\n",
              "      <th>zzzw</th>\n",
              "    </tr>\n",
              "  </thead>\n",
              "  <tbody>\n",
              "    <tr>\n",
              "      <th>0</th>\n",
              "      <td>0</td>\n",
              "      <td>0</td>\n",
              "      <td>0</td>\n",
              "      <td>0</td>\n",
              "      <td>0</td>\n",
              "      <td>0</td>\n",
              "      <td>0</td>\n",
              "      <td>0</td>\n",
              "      <td>0</td>\n",
              "      <td>0</td>\n",
              "      <td>...</td>\n",
              "      <td>0</td>\n",
              "      <td>0</td>\n",
              "      <td>0</td>\n",
              "      <td>0</td>\n",
              "      <td>0</td>\n",
              "      <td>0</td>\n",
              "      <td>0</td>\n",
              "      <td>0</td>\n",
              "      <td>0</td>\n",
              "      <td>0</td>\n",
              "    </tr>\n",
              "    <tr>\n",
              "      <th>1</th>\n",
              "      <td>0</td>\n",
              "      <td>0</td>\n",
              "      <td>0</td>\n",
              "      <td>0</td>\n",
              "      <td>0</td>\n",
              "      <td>0</td>\n",
              "      <td>0</td>\n",
              "      <td>0</td>\n",
              "      <td>0</td>\n",
              "      <td>0</td>\n",
              "      <td>...</td>\n",
              "      <td>0</td>\n",
              "      <td>0</td>\n",
              "      <td>0</td>\n",
              "      <td>0</td>\n",
              "      <td>0</td>\n",
              "      <td>0</td>\n",
              "      <td>0</td>\n",
              "      <td>0</td>\n",
              "      <td>0</td>\n",
              "      <td>0</td>\n",
              "    </tr>\n",
              "    <tr>\n",
              "      <th>2</th>\n",
              "      <td>0</td>\n",
              "      <td>0</td>\n",
              "      <td>0</td>\n",
              "      <td>0</td>\n",
              "      <td>0</td>\n",
              "      <td>0</td>\n",
              "      <td>0</td>\n",
              "      <td>0</td>\n",
              "      <td>0</td>\n",
              "      <td>0</td>\n",
              "      <td>...</td>\n",
              "      <td>0</td>\n",
              "      <td>0</td>\n",
              "      <td>0</td>\n",
              "      <td>0</td>\n",
              "      <td>0</td>\n",
              "      <td>0</td>\n",
              "      <td>0</td>\n",
              "      <td>0</td>\n",
              "      <td>0</td>\n",
              "      <td>0</td>\n",
              "    </tr>\n",
              "    <tr>\n",
              "      <th>3</th>\n",
              "      <td>0</td>\n",
              "      <td>0</td>\n",
              "      <td>0</td>\n",
              "      <td>0</td>\n",
              "      <td>0</td>\n",
              "      <td>0</td>\n",
              "      <td>0</td>\n",
              "      <td>0</td>\n",
              "      <td>0</td>\n",
              "      <td>0</td>\n",
              "      <td>...</td>\n",
              "      <td>0</td>\n",
              "      <td>0</td>\n",
              "      <td>0</td>\n",
              "      <td>0</td>\n",
              "      <td>0</td>\n",
              "      <td>0</td>\n",
              "      <td>0</td>\n",
              "      <td>0</td>\n",
              "      <td>0</td>\n",
              "      <td>0</td>\n",
              "    </tr>\n",
              "    <tr>\n",
              "      <th>4</th>\n",
              "      <td>0</td>\n",
              "      <td>0</td>\n",
              "      <td>0</td>\n",
              "      <td>0</td>\n",
              "      <td>0</td>\n",
              "      <td>0</td>\n",
              "      <td>0</td>\n",
              "      <td>0</td>\n",
              "      <td>0</td>\n",
              "      <td>0</td>\n",
              "      <td>...</td>\n",
              "      <td>0</td>\n",
              "      <td>0</td>\n",
              "      <td>0</td>\n",
              "      <td>0</td>\n",
              "      <td>0</td>\n",
              "      <td>0</td>\n",
              "      <td>0</td>\n",
              "      <td>0</td>\n",
              "      <td>0</td>\n",
              "      <td>0</td>\n",
              "    </tr>\n",
              "    <tr>\n",
              "      <th>...</th>\n",
              "      <td>...</td>\n",
              "      <td>...</td>\n",
              "      <td>...</td>\n",
              "      <td>...</td>\n",
              "      <td>...</td>\n",
              "      <td>...</td>\n",
              "      <td>...</td>\n",
              "      <td>...</td>\n",
              "      <td>...</td>\n",
              "      <td>...</td>\n",
              "      <td>...</td>\n",
              "      <td>...</td>\n",
              "      <td>...</td>\n",
              "      <td>...</td>\n",
              "      <td>...</td>\n",
              "      <td>...</td>\n",
              "      <td>...</td>\n",
              "      <td>...</td>\n",
              "      <td>...</td>\n",
              "      <td>...</td>\n",
              "      <td>...</td>\n",
              "    </tr>\n",
              "    <tr>\n",
              "      <th>5178</th>\n",
              "      <td>0</td>\n",
              "      <td>0</td>\n",
              "      <td>0</td>\n",
              "      <td>0</td>\n",
              "      <td>0</td>\n",
              "      <td>0</td>\n",
              "      <td>0</td>\n",
              "      <td>0</td>\n",
              "      <td>0</td>\n",
              "      <td>0</td>\n",
              "      <td>...</td>\n",
              "      <td>0</td>\n",
              "      <td>0</td>\n",
              "      <td>0</td>\n",
              "      <td>0</td>\n",
              "      <td>0</td>\n",
              "      <td>0</td>\n",
              "      <td>0</td>\n",
              "      <td>0</td>\n",
              "      <td>0</td>\n",
              "      <td>0</td>\n",
              "    </tr>\n",
              "    <tr>\n",
              "      <th>5179</th>\n",
              "      <td>0</td>\n",
              "      <td>0</td>\n",
              "      <td>0</td>\n",
              "      <td>0</td>\n",
              "      <td>0</td>\n",
              "      <td>0</td>\n",
              "      <td>0</td>\n",
              "      <td>0</td>\n",
              "      <td>0</td>\n",
              "      <td>0</td>\n",
              "      <td>...</td>\n",
              "      <td>0</td>\n",
              "      <td>0</td>\n",
              "      <td>0</td>\n",
              "      <td>0</td>\n",
              "      <td>0</td>\n",
              "      <td>0</td>\n",
              "      <td>0</td>\n",
              "      <td>0</td>\n",
              "      <td>0</td>\n",
              "      <td>0</td>\n",
              "    </tr>\n",
              "    <tr>\n",
              "      <th>5180</th>\n",
              "      <td>0</td>\n",
              "      <td>0</td>\n",
              "      <td>0</td>\n",
              "      <td>0</td>\n",
              "      <td>0</td>\n",
              "      <td>0</td>\n",
              "      <td>0</td>\n",
              "      <td>0</td>\n",
              "      <td>0</td>\n",
              "      <td>0</td>\n",
              "      <td>...</td>\n",
              "      <td>0</td>\n",
              "      <td>0</td>\n",
              "      <td>0</td>\n",
              "      <td>0</td>\n",
              "      <td>0</td>\n",
              "      <td>0</td>\n",
              "      <td>0</td>\n",
              "      <td>0</td>\n",
              "      <td>0</td>\n",
              "      <td>0</td>\n",
              "    </tr>\n",
              "    <tr>\n",
              "      <th>5181</th>\n",
              "      <td>0</td>\n",
              "      <td>0</td>\n",
              "      <td>0</td>\n",
              "      <td>0</td>\n",
              "      <td>0</td>\n",
              "      <td>0</td>\n",
              "      <td>0</td>\n",
              "      <td>0</td>\n",
              "      <td>0</td>\n",
              "      <td>0</td>\n",
              "      <td>...</td>\n",
              "      <td>0</td>\n",
              "      <td>0</td>\n",
              "      <td>0</td>\n",
              "      <td>0</td>\n",
              "      <td>0</td>\n",
              "      <td>0</td>\n",
              "      <td>0</td>\n",
              "      <td>0</td>\n",
              "      <td>0</td>\n",
              "      <td>0</td>\n",
              "    </tr>\n",
              "    <tr>\n",
              "      <th>5182</th>\n",
              "      <td>0</td>\n",
              "      <td>0</td>\n",
              "      <td>0</td>\n",
              "      <td>0</td>\n",
              "      <td>0</td>\n",
              "      <td>0</td>\n",
              "      <td>0</td>\n",
              "      <td>0</td>\n",
              "      <td>0</td>\n",
              "      <td>0</td>\n",
              "      <td>...</td>\n",
              "      <td>0</td>\n",
              "      <td>0</td>\n",
              "      <td>0</td>\n",
              "      <td>0</td>\n",
              "      <td>0</td>\n",
              "      <td>0</td>\n",
              "      <td>0</td>\n",
              "      <td>0</td>\n",
              "      <td>0</td>\n",
              "      <td>0</td>\n",
              "    </tr>\n",
              "  </tbody>\n",
              "</table>\n",
              "<p>5183 rows × 31075 columns</p>\n",
              "</div>\n",
              "      <button class=\"colab-df-convert\" onclick=\"convertToInteractive('df-89b76a62-c636-493b-89e8-0ae7492b219f')\"\n",
              "              title=\"Convert this dataframe to an interactive table.\"\n",
              "              style=\"display:none;\">\n",
              "        \n",
              "  <svg xmlns=\"http://www.w3.org/2000/svg\" height=\"24px\"viewBox=\"0 0 24 24\"\n",
              "       width=\"24px\">\n",
              "    <path d=\"M0 0h24v24H0V0z\" fill=\"none\"/>\n",
              "    <path d=\"M18.56 5.44l.94 2.06.94-2.06 2.06-.94-2.06-.94-.94-2.06-.94 2.06-2.06.94zm-11 1L8.5 8.5l.94-2.06 2.06-.94-2.06-.94L8.5 2.5l-.94 2.06-2.06.94zm10 10l.94 2.06.94-2.06 2.06-.94-2.06-.94-.94-2.06-.94 2.06-2.06.94z\"/><path d=\"M17.41 7.96l-1.37-1.37c-.4-.4-.92-.59-1.43-.59-.52 0-1.04.2-1.43.59L10.3 9.45l-7.72 7.72c-.78.78-.78 2.05 0 2.83L4 21.41c.39.39.9.59 1.41.59.51 0 1.02-.2 1.41-.59l7.78-7.78 2.81-2.81c.8-.78.8-2.07 0-2.86zM5.41 20L4 18.59l7.72-7.72 1.47 1.35L5.41 20z\"/>\n",
              "  </svg>\n",
              "      </button>\n",
              "      \n",
              "  <style>\n",
              "    .colab-df-container {\n",
              "      display:flex;\n",
              "      flex-wrap:wrap;\n",
              "      gap: 12px;\n",
              "    }\n",
              "\n",
              "    .colab-df-convert {\n",
              "      background-color: #E8F0FE;\n",
              "      border: none;\n",
              "      border-radius: 50%;\n",
              "      cursor: pointer;\n",
              "      display: none;\n",
              "      fill: #1967D2;\n",
              "      height: 32px;\n",
              "      padding: 0 0 0 0;\n",
              "      width: 32px;\n",
              "    }\n",
              "\n",
              "    .colab-df-convert:hover {\n",
              "      background-color: #E2EBFA;\n",
              "      box-shadow: 0px 1px 2px rgba(60, 64, 67, 0.3), 0px 1px 3px 1px rgba(60, 64, 67, 0.15);\n",
              "      fill: #174EA6;\n",
              "    }\n",
              "\n",
              "    [theme=dark] .colab-df-convert {\n",
              "      background-color: #3B4455;\n",
              "      fill: #D2E3FC;\n",
              "    }\n",
              "\n",
              "    [theme=dark] .colab-df-convert:hover {\n",
              "      background-color: #434B5C;\n",
              "      box-shadow: 0px 1px 3px 1px rgba(0, 0, 0, 0.15);\n",
              "      filter: drop-shadow(0px 1px 2px rgba(0, 0, 0, 0.3));\n",
              "      fill: #FFFFFF;\n",
              "    }\n",
              "  </style>\n",
              "\n",
              "      <script>\n",
              "        const buttonEl =\n",
              "          document.querySelector('#df-89b76a62-c636-493b-89e8-0ae7492b219f button.colab-df-convert');\n",
              "        buttonEl.style.display =\n",
              "          google.colab.kernel.accessAllowed ? 'block' : 'none';\n",
              "\n",
              "        async function convertToInteractive(key) {\n",
              "          const element = document.querySelector('#df-89b76a62-c636-493b-89e8-0ae7492b219f');\n",
              "          const dataTable =\n",
              "            await google.colab.kernel.invokeFunction('convertToInteractive',\n",
              "                                                     [key], {});\n",
              "          if (!dataTable) return;\n",
              "\n",
              "          const docLinkHtml = 'Like what you see? Visit the ' +\n",
              "            '<a target=\"_blank\" href=https://colab.research.google.com/notebooks/data_table.ipynb>data table notebook</a>'\n",
              "            + ' to learn more about interactive tables.';\n",
              "          element.innerHTML = '';\n",
              "          dataTable['output_type'] = 'display_data';\n",
              "          await google.colab.output.renderOutput(dataTable, element);\n",
              "          const docLink = document.createElement('div');\n",
              "          docLink.innerHTML = docLinkHtml;\n",
              "          element.appendChild(docLink);\n",
              "        }\n",
              "      </script>\n",
              "    </div>\n",
              "  </div>\n",
              "  "
            ]
          },
          "metadata": {},
          "execution_count": 9
        }
      ],
      "source": [
        "vectorizer = CountVectorizer()\n",
        "documents_vectorized = vectorizer.fit_transform(documents_pre_processed).toarray()\n",
        "vocabulary = vectorizer.get_feature_names_out()\n",
        "\n",
        "term_frequency_matrix = pd.DataFrame(documents_vectorized, columns = vocabulary)\n",
        "term_frequency_matrix"
      ]
    },
    {
      "cell_type": "markdown",
      "metadata": {
        "id": "CamMD9Q_hiMi"
      },
      "source": [
        "# Retrieval Method\n",
        "\n",
        "### _Retrieval Method: Query Vectorization and Vocabularization_\n",
        "\n",
        "The code cell below retrieves the query ID numbers. These IDs are combined with the respective query text that has previously been pre-processed, into the list variable `queries`."
      ]
    },
    {
      "cell_type": "code",
      "execution_count": 10,
      "metadata": {
        "id": "9njNuluKH4n-",
        "colab": {
          "base_uri": "https://localhost:8080/"
        },
        "outputId": "33ed4b1a-d131-4624-e5a8-e49cc46b24a7"
      },
      "outputs": [
        {
          "output_type": "stream",
          "name": "stdout",
          "text": [
            "\n",
            "Number of queries with ID: 809\n",
            "\n",
            "Example queries with ID: [0, 'dimension biomateri lack induct properti']\n",
            "\t\t\t [2, 'million uk abnorm prp posit']\n",
            "\t\t\t [4, 'colorect cancer patient diagnos region distant metastasi']\n"
          ]
        }
      ],
      "source": [
        "qid = []\n",
        "for q in dataset.queries_iter():\n",
        "  qid.append(q[0])\n",
        "qid = [eval(x) for x in qid]  # Reading in query IDs and converting to int\n",
        "queries = [list(a) for a in zip(qid, queries_pre_processed)]\n",
        "\n",
        "print('\\nNumber of queries with ID: ' + str(len(queries))\n",
        "      + '\\n\\nExample queries with ID: ' + str(queries[0])\n",
        "      + '\\n\\t\\t\\t ' + str(queries[1])\n",
        "      + '\\n\\t\\t\\t ' + str(queries[2]))"
      ]
    },
    {
      "cell_type": "markdown",
      "source": [
        "The code cell below likewise retrieves the document ID numbers. These IDs are combined with the respective document text that has previously been pre-processed, into the list variable `documents_id`."
      ],
      "metadata": {
        "id": "S_-vxWYqFJwG"
      }
    },
    {
      "cell_type": "code",
      "source": [
        "documents_id = []\n",
        "for doc in corpus:\n",
        "    documents_id.append([doc[0],doc[1]])\n",
        "\n",
        "print('\\nNumber of documents with ID: ' + str(len(documents_id))\n",
        "      + '\\n\\nExample documents with ID: ' + str(documents_id[0])[:50] + \"...']\"\n",
        "      + '\\n\\t\\t\\t   ' + str(documents_id[1])[:50] + \"...']\"\n",
        "      + '\\n\\t\\t\\t   ' + str(documents_id[2])[:50] + \"...']\")"
      ],
      "metadata": {
        "colab": {
          "base_uri": "https://localhost:8080/"
        },
        "id": "lIDhY--NFKE8",
        "outputId": "fabfa501-1065-4ac5-b70c-6888593e7f57"
      },
      "execution_count": 11,
      "outputs": [
        {
          "output_type": "stream",
          "name": "stdout",
          "text": [
            "\n",
            "Number of documents with ID: 5183\n",
            "\n",
            "Example documents with ID: ['4983', 'Alterations of the architecture of cereb...']\n",
            "\t\t\t   ['5836', 'Myelodysplastic syndromes (MDS) are age-...']\n",
            "\t\t\t   ['7912', \"ID elements are short interspersed eleme...']\n"
          ]
        }
      ]
    },
    {
      "cell_type": "markdown",
      "source": [
        "The code cell below sets the query number to be tested."
      ],
      "metadata": {
        "id": "MG_SH3bwDrIH"
      }
    },
    {
      "cell_type": "code",
      "source": [
        "query_num = 1"
      ],
      "metadata": {
        "id": "toK5mGoeDwXi"
      },
      "execution_count": 12,
      "outputs": []
    },
    {
      "cell_type": "code",
      "source": [
        "query_to_be_tested = queries[query_num][1]"
      ],
      "metadata": {
        "id": "9RSIKLFv1A-p"
      },
      "execution_count": 13,
      "outputs": []
    },
    {
      "cell_type": "markdown",
      "source": [
        "The code cell below defines a function `query_vectorizer_vocabularizer` that obtains the vocabulary of the query to be tested `q_vocabulary`. The query is subsequently converted into a term vector `q_tf_vector` with the same number of elements as columns of the previously defined `term_frequency_matrix` (31075 terms). The elements are a $0$ when the respective term is absent and $1$ when it is present.\n",
        "\n",
        "The `q_tf_vector` will subsequently be used as the query representation in the VSM model, and `q_vocabulary` will be used as the query representation in the BM25 model."
      ],
      "metadata": {
        "id": "9tNHEfPZGRim"
      }
    },
    {
      "cell_type": "code",
      "execution_count": 14,
      "metadata": {
        "id": "y4THCxghn2R_"
      },
      "outputs": [],
      "source": [
        "def query_vectorizer_vocabularizer(query_to_be_vectorized):\n",
        "\n",
        "  q_vectorizer = CountVectorizer()\n",
        "  q = q_vectorizer.fit_transform([query_to_be_vectorized])\n",
        "  q_vocabulary = q_vectorizer.get_feature_names_out()\n",
        "  \n",
        "  print('\\t   Vocabulary: ' + str(q_vocabulary) + '')\n",
        "\n",
        "  q_tf_vector = np.array([])\n",
        "  for t in term_frequency_matrix.columns:\n",
        "      if t in q_vocabulary: q_tf_vector = np.append(q_tf_vector,1)\n",
        "      else: q_tf_vector = np.append(q_tf_vector,0)\n",
        "\n",
        "  print('Term-Frequency Vector: ' + str(q_tf_vector) + '' \n",
        "        + ' (Sum = ' + str(round(q_tf_vector.sum(),2)) \n",
        "        + ', Length = ' + str(len(q_tf_vector)) + ')')\n",
        "  \n",
        "  return q_tf_vector, q_vocabulary"
      ]
    },
    {
      "cell_type": "markdown",
      "source": [
        "The previously defined `query_vectorizer_vocabularizer` function is run below for the query to be tested, and returns the variables `q_vocabulary` and `q_tf_vector`."
      ],
      "metadata": {
        "id": "wd7p41e4NAFn"
      }
    },
    {
      "cell_type": "code",
      "source": [
        "print('   Query To Be Tested: \"' + str(query_to_be_tested) + '\"')\n",
        "q_tf_vector, q_vocabulary = query_vectorizer_vocabularizer(query_to_be_tested)"
      ],
      "metadata": {
        "colab": {
          "base_uri": "https://localhost:8080/"
        },
        "id": "CY3yqQMsMJrf",
        "outputId": "2eb03703-0a69-40e8-d55f-f9b2972057c8"
      },
      "execution_count": 15,
      "outputs": [
        {
          "output_type": "stream",
          "name": "stdout",
          "text": [
            "   Query To Be Tested: \"million uk abnorm prp posit\"\n",
            "\t   Vocabulary: ['abnorm' 'million' 'posit' 'prp' 'uk']\n",
            "Term-Frequency Vector: [0. 0. 0. ... 0. 0. 0.] (Sum = 5.0, Length = 31075)\n"
          ]
        }
      ]
    },
    {
      "cell_type": "markdown",
      "metadata": {
        "id": "V5kvxPmcj2PH"
      },
      "source": [
        "### Retrieval Method: Vector Space Model (VSM)"
      ]
    },
    {
      "cell_type": "markdown",
      "source": [
        "The code cell below defines variables that will be used by the Vector Space Model (VSM) retrieval model.\n",
        "\n",
        "- `dfs` represents document frequency. `dfs` is a pandas series where each row corresponds to a term in the vocabulary of the corpus (31075 terms), and each value represents the number of documents that contain that term.\n",
        "\n",
        "- `N` is an integer representing the total number of documents in the corpus (5183).\n",
        "\n",
        "- `idfs` is the inverse document frequency (IDF). It is also a pandas series of the same shape as `dfs`. It is calculated by taking logarithm to base 10 of the result of dividing the total number of documents `N` by the document frequency `dfs` ($log_{10}(N/dfs)$)."
      ],
      "metadata": {
        "id": "VzyQuhVSdURQ"
      }
    },
    {
      "cell_type": "code",
      "source": [
        "dfs = (term_frequency_matrix > 0).sum(axis = 0) # Document frequency.\n",
        "N = term_frequency_matrix.shape[0] # Total number of documents.\n",
        "idfs = np.log10(N/dfs) # Inverse document frequency.\n",
        "print(\"\\nidfs:\\n\\n\" + str(idfs))"
      ],
      "metadata": {
        "colab": {
          "base_uri": "https://localhost:8080/"
        },
        "id": "ivU9cmFWnd7q",
        "outputId": "529ef24b-3aea-4ef2-eff4-af2d500c21a5"
      },
      "execution_count": 16,
      "outputs": [
        {
          "output_type": "stream",
          "name": "stdout",
          "text": [
            "\n",
            "idfs:\n",
            "\n",
            "42           3.714581\n",
            "aa           2.600638\n",
            "aaa          3.112521\n",
            "aaaatpas     3.237460\n",
            "aaafamili    3.714581\n",
            "               ...   \n",
            "zyxin        3.714581\n",
            "zz           3.714581\n",
            "zzw          3.714581\n",
            "zzz          3.714581\n",
            "zzzw         3.714581\n",
            "Length: 31075, dtype: float64\n"
          ]
        }
      ]
    },
    {
      "cell_type": "markdown",
      "source": [
        "All the elements of the previously defined `term_frequency_matrix` are multiplied by the inverse document frequency `idfs`, to obtain a term frequency–inverse document frequency matrix `tf_idf_matrix`."
      ],
      "metadata": {
        "id": "X3aR4En1nehK"
      }
    },
    {
      "cell_type": "code",
      "execution_count": 17,
      "metadata": {
        "id": "SN_7hujCj4yO",
        "colab": {
          "base_uri": "https://localhost:8080/"
        },
        "outputId": "57748b00-7af0-4d24-fde6-4d33b51f0475"
      },
      "outputs": [
        {
          "output_type": "stream",
          "name": "stdout",
          "text": [
            "\n",
            "tf_idf_matrix:\n",
            "\n",
            "[[0. 0. 0. ... 0. 0. 0.]\n",
            " [0. 0. 0. ... 0. 0. 0.]\n",
            " [0. 0. 0. ... 0. 0. 0.]\n",
            " ...\n",
            " [0. 0. 0. ... 0. 0. 0.]\n",
            " [0. 0. 0. ... 0. 0. 0.]\n",
            " [0. 0. 0. ... 0. 0. 0.]]\n",
            "5183 rows by 31075 columns.\n",
            "\n",
            "The sum of all elements in tf_idf_matrix is 1044106, \n",
            "which is up from 643219 for term_frequency_matrix.\n"
          ]
        }
      ],
      "source": [
        "tf_idf_matrix = np.array(term_frequency_matrix * idfs) #TF-IDF matrix.\n",
        "\n",
        "print(\"\\ntf_idf_matrix:\\n\\n\" + str(tf_idf_matrix))\n",
        "print(str(tf_idf_matrix.shape[0]) + \" rows by \" + str(tf_idf_matrix.shape[1]) + \" columns.\")\n",
        "print(\"\\nThe sum of all elements in tf_idf_matrix is \" + str(int(tf_idf_matrix.sum().sum()))\n",
        "      + \", \\nwhich is up from \" + str(term_frequency_matrix.sum().sum())\n",
        "      + \" for term_frequency_matrix.\")"
      ]
    },
    {
      "cell_type": "markdown",
      "source": [
        "As with the `term_frequency_matrix`, the previously defined query term-frequency vector `q_tf_vector` likewise needs to be multiplied by the inverse document frequency, to obtain a TF-IDF vector `q_tf_idf_vector`. The sum of this vector is now 9.6 rather than 5 for the number of terms it contains. This operation is performed by the function defined in the code cell below.\n",
        "\n",
        "The function defined in the code cell below proceeds to calculate the VSM scores for all the documents in the corpus. It does this by calculating the cosine similarity between the document vectors of TF-IDF weights, stored in the TF-IDF matrix `tf_idf_matrix`, and query vector of TF-IDF weights `q_tf_idf_vector` previously defined.\n",
        "\n",
        "The cosine similarity is calculated by dividing the dot product of the two vectors by the product of their Euclidean normalisation."
      ],
      "metadata": {
        "id": "hURkSrN_mfa-"
      }
    },
    {
      "cell_type": "code",
      "execution_count": 18,
      "metadata": {
        "id": "1FzoMS6gkKWH"
      },
      "outputs": [],
      "source": [
        "def VSM(q_tf_vector): # Calculations inferred from Baeza-Yates and Ribeiro-Neto (2011).\n",
        "\n",
        "  q_tf_idf_vector = (q_tf_vector * idfs).values\n",
        "  print('Query TF-IDF Vector:   ' + str(q_tf_idf_vector) \n",
        "        + ' (Sum = ' + str(round(q_tf_idf_vector.sum(),2)) \n",
        "        + ', Length = ' + str(len(q_tf_idf_vector)) + ')')\n",
        "\n",
        "  VSM_scores = []\n",
        "  for d in tf_idf_matrix:\n",
        "      VSM_scores.append(np.dot(d, q_tf_idf_vector)/(norm(d)*norm(q_tf_idf_vector)))\n",
        "\n",
        "  return VSM_scores"
      ]
    },
    {
      "cell_type": "markdown",
      "source": [
        "The previously defined \"VSM\" function is run below and returns the variable `scores`. The query TF-IDF vector it initially creates is displayed."
      ],
      "metadata": {
        "id": "ce3aeHNNPGo7"
      }
    },
    {
      "cell_type": "code",
      "source": [
        "scores = VSM(q_tf_vector)\n",
        "\n",
        "scores_string = ''\n",
        "for s in scores[100:103]:\n",
        "  scores_string += str(s) + ', '\n",
        "print('\"scores\" variable:     [...' + scores_string \n",
        "      + '...] (Sum = ' + str(round(sum(scores),2)) \n",
        "      + ', Length = ' + str(len(scores)) + ')')"
      ],
      "metadata": {
        "colab": {
          "base_uri": "https://localhost:8080/"
        },
        "id": "dSdEg54YPVy3",
        "outputId": "1e40974b-5555-422f-b209-031e290b2c88"
      },
      "execution_count": 19,
      "outputs": [
        {
          "output_type": "stream",
          "name": "stdout",
          "text": [
            "Query TF-IDF Vector:   [0. 0. 0. ... 0. 0. 0.] (Sum = 9.61, Length = 31075)\n",
            "\"scores\" variable:     [...0.0, 0.0, 0.0, ...] (Sum = 13.62, Length = 5183)\n"
          ]
        }
      ]
    },
    {
      "cell_type": "markdown",
      "source": [
        "A function is defined in the code cell below to display a table. The table contains the document ID, document text and retrieval score for each document. The documents are sorted in descending retrieval scores, such that the most similar documents to the query are at the top of the table."
      ],
      "metadata": {
        "id": "A8aRnDeQzJAE"
      }
    },
    {
      "cell_type": "code",
      "source": [
        "def display_ranking(top_n, scores, score_type):\n",
        "\n",
        "  documents_scored = []\n",
        "\n",
        "  for (d,n,s) in zip(documents_id, range(len(documents_id)), scores):\n",
        "    documents_scored.append([])\n",
        "    documents_scored[n].append(int(d[0]))\n",
        "    documents_scored[n].append(d[1])\n",
        "    documents_scored[n].append(s)\n",
        "\n",
        "  documents_scored = sorted(documents_scored, # Sort by descending score.\n",
        "                            key = itemgetter(2), reverse = True)\n",
        "\n",
        "  documents_scored = pd.DataFrame(documents_scored, \n",
        "                                  columns = ['Doc_ID', \n",
        "                                             'Text', \n",
        "                                             score_type + \" Score\"]).set_index('Doc_ID')\n",
        "  return documents_scored.head(top_n)"
      ],
      "metadata": {
        "id": "iB3snOMkre2A"
      },
      "execution_count": 20,
      "outputs": []
    },
    {
      "cell_type": "markdown",
      "source": [
        "The previously defined `display_ranking` function is called in the code cell below, to display the top 10 documents."
      ],
      "metadata": {
        "id": "-tpA32C6Qzr4"
      }
    },
    {
      "cell_type": "code",
      "source": [
        "display_ranking(10, scores, \"VSM\")"
      ],
      "metadata": {
        "colab": {
          "base_uri": "https://localhost:8080/",
          "height": 394
        },
        "id": "Wnio4GmpPg2X",
        "outputId": "e1f32f29-7684-4b5d-d6f2-a7cb2d3b5e7b"
      },
      "execution_count": 21,
      "outputs": [
        {
          "output_type": "execute_result",
          "data": {
            "text/plain": [
              "                                                       Text  VSM Score\n",
              "Doc_ID                                                                \n",
              "13734012  OBJECTIVES To carry out a further survey of ar...   0.364472\n",
              "26059876  Ku70, a known nonhomologous end-joining (NHEJ)...   0.352551\n",
              "13770184  BACKGROUND The Global Burden of Diseases, Inju...   0.238112\n",
              "3716075   BACKGROUND Dengue is the most common arbovirus...   0.168597\n",
              "14610165  Antisense transcription is widespread in many ...   0.128051\n",
              "23531592  By the year 2000 there will be six million pre...   0.109300\n",
              "11880289  BACKGROUND Age-specific effects of mammographi...   0.108722\n",
              "11936877  Soil erosion is a major environmental threat t...   0.095828\n",
              "841371    OBJECTIVE To assess the robustness of patient ...   0.090755\n",
              "17415081  Over 75% of the annual estimated 9.5 million d...   0.088232"
            ],
            "text/html": [
              "\n",
              "  <div id=\"df-82245658-d3cb-4a22-9891-633eb7c18639\">\n",
              "    <div class=\"colab-df-container\">\n",
              "      <div>\n",
              "<style scoped>\n",
              "    .dataframe tbody tr th:only-of-type {\n",
              "        vertical-align: middle;\n",
              "    }\n",
              "\n",
              "    .dataframe tbody tr th {\n",
              "        vertical-align: top;\n",
              "    }\n",
              "\n",
              "    .dataframe thead th {\n",
              "        text-align: right;\n",
              "    }\n",
              "</style>\n",
              "<table border=\"1\" class=\"dataframe\">\n",
              "  <thead>\n",
              "    <tr style=\"text-align: right;\">\n",
              "      <th></th>\n",
              "      <th>Text</th>\n",
              "      <th>VSM Score</th>\n",
              "    </tr>\n",
              "    <tr>\n",
              "      <th>Doc_ID</th>\n",
              "      <th></th>\n",
              "      <th></th>\n",
              "    </tr>\n",
              "  </thead>\n",
              "  <tbody>\n",
              "    <tr>\n",
              "      <th>13734012</th>\n",
              "      <td>OBJECTIVES To carry out a further survey of ar...</td>\n",
              "      <td>0.364472</td>\n",
              "    </tr>\n",
              "    <tr>\n",
              "      <th>26059876</th>\n",
              "      <td>Ku70, a known nonhomologous end-joining (NHEJ)...</td>\n",
              "      <td>0.352551</td>\n",
              "    </tr>\n",
              "    <tr>\n",
              "      <th>13770184</th>\n",
              "      <td>BACKGROUND The Global Burden of Diseases, Inju...</td>\n",
              "      <td>0.238112</td>\n",
              "    </tr>\n",
              "    <tr>\n",
              "      <th>3716075</th>\n",
              "      <td>BACKGROUND Dengue is the most common arbovirus...</td>\n",
              "      <td>0.168597</td>\n",
              "    </tr>\n",
              "    <tr>\n",
              "      <th>14610165</th>\n",
              "      <td>Antisense transcription is widespread in many ...</td>\n",
              "      <td>0.128051</td>\n",
              "    </tr>\n",
              "    <tr>\n",
              "      <th>23531592</th>\n",
              "      <td>By the year 2000 there will be six million pre...</td>\n",
              "      <td>0.109300</td>\n",
              "    </tr>\n",
              "    <tr>\n",
              "      <th>11880289</th>\n",
              "      <td>BACKGROUND Age-specific effects of mammographi...</td>\n",
              "      <td>0.108722</td>\n",
              "    </tr>\n",
              "    <tr>\n",
              "      <th>11936877</th>\n",
              "      <td>Soil erosion is a major environmental threat t...</td>\n",
              "      <td>0.095828</td>\n",
              "    </tr>\n",
              "    <tr>\n",
              "      <th>841371</th>\n",
              "      <td>OBJECTIVE To assess the robustness of patient ...</td>\n",
              "      <td>0.090755</td>\n",
              "    </tr>\n",
              "    <tr>\n",
              "      <th>17415081</th>\n",
              "      <td>Over 75% of the annual estimated 9.5 million d...</td>\n",
              "      <td>0.088232</td>\n",
              "    </tr>\n",
              "  </tbody>\n",
              "</table>\n",
              "</div>\n",
              "      <button class=\"colab-df-convert\" onclick=\"convertToInteractive('df-82245658-d3cb-4a22-9891-633eb7c18639')\"\n",
              "              title=\"Convert this dataframe to an interactive table.\"\n",
              "              style=\"display:none;\">\n",
              "        \n",
              "  <svg xmlns=\"http://www.w3.org/2000/svg\" height=\"24px\"viewBox=\"0 0 24 24\"\n",
              "       width=\"24px\">\n",
              "    <path d=\"M0 0h24v24H0V0z\" fill=\"none\"/>\n",
              "    <path d=\"M18.56 5.44l.94 2.06.94-2.06 2.06-.94-2.06-.94-.94-2.06-.94 2.06-2.06.94zm-11 1L8.5 8.5l.94-2.06 2.06-.94-2.06-.94L8.5 2.5l-.94 2.06-2.06.94zm10 10l.94 2.06.94-2.06 2.06-.94-2.06-.94-.94-2.06-.94 2.06-2.06.94z\"/><path d=\"M17.41 7.96l-1.37-1.37c-.4-.4-.92-.59-1.43-.59-.52 0-1.04.2-1.43.59L10.3 9.45l-7.72 7.72c-.78.78-.78 2.05 0 2.83L4 21.41c.39.39.9.59 1.41.59.51 0 1.02-.2 1.41-.59l7.78-7.78 2.81-2.81c.8-.78.8-2.07 0-2.86zM5.41 20L4 18.59l7.72-7.72 1.47 1.35L5.41 20z\"/>\n",
              "  </svg>\n",
              "      </button>\n",
              "      \n",
              "  <style>\n",
              "    .colab-df-container {\n",
              "      display:flex;\n",
              "      flex-wrap:wrap;\n",
              "      gap: 12px;\n",
              "    }\n",
              "\n",
              "    .colab-df-convert {\n",
              "      background-color: #E8F0FE;\n",
              "      border: none;\n",
              "      border-radius: 50%;\n",
              "      cursor: pointer;\n",
              "      display: none;\n",
              "      fill: #1967D2;\n",
              "      height: 32px;\n",
              "      padding: 0 0 0 0;\n",
              "      width: 32px;\n",
              "    }\n",
              "\n",
              "    .colab-df-convert:hover {\n",
              "      background-color: #E2EBFA;\n",
              "      box-shadow: 0px 1px 2px rgba(60, 64, 67, 0.3), 0px 1px 3px 1px rgba(60, 64, 67, 0.15);\n",
              "      fill: #174EA6;\n",
              "    }\n",
              "\n",
              "    [theme=dark] .colab-df-convert {\n",
              "      background-color: #3B4455;\n",
              "      fill: #D2E3FC;\n",
              "    }\n",
              "\n",
              "    [theme=dark] .colab-df-convert:hover {\n",
              "      background-color: #434B5C;\n",
              "      box-shadow: 0px 1px 3px 1px rgba(0, 0, 0, 0.15);\n",
              "      filter: drop-shadow(0px 1px 2px rgba(0, 0, 0, 0.3));\n",
              "      fill: #FFFFFF;\n",
              "    }\n",
              "  </style>\n",
              "\n",
              "      <script>\n",
              "        const buttonEl =\n",
              "          document.querySelector('#df-82245658-d3cb-4a22-9891-633eb7c18639 button.colab-df-convert');\n",
              "        buttonEl.style.display =\n",
              "          google.colab.kernel.accessAllowed ? 'block' : 'none';\n",
              "\n",
              "        async function convertToInteractive(key) {\n",
              "          const element = document.querySelector('#df-82245658-d3cb-4a22-9891-633eb7c18639');\n",
              "          const dataTable =\n",
              "            await google.colab.kernel.invokeFunction('convertToInteractive',\n",
              "                                                     [key], {});\n",
              "          if (!dataTable) return;\n",
              "\n",
              "          const docLinkHtml = 'Like what you see? Visit the ' +\n",
              "            '<a target=\"_blank\" href=https://colab.research.google.com/notebooks/data_table.ipynb>data table notebook</a>'\n",
              "            + ' to learn more about interactive tables.';\n",
              "          element.innerHTML = '';\n",
              "          dataTable['output_type'] = 'display_data';\n",
              "          await google.colab.output.renderOutput(dataTable, element);\n",
              "          const docLink = document.createElement('div');\n",
              "          docLink.innerHTML = docLinkHtml;\n",
              "          element.appendChild(docLink);\n",
              "        }\n",
              "      </script>\n",
              "    </div>\n",
              "  </div>\n",
              "  "
            ]
          },
          "metadata": {},
          "execution_count": 21
        }
      ]
    },
    {
      "cell_type": "markdown",
      "metadata": {
        "id": "2cs52RiGkp9_"
      },
      "source": [
        "### Retrieval Method: Best Match 25 (BM25)"
      ]
    },
    {
      "cell_type": "markdown",
      "source": [
        "The code cell below defines variables that will be used by the Best Match 25 (BM25) retrieval model.\n",
        "\n",
        "- `dls` represents document length. `dls` is a list containing the respective document length for each document indexed in the previously defined `term_frequency_matrix`. The length has been calculated by summing over the columns in the `term_frequency_matrix`, which has the benefit of ignoring stop words that have been  previously removed by the `pre_processing` function.\n",
        "\n",
        "- `avgdl` represents average document length, calculated as mean of `dls`.\n",
        "\n",
        "- Standard values have been used for hyperparameters `k_1` and `b` of 1.2 and 0.8 respectively.\n",
        "\n",
        "The numerator is calculated by multiplying the previously defined TF weights in `term_frequency_matrix` by the result of adding 1 to the hyperparameter `k_1`: $TF * (k_1 + 1)$.\n",
        "\n",
        "The denominator is calculated by the following formula: $TF + (k_1 * (1 - b + (b * (dls/avgdl))))$.\n",
        "\n",
        "The result of dividing the numerator by the denominator is multiplied by the inverse document frequencies previously defined as `idfs`.\n",
        "\n",
        "The resulting BM25 weights are collected in the matrix `BM25_matrix`, displayed below."
      ],
      "metadata": {
        "id": "42QfDgzM2xH9"
      }
    },
    {
      "cell_type": "code",
      "execution_count": 22,
      "metadata": {
        "id": "OtpbYAsEk7up"
      },
      "outputs": [],
      "source": [
        "k_1 = 1.2 # Standard hyperparameter.\n",
        "b = 0.8   # Standard hyperparameter.\n",
        "dls = term_frequency_matrix.sum(axis=1).tolist() # Document length.\n",
        "avgdl = np.mean(dls) # Mean document length.\n",
        "\n",
        "# Applying the BM25 formula:\n",
        "numerator = np.array(term_frequency_matrix * (k_1 + 1))\n",
        "denominator = np.array(term_frequency_matrix) \\\n",
        "              + np.array(k_1 * ((1 - b) + (b * (dls / avgdl)))).reshape(N,1)\n",
        "BM25_matrix = (numerator / denominator) * np.array(idfs)\n",
        "BM25_matrix = pd.DataFrame(BM25_matrix, columns = vocabulary)"
      ]
    },
    {
      "cell_type": "code",
      "source": [
        "print(\"\\nBM25_matrix (first 5 rows and 5 columns):\\n\\n\" + str(BM25_matrix.iloc[:5,:5]))\n",
        "print(str(BM25_matrix.shape[0]) + \" rows by \" + str(BM25_matrix.shape[1]) + \" columns.\")\n",
        "print(\"\\nThe sum of all elements in BM25_matrix is \" + str(int(BM25_matrix.sum().sum()))\n",
        "      + \", \\nwhich is up from \" + str(term_frequency_matrix.sum().sum())\n",
        "      + \" for term_frequency_matrix.\")"
      ],
      "metadata": {
        "colab": {
          "base_uri": "https://localhost:8080/"
        },
        "id": "Me3yknJGtR6Z",
        "outputId": "fe8d03ea-eeab-4764-efde-7a39c9791472"
      },
      "execution_count": 23,
      "outputs": [
        {
          "output_type": "stream",
          "name": "stdout",
          "text": [
            "\n",
            "BM25_matrix (first 5 rows and 5 columns):\n",
            "\n",
            "    42   aa  aaa  aaaatpas  aaafamili\n",
            "0  0.0  0.0  0.0       0.0        0.0\n",
            "1  0.0  0.0  0.0       0.0        0.0\n",
            "2  0.0  0.0  0.0       0.0        0.0\n",
            "3  0.0  0.0  0.0       0.0        0.0\n",
            "4  0.0  0.0  0.0       0.0        0.0\n",
            "5183 rows by 31075 columns.\n",
            "\n",
            "The sum of all elements in BM25_matrix is 748189, \n",
            "which is up from 643219 for term_frequency_matrix.\n"
          ]
        }
      ]
    },
    {
      "cell_type": "markdown",
      "source": [
        "The code cell below defines a function that calculates the BM25 scores for all the documents in the corpus. It does this by first filtering the query vocabulary `q_vocabulary` to only include terms present in the vocabulary of the corpus, to produce the new variable `q_vocabulary_in_docs`. BM25 scores are then calculated as the sum of all the BM25 weights in the previously defined BM25_matrix, for all terms that appear in the query."
      ],
      "metadata": {
        "id": "kOvAR_b5BanT"
      }
    },
    {
      "cell_type": "code",
      "execution_count": 24,
      "metadata": {
        "id": "ypvq9CGBl6Is"
      },
      "outputs": [],
      "source": [
        "def BM25(q_vocabulary): # Calculations inferred from Baeza-Yates and Ribeiro-Neto (2011).\n",
        "\n",
        "  q_vocabulary_in_docs = [term for term in q_vocabulary   # Query terms not in \n",
        "                          if term in BM25_matrix.columns] # documents are removed.\n",
        "\n",
        "  BM25_scores = BM25_matrix[q_vocabulary_in_docs].sum(axis = 1)\n",
        "\n",
        "  return BM25_scores"
      ]
    },
    {
      "cell_type": "markdown",
      "source": [
        "The previously defined `BM25` function is run below and returns the variable `scores`, which has the same format as returned by the previous `VSM` function, a pandas series with 5183 elements."
      ],
      "metadata": {
        "id": "VBY_KrHTTZcI"
      }
    },
    {
      "cell_type": "code",
      "source": [
        "scores = BM25(q_vocabulary)"
      ],
      "metadata": {
        "id": "cAdHZwlETfXN"
      },
      "execution_count": 25,
      "outputs": []
    },
    {
      "cell_type": "markdown",
      "source": [
        "A table is displayed by the code cell below, which contains the document ID, document text and BM25 score for each document. The documents are sorted in descending BM25 scores, such that the most similar documents to the query are at the top of the table."
      ],
      "metadata": {
        "id": "qDiLsfkPB8wJ"
      }
    },
    {
      "cell_type": "code",
      "source": [
        "display_ranking(10, scores, \"BM25\")"
      ],
      "metadata": {
        "colab": {
          "base_uri": "https://localhost:8080/",
          "height": 394
        },
        "id": "P4z7q3a9AfOX",
        "outputId": "121abfa1-495c-4681-c737-be50f7c9e757"
      },
      "execution_count": 26,
      "outputs": [
        {
          "output_type": "execute_result",
          "data": {
            "text/plain": [
              "                                                       Text  BM25 Score\n",
              "Doc_ID                                                                 \n",
              "13734012  OBJECTIVES To carry out a further survey of ar...   13.009034\n",
              "26059876  Ku70, a known nonhomologous end-joining (NHEJ)...    7.475744\n",
              "841371    OBJECTIVE To assess the robustness of patient ...    4.750421\n",
              "14610165  Antisense transcription is widespread in many ...    4.739075\n",
              "32481310  Hemolysates of erythrocytes from more than a q...    4.244058\n",
              "4828631   BACKGROUND High body-mass index (BMI) predispo...    4.153526\n",
              "18617259  We report a case of preclinical variant Creutz...    4.084513\n",
              "13770184  BACKGROUND The Global Burden of Diseases, Inju...    3.523895\n",
              "11271123  Endometrial cancer is associated with numeric ...    3.474263\n",
              "374902    BACKGROUND Roughly 3 million people worldwide ...    3.455990"
            ],
            "text/html": [
              "\n",
              "  <div id=\"df-cef4d4fe-7208-44e2-b446-1ec8957e2578\">\n",
              "    <div class=\"colab-df-container\">\n",
              "      <div>\n",
              "<style scoped>\n",
              "    .dataframe tbody tr th:only-of-type {\n",
              "        vertical-align: middle;\n",
              "    }\n",
              "\n",
              "    .dataframe tbody tr th {\n",
              "        vertical-align: top;\n",
              "    }\n",
              "\n",
              "    .dataframe thead th {\n",
              "        text-align: right;\n",
              "    }\n",
              "</style>\n",
              "<table border=\"1\" class=\"dataframe\">\n",
              "  <thead>\n",
              "    <tr style=\"text-align: right;\">\n",
              "      <th></th>\n",
              "      <th>Text</th>\n",
              "      <th>BM25 Score</th>\n",
              "    </tr>\n",
              "    <tr>\n",
              "      <th>Doc_ID</th>\n",
              "      <th></th>\n",
              "      <th></th>\n",
              "    </tr>\n",
              "  </thead>\n",
              "  <tbody>\n",
              "    <tr>\n",
              "      <th>13734012</th>\n",
              "      <td>OBJECTIVES To carry out a further survey of ar...</td>\n",
              "      <td>13.009034</td>\n",
              "    </tr>\n",
              "    <tr>\n",
              "      <th>26059876</th>\n",
              "      <td>Ku70, a known nonhomologous end-joining (NHEJ)...</td>\n",
              "      <td>7.475744</td>\n",
              "    </tr>\n",
              "    <tr>\n",
              "      <th>841371</th>\n",
              "      <td>OBJECTIVE To assess the robustness of patient ...</td>\n",
              "      <td>4.750421</td>\n",
              "    </tr>\n",
              "    <tr>\n",
              "      <th>14610165</th>\n",
              "      <td>Antisense transcription is widespread in many ...</td>\n",
              "      <td>4.739075</td>\n",
              "    </tr>\n",
              "    <tr>\n",
              "      <th>32481310</th>\n",
              "      <td>Hemolysates of erythrocytes from more than a q...</td>\n",
              "      <td>4.244058</td>\n",
              "    </tr>\n",
              "    <tr>\n",
              "      <th>4828631</th>\n",
              "      <td>BACKGROUND High body-mass index (BMI) predispo...</td>\n",
              "      <td>4.153526</td>\n",
              "    </tr>\n",
              "    <tr>\n",
              "      <th>18617259</th>\n",
              "      <td>We report a case of preclinical variant Creutz...</td>\n",
              "      <td>4.084513</td>\n",
              "    </tr>\n",
              "    <tr>\n",
              "      <th>13770184</th>\n",
              "      <td>BACKGROUND The Global Burden of Diseases, Inju...</td>\n",
              "      <td>3.523895</td>\n",
              "    </tr>\n",
              "    <tr>\n",
              "      <th>11271123</th>\n",
              "      <td>Endometrial cancer is associated with numeric ...</td>\n",
              "      <td>3.474263</td>\n",
              "    </tr>\n",
              "    <tr>\n",
              "      <th>374902</th>\n",
              "      <td>BACKGROUND Roughly 3 million people worldwide ...</td>\n",
              "      <td>3.455990</td>\n",
              "    </tr>\n",
              "  </tbody>\n",
              "</table>\n",
              "</div>\n",
              "      <button class=\"colab-df-convert\" onclick=\"convertToInteractive('df-cef4d4fe-7208-44e2-b446-1ec8957e2578')\"\n",
              "              title=\"Convert this dataframe to an interactive table.\"\n",
              "              style=\"display:none;\">\n",
              "        \n",
              "  <svg xmlns=\"http://www.w3.org/2000/svg\" height=\"24px\"viewBox=\"0 0 24 24\"\n",
              "       width=\"24px\">\n",
              "    <path d=\"M0 0h24v24H0V0z\" fill=\"none\"/>\n",
              "    <path d=\"M18.56 5.44l.94 2.06.94-2.06 2.06-.94-2.06-.94-.94-2.06-.94 2.06-2.06.94zm-11 1L8.5 8.5l.94-2.06 2.06-.94-2.06-.94L8.5 2.5l-.94 2.06-2.06.94zm10 10l.94 2.06.94-2.06 2.06-.94-2.06-.94-.94-2.06-.94 2.06-2.06.94z\"/><path d=\"M17.41 7.96l-1.37-1.37c-.4-.4-.92-.59-1.43-.59-.52 0-1.04.2-1.43.59L10.3 9.45l-7.72 7.72c-.78.78-.78 2.05 0 2.83L4 21.41c.39.39.9.59 1.41.59.51 0 1.02-.2 1.41-.59l7.78-7.78 2.81-2.81c.8-.78.8-2.07 0-2.86zM5.41 20L4 18.59l7.72-7.72 1.47 1.35L5.41 20z\"/>\n",
              "  </svg>\n",
              "      </button>\n",
              "      \n",
              "  <style>\n",
              "    .colab-df-container {\n",
              "      display:flex;\n",
              "      flex-wrap:wrap;\n",
              "      gap: 12px;\n",
              "    }\n",
              "\n",
              "    .colab-df-convert {\n",
              "      background-color: #E8F0FE;\n",
              "      border: none;\n",
              "      border-radius: 50%;\n",
              "      cursor: pointer;\n",
              "      display: none;\n",
              "      fill: #1967D2;\n",
              "      height: 32px;\n",
              "      padding: 0 0 0 0;\n",
              "      width: 32px;\n",
              "    }\n",
              "\n",
              "    .colab-df-convert:hover {\n",
              "      background-color: #E2EBFA;\n",
              "      box-shadow: 0px 1px 2px rgba(60, 64, 67, 0.3), 0px 1px 3px 1px rgba(60, 64, 67, 0.15);\n",
              "      fill: #174EA6;\n",
              "    }\n",
              "\n",
              "    [theme=dark] .colab-df-convert {\n",
              "      background-color: #3B4455;\n",
              "      fill: #D2E3FC;\n",
              "    }\n",
              "\n",
              "    [theme=dark] .colab-df-convert:hover {\n",
              "      background-color: #434B5C;\n",
              "      box-shadow: 0px 1px 3px 1px rgba(0, 0, 0, 0.15);\n",
              "      filter: drop-shadow(0px 1px 2px rgba(0, 0, 0, 0.3));\n",
              "      fill: #FFFFFF;\n",
              "    }\n",
              "  </style>\n",
              "\n",
              "      <script>\n",
              "        const buttonEl =\n",
              "          document.querySelector('#df-cef4d4fe-7208-44e2-b446-1ec8957e2578 button.colab-df-convert');\n",
              "        buttonEl.style.display =\n",
              "          google.colab.kernel.accessAllowed ? 'block' : 'none';\n",
              "\n",
              "        async function convertToInteractive(key) {\n",
              "          const element = document.querySelector('#df-cef4d4fe-7208-44e2-b446-1ec8957e2578');\n",
              "          const dataTable =\n",
              "            await google.colab.kernel.invokeFunction('convertToInteractive',\n",
              "                                                     [key], {});\n",
              "          if (!dataTable) return;\n",
              "\n",
              "          const docLinkHtml = 'Like what you see? Visit the ' +\n",
              "            '<a target=\"_blank\" href=https://colab.research.google.com/notebooks/data_table.ipynb>data table notebook</a>'\n",
              "            + ' to learn more about interactive tables.';\n",
              "          element.innerHTML = '';\n",
              "          dataTable['output_type'] = 'display_data';\n",
              "          await google.colab.output.renderOutput(dataTable, element);\n",
              "          const docLink = document.createElement('div');\n",
              "          docLink.innerHTML = docLinkHtml;\n",
              "          element.appendChild(docLink);\n",
              "        }\n",
              "      </script>\n",
              "    </div>\n",
              "  </div>\n",
              "  "
            ]
          },
          "metadata": {},
          "execution_count": 26
        }
      ]
    },
    {
      "cell_type": "markdown",
      "source": [
        "# Command Line Implementation"
      ],
      "metadata": {
        "id": "Vw_3IetLJcos"
      }
    },
    {
      "cell_type": "markdown",
      "source": [
        "A function `search_engine` has been defined in the code cell below to enable the user to enter a string and receive a display of ranked documents. The function enables the user to select whether they want the VSM or BM25 retrieval model to be used, and to specify the number of top results they want displayed."
      ],
      "metadata": {
        "id": "a0OnjQCzZLg_"
      }
    },
    {
      "cell_type": "code",
      "source": [
        "def search_engine(query_to_be_tested, retrieval_model = \"VSM\", top_n = 10):\n",
        "\n",
        "  print('\\n   Query to be tested: \"' + str(query_to_be_tested) + '\"')\n",
        "\n",
        "  pre_processed_query = pre_processing([query_to_be_tested])[0]\n",
        "\n",
        "  print('\\n  Pre-Processed Query: \"' + str(pre_processed_query) + '\"')\n",
        "  \n",
        "  q_tf_vector, q_vocabulary = query_vectorizer_vocabularizer(pre_processed_query)\n",
        "\n",
        "  if retrieval_model == \"VSM\":  scores = VSM(q_tf_vector)\n",
        "  if retrieval_model == \"BM25\": scores = BM25(q_vocabulary)\n",
        "\n",
        "  return display_ranking(top_n, scores, retrieval_model)"
      ],
      "metadata": {
        "id": "0oUs8H_nKKTE"
      },
      "execution_count": 27,
      "outputs": []
    },
    {
      "cell_type": "markdown",
      "source": [
        "The `search_engine` function is called below for the query \"Brown fat is a specialized fat depot\" and VSM retrieval model."
      ],
      "metadata": {
        "id": "gZoNeYWtZiJG"
      }
    },
    {
      "cell_type": "code",
      "source": [
        "search_engine(\"Brown fat is a specialized fat depot?\", \"VSM\")"
      ],
      "metadata": {
        "colab": {
          "base_uri": "https://localhost:8080/",
          "height": 516
        },
        "id": "LfHUnzvXUh8Y",
        "outputId": "3d007d91-5e25-4ab2-dcd2-3f6d4e815ee5"
      },
      "execution_count": 28,
      "outputs": [
        {
          "output_type": "stream",
          "name": "stdout",
          "text": [
            "\n",
            "   Query to be tested: \"Brown fat is a specialized fat depot?\"\n",
            "\n",
            "  Pre-Processed Query: \"brown fat special fat depot\"\n",
            "\t   Vocabulary: ['brown' 'depot' 'fat' 'special']\n",
            "Term-Frequency Vector: [0. 0. 0. ... 0. 0. 0.] (Sum = 4.0, Length = 31075)\n",
            "Query TF-IDF Vector:   [0. 0. 0. ... 0. 0. 0.] (Sum = 8.28, Length = 31075)\n"
          ]
        },
        {
          "output_type": "execute_result",
          "data": {
            "text/plain": [
              "                                                       Text  VSM Score\n",
              "Doc_ID                                                                \n",
              "14865329  Brown fat is a specialized fat depot that can ...   0.618403\n",
              "29381091  Brown adipocytes dissipate energy, whereas whi...   0.463040\n",
              "20532591  White adipose tissue displays high plasticity....   0.344243\n",
              "38023457  Severe quantitative and qualitative brown adip...   0.313916\n",
              "36558211  OBJECTIVES To explore the different characteri...   0.297875\n",
              "26902591  Cancer-associated cachexia (CAC) is a wasting ...   0.201231\n",
              "19205437  Uncoupling protein 1 (UCP1) plays a central ro...   0.170187\n",
              "25974070  The amount and type of dietary fat have long b...   0.163213\n",
              "13277118  BACKGROUND Polar bears (Ursus maritimus) are a...   0.160586\n",
              "41310252  The epidemiological evidence that a high-fat d...   0.160574"
            ],
            "text/html": [
              "\n",
              "  <div id=\"df-23d485d1-f91d-4ffd-abb9-eda7036fe0ae\">\n",
              "    <div class=\"colab-df-container\">\n",
              "      <div>\n",
              "<style scoped>\n",
              "    .dataframe tbody tr th:only-of-type {\n",
              "        vertical-align: middle;\n",
              "    }\n",
              "\n",
              "    .dataframe tbody tr th {\n",
              "        vertical-align: top;\n",
              "    }\n",
              "\n",
              "    .dataframe thead th {\n",
              "        text-align: right;\n",
              "    }\n",
              "</style>\n",
              "<table border=\"1\" class=\"dataframe\">\n",
              "  <thead>\n",
              "    <tr style=\"text-align: right;\">\n",
              "      <th></th>\n",
              "      <th>Text</th>\n",
              "      <th>VSM Score</th>\n",
              "    </tr>\n",
              "    <tr>\n",
              "      <th>Doc_ID</th>\n",
              "      <th></th>\n",
              "      <th></th>\n",
              "    </tr>\n",
              "  </thead>\n",
              "  <tbody>\n",
              "    <tr>\n",
              "      <th>14865329</th>\n",
              "      <td>Brown fat is a specialized fat depot that can ...</td>\n",
              "      <td>0.618403</td>\n",
              "    </tr>\n",
              "    <tr>\n",
              "      <th>29381091</th>\n",
              "      <td>Brown adipocytes dissipate energy, whereas whi...</td>\n",
              "      <td>0.463040</td>\n",
              "    </tr>\n",
              "    <tr>\n",
              "      <th>20532591</th>\n",
              "      <td>White adipose tissue displays high plasticity....</td>\n",
              "      <td>0.344243</td>\n",
              "    </tr>\n",
              "    <tr>\n",
              "      <th>38023457</th>\n",
              "      <td>Severe quantitative and qualitative brown adip...</td>\n",
              "      <td>0.313916</td>\n",
              "    </tr>\n",
              "    <tr>\n",
              "      <th>36558211</th>\n",
              "      <td>OBJECTIVES To explore the different characteri...</td>\n",
              "      <td>0.297875</td>\n",
              "    </tr>\n",
              "    <tr>\n",
              "      <th>26902591</th>\n",
              "      <td>Cancer-associated cachexia (CAC) is a wasting ...</td>\n",
              "      <td>0.201231</td>\n",
              "    </tr>\n",
              "    <tr>\n",
              "      <th>19205437</th>\n",
              "      <td>Uncoupling protein 1 (UCP1) plays a central ro...</td>\n",
              "      <td>0.170187</td>\n",
              "    </tr>\n",
              "    <tr>\n",
              "      <th>25974070</th>\n",
              "      <td>The amount and type of dietary fat have long b...</td>\n",
              "      <td>0.163213</td>\n",
              "    </tr>\n",
              "    <tr>\n",
              "      <th>13277118</th>\n",
              "      <td>BACKGROUND Polar bears (Ursus maritimus) are a...</td>\n",
              "      <td>0.160586</td>\n",
              "    </tr>\n",
              "    <tr>\n",
              "      <th>41310252</th>\n",
              "      <td>The epidemiological evidence that a high-fat d...</td>\n",
              "      <td>0.160574</td>\n",
              "    </tr>\n",
              "  </tbody>\n",
              "</table>\n",
              "</div>\n",
              "      <button class=\"colab-df-convert\" onclick=\"convertToInteractive('df-23d485d1-f91d-4ffd-abb9-eda7036fe0ae')\"\n",
              "              title=\"Convert this dataframe to an interactive table.\"\n",
              "              style=\"display:none;\">\n",
              "        \n",
              "  <svg xmlns=\"http://www.w3.org/2000/svg\" height=\"24px\"viewBox=\"0 0 24 24\"\n",
              "       width=\"24px\">\n",
              "    <path d=\"M0 0h24v24H0V0z\" fill=\"none\"/>\n",
              "    <path d=\"M18.56 5.44l.94 2.06.94-2.06 2.06-.94-2.06-.94-.94-2.06-.94 2.06-2.06.94zm-11 1L8.5 8.5l.94-2.06 2.06-.94-2.06-.94L8.5 2.5l-.94 2.06-2.06.94zm10 10l.94 2.06.94-2.06 2.06-.94-2.06-.94-.94-2.06-.94 2.06-2.06.94z\"/><path d=\"M17.41 7.96l-1.37-1.37c-.4-.4-.92-.59-1.43-.59-.52 0-1.04.2-1.43.59L10.3 9.45l-7.72 7.72c-.78.78-.78 2.05 0 2.83L4 21.41c.39.39.9.59 1.41.59.51 0 1.02-.2 1.41-.59l7.78-7.78 2.81-2.81c.8-.78.8-2.07 0-2.86zM5.41 20L4 18.59l7.72-7.72 1.47 1.35L5.41 20z\"/>\n",
              "  </svg>\n",
              "      </button>\n",
              "      \n",
              "  <style>\n",
              "    .colab-df-container {\n",
              "      display:flex;\n",
              "      flex-wrap:wrap;\n",
              "      gap: 12px;\n",
              "    }\n",
              "\n",
              "    .colab-df-convert {\n",
              "      background-color: #E8F0FE;\n",
              "      border: none;\n",
              "      border-radius: 50%;\n",
              "      cursor: pointer;\n",
              "      display: none;\n",
              "      fill: #1967D2;\n",
              "      height: 32px;\n",
              "      padding: 0 0 0 0;\n",
              "      width: 32px;\n",
              "    }\n",
              "\n",
              "    .colab-df-convert:hover {\n",
              "      background-color: #E2EBFA;\n",
              "      box-shadow: 0px 1px 2px rgba(60, 64, 67, 0.3), 0px 1px 3px 1px rgba(60, 64, 67, 0.15);\n",
              "      fill: #174EA6;\n",
              "    }\n",
              "\n",
              "    [theme=dark] .colab-df-convert {\n",
              "      background-color: #3B4455;\n",
              "      fill: #D2E3FC;\n",
              "    }\n",
              "\n",
              "    [theme=dark] .colab-df-convert:hover {\n",
              "      background-color: #434B5C;\n",
              "      box-shadow: 0px 1px 3px 1px rgba(0, 0, 0, 0.15);\n",
              "      filter: drop-shadow(0px 1px 2px rgba(0, 0, 0, 0.3));\n",
              "      fill: #FFFFFF;\n",
              "    }\n",
              "  </style>\n",
              "\n",
              "      <script>\n",
              "        const buttonEl =\n",
              "          document.querySelector('#df-23d485d1-f91d-4ffd-abb9-eda7036fe0ae button.colab-df-convert');\n",
              "        buttonEl.style.display =\n",
              "          google.colab.kernel.accessAllowed ? 'block' : 'none';\n",
              "\n",
              "        async function convertToInteractive(key) {\n",
              "          const element = document.querySelector('#df-23d485d1-f91d-4ffd-abb9-eda7036fe0ae');\n",
              "          const dataTable =\n",
              "            await google.colab.kernel.invokeFunction('convertToInteractive',\n",
              "                                                     [key], {});\n",
              "          if (!dataTable) return;\n",
              "\n",
              "          const docLinkHtml = 'Like what you see? Visit the ' +\n",
              "            '<a target=\"_blank\" href=https://colab.research.google.com/notebooks/data_table.ipynb>data table notebook</a>'\n",
              "            + ' to learn more about interactive tables.';\n",
              "          element.innerHTML = '';\n",
              "          dataTable['output_type'] = 'display_data';\n",
              "          await google.colab.output.renderOutput(dataTable, element);\n",
              "          const docLink = document.createElement('div');\n",
              "          docLink.innerHTML = docLinkHtml;\n",
              "          element.appendChild(docLink);\n",
              "        }\n",
              "      </script>\n",
              "    </div>\n",
              "  </div>\n",
              "  "
            ]
          },
          "metadata": {},
          "execution_count": 28
        }
      ]
    },
    {
      "cell_type": "markdown",
      "source": [
        "The `search_engine` function is called below for the query \"Alterations of the architecture of cerebral white matter\" and BM25 retrieval model."
      ],
      "metadata": {
        "id": "cu0VzKbXZphE"
      }
    },
    {
      "cell_type": "code",
      "source": [
        "search_engine(\"Alterations of the architecture of cerebral white matter!\", \"BM25\")"
      ],
      "metadata": {
        "colab": {
          "base_uri": "https://localhost:8080/",
          "height": 499
        },
        "id": "jOHXtaBMX9Yo",
        "outputId": "aa823ae1-122f-4457-8282-eb896c0857c1"
      },
      "execution_count": 29,
      "outputs": [
        {
          "output_type": "stream",
          "name": "stdout",
          "text": [
            "\n",
            "   Query to be tested: \"Alterations of the architecture of cerebral white matter!\"\n",
            "\n",
            "  Pre-Processed Query: \"alter architectur cerebr white matter\"\n",
            "\t   Vocabulary: ['alter' 'architectur' 'cerebr' 'matter' 'white']\n",
            "Term-Frequency Vector: [0. 0. 0. ... 0. 0. 0.] (Sum = 5.0, Length = 31075)\n"
          ]
        },
        {
          "output_type": "execute_result",
          "data": {
            "text/plain": [
              "                                                       Text  BM25 Score\n",
              "Doc_ID                                                                 \n",
              "4983      Alterations of the architecture of cerebral wh...   14.074497\n",
              "8227227   The locations of cerebral infarctions were stu...    8.580971\n",
              "18104691  AIM This review explores the molecular, neurol...    7.578883\n",
              "1472815   OBJECTIVE The purpose of our study was to inve...    7.182748\n",
              "37583120  OBJECTIVE Obesity and being overweight during ...    7.135950\n",
              "1412089   BACKGROUND Traditional T2 weighted MR imaging ...    7.117689\n",
              "22107641  OBJECTIVE The purpose of this study was to det...    6.851754\n",
              "17930286  OBJECTIVE To evaluate the association of overa...    6.771738\n",
              "8672737   BACKGROUND AND PURPOSE Migraineurs are at incr...    6.007959\n",
              "19685306  This paper proposes and tests a technique for ...    5.714311"
            ],
            "text/html": [
              "\n",
              "  <div id=\"df-302eb232-3de0-4ff1-a9e8-e6f919296011\">\n",
              "    <div class=\"colab-df-container\">\n",
              "      <div>\n",
              "<style scoped>\n",
              "    .dataframe tbody tr th:only-of-type {\n",
              "        vertical-align: middle;\n",
              "    }\n",
              "\n",
              "    .dataframe tbody tr th {\n",
              "        vertical-align: top;\n",
              "    }\n",
              "\n",
              "    .dataframe thead th {\n",
              "        text-align: right;\n",
              "    }\n",
              "</style>\n",
              "<table border=\"1\" class=\"dataframe\">\n",
              "  <thead>\n",
              "    <tr style=\"text-align: right;\">\n",
              "      <th></th>\n",
              "      <th>Text</th>\n",
              "      <th>BM25 Score</th>\n",
              "    </tr>\n",
              "    <tr>\n",
              "      <th>Doc_ID</th>\n",
              "      <th></th>\n",
              "      <th></th>\n",
              "    </tr>\n",
              "  </thead>\n",
              "  <tbody>\n",
              "    <tr>\n",
              "      <th>4983</th>\n",
              "      <td>Alterations of the architecture of cerebral wh...</td>\n",
              "      <td>14.074497</td>\n",
              "    </tr>\n",
              "    <tr>\n",
              "      <th>8227227</th>\n",
              "      <td>The locations of cerebral infarctions were stu...</td>\n",
              "      <td>8.580971</td>\n",
              "    </tr>\n",
              "    <tr>\n",
              "      <th>18104691</th>\n",
              "      <td>AIM This review explores the molecular, neurol...</td>\n",
              "      <td>7.578883</td>\n",
              "    </tr>\n",
              "    <tr>\n",
              "      <th>1472815</th>\n",
              "      <td>OBJECTIVE The purpose of our study was to inve...</td>\n",
              "      <td>7.182748</td>\n",
              "    </tr>\n",
              "    <tr>\n",
              "      <th>37583120</th>\n",
              "      <td>OBJECTIVE Obesity and being overweight during ...</td>\n",
              "      <td>7.135950</td>\n",
              "    </tr>\n",
              "    <tr>\n",
              "      <th>1412089</th>\n",
              "      <td>BACKGROUND Traditional T2 weighted MR imaging ...</td>\n",
              "      <td>7.117689</td>\n",
              "    </tr>\n",
              "    <tr>\n",
              "      <th>22107641</th>\n",
              "      <td>OBJECTIVE The purpose of this study was to det...</td>\n",
              "      <td>6.851754</td>\n",
              "    </tr>\n",
              "    <tr>\n",
              "      <th>17930286</th>\n",
              "      <td>OBJECTIVE To evaluate the association of overa...</td>\n",
              "      <td>6.771738</td>\n",
              "    </tr>\n",
              "    <tr>\n",
              "      <th>8672737</th>\n",
              "      <td>BACKGROUND AND PURPOSE Migraineurs are at incr...</td>\n",
              "      <td>6.007959</td>\n",
              "    </tr>\n",
              "    <tr>\n",
              "      <th>19685306</th>\n",
              "      <td>This paper proposes and tests a technique for ...</td>\n",
              "      <td>5.714311</td>\n",
              "    </tr>\n",
              "  </tbody>\n",
              "</table>\n",
              "</div>\n",
              "      <button class=\"colab-df-convert\" onclick=\"convertToInteractive('df-302eb232-3de0-4ff1-a9e8-e6f919296011')\"\n",
              "              title=\"Convert this dataframe to an interactive table.\"\n",
              "              style=\"display:none;\">\n",
              "        \n",
              "  <svg xmlns=\"http://www.w3.org/2000/svg\" height=\"24px\"viewBox=\"0 0 24 24\"\n",
              "       width=\"24px\">\n",
              "    <path d=\"M0 0h24v24H0V0z\" fill=\"none\"/>\n",
              "    <path d=\"M18.56 5.44l.94 2.06.94-2.06 2.06-.94-2.06-.94-.94-2.06-.94 2.06-2.06.94zm-11 1L8.5 8.5l.94-2.06 2.06-.94-2.06-.94L8.5 2.5l-.94 2.06-2.06.94zm10 10l.94 2.06.94-2.06 2.06-.94-2.06-.94-.94-2.06-.94 2.06-2.06.94z\"/><path d=\"M17.41 7.96l-1.37-1.37c-.4-.4-.92-.59-1.43-.59-.52 0-1.04.2-1.43.59L10.3 9.45l-7.72 7.72c-.78.78-.78 2.05 0 2.83L4 21.41c.39.39.9.59 1.41.59.51 0 1.02-.2 1.41-.59l7.78-7.78 2.81-2.81c.8-.78.8-2.07 0-2.86zM5.41 20L4 18.59l7.72-7.72 1.47 1.35L5.41 20z\"/>\n",
              "  </svg>\n",
              "      </button>\n",
              "      \n",
              "  <style>\n",
              "    .colab-df-container {\n",
              "      display:flex;\n",
              "      flex-wrap:wrap;\n",
              "      gap: 12px;\n",
              "    }\n",
              "\n",
              "    .colab-df-convert {\n",
              "      background-color: #E8F0FE;\n",
              "      border: none;\n",
              "      border-radius: 50%;\n",
              "      cursor: pointer;\n",
              "      display: none;\n",
              "      fill: #1967D2;\n",
              "      height: 32px;\n",
              "      padding: 0 0 0 0;\n",
              "      width: 32px;\n",
              "    }\n",
              "\n",
              "    .colab-df-convert:hover {\n",
              "      background-color: #E2EBFA;\n",
              "      box-shadow: 0px 1px 2px rgba(60, 64, 67, 0.3), 0px 1px 3px 1px rgba(60, 64, 67, 0.15);\n",
              "      fill: #174EA6;\n",
              "    }\n",
              "\n",
              "    [theme=dark] .colab-df-convert {\n",
              "      background-color: #3B4455;\n",
              "      fill: #D2E3FC;\n",
              "    }\n",
              "\n",
              "    [theme=dark] .colab-df-convert:hover {\n",
              "      background-color: #434B5C;\n",
              "      box-shadow: 0px 1px 3px 1px rgba(0, 0, 0, 0.15);\n",
              "      filter: drop-shadow(0px 1px 2px rgba(0, 0, 0, 0.3));\n",
              "      fill: #FFFFFF;\n",
              "    }\n",
              "  </style>\n",
              "\n",
              "      <script>\n",
              "        const buttonEl =\n",
              "          document.querySelector('#df-302eb232-3de0-4ff1-a9e8-e6f919296011 button.colab-df-convert');\n",
              "        buttonEl.style.display =\n",
              "          google.colab.kernel.accessAllowed ? 'block' : 'none';\n",
              "\n",
              "        async function convertToInteractive(key) {\n",
              "          const element = document.querySelector('#df-302eb232-3de0-4ff1-a9e8-e6f919296011');\n",
              "          const dataTable =\n",
              "            await google.colab.kernel.invokeFunction('convertToInteractive',\n",
              "                                                     [key], {});\n",
              "          if (!dataTable) return;\n",
              "\n",
              "          const docLinkHtml = 'Like what you see? Visit the ' +\n",
              "            '<a target=\"_blank\" href=https://colab.research.google.com/notebooks/data_table.ipynb>data table notebook</a>'\n",
              "            + ' to learn more about interactive tables.';\n",
              "          element.innerHTML = '';\n",
              "          dataTable['output_type'] = 'display_data';\n",
              "          await google.colab.output.renderOutput(dataTable, element);\n",
              "          const docLink = document.createElement('div');\n",
              "          docLink.innerHTML = docLinkHtml;\n",
              "          element.appendChild(docLink);\n",
              "        }\n",
              "      </script>\n",
              "    </div>\n",
              "  </div>\n",
              "  "
            ]
          },
          "metadata": {},
          "execution_count": 29
        }
      ]
    },
    {
      "cell_type": "markdown",
      "source": [
        "# Bibliography\n",
        "\n",
        "Baeza-Yates, R. and Ribeiro-Neto, B. (2011). Modern Information Retrieval: the concepts and technology behind search. 2nd Edition. Harlow, Pearson.\n",
        "\n",
        "Bird, S., Edward, L. & Ewan, K. (2009). Natural Language Processing with Python. California, O`Reilly Media Inc.\n",
        "\n",
        "MacAvaney, S., Yates, A., Feldman, S., Downey, D., Cohan, A., & Goharian, N. (2021). Simplified Data Wrangling with ir-datasets, SIGIR ’21, July 11–15, 2021."
      ],
      "metadata": {
        "id": "nFZYdmuIkpoC"
      }
    }
  ],
  "metadata": {
    "colab": {
      "collapsed_sections": [],
      "name": "Search_Engine_v0.4.ipynb",
      "provenance": []
    },
    "kernelspec": {
      "display_name": "Python 3 (ipykernel)",
      "language": "python",
      "name": "python3"
    },
    "language_info": {
      "codemirror_mode": {
        "name": "ipython",
        "version": 3
      },
      "file_extension": ".py",
      "mimetype": "text/x-python",
      "name": "python",
      "nbconvert_exporter": "python",
      "pygments_lexer": "ipython3",
      "version": "3.9.7"
    }
  },
  "nbformat": 4,
  "nbformat_minor": 0
}