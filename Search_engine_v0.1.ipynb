{
  "cells": [
    {
      "cell_type": "markdown",
      "metadata": {
        "id": "view-in-github",
        "colab_type": "text"
      },
      "source": [
        "<a href=\"https://colab.research.google.com/github/AlexanderCoudijzer/BM25-VSM-Search-Engine/blob/main/Search_engine_v0.1.ipynb\" target=\"_parent\"><img src=\"https://colab.research.google.com/assets/colab-badge.svg\" alt=\"Open In Colab\"/></a>"
      ]
    },
    {
      "cell_type": "markdown",
      "metadata": {
        "id": "XeS4WON90flx"
      },
      "source": [
        "# Search Engine Implementation\n",
        "see https://ir-datasets.com/beir.html#beir/scifact  \n",
        "and https://ir-datasets.com/python.html"
      ]
    },
    {
      "cell_type": "markdown",
      "metadata": {
        "id": "hYL-3K_AhiMT"
      },
      "source": [
        "## Data loading and preprocessing"
      ]
    },
    {
      "cell_type": "code",
      "execution_count": 1,
      "metadata": {
        "id": "5Qh8yMNt6QeI"
      },
      "outputs": [],
      "source": [
        "%%capture\n",
        "!pip install --upgrade ir_datasets\n",
        "\n",
        "import pandas as pd\n",
        "from sklearn.feature_extraction.text import CountVectorizer\n",
        "import numpy as np\n",
        "import ir_datasets"
      ]
    },
    {
      "cell_type": "code",
      "execution_count": 2,
      "metadata": {
        "colab": {
          "base_uri": "https://localhost:8080/"
        },
        "id": "i1g2Gf2LjToC",
        "outputId": "1cf5ab39-f0cb-4215-ec95-6b1814c24fa1"
      },
      "outputs": [
        {
          "output_type": "stream",
          "name": "stdout",
          "text": [
            "5183 documents with: OrderedDict([('doc_id', <class 'str'>), ('text', <class 'str'>), ('title', <class 'str'>)])\n",
            "809 queries with: OrderedDict([('query_id', <class 'str'>), ('text', <class 'str'>)])\n",
            "919 qrels with: OrderedDict([('query_id', <class 'str'>), ('doc_id', <class 'str'>), ('relevance', <class 'int'>), ('iteration', <class 'str'>)])\n"
          ]
        }
      ],
      "source": [
        "dataset = ir_datasets.load(\"beir/scifact/train\")\n",
        "\n",
        "print(dataset.docs_count(), 'documents with:', dataset.docs_cls().__annotations__)\n",
        "print(dataset.queries_count(), 'queries with:', dataset.queries_cls().__annotations__)\n",
        "print(dataset.qrels_count(), 'qrels with:',dataset.qrels_cls().__annotations__)"
      ]
    },
    {
      "cell_type": "code",
      "execution_count": 3,
      "metadata": {
        "id": "WIDi1JwIjh7R"
      },
      "outputs": [],
      "source": [
        "%%capture\n",
        "#this actually downloads the data, muted to avoid clutter\n",
        "for doc in dataset.docs_iter()[:1]: None\n",
        "for q in dataset.queries_iter(): None\n",
        "for qrel in dataset.qrels_iter(): None"
      ]
    },
    {
      "cell_type": "code",
      "execution_count": 4,
      "metadata": {
        "id": "pkhFTCerkCNh"
      },
      "outputs": [],
      "source": [
        "corpus=[]\n",
        "for doc in dataset.docs_iter():\n",
        "    corpus.append([doc[0],doc[1],doc[2]])\n",
        "\n",
        "documents = [doc[1] for doc in corpus] \n",
        "# only taking the text for simplicity, but we'll need the doc_id for the evaluation"
      ]
    },
    {
      "cell_type": "markdown",
      "metadata": {
        "id": "VXfv4EsShiMY"
      },
      "source": [
        "## Indexing framework"
      ]
    },
    {
      "cell_type": "markdown",
      "metadata": {
        "id": "ti8ghp0JhiMZ"
      },
      "source": [
        "Removing all numbers, punctuation and excess whitespace. This can potentially be a part of the data preprocessing section."
      ]
    },
    {
      "cell_type": "code",
      "execution_count": 5,
      "metadata": {
        "id": "GUXSNUJihiMa"
      },
      "outputs": [],
      "source": [
        "import string\n",
        "import re\n",
        "\n",
        "def clean_text(text):\n",
        "    # remove numbers\n",
        "    text_nonum = re.sub(r'\\d+', '', text)\n",
        "    # remove punctuation and convert characters to lower case\n",
        "    text_nopunct = \"\".join([char.lower() for char in text_nonum if char not in string.punctuation]) \n",
        "    # substitute multiple whitespace with single whitespace and remove leading and trailing whitespaces\n",
        "    text_no_doublespace = re.sub('\\s+', ' ', text_nopunct).strip()\n",
        "    return text_no_doublespace\n",
        "\n",
        "documents_cleaned = []\n",
        "\n",
        "for d in documents:\n",
        "    x = clean_text(d)\n",
        "    documents_cleaned.append(x)"
      ]
    },
    {
      "cell_type": "markdown",
      "metadata": {
        "id": "CKKgKatfhiMb"
      },
      "source": [
        "Tokenization:"
      ]
    },
    {
      "cell_type": "code",
      "execution_count": 6,
      "metadata": {
        "id": "kiy83D8ohiMc",
        "outputId": "25848113-b781-4a6f-c995-f0563fd1b4c8",
        "colab": {
          "base_uri": "https://localhost:8080/"
        }
      },
      "outputs": [
        {
          "output_type": "stream",
          "name": "stdout",
          "text": [
            "[nltk_data] Downloading package punkt to /root/nltk_data...\n",
            "[nltk_data]   Unzipping tokenizers/punkt.zip.\n"
          ]
        }
      ],
      "source": [
        "from nltk.tokenize import word_tokenize\n",
        "import nltk\n",
        "nltk.download('punkt') # I had to add this in to make word_tokenize work, not sure why\n",
        "\n",
        "documents_tokenized = []\n",
        "\n",
        "for d in documents_cleaned:\n",
        "    x = word_tokenize(d)\n",
        "    documents_tokenized.append(x)"
      ]
    },
    {
      "cell_type": "markdown",
      "metadata": {
        "id": "PaNsln7BhiMd"
      },
      "source": [
        "Lemmatization:"
      ]
    },
    {
      "cell_type": "code",
      "execution_count": 7,
      "metadata": {
        "id": "ZAhgXTGmhiMd",
        "outputId": "11077c15-e25e-47f3-c396-b1e9f8dbc495",
        "colab": {
          "base_uri": "https://localhost:8080/"
        }
      },
      "outputs": [
        {
          "output_type": "stream",
          "name": "stdout",
          "text": [
            "[nltk_data] Downloading package wordnet to /root/nltk_data...\n",
            "[nltk_data]   Unzipping corpora/wordnet.zip.\n"
          ]
        }
      ],
      "source": [
        "from nltk.stem import WordNetLemmatizer\n",
        "nltk.download('wordnet')\n",
        "\n",
        "wordnet_lemmatizer = WordNetLemmatizer()\n",
        "\n",
        "documents_lemmatized = []\n",
        "\n",
        "for d in documents_tokenized:\n",
        "    y = []\n",
        "    for word in d:\n",
        "        x = wordnet_lemmatizer.lemmatize(word)\n",
        "        y.append(x)\n",
        "    documents_lemmatized.append(y)"
      ]
    },
    {
      "cell_type": "markdown",
      "metadata": {
        "id": "s_o2RzsXhiMe"
      },
      "source": [
        "Stemming:"
      ]
    },
    {
      "cell_type": "code",
      "execution_count": 8,
      "metadata": {
        "id": "CXUW7eSPhiMe"
      },
      "outputs": [],
      "source": [
        "from nltk.stem import SnowballStemmer\n",
        "\n",
        "snow_stemmer = SnowballStemmer(language='english')\n",
        "\n",
        "documents_stemmed = []\n",
        "        \n",
        "for d in documents_lemmatized:\n",
        "    stems = []\n",
        "    for word in d:\n",
        "        x = snow_stemmer.stem(word)\n",
        "        stems.append(x)\n",
        "    documents_stemmed.append(stems)"
      ]
    },
    {
      "cell_type": "markdown",
      "metadata": {
        "id": "M8yl0czihiMe"
      },
      "source": [
        "Converting back to full strings:"
      ]
    },
    {
      "cell_type": "code",
      "execution_count": 9,
      "metadata": {
        "id": "Zu0GwnmrhiMg"
      },
      "outputs": [],
      "source": [
        "documents_indexed = []\n",
        "\n",
        "for doc in documents_stemmed:\n",
        "    documents_indexed.append(' '.join(doc))"
      ]
    },
    {
      "cell_type": "markdown",
      "metadata": {
        "id": "wMtn6anchiMg"
      },
      "source": [
        "Vectorizing (with included stop word removal):"
      ]
    },
    {
      "cell_type": "code",
      "execution_count": 10,
      "metadata": {
        "colab": {
          "base_uri": "https://localhost:8080/",
          "height": 0
        },
        "id": "G3E7sQ5_kg9x",
        "outputId": "9ea6e072-8693-4976-fc29-35bb656069f3"
      },
      "outputs": [
        {
          "output_type": "execute_result",
          "data": {
            "text/plain": [
              "      14  a142  aa  aaa  aaaatpas  aaafamili  aab  aabenhus  aacr  aacrthi  \\\n",
              "0      0     0   0    0         0          0    0         0     0        0   \n",
              "1      0     0   0    0         0          0    0         0     0        0   \n",
              "2      0     0   0    0         0          0    0         0     0        0   \n",
              "3      0     0   0    0         0          0    0         0     0        0   \n",
              "4      0     0   0    0         0          0    0         0     0        0   \n",
              "...   ..   ...  ..  ...       ...        ...  ...       ...   ...      ...   \n",
              "5178   0     0   0    0         0          0    0         0     0        0   \n",
              "5179   0     0   0    0         0          0    0         0     0        0   \n",
              "5180   0     0   0    0         0          0    0         0     0        0   \n",
              "5181   0     0   0    0         0          0    0         0     0        0   \n",
              "5182   0     0   0    0         0          0    0         0     0        0   \n",
              "\n",
              "      ...  zygos  zygot  zymographi  zymosan  zymosaninduc  zyxin  zz  zzw  \\\n",
              "0     ...      0      0           0        0             0      0   0    0   \n",
              "1     ...      0      0           0        0             0      0   0    0   \n",
              "2     ...      0      0           0        0             0      0   0    0   \n",
              "3     ...      0      0           0        0             0      0   0    0   \n",
              "4     ...      0      0           0        0             0      0   0    0   \n",
              "...   ...    ...    ...         ...      ...           ...    ...  ..  ...   \n",
              "5178  ...      0      0           0        0             0      0   0    0   \n",
              "5179  ...      0      0           0        0             0      0   0    0   \n",
              "5180  ...      0      0           0        0             0      0   0    0   \n",
              "5181  ...      0      0           0        0             0      0   0    0   \n",
              "5182  ...      0      0           0        0             0      0   0    0   \n",
              "\n",
              "      zzz  zzzw  \n",
              "0       0     0  \n",
              "1       0     0  \n",
              "2       0     0  \n",
              "3       0     0  \n",
              "4       0     0  \n",
              "...   ...   ...  \n",
              "5178    0     0  \n",
              "5179    0     0  \n",
              "5180    0     0  \n",
              "5181    0     0  \n",
              "5182    0     0  \n",
              "\n",
              "[5183 rows x 30868 columns]"
            ],
            "text/html": [
              "\n",
              "  <div id=\"df-e5123c4d-5434-431d-b4b9-ec17aa8c32ae\">\n",
              "    <div class=\"colab-df-container\">\n",
              "      <div>\n",
              "<style scoped>\n",
              "    .dataframe tbody tr th:only-of-type {\n",
              "        vertical-align: middle;\n",
              "    }\n",
              "\n",
              "    .dataframe tbody tr th {\n",
              "        vertical-align: top;\n",
              "    }\n",
              "\n",
              "    .dataframe thead th {\n",
              "        text-align: right;\n",
              "    }\n",
              "</style>\n",
              "<table border=\"1\" class=\"dataframe\">\n",
              "  <thead>\n",
              "    <tr style=\"text-align: right;\">\n",
              "      <th></th>\n",
              "      <th>14</th>\n",
              "      <th>a142</th>\n",
              "      <th>aa</th>\n",
              "      <th>aaa</th>\n",
              "      <th>aaaatpas</th>\n",
              "      <th>aaafamili</th>\n",
              "      <th>aab</th>\n",
              "      <th>aabenhus</th>\n",
              "      <th>aacr</th>\n",
              "      <th>aacrthi</th>\n",
              "      <th>...</th>\n",
              "      <th>zygos</th>\n",
              "      <th>zygot</th>\n",
              "      <th>zymographi</th>\n",
              "      <th>zymosan</th>\n",
              "      <th>zymosaninduc</th>\n",
              "      <th>zyxin</th>\n",
              "      <th>zz</th>\n",
              "      <th>zzw</th>\n",
              "      <th>zzz</th>\n",
              "      <th>zzzw</th>\n",
              "    </tr>\n",
              "  </thead>\n",
              "  <tbody>\n",
              "    <tr>\n",
              "      <th>0</th>\n",
              "      <td>0</td>\n",
              "      <td>0</td>\n",
              "      <td>0</td>\n",
              "      <td>0</td>\n",
              "      <td>0</td>\n",
              "      <td>0</td>\n",
              "      <td>0</td>\n",
              "      <td>0</td>\n",
              "      <td>0</td>\n",
              "      <td>0</td>\n",
              "      <td>...</td>\n",
              "      <td>0</td>\n",
              "      <td>0</td>\n",
              "      <td>0</td>\n",
              "      <td>0</td>\n",
              "      <td>0</td>\n",
              "      <td>0</td>\n",
              "      <td>0</td>\n",
              "      <td>0</td>\n",
              "      <td>0</td>\n",
              "      <td>0</td>\n",
              "    </tr>\n",
              "    <tr>\n",
              "      <th>1</th>\n",
              "      <td>0</td>\n",
              "      <td>0</td>\n",
              "      <td>0</td>\n",
              "      <td>0</td>\n",
              "      <td>0</td>\n",
              "      <td>0</td>\n",
              "      <td>0</td>\n",
              "      <td>0</td>\n",
              "      <td>0</td>\n",
              "      <td>0</td>\n",
              "      <td>...</td>\n",
              "      <td>0</td>\n",
              "      <td>0</td>\n",
              "      <td>0</td>\n",
              "      <td>0</td>\n",
              "      <td>0</td>\n",
              "      <td>0</td>\n",
              "      <td>0</td>\n",
              "      <td>0</td>\n",
              "      <td>0</td>\n",
              "      <td>0</td>\n",
              "    </tr>\n",
              "    <tr>\n",
              "      <th>2</th>\n",
              "      <td>0</td>\n",
              "      <td>0</td>\n",
              "      <td>0</td>\n",
              "      <td>0</td>\n",
              "      <td>0</td>\n",
              "      <td>0</td>\n",
              "      <td>0</td>\n",
              "      <td>0</td>\n",
              "      <td>0</td>\n",
              "      <td>0</td>\n",
              "      <td>...</td>\n",
              "      <td>0</td>\n",
              "      <td>0</td>\n",
              "      <td>0</td>\n",
              "      <td>0</td>\n",
              "      <td>0</td>\n",
              "      <td>0</td>\n",
              "      <td>0</td>\n",
              "      <td>0</td>\n",
              "      <td>0</td>\n",
              "      <td>0</td>\n",
              "    </tr>\n",
              "    <tr>\n",
              "      <th>3</th>\n",
              "      <td>0</td>\n",
              "      <td>0</td>\n",
              "      <td>0</td>\n",
              "      <td>0</td>\n",
              "      <td>0</td>\n",
              "      <td>0</td>\n",
              "      <td>0</td>\n",
              "      <td>0</td>\n",
              "      <td>0</td>\n",
              "      <td>0</td>\n",
              "      <td>...</td>\n",
              "      <td>0</td>\n",
              "      <td>0</td>\n",
              "      <td>0</td>\n",
              "      <td>0</td>\n",
              "      <td>0</td>\n",
              "      <td>0</td>\n",
              "      <td>0</td>\n",
              "      <td>0</td>\n",
              "      <td>0</td>\n",
              "      <td>0</td>\n",
              "    </tr>\n",
              "    <tr>\n",
              "      <th>4</th>\n",
              "      <td>0</td>\n",
              "      <td>0</td>\n",
              "      <td>0</td>\n",
              "      <td>0</td>\n",
              "      <td>0</td>\n",
              "      <td>0</td>\n",
              "      <td>0</td>\n",
              "      <td>0</td>\n",
              "      <td>0</td>\n",
              "      <td>0</td>\n",
              "      <td>...</td>\n",
              "      <td>0</td>\n",
              "      <td>0</td>\n",
              "      <td>0</td>\n",
              "      <td>0</td>\n",
              "      <td>0</td>\n",
              "      <td>0</td>\n",
              "      <td>0</td>\n",
              "      <td>0</td>\n",
              "      <td>0</td>\n",
              "      <td>0</td>\n",
              "    </tr>\n",
              "    <tr>\n",
              "      <th>...</th>\n",
              "      <td>...</td>\n",
              "      <td>...</td>\n",
              "      <td>...</td>\n",
              "      <td>...</td>\n",
              "      <td>...</td>\n",
              "      <td>...</td>\n",
              "      <td>...</td>\n",
              "      <td>...</td>\n",
              "      <td>...</td>\n",
              "      <td>...</td>\n",
              "      <td>...</td>\n",
              "      <td>...</td>\n",
              "      <td>...</td>\n",
              "      <td>...</td>\n",
              "      <td>...</td>\n",
              "      <td>...</td>\n",
              "      <td>...</td>\n",
              "      <td>...</td>\n",
              "      <td>...</td>\n",
              "      <td>...</td>\n",
              "      <td>...</td>\n",
              "    </tr>\n",
              "    <tr>\n",
              "      <th>5178</th>\n",
              "      <td>0</td>\n",
              "      <td>0</td>\n",
              "      <td>0</td>\n",
              "      <td>0</td>\n",
              "      <td>0</td>\n",
              "      <td>0</td>\n",
              "      <td>0</td>\n",
              "      <td>0</td>\n",
              "      <td>0</td>\n",
              "      <td>0</td>\n",
              "      <td>...</td>\n",
              "      <td>0</td>\n",
              "      <td>0</td>\n",
              "      <td>0</td>\n",
              "      <td>0</td>\n",
              "      <td>0</td>\n",
              "      <td>0</td>\n",
              "      <td>0</td>\n",
              "      <td>0</td>\n",
              "      <td>0</td>\n",
              "      <td>0</td>\n",
              "    </tr>\n",
              "    <tr>\n",
              "      <th>5179</th>\n",
              "      <td>0</td>\n",
              "      <td>0</td>\n",
              "      <td>0</td>\n",
              "      <td>0</td>\n",
              "      <td>0</td>\n",
              "      <td>0</td>\n",
              "      <td>0</td>\n",
              "      <td>0</td>\n",
              "      <td>0</td>\n",
              "      <td>0</td>\n",
              "      <td>...</td>\n",
              "      <td>0</td>\n",
              "      <td>0</td>\n",
              "      <td>0</td>\n",
              "      <td>0</td>\n",
              "      <td>0</td>\n",
              "      <td>0</td>\n",
              "      <td>0</td>\n",
              "      <td>0</td>\n",
              "      <td>0</td>\n",
              "      <td>0</td>\n",
              "    </tr>\n",
              "    <tr>\n",
              "      <th>5180</th>\n",
              "      <td>0</td>\n",
              "      <td>0</td>\n",
              "      <td>0</td>\n",
              "      <td>0</td>\n",
              "      <td>0</td>\n",
              "      <td>0</td>\n",
              "      <td>0</td>\n",
              "      <td>0</td>\n",
              "      <td>0</td>\n",
              "      <td>0</td>\n",
              "      <td>...</td>\n",
              "      <td>0</td>\n",
              "      <td>0</td>\n",
              "      <td>0</td>\n",
              "      <td>0</td>\n",
              "      <td>0</td>\n",
              "      <td>0</td>\n",
              "      <td>0</td>\n",
              "      <td>0</td>\n",
              "      <td>0</td>\n",
              "      <td>0</td>\n",
              "    </tr>\n",
              "    <tr>\n",
              "      <th>5181</th>\n",
              "      <td>0</td>\n",
              "      <td>0</td>\n",
              "      <td>0</td>\n",
              "      <td>0</td>\n",
              "      <td>0</td>\n",
              "      <td>0</td>\n",
              "      <td>0</td>\n",
              "      <td>0</td>\n",
              "      <td>0</td>\n",
              "      <td>0</td>\n",
              "      <td>...</td>\n",
              "      <td>0</td>\n",
              "      <td>0</td>\n",
              "      <td>0</td>\n",
              "      <td>0</td>\n",
              "      <td>0</td>\n",
              "      <td>0</td>\n",
              "      <td>0</td>\n",
              "      <td>0</td>\n",
              "      <td>0</td>\n",
              "      <td>0</td>\n",
              "    </tr>\n",
              "    <tr>\n",
              "      <th>5182</th>\n",
              "      <td>0</td>\n",
              "      <td>0</td>\n",
              "      <td>0</td>\n",
              "      <td>0</td>\n",
              "      <td>0</td>\n",
              "      <td>0</td>\n",
              "      <td>0</td>\n",
              "      <td>0</td>\n",
              "      <td>0</td>\n",
              "      <td>0</td>\n",
              "      <td>...</td>\n",
              "      <td>0</td>\n",
              "      <td>0</td>\n",
              "      <td>0</td>\n",
              "      <td>0</td>\n",
              "      <td>0</td>\n",
              "      <td>0</td>\n",
              "      <td>0</td>\n",
              "      <td>0</td>\n",
              "      <td>0</td>\n",
              "      <td>0</td>\n",
              "    </tr>\n",
              "  </tbody>\n",
              "</table>\n",
              "<p>5183 rows × 30868 columns</p>\n",
              "</div>\n",
              "      <button class=\"colab-df-convert\" onclick=\"convertToInteractive('df-e5123c4d-5434-431d-b4b9-ec17aa8c32ae')\"\n",
              "              title=\"Convert this dataframe to an interactive table.\"\n",
              "              style=\"display:none;\">\n",
              "        \n",
              "  <svg xmlns=\"http://www.w3.org/2000/svg\" height=\"24px\"viewBox=\"0 0 24 24\"\n",
              "       width=\"24px\">\n",
              "    <path d=\"M0 0h24v24H0V0z\" fill=\"none\"/>\n",
              "    <path d=\"M18.56 5.44l.94 2.06.94-2.06 2.06-.94-2.06-.94-.94-2.06-.94 2.06-2.06.94zm-11 1L8.5 8.5l.94-2.06 2.06-.94-2.06-.94L8.5 2.5l-.94 2.06-2.06.94zm10 10l.94 2.06.94-2.06 2.06-.94-2.06-.94-.94-2.06-.94 2.06-2.06.94z\"/><path d=\"M17.41 7.96l-1.37-1.37c-.4-.4-.92-.59-1.43-.59-.52 0-1.04.2-1.43.59L10.3 9.45l-7.72 7.72c-.78.78-.78 2.05 0 2.83L4 21.41c.39.39.9.59 1.41.59.51 0 1.02-.2 1.41-.59l7.78-7.78 2.81-2.81c.8-.78.8-2.07 0-2.86zM5.41 20L4 18.59l7.72-7.72 1.47 1.35L5.41 20z\"/>\n",
              "  </svg>\n",
              "      </button>\n",
              "      \n",
              "  <style>\n",
              "    .colab-df-container {\n",
              "      display:flex;\n",
              "      flex-wrap:wrap;\n",
              "      gap: 12px;\n",
              "    }\n",
              "\n",
              "    .colab-df-convert {\n",
              "      background-color: #E8F0FE;\n",
              "      border: none;\n",
              "      border-radius: 50%;\n",
              "      cursor: pointer;\n",
              "      display: none;\n",
              "      fill: #1967D2;\n",
              "      height: 32px;\n",
              "      padding: 0 0 0 0;\n",
              "      width: 32px;\n",
              "    }\n",
              "\n",
              "    .colab-df-convert:hover {\n",
              "      background-color: #E2EBFA;\n",
              "      box-shadow: 0px 1px 2px rgba(60, 64, 67, 0.3), 0px 1px 3px 1px rgba(60, 64, 67, 0.15);\n",
              "      fill: #174EA6;\n",
              "    }\n",
              "\n",
              "    [theme=dark] .colab-df-convert {\n",
              "      background-color: #3B4455;\n",
              "      fill: #D2E3FC;\n",
              "    }\n",
              "\n",
              "    [theme=dark] .colab-df-convert:hover {\n",
              "      background-color: #434B5C;\n",
              "      box-shadow: 0px 1px 3px 1px rgba(0, 0, 0, 0.15);\n",
              "      filter: drop-shadow(0px 1px 2px rgba(0, 0, 0, 0.3));\n",
              "      fill: #FFFFFF;\n",
              "    }\n",
              "  </style>\n",
              "\n",
              "      <script>\n",
              "        const buttonEl =\n",
              "          document.querySelector('#df-e5123c4d-5434-431d-b4b9-ec17aa8c32ae button.colab-df-convert');\n",
              "        buttonEl.style.display =\n",
              "          google.colab.kernel.accessAllowed ? 'block' : 'none';\n",
              "\n",
              "        async function convertToInteractive(key) {\n",
              "          const element = document.querySelector('#df-e5123c4d-5434-431d-b4b9-ec17aa8c32ae');\n",
              "          const dataTable =\n",
              "            await google.colab.kernel.invokeFunction('convertToInteractive',\n",
              "                                                     [key], {});\n",
              "          if (!dataTable) return;\n",
              "\n",
              "          const docLinkHtml = 'Like what you see? Visit the ' +\n",
              "            '<a target=\"_blank\" href=https://colab.research.google.com/notebooks/data_table.ipynb>data table notebook</a>'\n",
              "            + ' to learn more about interactive tables.';\n",
              "          element.innerHTML = '';\n",
              "          dataTable['output_type'] = 'display_data';\n",
              "          await google.colab.output.renderOutput(dataTable, element);\n",
              "          const docLink = document.createElement('div');\n",
              "          docLink.innerHTML = docLinkHtml;\n",
              "          element.appendChild(docLink);\n",
              "        }\n",
              "      </script>\n",
              "    </div>\n",
              "  </div>\n",
              "  "
            ]
          },
          "metadata": {},
          "execution_count": 10
        }
      ],
      "source": [
        "vectorizer = CountVectorizer(stop_words='english', strip_accents='ascii')\n",
        "documents_vectorized = vectorizer.fit_transform(documents_indexed)\n",
        "vocabulary = vectorizer.get_feature_names_out()\n",
        "dataframe = pd.DataFrame(documents_vectorized.toarray(), columns=vocabulary)\n",
        "dataframe"
      ]
    },
    {
      "cell_type": "markdown",
      "metadata": {
        "id": "CamMD9Q_hiMi"
      },
      "source": [
        "## Retrieval framework"
      ]
    },
    {
      "cell_type": "markdown",
      "source": [
        "### Query"
      ],
      "metadata": {
        "id": "xUQPIiV-n0lH"
      }
    },
    {
      "cell_type": "code",
      "source": [
        "query_num = 1 #query number to test\n",
        "queries = []\n",
        "for q in dataset.queries_iter(): # reading in all the queries\n",
        "    queries.append([q[0],q[1]])\n",
        "print([queries[query_num][1]])\n",
        "q_vectorizer = CountVectorizer(stop_words='english', strip_accents='ascii')\n",
        "q = q_vectorizer.fit_transform([queries[query_num][1]])\n",
        "q_voc = q_vectorizer.get_feature_names_out()\n",
        "print(q_voc)\n",
        "\n",
        "q_vector =np.array([])\n",
        "for t in dataframe.columns:\n",
        "    if t in q_voc: q_vector = np.append(q_vector,1)\n",
        "    else: q_vector = np.append(q_vector,0)"
      ],
      "metadata": {
        "id": "y4THCxghn2R_",
        "outputId": "a23d64e3-55a6-4d3e-ff29-7fc12aeb0e64",
        "colab": {
          "base_uri": "https://localhost:8080/"
        }
      },
      "execution_count": 11,
      "outputs": [
        {
          "output_type": "stream",
          "name": "stdout",
          "text": [
            "['1 in 5 million in UK have abnormal PrP positivity.']\n",
            "['abnormal' 'million' 'positivity' 'prp' 'uk']\n"
          ]
        }
      ]
    },
    {
      "cell_type": "markdown",
      "source": [
        "### VSM"
      ],
      "metadata": {
        "id": "V5kvxPmcj2PH"
      }
    },
    {
      "cell_type": "code",
      "source": [
        "dfs = (dataframe > 0).sum(axis=0) # doc frequency\n",
        "N = dataframe.shape[0] # total number of docs\n",
        "idfs = np.log10(N/dfs) # inverse doc frequency\n",
        "doc_tfidf = np.array(dataframe * idfs)"
      ],
      "metadata": {
        "id": "SN_7hujCj4yO"
      },
      "execution_count": 12,
      "outputs": []
    },
    {
      "cell_type": "code",
      "source": [
        "from numpy.linalg import norm\n",
        "\n",
        "VSM_scores =[]\n",
        "for d in doc_tfidf:\n",
        "    VSM_scores.append(np.dot(d, q_vector)/(norm(d)*norm(q_vector)))\n",
        "sorted(zip(documents,VSM_scores), key = lambda tup:tup[1], reverse=True)[:10]"
      ],
      "metadata": {
        "id": "1FzoMS6gkKWH",
        "outputId": "d673d6b7-b0d5-4762-9b15-968464030b20",
        "colab": {
          "base_uri": "https://localhost:8080/"
        }
      },
      "execution_count": 13,
      "outputs": [
        {
          "output_type": "execute_result",
          "data": {
            "text/plain": [
              "[('BACKGROUND The Global Burden of Diseases, Injuries, and Risk Factors Study 2015 provides an up-to-date synthesis of the evidence for risk factor exposure and the attributable burden of disease. By providing national and subnational assessments spanning the past 25 years, this study can inform debates on the importance of addressing risks in context. METHODS We used the comparative risk assessment framework developed for previous iterations of the Global Burden of Disease Study to estimate attributable deaths, disability-adjusted life-years (DALYs), and trends in exposure by age group, sex, year, and geography for 79 behavioural, environmental and occupational, and metabolic risks or clusters of risks from 1990 to 2015. This study included 388 risk-outcome pairs that met World Cancer Research Fund-defined criteria for convincing or probable evidence. We extracted relative risk and exposure estimates from randomised controlled trials, cohorts, pooled cohorts, household surveys, census data, satellite data, and other sources. We used statistical models to pool data, adjust for bias, and incorporate covariates. We developed a metric that allows comparisons of exposure across risk factors-the summary exposure value. Using the counterfactual scenario of theoretical minimum risk level, we estimated the portion of deaths and DALYs that could be attributed to a given risk. We decomposed trends in attributable burden into contributions from population growth, population age structure, risk exposure, and risk-deleted cause-specific DALY rates. We characterised risk exposure in relation to a Socio-demographic Index (SDI). FINDINGS Between 1990 and 2015, global exposure to unsafe sanitation, household air pollution, childhood underweight, childhood stunting, and smoking each decreased by more than 25%. Global exposure for several occupational risks, high body-mass index (BMI), and drug use increased by more than 25% over the same period. All risks jointly evaluated in 2015 accounted for 57·8% (95% CI 56·6-58·8) of global deaths and 41·2% (39·8-42·8) of DALYs. In 2015, the ten largest contributors to global DALYs among Level 3 risks were high systolic blood pressure (211·8 million [192·7 million to 231·1 million] global DALYs), smoking (148·6 million [134·2 million to 163·1 million]), high fasting plasma glucose (143·1 million [125·1 million to 163·5 million]), high BMI (120·1 million [83·8 million to 158·4 million]), childhood undernutrition (113·3 million [103·9 million to 123·4 million]), ambient particulate matter (103·1 million [90·8 million to 115·1 million]), high total cholesterol (88·7 million [74·6 million to 105·7 million]), household air pollution (85·6 million [66·7 million to 106·1 million]), alcohol use (85·0 million [77·2 million to 93·0 million]), and diets high in sodium (83·0 million [49·3 million to 127·5 million]). From 1990 to 2015, attributable DALYs declined for micronutrient deficiencies, childhood undernutrition, unsafe sanitation and water, and household air pollution; reductions in risk-deleted DALY rates rather than reductions in exposure drove these declines. Rising exposure contributed to notable increases in attributable DALYs from high BMI, high fasting plasma glucose, occupational carcinogens, and drug use. Environmental risks and childhood undernutrition declined steadily with SDI; low physical activity, high BMI, and high fasting plasma glucose increased with SDI. In 119 countries, metabolic risks, such as high BMI and fasting plasma glucose, contributed the most attributable DALYs in 2015. Regionally, smoking still ranked among the leading five risk factors for attributable DALYs in 109 countries; childhood underweight and unsafe sex remained primary drivers of early death and disability in much of sub-Saharan Africa. INTERPRETATION Declines in some key environmental risks have contributed to declines in critical infectious diseases. Some risks appear to be invariant to SDI. Increasing risks, including high BMI, high fasting plasma glucose, drug use, and some occupational exposures, contribute to rising burden from some conditions, but also provide opportunities for intervention. Some highly preventable risks, such as smoking, remain major causes of attributable DALYs, even as exposure is declining. Public policy makers need to pay attention to the risks that are increasingly major contributors to global burden. FUNDING Bill & Melinda Gates Foundation.',\n",
              "  0.35549007741489047),\n",
              " ('OBJECTIVES To carry out a further survey of archived appendix samples to understand better the differences between existing estimates of the prevalence of subclinical infection with prions after the bovine spongiform encephalopathy epizootic and to see whether a broader birth cohort was affected, and to understand better the implications for the management of blood and blood products and for the handling of surgical instruments. DESIGN Irreversibly unlinked and anonymised large scale survey of archived appendix samples. SETTING Archived appendix samples from the pathology departments of 41 UK hospitals participating in the earlier survey, and additional hospitals in regions with lower levels of participation in that survey. SAMPLE 32,441 archived appendix samples fixed in formalin and embedded in paraffin and tested for the presence of abnormal prion protein (PrP). RESULTS Of the 32,441 appendix samples 16 were positive for abnormal PrP, indicating an overall prevalence of 493 per million population (95% confidence interval 282 to 801 per million). The prevalence in those born in 1941-60 (733 per million, 269 to 1596 per million) did not differ significantly from those born between 1961 and 1985 (412 per million, 198 to 758 per million) and was similar in both sexes and across the three broad geographical areas sampled. Genetic testing of the positive specimens for the genotype at PRNP codon 129 revealed a high proportion that were valine homozygous compared with the frequency in the normal population, and in stark contrast with confirmed clinical cases of vCJD, all of which were methionine homozygous at PRNP codon 129. CONCLUSIONS This study corroborates previous studies and suggests a high prevalence of infection with abnormal PrP, indicating vCJD carrier status in the population compared with the 177 vCJD cases to date. These findings have important implications for the management of blood and blood products and for the handling of surgical instruments.',\n",
              "  0.35280885999399647),\n",
              " ('BACKGROUND Dengue is the most common arbovirus infection globally, but its burden is poorly quantified. We estimated dengue mortality, incidence, and burden for the Global Burden of Disease Study 2013. METHODS We modelled mortality from vital registration, verbal autopsy, and surveillance data using the Cause of Death Ensemble Modelling tool. We modelled incidence from officially reported cases, and adjusted our raw estimates for under-reporting based on published estimates of expansion factors. In total, we had 1780 country-years of mortality data from 130 countries, 1636 country-years of dengue case reports from 76 countries, and expansion factor estimates for 14 countries. FINDINGS We estimated an average of 9221 dengue deaths per year between 1990 and 2013, increasing from a low of 8277 (95% uncertainty estimate 5353-10 649) in 1992, to a peak of 11 302 (6790-13 722) in 2010. This yielded a total of 576 900 (330 000-701 200) years of life lost to premature mortality attributable to dengue in 2013. The incidence of dengue increased greatly between 1990 and 2013, with the number of cases more than doubling every decade, from 8·3 million (3·3 million-17·2 million) apparent cases in 1990, to 58·4 million (23·6 million-121·9 million) apparent cases in 2013. When accounting for disability from moderate and severe acute dengue, and post-dengue chronic fatigue, 566 000 (186 000-1 415 000) years lived with disability were attributable to dengue in 2013. Considering fatal and non-fatal outcomes together, dengue was responsible for 1·14 million (0·73 million-1·98 million) disability-adjusted life-years in 2013. INTERPRETATION Although lower than other estimates, our results offer more evidence that the true symptomatic incidence of dengue probably falls within the commonly cited range of 50 million to 100 million cases per year. Our mortality estimates are lower than those presented elsewhere and should be considered in light of the totality of evidence suggesting that dengue mortality might, in fact, be substantially higher. FUNDING Bill & Melinda Gates Foundation.',\n",
              "  0.2524874491406628),\n",
              " ('By the year 2000 there will be six million pregnant women and five to ten million children infected with HIV-1. Intervention strategies have been planned and in some instances already started. A timely and cost-effective strategy needs to take into account that most HIV-1 infected individuals reside in developing countries. Further studies are needed on immunological and virological factors affecting HIV-1 transmission from mother to child, on differential disease progression in affected children, and on transient infection.',\n",
              "  0.1689845314843448),\n",
              " (\"Soil erosion is a major environmental threat to the sustainability and productive capacity of agriculture. During the last 40 years, nearly one-third of the world's arable land has been lost by erosion and continues to be lost at a rate of more than 10 million hectares per year. With the addition of a quarter of a million people each day, the world population's food demand is increasing at a time when per capita food productivity is beginning to decline.\",\n",
              "  0.145920634268992),\n",
              " ('BACKGROUND Age-specific effects of mammographic screening, and the timing of such effects, are a matter of debate. The results of the UK Age trial, which compared the effect of invitation to annual mammographic screening from age 40 years with commencement of screening at age 50 years on breast cancer mortality, have been reported at 10 years of follow-up and showed no significant difference in mortality between the trial groups. Here, we report the results of the UK Age trial after 17 years of follow-up. METHODS Women aged 39-41 from 23 UK NHS Breast Screening Programme units years were randomly assigned by individual randomisation (1:2) to either an intervention group offered annual screening by mammography up to and including the calendar year of their 48th birthday or to a control group receiving usual medical care (invited for screening at age 50 years and every 3 years thereafter). Both groups were stratified by general practice. We compared breast cancer incidence and mortality by time since randomisation. Analyses included all women randomly assigned who could be traced with the National Health Service Central Register and who had not died or emigrated before entry. The primary outcome measures were mortality from breast cancer (defined as deaths with breast cancer coded as the underlying cause of death) and breast cancer incidence, including in-situ, invasive, and total incidence. Because there is an interest in the timing of the mortality effect, we analysed the results in different follow-up periods. This trial is registered, number ISRCTN24647151. FINDINGS Between Oct 14, 1990, and Sept 25, 1997, 160 921 participants were randomly assigned; 53 883 women in the intervention group and 106 953 assigned to usual medical care were included in this analysis. After a median follow-up of 17 years (IQR 16·8-18·8), the rate ratio (RR) for breast cancer mortality was 0·88 (95% CI 0·74-1·04) from tumours diagnosed during the intervention phase. A significant reduction in breast cancer mortality was noted in the intervention group compared with the control group in the first 10 years after diagnosis (RR 0·75, 0·58-0·97) but not thereafter (RR 1·02, 0·80-1·30) from tumours diagnosed during the intervention phase. The overall breast cancer incidence during 17 year follow-up was similar between the intervention group and the control group (RR 0·98, 0·93-1·04). INTERPRETATION Our results support an early reduction in mortality from breast cancer with annual mammography screening in women aged 40-49 years. Further data are needed to fully understand long-term effects. Cumulative incidence figures suggest at worst a small amount of overdiagnosis. FUNDING National Institute for Health Research Health Technology Assessment programme and the American Cancer Society. Past funding was received from the Medical Research Council, Cancer Research UK, the UK Department of Health, and the US National Cancer Institute.',\n",
              "  0.14009588843418447),\n",
              " ('Over 75% of the annual estimated 9.5 million deaths in India occur in the home, and the large majority of these do not have a certified cause. India and other developing countries urgently need reliable quantification of the causes of death. They also need better epidemiological evidence about the relevance of physical (such as blood pressure and obesity), behavioral (such as smoking, alcohol, HIV-1 risk taking, and immunization history), and biological (such as blood lipids and gene polymorphisms) measurements to the development of disease in individuals or disease rates in populations. This report here is on the rationale, design, and implementation of the worldâ€™s largest prospective study of the causes and correlates of mortality. Nearly 14 million people in 2.4 million nationally representative Indian households will be monitored (for vital status and, if dead, the causes of death through a well-validated verbal autopsy (VA) instrument. be addressed. This study will reliably document not only the underlying cause of child and adult deaths but also key risk factors (behavioral, physical, environmental, and eventually, genetic). It offers a globally replicable model for reliably estimating cause-specific mortality using VA and strengthens Indiaâ€™s flagship mortality monitoring system. Despite the misclassification that is still expected, the new cause-of-death data will be substantially better than that available previously.[PLoS Medicine, February 2006.]',\n",
              "  0.13567473344996087),\n",
              " ('Ku70, a known nonhomologous end-joining (NHEJ) factor, also functions in tumor suppression, although this molecular mechanism remains uncharacterized. Previously, we showed that mice deficient for DNA ligase IV (Lig4), another key NHEJ factor, succumbed to aggressive lymphoma in the absence of tumor suppressor p53. However, the tumor phenotype is abrogated by the introduction of a hypomorphic mutant p53R172P, which impaired p53-mediated apoptosis but not cell-cycle arrest. However, Lig4−/−p53R172P mice succumbed to severe diabetes. To further elucidate the role of NHEJ and p53-mediated apoptosis in vivo, we bred Ku70−/− p53R172P mice. Unexpectedly, these mice were free of diabetes, although 80% of the mutant mice had abnormally enlarged colons with pronounced inflammation. Remarkably, most of these mutant mice progressed to dysplasia, adenoma and adenocarcinoma; this is in contrast to the Lig4−/−p53R172P phenotype, strongly suggesting an NHEJ-independent function of Ku70. Significantly, our analyses of Ku70−/−p53R172P colonic epithelial cells show nuclear stabilization of β-catenin accompanied by higher expression of cyclin D1 and c-Myc in affected colon sections than in control samples. This is not due to the p53 mutation, as Ku70−/− mice share this phenotype. Our results not only unravel a novel function of Ku70 essential for colon homeostasis, but also establish an excellent in vivo model in which to study how chronic inflammation and abnormal cellular proliferation underlie tumorigenesis and tumor progression in the colon.',\n",
              "  0.12691498669514734),\n",
              " ('OBJECTIVE To assess the robustness of patient responses to a new national survey of patient experience as a basis for providing financial incentives to doctors. DESIGN Analysis of the representativeness of the respondents to the GP Patient Survey compared with those who were sampled (5.5 million patients registered with 8273 general practices in England in January 2009) and with the general population. Analysis of non-response bias looked at the relation between practice response rates and scores on the survey. Analysis of the reliability of the survey estimated the proportion of the variance of practice scores attributable to true differences between practices. RESULTS The overall response rate was 38.2% (2.2 million responses), which is comparable to that in surveys using similar methodology in the UK. Men, young adults, and people living in deprived areas were under-represented among respondents. However, for questions related to pay for performance, there was no systematic association between response rates and questionnaire scores. Two questions which triggered payments to general practitioners were reliable measures of practice performance, with average practice-level reliability coefficients of 93.2% and 95.0%. Less than 3% and 0.5% of practices had fewer than the number of responses required to achieve conventional reliability levels of 90% and 70%. A change to the payment formula in 2009 resulted in an increase in the average impact of random variation in patient scores on payments to general practitioners compared with payments made in 2007 and 2008. CONCLUSIONS There is little evidence to support the concern of some general practitioners that low response rates and selective non-response bias have led to systematic unfairness in payments attached to questionnaire scores. The study raises issues relating to the validity and reliability of payments based on patient surveys and provides lessons for the UK and for other countries considering the use of patient experience as part of pay for performance schemes.',\n",
              "  0.12507794448945755),\n",
              " ('Substantial changes are needed to achieve a more targeted and strategic approach to investment in the response to the HIV/AIDS epidemic that will yield long-term dividends. Until now, advocacy for resources has been done on the basis of a commodity approach that encouraged scaling up of numerous strategies in parallel, irrespective of their relative effects. We propose a strategic investment framework that is intended to support better management of national and international HIV/AIDS responses than exists with the present system. Our framework incorporates major efficiency gains through community mobilisation, synergies between programme elements, and benefits of the extension of antiretroviral therapy for prevention of HIV transmission. It proposes three categories of investment, consisting of six basic programmatic activities, interventions that create an enabling environment to achieve maximum effectiveness, and programmatic efforts in other health and development sectors related to HIV/AIDS. The yearly cost of achievement of universal access to HIV prevention, treatment, care, and support by 2015 is estimated at no less than US$22 billion. Implementation of the new investment framework would avert 12·2 million new HIV infections and 7·4 million deaths from AIDS between 2011 and 2020 compared with continuation of present approaches, and result in 29·4 million life-years gained. The framework is cost effective at $1060 per life-year gained, and the additional investment proposed would be largely offset from savings in treatment costs alone.',\n",
              "  0.11179916990599575)]"
            ]
          },
          "metadata": {},
          "execution_count": 13
        }
      ]
    },
    {
      "cell_type": "markdown",
      "source": [
        "### BM25"
      ],
      "metadata": {
        "id": "2cs52RiGkp9_"
      }
    },
    {
      "cell_type": "code",
      "execution_count": 14,
      "metadata": {
        "id": "OtpbYAsEk7up"
      },
      "outputs": [],
      "source": [
        "# Defining all the variables we need:\n",
        "k_1 = 1.2\n",
        "b = 0.8\n",
        "#dfs = (dataframe > 0).sum(axis=0) # doc frequency\n",
        "#N = dataframe.shape[0] # total number of docs\n",
        "#idfs = np.log10(N/dfs) # inverse doc frequency\n",
        "dls = dataframe.sum(axis=1).tolist() # considering words minus stop words in doc (better option)\n",
        "avgdl = np.mean(dls) # single value, mean doc length (minus stop words)\n",
        "\n",
        "# Applying the BM25 formula:\n",
        "numerator = np.array((k_1 + 1) * dataframe)\n",
        "denominator = np.array(k_1 *((1 - b) + b * (dls / avgdl))).reshape(N,1) + np.array(dataframe)\n",
        "BM25_tf = numerator / denominator\n",
        "idfs = np.array(idfs)\n",
        "BM25_tfidf = BM25_tf * idfs\n",
        "\n",
        "bm25_idf = pd.DataFrame(BM25_tfidf, columns=vocabulary)\n",
        "del numerator\n",
        "del denominator\n",
        "del BM25_tf\n",
        "del idfs\n",
        "del BM25_tfidf\n",
        "#bm25_idf"
      ]
    },
    {
      "cell_type": "code",
      "execution_count": 15,
      "metadata": {
        "colab": {
          "base_uri": "https://localhost:8080/"
        },
        "id": "ypvq9CGBl6Is",
        "outputId": "0a6afe08-d8db-4226-ee39-77c86eb08dd4"
      },
      "outputs": [
        {
          "output_type": "execute_result",
          "data": {
            "text/plain": [
              "[('OBJECTIVES To carry out a further survey of archived appendix samples to understand better the differences between existing estimates of the prevalence of subclinical infection with prions after the bovine spongiform encephalopathy epizootic and to see whether a broader birth cohort was affected, and to understand better the implications for the management of blood and blood products and for the handling of surgical instruments. DESIGN Irreversibly unlinked and anonymised large scale survey of archived appendix samples. SETTING Archived appendix samples from the pathology departments of 41 UK hospitals participating in the earlier survey, and additional hospitals in regions with lower levels of participation in that survey. SAMPLE 32,441 archived appendix samples fixed in formalin and embedded in paraffin and tested for the presence of abnormal prion protein (PrP). RESULTS Of the 32,441 appendix samples 16 were positive for abnormal PrP, indicating an overall prevalence of 493 per million population (95% confidence interval 282 to 801 per million). The prevalence in those born in 1941-60 (733 per million, 269 to 1596 per million) did not differ significantly from those born between 1961 and 1985 (412 per million, 198 to 758 per million) and was similar in both sexes and across the three broad geographical areas sampled. Genetic testing of the positive specimens for the genotype at PRNP codon 129 revealed a high proportion that were valine homozygous compared with the frequency in the normal population, and in stark contrast with confirmed clinical cases of vCJD, all of which were methionine homozygous at PRNP codon 129. CONCLUSIONS This study corroborates previous studies and suggests a high prevalence of infection with abnormal PrP, indicating vCJD carrier status in the population compared with the 177 vCJD cases to date. These findings have important implications for the management of blood and blood products and for the handling of surgical instruments.',\n",
              "  9.6599531137088),\n",
              " ('OBJECTIVE To assess the robustness of patient responses to a new national survey of patient experience as a basis for providing financial incentives to doctors. DESIGN Analysis of the representativeness of the respondents to the GP Patient Survey compared with those who were sampled (5.5 million patients registered with 8273 general practices in England in January 2009) and with the general population. Analysis of non-response bias looked at the relation between practice response rates and scores on the survey. Analysis of the reliability of the survey estimated the proportion of the variance of practice scores attributable to true differences between practices. RESULTS The overall response rate was 38.2% (2.2 million responses), which is comparable to that in surveys using similar methodology in the UK. Men, young adults, and people living in deprived areas were under-represented among respondents. However, for questions related to pay for performance, there was no systematic association between response rates and questionnaire scores. Two questions which triggered payments to general practitioners were reliable measures of practice performance, with average practice-level reliability coefficients of 93.2% and 95.0%. Less than 3% and 0.5% of practices had fewer than the number of responses required to achieve conventional reliability levels of 90% and 70%. A change to the payment formula in 2009 resulted in an increase in the average impact of random variation in patient scores on payments to general practitioners compared with payments made in 2007 and 2008. CONCLUSIONS There is little evidence to support the concern of some general practitioners that low response rates and selective non-response bias have led to systematic unfairness in payments attached to questionnaire scores. The study raises issues relating to the validity and reliability of payments based on patient surveys and provides lessons for the UK and for other countries considering the use of patient experience as part of pay for performance schemes.',\n",
              "  4.734095078261305),\n",
              " ('Antisense transcription is widespread in many genomes; however, how much is functional is hotly debated. We are investigating functionality of a set of long noncoding antisense transcripts, collectively called COOLAIR, produced at Arabidopsis FLOWERING LOCUS C (FLC). COOLAIR initiates just downstream of the major sense transcript poly(A) site and terminates either early or extends into the FLC promoter region. We now show that splicing of COOLAIR is functionally important. This was revealed through analysis of a hypomorphic mutation in the core spliceosome component PRP8. The prp8 mutation perturbs a cotranscriptional feedback mechanism linking COOLAIR processing to FLC gene body histone demethylation and reduced FLC transcription. The importance of COOLAIR splicing in this repression mechanism was confirmed by disrupting COOLAIR production and mutating the COOLAIR proximal splice acceptor site. Our findings suggest that altered splicing of a long noncoding transcript can quantitatively modulate gene expression through cotranscriptional coupling mechanisms.',\n",
              "  4.734030869021139),\n",
              " ('Ku70, a known nonhomologous end-joining (NHEJ) factor, also functions in tumor suppression, although this molecular mechanism remains uncharacterized. Previously, we showed that mice deficient for DNA ligase IV (Lig4), another key NHEJ factor, succumbed to aggressive lymphoma in the absence of tumor suppressor p53. However, the tumor phenotype is abrogated by the introduction of a hypomorphic mutant p53R172P, which impaired p53-mediated apoptosis but not cell-cycle arrest. However, Lig4−/−p53R172P mice succumbed to severe diabetes. To further elucidate the role of NHEJ and p53-mediated apoptosis in vivo, we bred Ku70−/− p53R172P mice. Unexpectedly, these mice were free of diabetes, although 80% of the mutant mice had abnormally enlarged colons with pronounced inflammation. Remarkably, most of these mutant mice progressed to dysplasia, adenoma and adenocarcinoma; this is in contrast to the Lig4−/−p53R172P phenotype, strongly suggesting an NHEJ-independent function of Ku70. Significantly, our analyses of Ku70−/−p53R172P colonic epithelial cells show nuclear stabilization of β-catenin accompanied by higher expression of cyclin D1 and c-Myc in affected colon sections than in control samples. This is not due to the p53 mutation, as Ku70−/− mice share this phenotype. Our results not only unravel a novel function of Ku70 essential for colon homeostasis, but also establish an excellent in vivo model in which to study how chronic inflammation and abnormal cellular proliferation underlie tumorigenesis and tumor progression in the colon.',\n",
              "  4.323900694571535),\n",
              " ('BACKGROUND The Global Burden of Diseases, Injuries, and Risk Factors Study 2015 provides an up-to-date synthesis of the evidence for risk factor exposure and the attributable burden of disease. By providing national and subnational assessments spanning the past 25 years, this study can inform debates on the importance of addressing risks in context. METHODS We used the comparative risk assessment framework developed for previous iterations of the Global Burden of Disease Study to estimate attributable deaths, disability-adjusted life-years (DALYs), and trends in exposure by age group, sex, year, and geography for 79 behavioural, environmental and occupational, and metabolic risks or clusters of risks from 1990 to 2015. This study included 388 risk-outcome pairs that met World Cancer Research Fund-defined criteria for convincing or probable evidence. We extracted relative risk and exposure estimates from randomised controlled trials, cohorts, pooled cohorts, household surveys, census data, satellite data, and other sources. We used statistical models to pool data, adjust for bias, and incorporate covariates. We developed a metric that allows comparisons of exposure across risk factors-the summary exposure value. Using the counterfactual scenario of theoretical minimum risk level, we estimated the portion of deaths and DALYs that could be attributed to a given risk. We decomposed trends in attributable burden into contributions from population growth, population age structure, risk exposure, and risk-deleted cause-specific DALY rates. We characterised risk exposure in relation to a Socio-demographic Index (SDI). FINDINGS Between 1990 and 2015, global exposure to unsafe sanitation, household air pollution, childhood underweight, childhood stunting, and smoking each decreased by more than 25%. Global exposure for several occupational risks, high body-mass index (BMI), and drug use increased by more than 25% over the same period. All risks jointly evaluated in 2015 accounted for 57·8% (95% CI 56·6-58·8) of global deaths and 41·2% (39·8-42·8) of DALYs. In 2015, the ten largest contributors to global DALYs among Level 3 risks were high systolic blood pressure (211·8 million [192·7 million to 231·1 million] global DALYs), smoking (148·6 million [134·2 million to 163·1 million]), high fasting plasma glucose (143·1 million [125·1 million to 163·5 million]), high BMI (120·1 million [83·8 million to 158·4 million]), childhood undernutrition (113·3 million [103·9 million to 123·4 million]), ambient particulate matter (103·1 million [90·8 million to 115·1 million]), high total cholesterol (88·7 million [74·6 million to 105·7 million]), household air pollution (85·6 million [66·7 million to 106·1 million]), alcohol use (85·0 million [77·2 million to 93·0 million]), and diets high in sodium (83·0 million [49·3 million to 127·5 million]). From 1990 to 2015, attributable DALYs declined for micronutrient deficiencies, childhood undernutrition, unsafe sanitation and water, and household air pollution; reductions in risk-deleted DALY rates rather than reductions in exposure drove these declines. Rising exposure contributed to notable increases in attributable DALYs from high BMI, high fasting plasma glucose, occupational carcinogens, and drug use. Environmental risks and childhood undernutrition declined steadily with SDI; low physical activity, high BMI, and high fasting plasma glucose increased with SDI. In 119 countries, metabolic risks, such as high BMI and fasting plasma glucose, contributed the most attributable DALYs in 2015. Regionally, smoking still ranked among the leading five risk factors for attributable DALYs in 109 countries; childhood underweight and unsafe sex remained primary drivers of early death and disability in much of sub-Saharan Africa. INTERPRETATION Declines in some key environmental risks have contributed to declines in critical infectious diseases. Some risks appear to be invariant to SDI. Increasing risks, including high BMI, high fasting plasma glucose, drug use, and some occupational exposures, contribute to rising burden from some conditions, but also provide opportunities for intervention. Some highly preventable risks, such as smoking, remain major causes of attributable DALYs, even as exposure is declining. Public policy makers need to pay attention to the risks that are increasingly major contributors to global burden. FUNDING Bill & Melinda Gates Foundation.',\n",
              "  3.5365319244526128),\n",
              " ('BACKGROUND Dengue is the most common arbovirus infection globally, but its burden is poorly quantified. We estimated dengue mortality, incidence, and burden for the Global Burden of Disease Study 2013. METHODS We modelled mortality from vital registration, verbal autopsy, and surveillance data using the Cause of Death Ensemble Modelling tool. We modelled incidence from officially reported cases, and adjusted our raw estimates for under-reporting based on published estimates of expansion factors. In total, we had 1780 country-years of mortality data from 130 countries, 1636 country-years of dengue case reports from 76 countries, and expansion factor estimates for 14 countries. FINDINGS We estimated an average of 9221 dengue deaths per year between 1990 and 2013, increasing from a low of 8277 (95% uncertainty estimate 5353-10 649) in 1992, to a peak of 11 302 (6790-13 722) in 2010. This yielded a total of 576 900 (330 000-701 200) years of life lost to premature mortality attributable to dengue in 2013. The incidence of dengue increased greatly between 1990 and 2013, with the number of cases more than doubling every decade, from 8·3 million (3·3 million-17·2 million) apparent cases in 1990, to 58·4 million (23·6 million-121·9 million) apparent cases in 2013. When accounting for disability from moderate and severe acute dengue, and post-dengue chronic fatigue, 566 000 (186 000-1 415 000) years lived with disability were attributable to dengue in 2013. Considering fatal and non-fatal outcomes together, dengue was responsible for 1·14 million (0·73 million-1·98 million) disability-adjusted life-years in 2013. INTERPRETATION Although lower than other estimates, our results offer more evidence that the true symptomatic incidence of dengue probably falls within the commonly cited range of 50 million to 100 million cases per year. Our mortality estimates are lower than those presented elsewhere and should be considered in light of the totality of evidence suggesting that dengue mortality might, in fact, be substantially higher. FUNDING Bill & Melinda Gates Foundation.',\n",
              "  3.454910886706618),\n",
              " (\"The current reference curves of stature and weight for the UK were first published in 1966 and have been used ever since despite increasing concern that they may not adequately describe the growth of present day British children. Using current data from seven sources new reference curves have been estimated from birth to 20 years for children in 1990. The great majority of the data are nationally representative. The analysis used Cole's LMS method and has produced efficient estimates of the conventional centiles and gives a good fit to the data. These curves differ from the currently used curves at key ages for both stature and weight. In view of the concerns expressed about the current curves and the differences between them and the new curves, it is proposed that the curves presented here should be adopted as the new UK reference curves.\",\n",
              "  3.199744783191709),\n",
              " ('BACKGROUND Age-specific effects of mammographic screening, and the timing of such effects, are a matter of debate. The results of the UK Age trial, which compared the effect of invitation to annual mammographic screening from age 40 years with commencement of screening at age 50 years on breast cancer mortality, have been reported at 10 years of follow-up and showed no significant difference in mortality between the trial groups. Here, we report the results of the UK Age trial after 17 years of follow-up. METHODS Women aged 39-41 from 23 UK NHS Breast Screening Programme units years were randomly assigned by individual randomisation (1:2) to either an intervention group offered annual screening by mammography up to and including the calendar year of their 48th birthday or to a control group receiving usual medical care (invited for screening at age 50 years and every 3 years thereafter). Both groups were stratified by general practice. We compared breast cancer incidence and mortality by time since randomisation. Analyses included all women randomly assigned who could be traced with the National Health Service Central Register and who had not died or emigrated before entry. The primary outcome measures were mortality from breast cancer (defined as deaths with breast cancer coded as the underlying cause of death) and breast cancer incidence, including in-situ, invasive, and total incidence. Because there is an interest in the timing of the mortality effect, we analysed the results in different follow-up periods. This trial is registered, number ISRCTN24647151. FINDINGS Between Oct 14, 1990, and Sept 25, 1997, 160 921 participants were randomly assigned; 53 883 women in the intervention group and 106 953 assigned to usual medical care were included in this analysis. After a median follow-up of 17 years (IQR 16·8-18·8), the rate ratio (RR) for breast cancer mortality was 0·88 (95% CI 0·74-1·04) from tumours diagnosed during the intervention phase. A significant reduction in breast cancer mortality was noted in the intervention group compared with the control group in the first 10 years after diagnosis (RR 0·75, 0·58-0·97) but not thereafter (RR 1·02, 0·80-1·30) from tumours diagnosed during the intervention phase. The overall breast cancer incidence during 17 year follow-up was similar between the intervention group and the control group (RR 0·98, 0·93-1·04). INTERPRETATION Our results support an early reduction in mortality from breast cancer with annual mammography screening in women aged 40-49 years. Further data are needed to fully understand long-term effects. Cumulative incidence figures suggest at worst a small amount of overdiagnosis. FUNDING National Institute for Health Research Health Technology Assessment programme and the American Cancer Society. Past funding was received from the Medical Research Council, Cancer Research UK, the UK Department of Health, and the US National Cancer Institute.',\n",
              "  3.0921850503571653),\n",
              " (\"Soil erosion is a major environmental threat to the sustainability and productive capacity of agriculture. During the last 40 years, nearly one-third of the world's arable land has been lost by erosion and continues to be lost at a rate of more than 10 million hectares per year. With the addition of a quarter of a million people each day, the world population's food demand is increasing at a time when per capita food productivity is beginning to decline.\",\n",
              "  3.0710204948466964),\n",
              " ('By the year 2000 there will be six million pregnant women and five to ten million children infected with HIV-1. Intervention strategies have been planned and in some instances already started. A timely and cost-effective strategy needs to take into account that most HIV-1 infected individuals reside in developing countries. Further studies are needed on immunological and virological factors affecting HIV-1 transmission from mother to child, on differential disease progression in affected children, and on transient infection.',\n",
              "  3.061557780559323)]"
            ]
          },
          "metadata": {},
          "execution_count": 15
        }
      ],
      "source": [
        "q_voc = [term for term in q_voc if term in bm25_idf.columns] #filtering out any terms not present in documents\n",
        "BM25_scores = bm25_idf[q_voc].sum(axis=1)\n",
        "sorted(zip(documents,BM25_scores.values), key = lambda tup:tup[1], reverse=True)[:10]"
      ]
    },
    {
      "cell_type": "markdown",
      "source": [
        "### VSM-BM25 combo"
      ],
      "metadata": {
        "id": "W8wuNUphpds3"
      }
    },
    {
      "cell_type": "code",
      "source": [
        "BM25_VSM_scores =[]\n",
        "for d in np.array(bm25_idf):\n",
        "    BM25_VSM_scores.append(np.dot(d, q_vector)/(norm(d)*norm(q_vector)))\n",
        "sorted(zip(documents,BM25_VSM_scores), key = lambda tup:tup[1], reverse=True)[:10]"
      ],
      "metadata": {
        "id": "Ywd2W2X2piPG",
        "outputId": "45c28544-9726-4060-f1a2-135e023d0257",
        "colab": {
          "base_uri": "https://localhost:8080/"
        }
      },
      "execution_count": 16,
      "outputs": [
        {
          "output_type": "execute_result",
          "data": {
            "text/plain": [
              "[('OBJECTIVES To carry out a further survey of archived appendix samples to understand better the differences between existing estimates of the prevalence of subclinical infection with prions after the bovine spongiform encephalopathy epizootic and to see whether a broader birth cohort was affected, and to understand better the implications for the management of blood and blood products and for the handling of surgical instruments. DESIGN Irreversibly unlinked and anonymised large scale survey of archived appendix samples. SETTING Archived appendix samples from the pathology departments of 41 UK hospitals participating in the earlier survey, and additional hospitals in regions with lower levels of participation in that survey. SAMPLE 32,441 archived appendix samples fixed in formalin and embedded in paraffin and tested for the presence of abnormal prion protein (PrP). RESULTS Of the 32,441 appendix samples 16 were positive for abnormal PrP, indicating an overall prevalence of 493 per million population (95% confidence interval 282 to 801 per million). The prevalence in those born in 1941-60 (733 per million, 269 to 1596 per million) did not differ significantly from those born between 1961 and 1985 (412 per million, 198 to 758 per million) and was similar in both sexes and across the three broad geographical areas sampled. Genetic testing of the positive specimens for the genotype at PRNP codon 129 revealed a high proportion that were valine homozygous compared with the frequency in the normal population, and in stark contrast with confirmed clinical cases of vCJD, all of which were methionine homozygous at PRNP codon 129. CONCLUSIONS This study corroborates previous studies and suggests a high prevalence of infection with abnormal PrP, indicating vCJD carrier status in the population compared with the 177 vCJD cases to date. These findings have important implications for the management of blood and blood products and for the handling of surgical instruments.',\n",
              "  0.27670949064488803),\n",
              " ('OBJECTIVE To assess the robustness of patient responses to a new national survey of patient experience as a basis for providing financial incentives to doctors. DESIGN Analysis of the representativeness of the respondents to the GP Patient Survey compared with those who were sampled (5.5 million patients registered with 8273 general practices in England in January 2009) and with the general population. Analysis of non-response bias looked at the relation between practice response rates and scores on the survey. Analysis of the reliability of the survey estimated the proportion of the variance of practice scores attributable to true differences between practices. RESULTS The overall response rate was 38.2% (2.2 million responses), which is comparable to that in surveys using similar methodology in the UK. Men, young adults, and people living in deprived areas were under-represented among respondents. However, for questions related to pay for performance, there was no systematic association between response rates and questionnaire scores. Two questions which triggered payments to general practitioners were reliable measures of practice performance, with average practice-level reliability coefficients of 93.2% and 95.0%. Less than 3% and 0.5% of practices had fewer than the number of responses required to achieve conventional reliability levels of 90% and 70%. A change to the payment formula in 2009 resulted in an increase in the average impact of random variation in patient scores on payments to general practitioners compared with payments made in 2007 and 2008. CONCLUSIONS There is little evidence to support the concern of some general practitioners that low response rates and selective non-response bias have led to systematic unfairness in payments attached to questionnaire scores. The study raises issues relating to the validity and reliability of payments based on patient surveys and provides lessons for the UK and for other countries considering the use of patient experience as part of pay for performance schemes.',\n",
              "  0.15438974842846942),\n",
              " ('Antisense transcription is widespread in many genomes; however, how much is functional is hotly debated. We are investigating functionality of a set of long noncoding antisense transcripts, collectively called COOLAIR, produced at Arabidopsis FLOWERING LOCUS C (FLC). COOLAIR initiates just downstream of the major sense transcript poly(A) site and terminates either early or extends into the FLC promoter region. We now show that splicing of COOLAIR is functionally important. This was revealed through analysis of a hypomorphic mutation in the core spliceosome component PRP8. The prp8 mutation perturbs a cotranscriptional feedback mechanism linking COOLAIR processing to FLC gene body histone demethylation and reduced FLC transcription. The importance of COOLAIR splicing in this repression mechanism was confirmed by disrupting COOLAIR production and mutating the COOLAIR proximal splice acceptor site. Our findings suggest that altered splicing of a long noncoding transcript can quantitatively modulate gene expression through cotranscriptional coupling mechanisms.',\n",
              "  0.14505681047772725),\n",
              " ('By the year 2000 there will be six million pregnant women and five to ten million children infected with HIV-1. Intervention strategies have been planned and in some instances already started. A timely and cost-effective strategy needs to take into account that most HIV-1 infected individuals reside in developing countries. Further studies are needed on immunological and virological factors affecting HIV-1 transmission from mother to child, on differential disease progression in affected children, and on transient infection.',\n",
              "  0.13492756993127838),\n",
              " ('Ku70, a known nonhomologous end-joining (NHEJ) factor, also functions in tumor suppression, although this molecular mechanism remains uncharacterized. Previously, we showed that mice deficient for DNA ligase IV (Lig4), another key NHEJ factor, succumbed to aggressive lymphoma in the absence of tumor suppressor p53. However, the tumor phenotype is abrogated by the introduction of a hypomorphic mutant p53R172P, which impaired p53-mediated apoptosis but not cell-cycle arrest. However, Lig4−/−p53R172P mice succumbed to severe diabetes. To further elucidate the role of NHEJ and p53-mediated apoptosis in vivo, we bred Ku70−/− p53R172P mice. Unexpectedly, these mice were free of diabetes, although 80% of the mutant mice had abnormally enlarged colons with pronounced inflammation. Remarkably, most of these mutant mice progressed to dysplasia, adenoma and adenocarcinoma; this is in contrast to the Lig4−/−p53R172P phenotype, strongly suggesting an NHEJ-independent function of Ku70. Significantly, our analyses of Ku70−/−p53R172P colonic epithelial cells show nuclear stabilization of β-catenin accompanied by higher expression of cyclin D1 and c-Myc in affected colon sections than in control samples. This is not due to the p53 mutation, as Ku70−/− mice share this phenotype. Our results not only unravel a novel function of Ku70 essential for colon homeostasis, but also establish an excellent in vivo model in which to study how chronic inflammation and abnormal cellular proliferation underlie tumorigenesis and tumor progression in the colon.',\n",
              "  0.12824216611721695),\n",
              " (\"The current reference curves of stature and weight for the UK were first published in 1966 and have been used ever since despite increasing concern that they may not adequately describe the growth of present day British children. Using current data from seven sources new reference curves have been estimated from birth to 20 years for children in 1990. The great majority of the data are nationally representative. The analysis used Cole's LMS method and has produced efficient estimates of the conventional centiles and gives a good fit to the data. These curves differ from the currently used curves at key ages for both stature and weight. In view of the concerns expressed about the current curves and the differences between them and the new curves, it is proposed that the curves presented here should be adopted as the new UK reference curves.\",\n",
              "  0.12637082709239889),\n",
              " ('BACKGROUND Dengue is the most common arbovirus infection globally, but its burden is poorly quantified. We estimated dengue mortality, incidence, and burden for the Global Burden of Disease Study 2013. METHODS We modelled mortality from vital registration, verbal autopsy, and surveillance data using the Cause of Death Ensemble Modelling tool. We modelled incidence from officially reported cases, and adjusted our raw estimates for under-reporting based on published estimates of expansion factors. In total, we had 1780 country-years of mortality data from 130 countries, 1636 country-years of dengue case reports from 76 countries, and expansion factor estimates for 14 countries. FINDINGS We estimated an average of 9221 dengue deaths per year between 1990 and 2013, increasing from a low of 8277 (95% uncertainty estimate 5353-10 649) in 1992, to a peak of 11 302 (6790-13 722) in 2010. This yielded a total of 576 900 (330 000-701 200) years of life lost to premature mortality attributable to dengue in 2013. The incidence of dengue increased greatly between 1990 and 2013, with the number of cases more than doubling every decade, from 8·3 million (3·3 million-17·2 million) apparent cases in 1990, to 58·4 million (23·6 million-121·9 million) apparent cases in 2013. When accounting for disability from moderate and severe acute dengue, and post-dengue chronic fatigue, 566 000 (186 000-1 415 000) years lived with disability were attributable to dengue in 2013. Considering fatal and non-fatal outcomes together, dengue was responsible for 1·14 million (0·73 million-1·98 million) disability-adjusted life-years in 2013. INTERPRETATION Although lower than other estimates, our results offer more evidence that the true symptomatic incidence of dengue probably falls within the commonly cited range of 50 million to 100 million cases per year. Our mortality estimates are lower than those presented elsewhere and should be considered in light of the totality of evidence suggesting that dengue mortality might, in fact, be substantially higher. FUNDING Bill & Melinda Gates Foundation.',\n",
              "  0.10995530747232718),\n",
              " ('BACKGROUND Age-specific effects of mammographic screening, and the timing of such effects, are a matter of debate. The results of the UK Age trial, which compared the effect of invitation to annual mammographic screening from age 40 years with commencement of screening at age 50 years on breast cancer mortality, have been reported at 10 years of follow-up and showed no significant difference in mortality between the trial groups. Here, we report the results of the UK Age trial after 17 years of follow-up. METHODS Women aged 39-41 from 23 UK NHS Breast Screening Programme units years were randomly assigned by individual randomisation (1:2) to either an intervention group offered annual screening by mammography up to and including the calendar year of their 48th birthday or to a control group receiving usual medical care (invited for screening at age 50 years and every 3 years thereafter). Both groups were stratified by general practice. We compared breast cancer incidence and mortality by time since randomisation. Analyses included all women randomly assigned who could be traced with the National Health Service Central Register and who had not died or emigrated before entry. The primary outcome measures were mortality from breast cancer (defined as deaths with breast cancer coded as the underlying cause of death) and breast cancer incidence, including in-situ, invasive, and total incidence. Because there is an interest in the timing of the mortality effect, we analysed the results in different follow-up periods. This trial is registered, number ISRCTN24647151. FINDINGS Between Oct 14, 1990, and Sept 25, 1997, 160 921 participants were randomly assigned; 53 883 women in the intervention group and 106 953 assigned to usual medical care were included in this analysis. After a median follow-up of 17 years (IQR 16·8-18·8), the rate ratio (RR) for breast cancer mortality was 0·88 (95% CI 0·74-1·04) from tumours diagnosed during the intervention phase. A significant reduction in breast cancer mortality was noted in the intervention group compared with the control group in the first 10 years after diagnosis (RR 0·75, 0·58-0·97) but not thereafter (RR 1·02, 0·80-1·30) from tumours diagnosed during the intervention phase. The overall breast cancer incidence during 17 year follow-up was similar between the intervention group and the control group (RR 0·98, 0·93-1·04). INTERPRETATION Our results support an early reduction in mortality from breast cancer with annual mammography screening in women aged 40-49 years. Further data are needed to fully understand long-term effects. Cumulative incidence figures suggest at worst a small amount of overdiagnosis. FUNDING National Institute for Health Research Health Technology Assessment programme and the American Cancer Society. Past funding was received from the Medical Research Council, Cancer Research UK, the UK Department of Health, and the US National Cancer Institute.',\n",
              "  0.10980234802603715),\n",
              " ('BACKGROUND The Global Burden of Diseases, Injuries, and Risk Factors Study 2015 provides an up-to-date synthesis of the evidence for risk factor exposure and the attributable burden of disease. By providing national and subnational assessments spanning the past 25 years, this study can inform debates on the importance of addressing risks in context. METHODS We used the comparative risk assessment framework developed for previous iterations of the Global Burden of Disease Study to estimate attributable deaths, disability-adjusted life-years (DALYs), and trends in exposure by age group, sex, year, and geography for 79 behavioural, environmental and occupational, and metabolic risks or clusters of risks from 1990 to 2015. This study included 388 risk-outcome pairs that met World Cancer Research Fund-defined criteria for convincing or probable evidence. We extracted relative risk and exposure estimates from randomised controlled trials, cohorts, pooled cohorts, household surveys, census data, satellite data, and other sources. We used statistical models to pool data, adjust for bias, and incorporate covariates. We developed a metric that allows comparisons of exposure across risk factors-the summary exposure value. Using the counterfactual scenario of theoretical minimum risk level, we estimated the portion of deaths and DALYs that could be attributed to a given risk. We decomposed trends in attributable burden into contributions from population growth, population age structure, risk exposure, and risk-deleted cause-specific DALY rates. We characterised risk exposure in relation to a Socio-demographic Index (SDI). FINDINGS Between 1990 and 2015, global exposure to unsafe sanitation, household air pollution, childhood underweight, childhood stunting, and smoking each decreased by more than 25%. Global exposure for several occupational risks, high body-mass index (BMI), and drug use increased by more than 25% over the same period. All risks jointly evaluated in 2015 accounted for 57·8% (95% CI 56·6-58·8) of global deaths and 41·2% (39·8-42·8) of DALYs. In 2015, the ten largest contributors to global DALYs among Level 3 risks were high systolic blood pressure (211·8 million [192·7 million to 231·1 million] global DALYs), smoking (148·6 million [134·2 million to 163·1 million]), high fasting plasma glucose (143·1 million [125·1 million to 163·5 million]), high BMI (120·1 million [83·8 million to 158·4 million]), childhood undernutrition (113·3 million [103·9 million to 123·4 million]), ambient particulate matter (103·1 million [90·8 million to 115·1 million]), high total cholesterol (88·7 million [74·6 million to 105·7 million]), household air pollution (85·6 million [66·7 million to 106·1 million]), alcohol use (85·0 million [77·2 million to 93·0 million]), and diets high in sodium (83·0 million [49·3 million to 127·5 million]). From 1990 to 2015, attributable DALYs declined for micronutrient deficiencies, childhood undernutrition, unsafe sanitation and water, and household air pollution; reductions in risk-deleted DALY rates rather than reductions in exposure drove these declines. Rising exposure contributed to notable increases in attributable DALYs from high BMI, high fasting plasma glucose, occupational carcinogens, and drug use. Environmental risks and childhood undernutrition declined steadily with SDI; low physical activity, high BMI, and high fasting plasma glucose increased with SDI. In 119 countries, metabolic risks, such as high BMI and fasting plasma glucose, contributed the most attributable DALYs in 2015. Regionally, smoking still ranked among the leading five risk factors for attributable DALYs in 109 countries; childhood underweight and unsafe sex remained primary drivers of early death and disability in much of sub-Saharan Africa. INTERPRETATION Declines in some key environmental risks have contributed to declines in critical infectious diseases. Some risks appear to be invariant to SDI. Increasing risks, including high BMI, high fasting plasma glucose, drug use, and some occupational exposures, contribute to rising burden from some conditions, but also provide opportunities for intervention. Some highly preventable risks, such as smoking, remain major causes of attributable DALYs, even as exposure is declining. Public policy makers need to pay attention to the risks that are increasingly major contributors to global burden. FUNDING Bill & Melinda Gates Foundation.',\n",
              "  0.1090919534082297),\n",
              " (\"Soil erosion is a major environmental threat to the sustainability and productive capacity of agriculture. During the last 40 years, nearly one-third of the world's arable land has been lost by erosion and continues to be lost at a rate of more than 10 million hectares per year. With the addition of a quarter of a million people each day, the world population's food demand is increasing at a time when per capita food productivity is beginning to decline.\",\n",
              "  0.1046536755520449)]"
            ]
          },
          "metadata": {},
          "execution_count": 16
        }
      ]
    },
    {
      "cell_type": "markdown",
      "source": [
        "### Semantic Textual Similarity"
      ],
      "metadata": {
        "id": "qRWw3bJ0SLYi"
      }
    },
    {
      "cell_type": "code",
      "source": [
        "import tensorflow as tf\n",
        "import tensorflow_hub as hub\n",
        "\n",
        "model = hub.load(\"https://tfhub.dev/google/universal-sentence-encoder/4\")"
      ],
      "metadata": {
        "id": "KZZpMiL9SgS6"
      },
      "execution_count": 35,
      "outputs": []
    },
    {
      "cell_type": "code",
      "source": [
        "embeddings = np.array(model(documents))"
      ],
      "metadata": {
        "id": "uN9sSKQITP69"
      },
      "execution_count": 23,
      "outputs": []
    },
    {
      "cell_type": "code",
      "source": [
        "q_embed = np.array(model([queries[query_num][1]]))\n",
        "STS_scores = np.dot(embeddings, q_embed.T)"
      ],
      "metadata": {
        "id": "Xud1qGxTVUS7"
      },
      "execution_count": 36,
      "outputs": []
    },
    {
      "cell_type": "code",
      "source": [
        "sorted(zip(documents,list(STS_scores.flatten())), key = lambda tup:tup[1], reverse=True)[:10]"
      ],
      "metadata": {
        "id": "DTBdQuAyWyXj",
        "outputId": "010e1131-637a-400a-990e-a1299b79183c",
        "colab": {
          "base_uri": "https://localhost:8080/"
        }
      },
      "execution_count": 37,
      "outputs": [
        {
          "output_type": "execute_result",
          "data": {
            "text/plain": [
              "[(\"CONTEXT Maternal depressive symptoms during pregnancy have been reported in some, but not all, studies to be associated with an increased risk of preterm birth (PTB), low birth weight (LBW), and intrauterine growth restriction (IUGR). OBJECTIVE To estimate the risk of PTB, LBW, and IUGR associated with antenatal depression. DATA SOURCES AND STUDY SELECTION We searched for English-language and non-English-language articles via the MEDLINE, PsycINFO, CINAHL, Social Work Abstracts, Social Services Abstracts, and Dissertation Abstracts International databases (January 1980 through December 2009). We aimed to include prospective studies reporting data on antenatal depression and at least 1 adverse birth outcome: PTB (<37 weeks' gestation), LBW (<2500 g), or IUGR (<10th percentile for gestational age). Of 862 reviewed studies, 29 US-published and non-US-published studies met the selection criteria. DATA EXTRACTION Information was extracted on study characteristics, antenatal depression measurement, and other biopsychosocial risk factors and was reviewed twice to minimize error. DATA SYNTHESIS Pooled relative risks (RRs) for the effect of antenatal depression on each birth outcome were calculated using random-effects methods. In studies of PTB, LBW, and IUGR that used a categorical depression measure, pooled effect sizes were significantly larger (pooled RR [95% confidence interval] = 1.39 [1.19-1.61], 1.49 [1.25-1.77], and 1.45 [1.05-2.02], respectively) compared with studies that used a continuous depression measure (1.03 [1.00-1.06], 1.04 [0.99-1.09], and 1.02 [1.00-1.04], respectively). The estimates of risk for categorically defined antenatal depression and PTB and LBW remained significant when the trim-and-fill procedure was used to correct for publication bias. The risk of LBW associated with antenatal depression was significantly larger in developing countries (RR = 2.05; 95% confidence interval, 1.43-2.93) compared with the United States (RR = 1.10; 95% confidence interval, 1.01-1.21) or European social democracies (RR = 1.16; 95% confidence interval, 0.92-1.47). Categorically defined antenatal depression tended to be associated with an increased risk of PTB among women of lower socioeconomic status in the United States. CONCLUSIONS Women with depression during pregnancy are at increased risk for PTB and LBW, although the magnitude of the effect varies as a function of depression measurement, country location, and US socioeconomic status. An important implication of these findings is that antenatal depression should be identified through universal screening and treated.\",\n",
              "  0.28181657),\n",
              " ('OBJECTIVE To determine if visual field (VF) loss resulting from glaucoma is associated with greater fear of falling. DESIGN Prospective, observational study. PARTICIPANTS Fear of falling was compared between 83 glaucoma subjects with bilateral VF loss and 60 control subjects with good visual acuity and without significant VF loss recruited from patients followed up for suspicion of glaucoma. METHODS Participants completed the University of Illinois at Chicago Fear of Falling Questionnaire. The extent of fear of falling was assessed using Rasch analysis. MAIN OUTCOME MEASURES Subject ability to perform tasks without fear of falling was expressed in logits, with lower scores implying less ability and greater fear of falling. RESULTS Glaucoma subjects had greater VF loss than control subjects (median better-eye mean deviation [MD] of -8.0 decibels [dB] vs. +0.2 dB; P<0.001), but did not differ with regard to age, race, gender, employment status, the presence of other adults in the home, body mass index (BMI), grip strength, cognitive ability, mood, or comorbid illness (P ≥ 0.1 for all). In multivariate models, glaucoma subjects reported greater fear of falling as compared with controls (β = -1.20 logits; 95% confidence interval [CI], -1.87 to -0.53; P = 0.001), and fear of falling increased with greater VF loss severity (β = -0.52 logits per 5-dB decrement in the better eye VF MD; 95% CI, -0.72 to -0.33; P<0.001). Other variables predicting greater fear of falling included female gender (β = -0.55 logits; 95% CI, -1.03 to -0.06; P = 0.03), higher BMI (β = -0.07 logits per 1-unit increase in BMI; 95% CI, -0.13 to -0.01; P = 0.02), living with another adult (β = -1.16 logits; 95% CI, -0.34 to -1.99 logits; P = 0.006), and greater comorbid illness (β = -0.53 logits/1 additional illness; 95% CI, -0.74 to -0.32; P<0.001). CONCLUSIONS Bilateral VF loss resulting from glaucoma is associated with greater fear of falling, with an impact that exceeds numerous other risk factors. Given the physical and psychological repercussions associated with fear of falling, significant quality-of-life improvements may be achievable in patients with VF loss by screening for, and developing interventions to minimize, fear of falling.',\n",
              "  0.2768259),\n",
              " ('Adult T-cell leukemia/lymphoma (ATLL) is uncommon in the United Kingdom and has so far been restricted to people of Afro-Caribbean extraction. Between 1981 and 1995, 21 cases presented to 2 inner London teaching hospitals where 17% of the population are of Afro-Caribbean origin. Clinical presentations were similar to those of the disease in HTLV-I-endemic areas. Major responses (CR + PR) were obtained in 10/16 assessable patients (63%) treated with combination chemotherapy. However, median survival was only 5.5 months. Disease progression and opportunistic infection were the major causes of treatment failure and death. Three patients (14%) relapsed in the central nervous system (CNS). Our cases confirm the profound immunosuppression in ATLL. The poor prognosis of acute and lymphoma types of ATLL highlight the need for new approaches to treatment such as zidovudine and alpha-interferon, incorporating prophylaxis against CNS disease and opportunistic infections.',\n",
              "  0.25824866),\n",
              " ('OBJECTIVE To determine whether myelin oligodendrocyte glycoprotein antibodies (MOG-Abs) were predictive of a demyelination phenotype in children presenting with acquired demyelinating syndrome (ADS). METHOD Sixty-five children with a first episode of ADS (12 acute disseminated encephalomyelitis, 24 optic neuritis, 18 transverse myelitis, 11 other clinically isolated syndrome) were identified from 2 national demyelination programs in the United Kingdom and France. Acute serum samples were tested for MOG-Abs by cell-based assay. Antibodies were used to predict diagnosis of multiple sclerosis (MS) at 1 year. RESULTS Twenty-three of 65 (35%) children had MOG-Abs. Antibody-positive and antibody-negative patients were not clinically different at presentation, but identification of MOG-Abs predicted a non-MS course at 1-year follow-up: only 2/23 (9%) MOG-Ab-positive patients were diagnosed with MS compared to 16/42 (38%) MOG-Ab-negative patients (p = 0.019, Fisher exact test). Antibody positivity at outset was a useful predictor for a non-MS disease course, with a positive predictive value of 91% (95% confidence interval [CI] 72-99), negative predictive value of 38% (95% CI 24-54), positive likelihood ratio of 4.02 (CI 1.0-15.4), and odds ratio of 6.5 (CI 1.3-31.3). CONCLUSIONS MOG-Abs are found at presentation in 35% of patients with childhood ADS, across a range of demyelinating disorders. Antibody positivity can be useful in predicting a non-MS disease course at onset.',\n",
              "  0.2531534),\n",
              " (\"The EUROCARE project analysed cancer survival data from 45 population-based cancer registries in 17 European countries, revealing wide international differences in cancer survival. We calculated 5-year relative survival for 1836287 patients diagnosed with one of 13 cancers during the period 1978-1989. The data, from 20 cancer registries in 13 countries, were grouped into four regions: Finland, Sweden, Iceland (Northern Europe); Denmark, England and Scotland (UK and Denmark); France, The Netherlands, Germany, Italy and Switzerland (Western Europe); Estonia and Poland (Eastern Europe), and broken down into four periods (1978-1980, 1981-1983, 1984-1986, 1987-1989). For each cancer, mean European and regional survival was estimated as the weighted mean of 5-year relative survival in each country. Survival increased with time for all tumours, particularly for cancers of testis (12% increase, i.e. from 79.9 to 91.9%), breast, large bowel, skin melanoma (approximately 9-10%), and lymphomas (approximately 7%). For most solid tumours, survival was highest in Northern Europe and lowest in Eastern Europe, and also low in the UK and Denmark. Regional variation was less marked for the lymphomas. Survival improved more in Western than Northern Europe, and the differences between these regions fell for bowel cancer (from 8.0% for those diagnosed in 1978-1980 to 2% for those diagnosed in 1987-1989), breast cancer (from 7.4% to 3.9%), skin melanoma (from 13.4% to 11.0%) and Hodgkin's disease (from 7.2 to 0.6%). For potentially curable malignancies such as Hodgkin's disease, large bowel, breast and testicular cancers, there were substantial increases in survival, suggesting an earlier diagnosis and more effective treatment. The persisting regional differences suggest there are corresponding differences in the availability of diagnostic and therapeutic facilities, and in the effectiveness of healthcare systems.\",\n",
              "  0.25303394),\n",
              " (\"Thiopurine therapy, commonly used in autoimmune conditions, can be complicated by life-threatening leukopenia. This leukopenia is associated with genetic variation in TPMT (encoding thiopurine S-methyltransferase). Despite a lower frequency of TPMT mutations in Asians, the incidence of thiopurine-induced leukopenia is higher in Asians than in individuals of European descent. Here we performed an Immunochip-based 2-stage association study in 978 Korean subjects with Crohn's disease treated with thiopurines. We identified a nonsynonymous SNP in NUDT15 (encoding p. Arg139Cys) that was strongly associated with thiopurine-induced early leukopenia (odds ratio (OR) = 35.6; Pcombined = 4.88 × 10−94). In Koreans, this variant demonstrated sensitivity and specificity of 89.4% and 93.2%, respectively, for thiopurine-induced early leukopenia (in comparison to 12.1% and 97.6% for TPMT variants). Although rare, this SNP was also strongly associated with thiopurine-induced leukopenia in subjects with inflammatory bowel disease of European descent (OR = 9.50; P = 4.64 × 10−4). Thus, NUDT15 is a pharmacogenetic determinant for thiopurine-induced leukopenia in diverse populations.\",\n",
              "  0.25176847),\n",
              " (\"Preconception care (PCC) and strict periconceptional glycemic control are both used to minimize the risk of congenital birth defects in offspring of women with type 1 or type 2 diabetes mellitus (DM). These malformations are ascribed in large measure to poor periconceptional control. This study evaluated PCC by a meta-analysis of published studies of PCC in women with DM, published from 1970 to 2000. Two reviewers independently abstracted the data, and the rate and relative risk (RR) of major and minor malformations were pooled from eligible studies using a random effects model. Early first-trimester values of glycosylated hemoglobin were recorded. Eight retrospective and eight prospective cohort studies were included; they were carried out in Europe, the United Kingdom, the United States, and Israel. Most participants had type 1 DM, but three studies included women with type 2 DM. Women given PCC tended to be about 2 years older on average than the others. Methods of PCC were quite variable, although most centers provided some maternal education about the pregnancy risks associated with poor glycemic control. In seven studies reporting early gestational glycosylated hemoglobin values, mean levels were consistently lower in PCC patients. Among 2104 offspring, the pooled rate for major and minor anomalies was 2.4% in the PCC group and 7.7% in non-PCC recipients, for a pooled RR of 0.32. Among 2651 offspring, major malformations were less prevalent in the PCC group (2.1 vs. 6.5%; pooled RR = 0.36). Comparable results were obtained when only prospective studies were analyzed and in studies where the infant examiners were unaware of the mothers' PCC status. The lowest risk of major anomalies was in a study that administered folic acid periconceptionally to its PCC recipients; the RR was 0.11. This meta-analysis, which included both retrospective and prospective studies, demonstrates an association of PCC with a significantly lower risk of congenital anomalies in the offspring of women with established DM. The lowered risk was accompanied by significantly lower glycosylated hemoglobin values in the first trimester in recipients of PCC.\",\n",
              "  0.2512846),\n",
              " ('CONTEXT Little is known about the extent or severity of untreated mental disorders, especially in less-developed countries. OBJECTIVE To estimate prevalence, severity, and treatment of Diagnostic and Statistical Manual of Mental Disorders, Fourth Edition (DSM-IV) mental disorders in 14 countries (6 less developed, 8 developed) in the World Health Organization (WHO) World Mental Health (WMH) Survey Initiative. DESIGN, SETTING, AND PARTICIPANTS Face-to-face household surveys of 60 463 community adults conducted from 2001-2003 in 14 countries in the Americas, Europe, the Middle East, Africa, and Asia. MAIN OUTCOME MEASURES The DSM-IV disorders, severity, and treatment were assessed with the WMH version of the WHO Composite International Diagnostic Interview (WMH-CIDI), a fully structured, lay-administered psychiatric diagnostic interview. RESULTS The prevalence of having any WMH-CIDI/DSM-IV disorder in the prior year varied widely, from 4.3% in Shanghai to 26.4% in the United States, with an interquartile range (IQR) of 9.1%-16.9%. Between 33.1% (Colombia) and 80.9% (Nigeria) of 12-month cases were mild (IQR, 40.2%-53.3%). Serious disorders were associated with substantial role disability. Although disorder severity was correlated with probability of treatment in almost all countries, 35.5% to 50.3% of serious cases in developed countries and 76.3% to 85.4% in less-developed countries received no treatment in the 12 months before the interview. Due to the high prevalence of mild and subthreshold cases, the number of those who received treatment far exceeds the number of untreated serious cases in every country. CONCLUSIONS Reallocation of treatment resources could substantially decrease the problem of unmet need for treatment of mental disorders among serious cases. Structural barriers exist to this reallocation. Careful consideration needs to be given to the value of treating some mild cases, especially those at risk for progressing to more serious disorders.',\n",
              "  0.2500267),\n",
              " ('In order to investigate the prevalence of infections with three feline retroviruses feline immunodeficiency virus (FIV), feline leukemia virus (FeLV) and feline syncytial virus (FSV) in Taiwan, we collected a total of 75 blood samples from cats from veterinary hospitals, a breeding cattery and a homeless shelter in 1993 and 1994. We examined the presences of anti-FIV and FSV antibodies and FeLV-p27 antigen in these samples by the indirect immunofluorescence and/or enzyme-linked immunosorbent assays. All of the serum samples positive for FIV were obtained from homeless cats and the overall FIV positive rate was 4%. The overall positive rates of FSV and FeLV were 28% and 1.3%, respectively. From these results, together with previous seroepidemiological surveys by others, it was revealed that the prevalence of FIV and FeLV infections appeared to be lower in Taiwan than in the United States or Japan. In contrast, the prevalence of FSV infection in Taiwan was as high as that in Japan.',\n",
              "  0.24940813),\n",
              " ('The objective of this study is to assess and quantify the risk for gestational diabetes mellitus (GDM) according to prepregnancy maternal body mass index (BMI). The design is a systematic review of observational studies published in the last 30 years. Four electronic databases were searched for publications (1977-2007). BMI was elected as the only measure of obesity, and all diagnostic criteria for GDM were accepted. Studies with selective screening for GDM were excluded. There were no language restrictions. The methodological quality of primary studies was assessed. Some 1745 citations were screened, and 70 studies (two unpublished) involving 671 945 women were included (59 cohorts and 11 case-controls). Most studies were of high or medium quality. Compared with women with a normal BMI, the unadjusted pooled odds ratio (OR) of an underweight woman developing GDM was 0.75 (95% confidence interval [CI] 0.69 to 0.82). The OR for overweight, moderately obese and morbidly obese women were 1.97 (95% CI 1.77 to 2.19), 3.01 (95% CI 2.34 to 3.87) and 5.55 (95% CI 4.27 to 7.21) respectively. For every 1 kg m(-2) increase in BMI, the prevalence of GDM increased by 0.92% (95% CI 0.73 to 1.10). The risk of GDM is positively associated with prepregnancy BMI. This information is important when counselling women planning a pregnancy.',\n",
              "  0.24370357)]"
            ]
          },
          "metadata": {},
          "execution_count": 37
        }
      ]
    },
    {
      "cell_type": "markdown",
      "source": [
        "## Evaluation"
      ],
      "metadata": {
        "id": "edh1mdwip0_J"
      }
    },
    {
      "cell_type": "code",
      "execution_count": null,
      "metadata": {
        "id": "EH1lTrrXcKy0"
      },
      "outputs": [],
      "source": [
        "qrels = []\n",
        "for qrel in dataset.qrels_iter(): # reading in all the relevancy scores\n",
        "    qrels.append(qrel)"
      ]
    }
  ],
  "metadata": {
    "colab": {
      "collapsed_sections": [
        "MhN0gWKiBGiQ"
      ],
      "name": "Search_engine_v0.0.ipynb",
      "provenance": [],
      "toc_visible": true,
      "include_colab_link": true
    },
    "kernelspec": {
      "display_name": "Python 3",
      "language": "python",
      "name": "python3"
    },
    "language_info": {
      "codemirror_mode": {
        "name": "ipython",
        "version": 3
      },
      "file_extension": ".py",
      "mimetype": "text/x-python",
      "name": "python",
      "nbconvert_exporter": "python",
      "pygments_lexer": "ipython3",
      "version": "3.8.8"
    }
  },
  "nbformat": 4,
  "nbformat_minor": 0
}